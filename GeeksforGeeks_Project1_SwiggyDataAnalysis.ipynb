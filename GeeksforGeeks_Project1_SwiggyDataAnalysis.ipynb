{
  "cells": [
    {
      "cell_type": "markdown",
      "metadata": {
        "id": "view-in-github",
        "colab_type": "text"
      },
      "source": [
        "<a href=\"https://colab.research.google.com/github/anayjain/GFG-DataAnalysis/blob/main/GeeksforGeeks_Project1_SwiggyDataAnalysis.ipynb\" target=\"_parent\"><img src=\"https://colab.research.google.com/assets/colab-badge.svg\" alt=\"Open In Colab\"/></a>"
      ]
    },
    {
      "cell_type": "markdown",
      "metadata": {
        "id": "FOBejg8jM6co"
      },
      "source": [
        "# Project Name: Swiggy Restaurants Data Analysis\n"
      ]
    },
    {
      "cell_type": "markdown",
      "metadata": {
        "id": "TxhBjM8CM6cp"
      },
      "source": [
        "### Problem Statement:\n",
        "1.   How many cities (including subregions) where Swiggy is having its restaurants listed?\n",
        "2.   How many cities  (don't include subregions) where Swiggy is having their restaurants listed?\n",
        "3.   The Subregion of Delhi with the maximum number of restaurants listed on Swiggy?\n",
        "4.   Name the top 5 Most Expensive Cities in the Datasets.\n",
        "5.   List out the top 5 Restaurants with Maximum & minimum ratings throughout the dataset.\n",
        "6.   Name of top 5 cities with the highest number of restaurants listed.\n",
        "7.   Top 10 cities as per the number of restaurants listed?\n",
        "8.   Name the top 5 Most Popular Restaurants in Pune.\n",
        "9.   Which SubRegion in Delhi is having the least expensive restaurant in terms of cost?\n",
        "10.  Top 5 most popular restaurant chains in India?\n",
        "11.  Which restaurant in Pune has the most number of people visiting?\n",
        "12.  Top 10 Restaurants with Maximum Ratings in Banglore\n",
        "13.  Top 10 Restaurant in Patna w.r.t rating\n",
        "\n",
        "Dataset link: [Swiggy Data](https://drive.google.com/file/d/1MCnCNHJXxc97EYwIdBszOkEBusu9FpCa/view)"
      ]
    },
    {
      "cell_type": "code",
      "source": [
        "from google.colab import drive\n",
        "drive.mount('/content/drive')"
      ],
      "metadata": {
        "id": "tf-WhFPRM9bq"
      },
      "execution_count": null,
      "outputs": []
    },
    {
      "cell_type": "code",
      "source": [
        "!pip3 install itables\n",
        "from itables import show\n",
        "import numpy as np\n",
        "from tabulate import tabulate\n",
        "\n",
        "import json\n",
        "import pandas as pd\n",
        "pd.options.mode.chained_assignment = None"
      ],
      "metadata": {
        "id": "hpYFmAn4O3wj"
      },
      "execution_count": null,
      "outputs": []
    },
    {
      "cell_type": "markdown",
      "metadata": {
        "id": "4sm2sLiqM6cp"
      },
      "source": [
        "### Download data and cleansing data"
      ]
    },
    {
      "cell_type": "markdown",
      "source": [
        "Save data.json file in your local google drive using this [shareable link](https://drive.google.com/file/d/1ck3s3JSW-Sql5xpuvxFATJ6iDfHadkhp/view?usp=sharing)."
      ],
      "metadata": {
        "id": "6YwowmtO3yd4"
      }
    },
    {
      "cell_type": "code",
      "execution_count": 3,
      "metadata": {
        "id": "8kkVLSXZM6cq"
      },
      "outputs": [],
      "source": [
        "with open('./drive/MyDrive/data.json', 'r') as f:\n",
        "    data = json.load(f)"
      ]
    },
    {
      "cell_type": "code",
      "execution_count": 4,
      "metadata": {
        "colab": {
          "base_uri": "https://localhost:8080/"
        },
        "id": "xdBz7rDWM6cq",
        "outputId": "7dbb6dc7-d8e2-4831-91bb-f7231ee3e1d7"
      },
      "outputs": [
        {
          "output_type": "stream",
          "name": "stdout",
          "text": [
            "623\n"
          ]
        }
      ],
      "source": [
        "# get all cities that are in the dataset\n",
        "cities = list(data.keys())\n",
        "print(len(cities))\n",
        "# for some cities you notice that there are some cases where restaurants are in special sub-regions\n",
        "for i in cities:\n",
        "    sub = list(data[i].keys())\n",
        "    # print(sub)\n",
        "    # lets check all cities that do not have 'restaurants' as keys\n",
        "#     if 'restaurants' not in sub:\n",
        "#         print(sub)"
      ]
    },
    {
      "cell_type": "code",
      "execution_count": 32,
      "metadata": {
        "id": "-Hx65t6GM6cq"
      },
      "outputs": [],
      "source": [
        "df = pd.DataFrame() # Empty dataframe for the whole dataset\n",
        "for i in cities:\n",
        "    subregions = list(data[i].keys())\n",
        "    # check for all cities with no sub-regions\n",
        "    try:\n",
        "        # get restaurant data for each city\n",
        "        rest = pd.DataFrame(data[i]['restaurants']).T\n",
        "        # add city column for each restaurant\n",
        "        city = [i for x in range(len(rest.index))]\n",
        "        rest['city'] = city\n",
        "        # also add sub-region for each restaurant which is same as city\n",
        "        rest['sub_region'] = city\n",
        "        # Concatenate to main Dataframe\n",
        "        df = pd.concat([df,rest])\n",
        "    # check for all cities with sub-regions\n",
        "    except:\n",
        "        for r in subregions:\n",
        "            # Convert the city-wise restaurant data to pandas Dataframe\n",
        "            rest = pd.DataFrame(data[i][r]['restaurants']).T\n",
        "            # City\n",
        "            city = [i for x in range(len(rest.index))]\n",
        "            # Add City column for each restaurants in that city\n",
        "            rest['city'] = city\n",
        "            # Sub-region\n",
        "            subregion = [r for x in range(len(rest.index))]\n",
        "            # add sub-region column for each restaurants in that city\n",
        "            rest['sub_region'] = subregion\n",
        "            df = pd.concat([df,rest])"
      ]
    },
    {
      "cell_type": "code",
      "execution_count": 33,
      "metadata": {
        "colab": {
          "base_uri": "https://localhost:8080/",
          "height": 161
        },
        "id": "X_ayY3nAM6cr",
        "outputId": "f2027223-7e7e-4ac8-9274-c61dacee232a"
      },
      "outputs": [
        {
          "output_type": "execute_result",
          "data": {
            "text/plain": [
              "'<table>\\n<thead>\\n<tr><th style=\"text-align: right;\">      </th><th>name             </th><th>rating  </th><th>rating_count   </th><th>cost  </th><th>address                                                                                   </th><th>cuisine                   </th><th style=\"text-align: right;\">        lic_no</th><th>link                                                                              </th><th>city  </th><th>sub_region  </th><th style=\"text-align: right;\">  type</th><th style=\"text-align: right;\">  price</th></tr>\\n</thead>\\n<tbody>\\n<tr><td style=\"text-align: right;\">567335</td><td>AB FOODS POINT   </td><td>--      </td><td>Too Few Ratings</td><td>₹ 200 </td><td>AB FOODS POINT, NEAR RISHI NARANG DENTAL CLINIC , NEAR IDBI BANK, ABOHAR                  </td><td>Beverages,Pizzas          </td><td style=\"text-align: right;\">22122652000138</td><td>https://www.swiggy.com/restaurants/ab-foods-point-central-abohar-abohar-567335    </td><td>Abohar</td><td>Abohar      </td><td style=\"text-align: right;\">   nan</td><td style=\"text-align: right;\">    nan</td></tr>\\n<tr><td style=\"text-align: right;\">531342</td><td>Janta Sweet House</td><td>4.4     </td><td>50+ ratings    </td><td>₹ 200 </td><td>Janta Sweet House, Bazar No.9, Circullar Road, Abohar                                     </td><td>Sweets,Bakery             </td><td style=\"text-align: right;\">12117201000112</td><td>https://www.swiggy.com/restaurants/janta-sweet-house-central-abohar-abohar-531342 </td><td>Abohar</td><td>Abohar      </td><td style=\"text-align: right;\">   nan</td><td style=\"text-align: right;\">    nan</td></tr>\\n<tr><td style=\"text-align: right;\">158203</td><td>theka coffee desi</td><td>3.8     </td><td>100+ ratings   </td><td>₹ 100 </td><td>theka coffee desi, sahtiya sadan road city                                                </td><td>Beverages                 </td><td style=\"text-align: right;\">22121652000190</td><td>https://www.swiggy.com/restaurants/theka-coffee-desi-central-raipura-abohar-158203</td><td>Abohar</td><td>Abohar      </td><td style=\"text-align: right;\">   nan</td><td style=\"text-align: right;\">    nan</td></tr>\\n<tr><td style=\"text-align: right;\">187912</td><td>Singh Hut        </td><td>3.7     </td><td>20+ ratings    </td><td>₹ 250 </td><td>Singh Hut, CIRCULAR ROAD NEAR NEHRU PARK ABOHAR                                           </td><td>Fast Food,Indian          </td><td style=\"text-align: right;\">22119652000167</td><td>https://www.swiggy.com/restaurants/singh-hut-nehru-park-main-bazar-abohar-187912  </td><td>Abohar</td><td>Abohar      </td><td style=\"text-align: right;\">   nan</td><td style=\"text-align: right;\">    nan</td></tr>\\n<tr><td style=\"text-align: right;\">543530</td><td>GRILL MASTERS    </td><td>--      </td><td>Too Few Ratings</td><td>₹ 250 </td><td>GRILL MASTERS, ADA Heights, Abohar - Hanumangarh Rd, Raipura, Abohar, Punjab 152116, India</td><td>Italian-American,Fast Food</td><td style=\"text-align: right;\">12122201000053</td><td>https://www.swiggy.com/restaurants/grill-masters-central-abohar-abohar-543530     </td><td>Abohar</td><td>Abohar      </td><td style=\"text-align: right;\">   nan</td><td style=\"text-align: right;\">    nan</td></tr>\\n</tbody>\\n</table>'"
            ],
            "text/html": [
              "<table>\n",
              "<thead>\n",
              "<tr><th style=\"text-align: right;\">      </th><th>name             </th><th>rating  </th><th>rating_count   </th><th>cost  </th><th>address                                                                                   </th><th>cuisine                   </th><th style=\"text-align: right;\">        lic_no</th><th>link                                                                              </th><th>city  </th><th>sub_region  </th><th style=\"text-align: right;\">  type</th><th style=\"text-align: right;\">  price</th></tr>\n",
              "</thead>\n",
              "<tbody>\n",
              "<tr><td style=\"text-align: right;\">567335</td><td>AB FOODS POINT   </td><td>--      </td><td>Too Few Ratings</td><td>₹ 200 </td><td>AB FOODS POINT, NEAR RISHI NARANG DENTAL CLINIC , NEAR IDBI BANK, ABOHAR                  </td><td>Beverages,Pizzas          </td><td style=\"text-align: right;\">22122652000138</td><td>https://www.swiggy.com/restaurants/ab-foods-point-central-abohar-abohar-567335    </td><td>Abohar</td><td>Abohar      </td><td style=\"text-align: right;\">   nan</td><td style=\"text-align: right;\">    nan</td></tr>\n",
              "<tr><td style=\"text-align: right;\">531342</td><td>Janta Sweet House</td><td>4.4     </td><td>50+ ratings    </td><td>₹ 200 </td><td>Janta Sweet House, Bazar No.9, Circullar Road, Abohar                                     </td><td>Sweets,Bakery             </td><td style=\"text-align: right;\">12117201000112</td><td>https://www.swiggy.com/restaurants/janta-sweet-house-central-abohar-abohar-531342 </td><td>Abohar</td><td>Abohar      </td><td style=\"text-align: right;\">   nan</td><td style=\"text-align: right;\">    nan</td></tr>\n",
              "<tr><td style=\"text-align: right;\">158203</td><td>theka coffee desi</td><td>3.8     </td><td>100+ ratings   </td><td>₹ 100 </td><td>theka coffee desi, sahtiya sadan road city                                                </td><td>Beverages                 </td><td style=\"text-align: right;\">22121652000190</td><td>https://www.swiggy.com/restaurants/theka-coffee-desi-central-raipura-abohar-158203</td><td>Abohar</td><td>Abohar      </td><td style=\"text-align: right;\">   nan</td><td style=\"text-align: right;\">    nan</td></tr>\n",
              "<tr><td style=\"text-align: right;\">187912</td><td>Singh Hut        </td><td>3.7     </td><td>20+ ratings    </td><td>₹ 250 </td><td>Singh Hut, CIRCULAR ROAD NEAR NEHRU PARK ABOHAR                                           </td><td>Fast Food,Indian          </td><td style=\"text-align: right;\">22119652000167</td><td>https://www.swiggy.com/restaurants/singh-hut-nehru-park-main-bazar-abohar-187912  </td><td>Abohar</td><td>Abohar      </td><td style=\"text-align: right;\">   nan</td><td style=\"text-align: right;\">    nan</td></tr>\n",
              "<tr><td style=\"text-align: right;\">543530</td><td>GRILL MASTERS    </td><td>--      </td><td>Too Few Ratings</td><td>₹ 250 </td><td>GRILL MASTERS, ADA Heights, Abohar - Hanumangarh Rd, Raipura, Abohar, Punjab 152116, India</td><td>Italian-American,Fast Food</td><td style=\"text-align: right;\">12122201000053</td><td>https://www.swiggy.com/restaurants/grill-masters-central-abohar-abohar-543530     </td><td>Abohar</td><td>Abohar      </td><td style=\"text-align: right;\">   nan</td><td style=\"text-align: right;\">    nan</td></tr>\n",
              "</tbody>\n",
              "</table>"
            ],
            "application/vnd.google.colaboratory.intrinsic+json": {
              "type": "string"
            }
          },
          "metadata": {},
          "execution_count": 33
        }
      ],
      "source": [
        "# show(df.head(5))\n",
        "tabulate(df.loc[:, df.columns != 'menu'].head(5), headers = 'keys', tablefmt = 'html')"
      ]
    },
    {
      "cell_type": "code",
      "execution_count": 34,
      "metadata": {
        "colab": {
          "base_uri": "https://localhost:8080/"
        },
        "id": "GfSh7yrzM6cr",
        "outputId": "ae77c7d0-4f07-40a9-9999-261e7e38d8e3"
      },
      "outputs": [
        {
          "output_type": "execute_result",
          "data": {
            "text/plain": [
              "(160621, 14)"
            ]
          },
          "metadata": {},
          "execution_count": 34
        }
      ],
      "source": [
        "# DATA CLEANING\n",
        "# reset index as a column and rename column index and name\n",
        "df.reset_index(level=0, inplace=True)\n",
        "df = df.rename(columns={'index':'restaurant_id', 'name':'restaurant'})\n",
        "# print(type(df['restaurant_id']))\n",
        "df.drop_duplicates(subset=['restaurant_id'], keep='first', inplace = True)\n",
        "#df.set_index('id', inplace=True)\n",
        "df.shape"
      ]
    },
    {
      "cell_type": "code",
      "execution_count": 35,
      "metadata": {
        "colab": {
          "base_uri": "https://localhost:8080/",
          "height": 161
        },
        "id": "FV_1X-c5M6cr",
        "outputId": "2bc33ad4-6794-4a79-c8c0-690002c98ddd"
      },
      "outputs": [
        {
          "output_type": "execute_result",
          "data": {
            "text/plain": [
              "'<table>\\n<thead>\\n<tr><th style=\"text-align: right;\">  </th><th style=\"text-align: right;\">  restaurant_id</th><th>restaurant       </th><th>rating  </th><th>rating_count   </th><th>cost  </th><th>address                                                                                   </th><th>cuisine                   </th><th style=\"text-align: right;\">        lic_no</th><th>link                                                                              </th><th>city  </th><th>sub_region  </th><th style=\"text-align: right;\">  type</th><th style=\"text-align: right;\">  price</th></tr>\\n</thead>\\n<tbody>\\n<tr><td style=\"text-align: right;\"> 0</td><td style=\"text-align: right;\">         567335</td><td>AB FOODS POINT   </td><td>--      </td><td>Too Few Ratings</td><td>₹ 200 </td><td>AB FOODS POINT, NEAR RISHI NARANG DENTAL CLINIC , NEAR IDBI BANK, ABOHAR                  </td><td>Beverages,Pizzas          </td><td style=\"text-align: right;\">22122652000138</td><td>https://www.swiggy.com/restaurants/ab-foods-point-central-abohar-abohar-567335    </td><td>Abohar</td><td>Abohar      </td><td style=\"text-align: right;\">   nan</td><td style=\"text-align: right;\">    nan</td></tr>\\n<tr><td style=\"text-align: right;\"> 1</td><td style=\"text-align: right;\">         531342</td><td>Janta Sweet House</td><td>4.4     </td><td>50+ ratings    </td><td>₹ 200 </td><td>Janta Sweet House, Bazar No.9, Circullar Road, Abohar                                     </td><td>Sweets,Bakery             </td><td style=\"text-align: right;\">12117201000112</td><td>https://www.swiggy.com/restaurants/janta-sweet-house-central-abohar-abohar-531342 </td><td>Abohar</td><td>Abohar      </td><td style=\"text-align: right;\">   nan</td><td style=\"text-align: right;\">    nan</td></tr>\\n<tr><td style=\"text-align: right;\"> 2</td><td style=\"text-align: right;\">         158203</td><td>theka coffee desi</td><td>3.8     </td><td>100+ ratings   </td><td>₹ 100 </td><td>theka coffee desi, sahtiya sadan road city                                                </td><td>Beverages                 </td><td style=\"text-align: right;\">22121652000190</td><td>https://www.swiggy.com/restaurants/theka-coffee-desi-central-raipura-abohar-158203</td><td>Abohar</td><td>Abohar      </td><td style=\"text-align: right;\">   nan</td><td style=\"text-align: right;\">    nan</td></tr>\\n<tr><td style=\"text-align: right;\"> 3</td><td style=\"text-align: right;\">         187912</td><td>Singh Hut        </td><td>3.7     </td><td>20+ ratings    </td><td>₹ 250 </td><td>Singh Hut, CIRCULAR ROAD NEAR NEHRU PARK ABOHAR                                           </td><td>Fast Food,Indian          </td><td style=\"text-align: right;\">22119652000167</td><td>https://www.swiggy.com/restaurants/singh-hut-nehru-park-main-bazar-abohar-187912  </td><td>Abohar</td><td>Abohar      </td><td style=\"text-align: right;\">   nan</td><td style=\"text-align: right;\">    nan</td></tr>\\n<tr><td style=\"text-align: right;\"> 4</td><td style=\"text-align: right;\">         543530</td><td>GRILL MASTERS    </td><td>--      </td><td>Too Few Ratings</td><td>₹ 250 </td><td>GRILL MASTERS, ADA Heights, Abohar - Hanumangarh Rd, Raipura, Abohar, Punjab 152116, India</td><td>Italian-American,Fast Food</td><td style=\"text-align: right;\">12122201000053</td><td>https://www.swiggy.com/restaurants/grill-masters-central-abohar-abohar-543530     </td><td>Abohar</td><td>Abohar      </td><td style=\"text-align: right;\">   nan</td><td style=\"text-align: right;\">    nan</td></tr>\\n</tbody>\\n</table>'"
            ],
            "text/html": [
              "<table>\n",
              "<thead>\n",
              "<tr><th style=\"text-align: right;\">  </th><th style=\"text-align: right;\">  restaurant_id</th><th>restaurant       </th><th>rating  </th><th>rating_count   </th><th>cost  </th><th>address                                                                                   </th><th>cuisine                   </th><th style=\"text-align: right;\">        lic_no</th><th>link                                                                              </th><th>city  </th><th>sub_region  </th><th style=\"text-align: right;\">  type</th><th style=\"text-align: right;\">  price</th></tr>\n",
              "</thead>\n",
              "<tbody>\n",
              "<tr><td style=\"text-align: right;\"> 0</td><td style=\"text-align: right;\">         567335</td><td>AB FOODS POINT   </td><td>--      </td><td>Too Few Ratings</td><td>₹ 200 </td><td>AB FOODS POINT, NEAR RISHI NARANG DENTAL CLINIC , NEAR IDBI BANK, ABOHAR                  </td><td>Beverages,Pizzas          </td><td style=\"text-align: right;\">22122652000138</td><td>https://www.swiggy.com/restaurants/ab-foods-point-central-abohar-abohar-567335    </td><td>Abohar</td><td>Abohar      </td><td style=\"text-align: right;\">   nan</td><td style=\"text-align: right;\">    nan</td></tr>\n",
              "<tr><td style=\"text-align: right;\"> 1</td><td style=\"text-align: right;\">         531342</td><td>Janta Sweet House</td><td>4.4     </td><td>50+ ratings    </td><td>₹ 200 </td><td>Janta Sweet House, Bazar No.9, Circullar Road, Abohar                                     </td><td>Sweets,Bakery             </td><td style=\"text-align: right;\">12117201000112</td><td>https://www.swiggy.com/restaurants/janta-sweet-house-central-abohar-abohar-531342 </td><td>Abohar</td><td>Abohar      </td><td style=\"text-align: right;\">   nan</td><td style=\"text-align: right;\">    nan</td></tr>\n",
              "<tr><td style=\"text-align: right;\"> 2</td><td style=\"text-align: right;\">         158203</td><td>theka coffee desi</td><td>3.8     </td><td>100+ ratings   </td><td>₹ 100 </td><td>theka coffee desi, sahtiya sadan road city                                                </td><td>Beverages                 </td><td style=\"text-align: right;\">22121652000190</td><td>https://www.swiggy.com/restaurants/theka-coffee-desi-central-raipura-abohar-158203</td><td>Abohar</td><td>Abohar      </td><td style=\"text-align: right;\">   nan</td><td style=\"text-align: right;\">    nan</td></tr>\n",
              "<tr><td style=\"text-align: right;\"> 3</td><td style=\"text-align: right;\">         187912</td><td>Singh Hut        </td><td>3.7     </td><td>20+ ratings    </td><td>₹ 250 </td><td>Singh Hut, CIRCULAR ROAD NEAR NEHRU PARK ABOHAR                                           </td><td>Fast Food,Indian          </td><td style=\"text-align: right;\">22119652000167</td><td>https://www.swiggy.com/restaurants/singh-hut-nehru-park-main-bazar-abohar-187912  </td><td>Abohar</td><td>Abohar      </td><td style=\"text-align: right;\">   nan</td><td style=\"text-align: right;\">    nan</td></tr>\n",
              "<tr><td style=\"text-align: right;\"> 4</td><td style=\"text-align: right;\">         543530</td><td>GRILL MASTERS    </td><td>--      </td><td>Too Few Ratings</td><td>₹ 250 </td><td>GRILL MASTERS, ADA Heights, Abohar - Hanumangarh Rd, Raipura, Abohar, Punjab 152116, India</td><td>Italian-American,Fast Food</td><td style=\"text-align: right;\">12122201000053</td><td>https://www.swiggy.com/restaurants/grill-masters-central-abohar-abohar-543530     </td><td>Abohar</td><td>Abohar      </td><td style=\"text-align: right;\">   nan</td><td style=\"text-align: right;\">    nan</td></tr>\n",
              "</tbody>\n",
              "</table>"
            ],
            "application/vnd.google.colaboratory.intrinsic+json": {
              "type": "string"
            }
          },
          "metadata": {},
          "execution_count": 35
        }
      ],
      "source": [
        "# show(df.head(5))\n",
        "tabulate(df.loc[:, df.columns != 'menu'].head(5), headers = 'keys', tablefmt = 'html')"
      ]
    },
    {
      "cell_type": "code",
      "execution_count": 36,
      "metadata": {
        "colab": {
          "base_uri": "https://localhost:8080/"
        },
        "id": "9Vm4QUQbM6cs",
        "outputId": "e97f800f-714f-4c99-dc47-f9cf9b355d5d"
      },
      "outputs": [
        {
          "output_type": "execute_result",
          "data": {
            "text/plain": [
              "(148590, 12)"
            ]
          },
          "metadata": {},
          "execution_count": 36
        }
      ],
      "source": [
        "# Clean data by dropping price and type\n",
        "df = df.drop(['type','price'], axis =1)\n",
        "df.dropna(inplace = True, axis = 0)\n",
        "df.reset_index(inplace = True)\n",
        "df.drop(['index'], axis = 1, inplace = True)\n",
        "df.shape"
      ]
    },
    {
      "cell_type": "code",
      "execution_count": 37,
      "metadata": {
        "colab": {
          "base_uri": "https://localhost:8080/",
          "height": 161
        },
        "id": "8Wd0HMlBM6cs",
        "outputId": "095ee4bd-cc86-475f-c11a-94f024d41caa"
      },
      "outputs": [
        {
          "output_type": "execute_result",
          "data": {
            "text/plain": [
              "'<table>\\n<thead>\\n<tr><th style=\"text-align: right;\">  </th><th style=\"text-align: right;\">  restaurant_id</th><th>restaurant       </th><th>rating  </th><th>rating_count   </th><th>cost  </th><th>address                                                                                   </th><th>cuisine                   </th><th style=\"text-align: right;\">        lic_no</th><th>link                                                                              </th><th>city  </th><th>sub_region  </th></tr>\\n</thead>\\n<tbody>\\n<tr><td style=\"text-align: right;\"> 0</td><td style=\"text-align: right;\">         567335</td><td>AB FOODS POINT   </td><td>--      </td><td>Too Few Ratings</td><td>₹ 200 </td><td>AB FOODS POINT, NEAR RISHI NARANG DENTAL CLINIC , NEAR IDBI BANK, ABOHAR                  </td><td>Beverages,Pizzas          </td><td style=\"text-align: right;\">22122652000138</td><td>https://www.swiggy.com/restaurants/ab-foods-point-central-abohar-abohar-567335    </td><td>Abohar</td><td>Abohar      </td></tr>\\n<tr><td style=\"text-align: right;\"> 1</td><td style=\"text-align: right;\">         531342</td><td>Janta Sweet House</td><td>4.4     </td><td>50+ ratings    </td><td>₹ 200 </td><td>Janta Sweet House, Bazar No.9, Circullar Road, Abohar                                     </td><td>Sweets,Bakery             </td><td style=\"text-align: right;\">12117201000112</td><td>https://www.swiggy.com/restaurants/janta-sweet-house-central-abohar-abohar-531342 </td><td>Abohar</td><td>Abohar      </td></tr>\\n<tr><td style=\"text-align: right;\"> 2</td><td style=\"text-align: right;\">         158203</td><td>theka coffee desi</td><td>3.8     </td><td>100+ ratings   </td><td>₹ 100 </td><td>theka coffee desi, sahtiya sadan road city                                                </td><td>Beverages                 </td><td style=\"text-align: right;\">22121652000190</td><td>https://www.swiggy.com/restaurants/theka-coffee-desi-central-raipura-abohar-158203</td><td>Abohar</td><td>Abohar      </td></tr>\\n<tr><td style=\"text-align: right;\"> 3</td><td style=\"text-align: right;\">         187912</td><td>Singh Hut        </td><td>3.7     </td><td>20+ ratings    </td><td>₹ 250 </td><td>Singh Hut, CIRCULAR ROAD NEAR NEHRU PARK ABOHAR                                           </td><td>Fast Food,Indian          </td><td style=\"text-align: right;\">22119652000167</td><td>https://www.swiggy.com/restaurants/singh-hut-nehru-park-main-bazar-abohar-187912  </td><td>Abohar</td><td>Abohar      </td></tr>\\n<tr><td style=\"text-align: right;\"> 4</td><td style=\"text-align: right;\">         543530</td><td>GRILL MASTERS    </td><td>--      </td><td>Too Few Ratings</td><td>₹ 250 </td><td>GRILL MASTERS, ADA Heights, Abohar - Hanumangarh Rd, Raipura, Abohar, Punjab 152116, India</td><td>Italian-American,Fast Food</td><td style=\"text-align: right;\">12122201000053</td><td>https://www.swiggy.com/restaurants/grill-masters-central-abohar-abohar-543530     </td><td>Abohar</td><td>Abohar      </td></tr>\\n</tbody>\\n</table>'"
            ],
            "text/html": [
              "<table>\n",
              "<thead>\n",
              "<tr><th style=\"text-align: right;\">  </th><th style=\"text-align: right;\">  restaurant_id</th><th>restaurant       </th><th>rating  </th><th>rating_count   </th><th>cost  </th><th>address                                                                                   </th><th>cuisine                   </th><th style=\"text-align: right;\">        lic_no</th><th>link                                                                              </th><th>city  </th><th>sub_region  </th></tr>\n",
              "</thead>\n",
              "<tbody>\n",
              "<tr><td style=\"text-align: right;\"> 0</td><td style=\"text-align: right;\">         567335</td><td>AB FOODS POINT   </td><td>--      </td><td>Too Few Ratings</td><td>₹ 200 </td><td>AB FOODS POINT, NEAR RISHI NARANG DENTAL CLINIC , NEAR IDBI BANK, ABOHAR                  </td><td>Beverages,Pizzas          </td><td style=\"text-align: right;\">22122652000138</td><td>https://www.swiggy.com/restaurants/ab-foods-point-central-abohar-abohar-567335    </td><td>Abohar</td><td>Abohar      </td></tr>\n",
              "<tr><td style=\"text-align: right;\"> 1</td><td style=\"text-align: right;\">         531342</td><td>Janta Sweet House</td><td>4.4     </td><td>50+ ratings    </td><td>₹ 200 </td><td>Janta Sweet House, Bazar No.9, Circullar Road, Abohar                                     </td><td>Sweets,Bakery             </td><td style=\"text-align: right;\">12117201000112</td><td>https://www.swiggy.com/restaurants/janta-sweet-house-central-abohar-abohar-531342 </td><td>Abohar</td><td>Abohar      </td></tr>\n",
              "<tr><td style=\"text-align: right;\"> 2</td><td style=\"text-align: right;\">         158203</td><td>theka coffee desi</td><td>3.8     </td><td>100+ ratings   </td><td>₹ 100 </td><td>theka coffee desi, sahtiya sadan road city                                                </td><td>Beverages                 </td><td style=\"text-align: right;\">22121652000190</td><td>https://www.swiggy.com/restaurants/theka-coffee-desi-central-raipura-abohar-158203</td><td>Abohar</td><td>Abohar      </td></tr>\n",
              "<tr><td style=\"text-align: right;\"> 3</td><td style=\"text-align: right;\">         187912</td><td>Singh Hut        </td><td>3.7     </td><td>20+ ratings    </td><td>₹ 250 </td><td>Singh Hut, CIRCULAR ROAD NEAR NEHRU PARK ABOHAR                                           </td><td>Fast Food,Indian          </td><td style=\"text-align: right;\">22119652000167</td><td>https://www.swiggy.com/restaurants/singh-hut-nehru-park-main-bazar-abohar-187912  </td><td>Abohar</td><td>Abohar      </td></tr>\n",
              "<tr><td style=\"text-align: right;\"> 4</td><td style=\"text-align: right;\">         543530</td><td>GRILL MASTERS    </td><td>--      </td><td>Too Few Ratings</td><td>₹ 250 </td><td>GRILL MASTERS, ADA Heights, Abohar - Hanumangarh Rd, Raipura, Abohar, Punjab 152116, India</td><td>Italian-American,Fast Food</td><td style=\"text-align: right;\">12122201000053</td><td>https://www.swiggy.com/restaurants/grill-masters-central-abohar-abohar-543530     </td><td>Abohar</td><td>Abohar      </td></tr>\n",
              "</tbody>\n",
              "</table>"
            ],
            "application/vnd.google.colaboratory.intrinsic+json": {
              "type": "string"
            }
          },
          "metadata": {},
          "execution_count": 37
        }
      ],
      "source": [
        "df.city.replace(['Noida-1','Noida'],'Noida',inplace=True)\n",
        "# show(df.head(5))\n",
        "tabulate(df.loc[:, df.columns != 'menu'].head(5), headers = 'keys', tablefmt = 'html')"
      ]
    },
    {
      "cell_type": "code",
      "source": [
        "# before we go ahead we need to filter cost column by removing ₹ sign from the cost and converting it to int\n",
        "df['cost'] = df['cost'].str.replace('₹', '')\n",
        "df['cost'] = df['cost'].str.replace('\\s', '', regex=True)\n",
        "df['cost'] = pd.to_numeric(df['cost'], errors='coerce')\n",
        "df['cost'] = df['cost'].replace(np.nan, 0, regex=True)\n",
        "# remove restaurants with NA values\n",
        "df = df[df['restaurant'] != 'NA']"
      ],
      "metadata": {
        "id": "B-hSgw-wQvrb"
      },
      "execution_count": 38,
      "outputs": []
    },
    {
      "cell_type": "code",
      "source": [
        "# show(df.head(5))\n",
        "tabulate(df.loc[:, df.columns != 'menu'].head(5), headers = 'keys', tablefmt = 'html')"
      ],
      "metadata": {
        "colab": {
          "base_uri": "https://localhost:8080/",
          "height": 143
        },
        "id": "Z-mslghxWWMY",
        "outputId": "81711179-a46c-4f7b-97d2-258fb11a68b1"
      },
      "execution_count": 39,
      "outputs": [
        {
          "output_type": "execute_result",
          "data": {
            "text/plain": [
              "'<table>\\n<thead>\\n<tr><th style=\"text-align: right;\">  </th><th style=\"text-align: right;\">  restaurant_id</th><th>restaurant       </th><th>rating  </th><th>rating_count   </th><th style=\"text-align: right;\">  cost</th><th>address                                                                                   </th><th>cuisine                   </th><th style=\"text-align: right;\">        lic_no</th><th>link                                                                              </th><th>city  </th><th>sub_region  </th></tr>\\n</thead>\\n<tbody>\\n<tr><td style=\"text-align: right;\"> 0</td><td style=\"text-align: right;\">         567335</td><td>AB FOODS POINT   </td><td>--      </td><td>Too Few Ratings</td><td style=\"text-align: right;\">   200</td><td>AB FOODS POINT, NEAR RISHI NARANG DENTAL CLINIC , NEAR IDBI BANK, ABOHAR                  </td><td>Beverages,Pizzas          </td><td style=\"text-align: right;\">22122652000138</td><td>https://www.swiggy.com/restaurants/ab-foods-point-central-abohar-abohar-567335    </td><td>Abohar</td><td>Abohar      </td></tr>\\n<tr><td style=\"text-align: right;\"> 1</td><td style=\"text-align: right;\">         531342</td><td>Janta Sweet House</td><td>4.4     </td><td>50+ ratings    </td><td style=\"text-align: right;\">   200</td><td>Janta Sweet House, Bazar No.9, Circullar Road, Abohar                                     </td><td>Sweets,Bakery             </td><td style=\"text-align: right;\">12117201000112</td><td>https://www.swiggy.com/restaurants/janta-sweet-house-central-abohar-abohar-531342 </td><td>Abohar</td><td>Abohar      </td></tr>\\n<tr><td style=\"text-align: right;\"> 2</td><td style=\"text-align: right;\">         158203</td><td>theka coffee desi</td><td>3.8     </td><td>100+ ratings   </td><td style=\"text-align: right;\">   100</td><td>theka coffee desi, sahtiya sadan road city                                                </td><td>Beverages                 </td><td style=\"text-align: right;\">22121652000190</td><td>https://www.swiggy.com/restaurants/theka-coffee-desi-central-raipura-abohar-158203</td><td>Abohar</td><td>Abohar      </td></tr>\\n<tr><td style=\"text-align: right;\"> 3</td><td style=\"text-align: right;\">         187912</td><td>Singh Hut        </td><td>3.7     </td><td>20+ ratings    </td><td style=\"text-align: right;\">   250</td><td>Singh Hut, CIRCULAR ROAD NEAR NEHRU PARK ABOHAR                                           </td><td>Fast Food,Indian          </td><td style=\"text-align: right;\">22119652000167</td><td>https://www.swiggy.com/restaurants/singh-hut-nehru-park-main-bazar-abohar-187912  </td><td>Abohar</td><td>Abohar      </td></tr>\\n<tr><td style=\"text-align: right;\"> 4</td><td style=\"text-align: right;\">         543530</td><td>GRILL MASTERS    </td><td>--      </td><td>Too Few Ratings</td><td style=\"text-align: right;\">   250</td><td>GRILL MASTERS, ADA Heights, Abohar - Hanumangarh Rd, Raipura, Abohar, Punjab 152116, India</td><td>Italian-American,Fast Food</td><td style=\"text-align: right;\">12122201000053</td><td>https://www.swiggy.com/restaurants/grill-masters-central-abohar-abohar-543530     </td><td>Abohar</td><td>Abohar      </td></tr>\\n</tbody>\\n</table>'"
            ],
            "text/html": [
              "<table>\n",
              "<thead>\n",
              "<tr><th style=\"text-align: right;\">  </th><th style=\"text-align: right;\">  restaurant_id</th><th>restaurant       </th><th>rating  </th><th>rating_count   </th><th style=\"text-align: right;\">  cost</th><th>address                                                                                   </th><th>cuisine                   </th><th style=\"text-align: right;\">        lic_no</th><th>link                                                                              </th><th>city  </th><th>sub_region  </th></tr>\n",
              "</thead>\n",
              "<tbody>\n",
              "<tr><td style=\"text-align: right;\"> 0</td><td style=\"text-align: right;\">         567335</td><td>AB FOODS POINT   </td><td>--      </td><td>Too Few Ratings</td><td style=\"text-align: right;\">   200</td><td>AB FOODS POINT, NEAR RISHI NARANG DENTAL CLINIC , NEAR IDBI BANK, ABOHAR                  </td><td>Beverages,Pizzas          </td><td style=\"text-align: right;\">22122652000138</td><td>https://www.swiggy.com/restaurants/ab-foods-point-central-abohar-abohar-567335    </td><td>Abohar</td><td>Abohar      </td></tr>\n",
              "<tr><td style=\"text-align: right;\"> 1</td><td style=\"text-align: right;\">         531342</td><td>Janta Sweet House</td><td>4.4     </td><td>50+ ratings    </td><td style=\"text-align: right;\">   200</td><td>Janta Sweet House, Bazar No.9, Circullar Road, Abohar                                     </td><td>Sweets,Bakery             </td><td style=\"text-align: right;\">12117201000112</td><td>https://www.swiggy.com/restaurants/janta-sweet-house-central-abohar-abohar-531342 </td><td>Abohar</td><td>Abohar      </td></tr>\n",
              "<tr><td style=\"text-align: right;\"> 2</td><td style=\"text-align: right;\">         158203</td><td>theka coffee desi</td><td>3.8     </td><td>100+ ratings   </td><td style=\"text-align: right;\">   100</td><td>theka coffee desi, sahtiya sadan road city                                                </td><td>Beverages                 </td><td style=\"text-align: right;\">22121652000190</td><td>https://www.swiggy.com/restaurants/theka-coffee-desi-central-raipura-abohar-158203</td><td>Abohar</td><td>Abohar      </td></tr>\n",
              "<tr><td style=\"text-align: right;\"> 3</td><td style=\"text-align: right;\">         187912</td><td>Singh Hut        </td><td>3.7     </td><td>20+ ratings    </td><td style=\"text-align: right;\">   250</td><td>Singh Hut, CIRCULAR ROAD NEAR NEHRU PARK ABOHAR                                           </td><td>Fast Food,Indian          </td><td style=\"text-align: right;\">22119652000167</td><td>https://www.swiggy.com/restaurants/singh-hut-nehru-park-main-bazar-abohar-187912  </td><td>Abohar</td><td>Abohar      </td></tr>\n",
              "<tr><td style=\"text-align: right;\"> 4</td><td style=\"text-align: right;\">         543530</td><td>GRILL MASTERS    </td><td>--      </td><td>Too Few Ratings</td><td style=\"text-align: right;\">   250</td><td>GRILL MASTERS, ADA Heights, Abohar - Hanumangarh Rd, Raipura, Abohar, Punjab 152116, India</td><td>Italian-American,Fast Food</td><td style=\"text-align: right;\">12122201000053</td><td>https://www.swiggy.com/restaurants/grill-masters-central-abohar-abohar-543530     </td><td>Abohar</td><td>Abohar      </td></tr>\n",
              "</tbody>\n",
              "</table>"
            ],
            "application/vnd.google.colaboratory.intrinsic+json": {
              "type": "string"
            }
          },
          "metadata": {},
          "execution_count": 39
        }
      ]
    },
    {
      "cell_type": "markdown",
      "metadata": {
        "id": "p-_rATl2M6cs"
      },
      "source": [
        "### Number of cities(including sub-regions) that have Swiggy restaurants"
      ]
    },
    {
      "cell_type": "code",
      "execution_count": 40,
      "metadata": {
        "colab": {
          "base_uri": "https://localhost:8080/"
        },
        "id": "oiDBBonqM6cs",
        "outputId": "108838fb-17b8-4d9e-f702-0fee267602a0"
      },
      "outputs": [
        {
          "output_type": "stream",
          "name": "stdout",
          "text": [
            "Number of cities (including subregions) where Swiggy is having its restaurants listed are:  551\n"
          ]
        }
      ],
      "source": [
        "# given cleaned swiggy data in df get count of unique cities\n",
        "count_of_cities = df['city'].nunique()\n",
        "print(\"Number of cities (including subregions) where Swiggy is having its restaurants listed are: \", count_of_cities)"
      ]
    },
    {
      "cell_type": "markdown",
      "metadata": {
        "id": "fcq3KO7TM6cs"
      },
      "source": [
        "### Number of cities(not including sub-regions) that have Swiggy restaurants"
      ]
    },
    {
      "cell_type": "code",
      "execution_count": 41,
      "metadata": {
        "colab": {
          "base_uri": "https://localhost:8080/"
        },
        "id": "t3_y7VC_M6cs",
        "outputId": "8e754e4d-bd8b-41a6-f0ba-16d2089b9c0a"
      },
      "outputs": [
        {
          "output_type": "stream",
          "name": "stdout",
          "text": [
            "Number of cities (not including subregions) where Swiggy is having its restaurants listed are:  820\n"
          ]
        }
      ],
      "source": [
        "# given cleaned swiggy data in df get count of subregions as they include cities as well\n",
        "count_of_subregions = df['sub_region'].nunique()\n",
        "print(\"Number of cities (not including subregions) where Swiggy is having its restaurants listed are: \", count_of_subregions)"
      ]
    },
    {
      "cell_type": "markdown",
      "metadata": {
        "id": "0cDduw_kM6cs"
      },
      "source": [
        "### Delhi subregion with maximum number of restaurants listed on Swiggy"
      ]
    },
    {
      "cell_type": "code",
      "execution_count": 42,
      "metadata": {
        "colab": {
          "base_uri": "https://localhost:8080/"
        },
        "id": "8FYwz2IVM6ct",
        "outputId": "ebffdff7-8318-4188-e550-23fc721fe3c5"
      },
      "outputs": [
        {
          "output_type": "stream",
          "name": "stdout",
          "text": [
            "The subregion of Delhi with the maximum restaurants listed on Swiggy is ->\n",
            "sub_region\n",
            "Indirapuram    1279\n",
            "Name: no_of_restaurants, dtype: int64\n"
          ]
        }
      ],
      "source": [
        "# get number of restaurants listed for Delhi\n",
        "delhi_rest = df[df['city'] == 'Delhi']\n",
        "# next find count of all resataurants grouping by sub-region of Delhi and then sort them in ascending order.\n",
        "# select first entry as it is the maximum\n",
        "M = delhi_rest.groupby('sub_region')['sub_region'].count().sort_values(ascending=False).head(1)\n",
        "print(\"The subregion of Delhi with the maximum restaurants listed on Swiggy is ->\")\n",
        "M.rename('no_of_restaurants',inplace=True)\n",
        "# show(M)\n",
        "# tabulate(M, headers = 'keys', tablefmt = 'html')\n",
        "print(M)"
      ]
    },
    {
      "cell_type": "markdown",
      "metadata": {
        "id": "iIgmDquUM6ct"
      },
      "source": [
        "### Top 5 Most Expensive Cities in the dataset"
      ]
    },
    {
      "cell_type": "code",
      "execution_count": 43,
      "metadata": {
        "colab": {
          "base_uri": "https://localhost:8080/"
        },
        "id": "TuR7ZfNYM6ct",
        "outputId": "ba5a1b90-2838-409d-9391-7fc9b77ef154"
      },
      "outputs": [
        {
          "output_type": "stream",
          "name": "stdout",
          "text": [
            "The top 5 most expensive cities listed on Swiggy are -> \n",
            "city\n",
            "Bangalore    4632768.0\n",
            "Delhi        4462198.0\n",
            "Pune         3738389.0\n",
            "Hyderabad    3011912.0\n",
            "Chennai      2890593.0\n",
            "Name: TotalCost(in ₹), dtype: float64\n"
          ]
        }
      ],
      "source": [
        "# next find sum of all costs of restaurants grouping by city and then sort them in ascending order.\n",
        "# select first 5 entry as it is the top 5\n",
        "max_expensive = df.groupby('city')['cost'].sum().sort_values(ascending=False).head(5)\n",
        "print(\"The top 5 most expensive cities listed on Swiggy are -> \")\n",
        "max_expensive.rename('TotalCost(in ₹)',inplace=True)\n",
        "# show(max_expensive)\n",
        "# tabulate(max_expensive, headers = 'keys', tablefmt = 'html')\n",
        "print(max_expensive)"
      ]
    },
    {
      "cell_type": "markdown",
      "metadata": {
        "id": "Ee6yNPQeM6ct"
      },
      "source": [
        "### Top 5 Restaurants with Maximum & Ninimum ratings throughout the dataset"
      ]
    },
    {
      "cell_type": "code",
      "source": [
        "def rating_rank(df):\n",
        "  rating_rank = []\n",
        "  for i in df.index:\n",
        "      z = df['rating_count'][i]\n",
        "      if z == 'Too Few Ratings':\n",
        "          rating_rank.append(0)\n",
        "      elif z == '20+ ratings':\n",
        "          rating_rank.append(1)\n",
        "      elif z == '50+ ratings':\n",
        "          rating_rank.append(2)\n",
        "      elif z == '100+ ratings':\n",
        "          rating_rank.append(3)\n",
        "      elif z == '500+ ratings':\n",
        "          rating_rank.append(4)\n",
        "      elif z == '1K+ ratings':\n",
        "          rating_rank.append(5)\n",
        "      else:\n",
        "          rating_rank.append(-1)\n",
        "  # df['rating_rank'] = rating_rank\n",
        "  df.insert(4,'rating_rank',rating_rank, True)"
      ],
      "metadata": {
        "id": "grDiYI4FRcQD"
      },
      "execution_count": 44,
      "outputs": []
    },
    {
      "cell_type": "code",
      "execution_count": 45,
      "metadata": {
        "colab": {
          "base_uri": "https://localhost:8080/",
          "height": 178
        },
        "id": "j-DdcQHyM6ct",
        "outputId": "018a3795-7fe3-4865-c493-37a89687f084"
      },
      "outputs": [
        {
          "output_type": "stream",
          "name": "stdout",
          "text": [
            "The top 5 most rated restaurants listed on Swiggy with 5.0 rating are -> \n"
          ]
        },
        {
          "output_type": "execute_result",
          "data": {
            "text/plain": [
              "'<table>\\n<thead>\\n<tr><th style=\"text-align: right;\">     </th><th>restaurant            </th><th style=\"text-align: right;\">  rating</th><th>rating_count  </th></tr>\\n</thead>\\n<tbody>\\n<tr><td style=\"text-align: right;\">84308</td><td>Tony Bakery           </td><td style=\"text-align: right;\">       5</td><td>100+ ratings  </td></tr>\\n<tr><td style=\"text-align: right;\">88104</td><td>SHRI KRISHNA FOOD ZONE</td><td style=\"text-align: right;\">       5</td><td>100+ ratings  </td></tr>\\n<tr><td style=\"text-align: right;\">12157</td><td>HUNGER TREATS         </td><td style=\"text-align: right;\">       5</td><td>50+ ratings   </td></tr>\\n<tr><td style=\"text-align: right;\">53207</td><td>Gelato Vinto          </td><td style=\"text-align: right;\">       5</td><td>50+ ratings   </td></tr>\\n<tr><td style=\"text-align: right;\">53678</td><td>Gelato Vinto          </td><td style=\"text-align: right;\">       5</td><td>50+ ratings   </td></tr>\\n</tbody>\\n</table>'"
            ],
            "text/html": [
              "<table>\n",
              "<thead>\n",
              "<tr><th style=\"text-align: right;\">     </th><th>restaurant            </th><th style=\"text-align: right;\">  rating</th><th>rating_count  </th></tr>\n",
              "</thead>\n",
              "<tbody>\n",
              "<tr><td style=\"text-align: right;\">84308</td><td>Tony Bakery           </td><td style=\"text-align: right;\">       5</td><td>100+ ratings  </td></tr>\n",
              "<tr><td style=\"text-align: right;\">88104</td><td>SHRI KRISHNA FOOD ZONE</td><td style=\"text-align: right;\">       5</td><td>100+ ratings  </td></tr>\n",
              "<tr><td style=\"text-align: right;\">12157</td><td>HUNGER TREATS         </td><td style=\"text-align: right;\">       5</td><td>50+ ratings   </td></tr>\n",
              "<tr><td style=\"text-align: right;\">53207</td><td>Gelato Vinto          </td><td style=\"text-align: right;\">       5</td><td>50+ ratings   </td></tr>\n",
              "<tr><td style=\"text-align: right;\">53678</td><td>Gelato Vinto          </td><td style=\"text-align: right;\">       5</td><td>50+ ratings   </td></tr>\n",
              "</tbody>\n",
              "</table>"
            ],
            "application/vnd.google.colaboratory.intrinsic+json": {
              "type": "string"
            }
          },
          "metadata": {},
          "execution_count": 45
        }
      ],
      "source": [
        "# first exclude all restaurants with too few ratings\n",
        "df_ratings = df[df['rating_count']!='Too Few Ratings']\n",
        "# convert str column to float\n",
        "df_ratings['rating'] = pd.to_numeric(df_ratings['rating'], errors='coerce')\n",
        "rating_rank(df_ratings)\n",
        "# next find max rating of all resataurants grouping by restaurant name and then sort them in ascending and descending order.\n",
        "# select first 5 entry as it is the max for ascending and min for descending order.\n",
        "max_ratings = df_ratings.sort_values(by=['rating','rating_rank'],ascending=False).head(5)\n",
        "min_ratings = df_ratings.sort_values(by=['rating','rating_rank'],ascending=True).head(5)\n",
        "print(\"The top 5 most rated restaurants listed on Swiggy with 5.0 rating are -> \")\n",
        "# show(max_ratings[['restaurant','rating','rating_count']])\n",
        "tabulate(max_ratings[['restaurant','rating','rating_count']], headers = 'keys', tablefmt = 'html')"
      ]
    },
    {
      "cell_type": "code",
      "source": [
        "print(\"*Note there are several restaurants with rating 5.0 other than the 5 mentioned and hence rating_count is also included to determine maximum rating restaurant.\")\n",
        "print(\"The top 5 least rated restaurants listed on Swiggy with lowest rating are -> \")\n",
        "# show(min_ratings[['restaurant','rating','rating_count']])\n",
        "tabulate(min_ratings[['restaurant','rating','rating_count']], headers = 'keys', tablefmt = 'html')"
      ],
      "metadata": {
        "colab": {
          "base_uri": "https://localhost:8080/",
          "height": 216
        },
        "id": "FmP3ZrQU6Azp",
        "outputId": "8308c8ec-c777-4be3-f157-ef7cda2a553b"
      },
      "execution_count": 46,
      "outputs": [
        {
          "output_type": "stream",
          "name": "stdout",
          "text": [
            "*Note there are several restaurants with rating 5.0 other than the 5 mentioned and hence rating_count is also included to determine maximum rating restaurant.\n",
            "The top 5 least rated restaurants listed on Swiggy with lowest rating are -> \n"
          ]
        },
        {
          "output_type": "execute_result",
          "data": {
            "text/plain": [
              "'<table>\\n<thead>\\n<tr><th style=\"text-align: right;\">      </th><th>restaurant                      </th><th style=\"text-align: right;\">  rating</th><th>rating_count  </th></tr>\\n</thead>\\n<tbody>\\n<tr><td style=\"text-align: right;\"> 34304</td><td>Ice Cream and Shakes Co         </td><td style=\"text-align: right;\">     1  </td><td>20+ ratings   </td></tr>\\n<tr><td style=\"text-align: right;\"> 18559</td><td>Persian Delight                 </td><td style=\"text-align: right;\">     1.1</td><td>20+ ratings   </td></tr>\\n<tr><td style=\"text-align: right;\"> 51966</td><td>THE TARI STORY                  </td><td style=\"text-align: right;\">     1.2</td><td>20+ ratings   </td></tr>\\n<tr><td style=\"text-align: right;\"> 68204</td><td>The Hyderabadi Biryani House    </td><td style=\"text-align: right;\">     1.2</td><td>20+ ratings   </td></tr>\\n<tr><td style=\"text-align: right;\">145214</td><td>Champaran Mutton Hundy &amp; Biryani</td><td style=\"text-align: right;\">     1.2</td><td>20+ ratings   </td></tr>\\n</tbody>\\n</table>'"
            ],
            "text/html": [
              "<table>\n",
              "<thead>\n",
              "<tr><th style=\"text-align: right;\">      </th><th>restaurant                      </th><th style=\"text-align: right;\">  rating</th><th>rating_count  </th></tr>\n",
              "</thead>\n",
              "<tbody>\n",
              "<tr><td style=\"text-align: right;\"> 34304</td><td>Ice Cream and Shakes Co         </td><td style=\"text-align: right;\">     1  </td><td>20+ ratings   </td></tr>\n",
              "<tr><td style=\"text-align: right;\"> 18559</td><td>Persian Delight                 </td><td style=\"text-align: right;\">     1.1</td><td>20+ ratings   </td></tr>\n",
              "<tr><td style=\"text-align: right;\"> 51966</td><td>THE TARI STORY                  </td><td style=\"text-align: right;\">     1.2</td><td>20+ ratings   </td></tr>\n",
              "<tr><td style=\"text-align: right;\"> 68204</td><td>The Hyderabadi Biryani House    </td><td style=\"text-align: right;\">     1.2</td><td>20+ ratings   </td></tr>\n",
              "<tr><td style=\"text-align: right;\">145214</td><td>Champaran Mutton Hundy &amp; Biryani</td><td style=\"text-align: right;\">     1.2</td><td>20+ ratings   </td></tr>\n",
              "</tbody>\n",
              "</table>"
            ],
            "application/vnd.google.colaboratory.intrinsic+json": {
              "type": "string"
            }
          },
          "metadata": {},
          "execution_count": 46
        }
      ]
    },
    {
      "cell_type": "markdown",
      "metadata": {
        "id": "ncYrJ_pWM6ct"
      },
      "source": [
        "### Top 5 cities with the highest number of restaurants listed."
      ]
    },
    {
      "cell_type": "code",
      "execution_count": 47,
      "metadata": {
        "colab": {
          "base_uri": "https://localhost:8080/"
        },
        "id": "Olx3UVpRM6ct",
        "outputId": "8d184a19-839c-4917-9f95-86f077b99aa8"
      },
      "outputs": [
        {
          "output_type": "stream",
          "name": "stdout",
          "text": [
            "The top 5 cities with highest number of restaurants listed on Swiggy are -> \n",
            "city\n",
            "Bangalore    15302\n",
            "Delhi        14076\n",
            "Pune         12435\n",
            "Hyderabad    10011\n",
            "Chennai       9954\n",
            "Name: Total_Restaurants, dtype: int64\n"
          ]
        }
      ],
      "source": [
        "top5_cities = df.groupby('city')['restaurant_id'].count().sort_values(ascending=False).head(5)\n",
        "print(\"The top 5 cities with highest number of restaurants listed on Swiggy are -> \")\n",
        "top5_cities.rename('Total_Restaurants', inplace=True)\n",
        "# show(top5_cities)\n",
        "# tabulate(top5_cities, headers = 'keys', tablefmt = 'html')\n",
        "print(top5_cities)"
      ]
    },
    {
      "cell_type": "markdown",
      "metadata": {
        "id": "E8NNM-uSM6ct"
      },
      "source": [
        "### Top 10 cities with the highest number of restaurants listed."
      ]
    },
    {
      "cell_type": "code",
      "execution_count": 48,
      "metadata": {
        "colab": {
          "base_uri": "https://localhost:8080/"
        },
        "id": "q13wyBj3M6cu",
        "outputId": "f5bf3dc7-bdaa-4a12-c491-5e128150edd9"
      },
      "outputs": [
        {
          "output_type": "stream",
          "name": "stdout",
          "text": [
            "The top 10 cities with highest number of restaurants listed on Swiggy are -> \n",
            "city\n",
            "Bangalore     15302\n",
            "Delhi         14076\n",
            "Pune          12435\n",
            "Hyderabad     10011\n",
            "Chennai        9954\n",
            "Kolkata        8281\n",
            "Mumbai         6071\n",
            "Ahmedabad      3541\n",
            "Chandigarh     3320\n",
            "Lucknow        2846\n",
            "Name: Total_Restaurants, dtype: int64\n"
          ]
        }
      ],
      "source": [
        "top10_cities = df.groupby('city')['restaurant_id'].count().sort_values(ascending=False).head(10)\n",
        "print(\"The top 10 cities with highest number of restaurants listed on Swiggy are -> \")\n",
        "top10_cities.rename('Total_Restaurants', inplace=True)\n",
        "# show(top10_cities)\n",
        "# tabulate(top10_cities, headers = 'keys', tablefmt = 'html')\n",
        "print(top10_cities)"
      ]
    },
    {
      "cell_type": "markdown",
      "metadata": {
        "id": "JJL0qGKlM6cu"
      },
      "source": [
        "### Top 5 Most Popular Restaurants in Pune"
      ]
    },
    {
      "cell_type": "code",
      "execution_count": 49,
      "metadata": {
        "colab": {
          "base_uri": "https://localhost:8080/",
          "height": 214
        },
        "id": "bhX--lQMM6cu",
        "outputId": "a90f8d55-05a6-4e8f-fbbd-53cd96e8acc5"
      },
      "outputs": [
        {
          "output_type": "stream",
          "name": "stdout",
          "text": [
            "['Too Few Ratings' '20+ ratings' '100+ ratings' '50+ ratings'\n",
            " '500+ ratings' '1K+ ratings']\n",
            "The top 5 most popular restaurants in Pune listed on Swiggy are -> \n"
          ]
        },
        {
          "output_type": "execute_result",
          "data": {
            "text/plain": [
              "'<table>\\n<thead>\\n<tr><th style=\"text-align: right;\">      </th><th>restaurant              </th><th style=\"text-align: right;\">  rating</th><th>rating_count  </th></tr>\\n</thead>\\n<tbody>\\n<tr><td style=\"text-align: right;\">122959</td><td>Sheetal Restaurant      </td><td style=\"text-align: right;\">     4.5</td><td>1K+ ratings   </td></tr>\\n<tr><td style=\"text-align: right;\">125303</td><td>Theobroma               </td><td style=\"text-align: right;\">     4.5</td><td>1K+ ratings   </td></tr>\\n<tr><td style=\"text-align: right;\">130056</td><td>Irani Cafe              </td><td style=\"text-align: right;\">     4.5</td><td>1K+ ratings   </td></tr>\\n<tr><td style=\"text-align: right;\">132835</td><td>Kalika Dairy &amp; Sweets   </td><td style=\"text-align: right;\">     4.5</td><td>1K+ ratings   </td></tr>\\n<tr><td style=\"text-align: right;\">121815</td><td>Fun Food-Taste of Indore</td><td style=\"text-align: right;\">     4.4</td><td>1K+ ratings   </td></tr>\\n</tbody>\\n</table>'"
            ],
            "text/html": [
              "<table>\n",
              "<thead>\n",
              "<tr><th style=\"text-align: right;\">      </th><th>restaurant              </th><th style=\"text-align: right;\">  rating</th><th>rating_count  </th></tr>\n",
              "</thead>\n",
              "<tbody>\n",
              "<tr><td style=\"text-align: right;\">122959</td><td>Sheetal Restaurant      </td><td style=\"text-align: right;\">     4.5</td><td>1K+ ratings   </td></tr>\n",
              "<tr><td style=\"text-align: right;\">125303</td><td>Theobroma               </td><td style=\"text-align: right;\">     4.5</td><td>1K+ ratings   </td></tr>\n",
              "<tr><td style=\"text-align: right;\">130056</td><td>Irani Cafe              </td><td style=\"text-align: right;\">     4.5</td><td>1K+ ratings   </td></tr>\n",
              "<tr><td style=\"text-align: right;\">132835</td><td>Kalika Dairy &amp; Sweets   </td><td style=\"text-align: right;\">     4.5</td><td>1K+ ratings   </td></tr>\n",
              "<tr><td style=\"text-align: right;\">121815</td><td>Fun Food-Taste of Indore</td><td style=\"text-align: right;\">     4.4</td><td>1K+ ratings   </td></tr>\n",
              "</tbody>\n",
              "</table>"
            ],
            "application/vnd.google.colaboratory.intrinsic+json": {
              "type": "string"
            }
          },
          "metadata": {},
          "execution_count": 49
        }
      ],
      "source": [
        "# get all all restaurants in Pune\n",
        "pune_rest = df[df['city'] == 'Pune']\n",
        "# find all the unique rating counts\n",
        "rating_unique = pune_rest['rating_count'].unique()\n",
        "print(rating_unique)\n",
        "# Assign a new column based on rating_count rank with\n",
        "# 1K+ being the highest and NA being the lowest\n",
        "rating_rank(pune_rest)\n",
        "# sort the table with newly created rating-rank and rank with top 5 pop values with highest rating first\n",
        "pop_rest = pune_rest.sort_values(by=['rating_rank','rating'],ascending=False).head(5)\n",
        "print(\"The top 5 most popular restaurants in Pune listed on Swiggy are -> \")\n",
        "# show(pop_rest[['restaurant','rating','rating_count']])\n",
        "tabulate(pop_rest[['restaurant','rating','rating_count']], headers = 'keys', tablefmt = 'html')"
      ]
    },
    {
      "cell_type": "markdown",
      "metadata": {
        "id": "Q1F2qfn9M6cu"
      },
      "source": [
        "### Sub region of Least expensive restaurant in Delhi"
      ]
    },
    {
      "cell_type": "code",
      "execution_count": 50,
      "metadata": {
        "colab": {
          "base_uri": "https://localhost:8080/",
          "height": 71
        },
        "id": "iQregWlLM6cu",
        "outputId": "1de80fb2-dbee-49ec-9aa1-fbcc69dce067"
      },
      "outputs": [
        {
          "output_type": "execute_result",
          "data": {
            "text/plain": [
              "'<table>\\n<thead>\\n<tr><th style=\"text-align: right;\">     </th><th>restaurant   </th><th>sub_region  </th><th style=\"text-align: right;\">  cost</th></tr>\\n</thead>\\n<tbody>\\n<tr><td style=\"text-align: right;\">48094</td><td>Royal kitchen</td><td>GTB Nagar   </td><td style=\"text-align: right;\">     2</td></tr>\\n</tbody>\\n</table>'"
            ],
            "text/html": [
              "<table>\n",
              "<thead>\n",
              "<tr><th style=\"text-align: right;\">     </th><th>restaurant   </th><th>sub_region  </th><th style=\"text-align: right;\">  cost</th></tr>\n",
              "</thead>\n",
              "<tbody>\n",
              "<tr><td style=\"text-align: right;\">48094</td><td>Royal kitchen</td><td>GTB Nagar   </td><td style=\"text-align: right;\">     2</td></tr>\n",
              "</tbody>\n",
              "</table>"
            ],
            "application/vnd.google.colaboratory.intrinsic+json": {
              "type": "string"
            }
          },
          "metadata": {},
          "execution_count": 50
        }
      ],
      "source": [
        "# previously got all restaurants in delhi saved in delhi_rest\n",
        "delhi_rest = df[df['city'] == 'Delhi']\n",
        "# remove reataurants with NA values\n",
        "delhi_rest = delhi_rest[delhi_rest['restaurant'] != 'NA']\n",
        "# to make sure we have good values choose restaurants with some rating values.\n",
        "delhi_rest = delhi_rest[delhi_rest['rating'] != '--']\n",
        "M = delhi_rest.sort_values(by=['cost'],ascending=True).head(1)\n",
        "# show(M[['restaurant','sub_region','cost']])\n",
        "tabulate(M[['restaurant','sub_region','cost']], headers = 'keys', tablefmt = 'html')"
      ]
    },
    {
      "cell_type": "code",
      "source": [
        "print(\"The least expensive restaurant in Delhi listed on Swiggy with cost of two (₹{}) is {} and lies in {} subregion.\".format(list(M['cost'])[0],list(M['restaurant'])[0],list(M['sub_region'])[0]))"
      ],
      "metadata": {
        "colab": {
          "base_uri": "https://localhost:8080/"
        },
        "id": "mfQY6iI97FRB",
        "outputId": "961a975b-8307-45a0-cda3-03014f87cc97"
      },
      "execution_count": 51,
      "outputs": [
        {
          "output_type": "stream",
          "name": "stdout",
          "text": [
            "The least expensive restaurant in Delhi listed on Swiggy with cost of two (₹2.0) is Royal kitchen and lies in GTB Nagar subregion.\n"
          ]
        }
      ]
    },
    {
      "cell_type": "markdown",
      "metadata": {
        "id": "RBEotY0MM6cu"
      },
      "source": [
        "### Top 5 most popular restaurant chains in India"
      ]
    },
    {
      "cell_type": "code",
      "execution_count": 52,
      "metadata": {
        "colab": {
          "base_uri": "https://localhost:8080/"
        },
        "id": "JzyL4Z2TM6cu",
        "outputId": "aa93f480-99cc-4147-fe07-fef0943c56fe"
      },
      "outputs": [
        {
          "output_type": "stream",
          "name": "stdout",
          "text": [
            "Top 5 most popular restaurants chains in India are ->\n",
            "Domino's Pizza                                     443\n",
            "Pizza Hut                                          319\n",
            "KFC                                                309\n",
            "Kwality Walls Frozen Dessert and Ice Cream Shop    300\n",
            "Baskin Robbins                                     276\n",
            "Name: No_of_outlets, dtype: int64\n"
          ]
        }
      ],
      "source": [
        "# First let's divide restaurants into chains and single-outlets restaurants\n",
        "rest_outlet = df['restaurant'].value_counts() # gives us count of all unique restaurant outlets\n",
        "# print(rest)\n",
        "single_outlet = rest_outlet[rest_outlet == 1]\n",
        "# print(single_outlet)\n",
        "chains = rest_outlet[rest_outlet >= 2]\n",
        "# top 5 most popular\n",
        "print(\"Top 5 most popular restaurants chains in India are ->\")\n",
        "chains.rename('No_of_outlets',inplace=True)\n",
        "# show(chains.head(5))\n",
        "# tabulate(chains.head(5), headers = 'keys', tablefmt = 'html')\n",
        "print(chains.head(5))"
      ]
    },
    {
      "cell_type": "markdown",
      "metadata": {
        "id": "yoanuiGiM6cu"
      },
      "source": [
        "### Restaurant with most number of people visited in city of Pune"
      ]
    },
    {
      "cell_type": "code",
      "execution_count": 53,
      "metadata": {
        "colab": {
          "base_uri": "https://localhost:8080/",
          "height": 125
        },
        "id": "_Mdq4YyqM6cu",
        "outputId": "ca6c555a-017c-4a22-945c-b377fbb06d2b"
      },
      "outputs": [
        {
          "output_type": "stream",
          "name": "stdout",
          "text": [
            "['Too Few Ratings' '20+ ratings' '100+ ratings' '50+ ratings'\n",
            " '500+ ratings' '1K+ ratings']\n",
            "In the city of Pune the most visited restaurant is ->\n"
          ]
        },
        {
          "output_type": "execute_result",
          "data": {
            "text/plain": [
              "'<table>\\n<thead>\\n<tr><th style=\"text-align: right;\">      </th><th>restaurant        </th><th>rating_count  </th><th style=\"text-align: right;\">  rating</th></tr>\\n</thead>\\n<tbody>\\n<tr><td style=\"text-align: right;\">122959</td><td>Sheetal Restaurant</td><td>1K+ ratings   </td><td style=\"text-align: right;\">     4.5</td></tr>\\n</tbody>\\n</table>'"
            ],
            "text/html": [
              "<table>\n",
              "<thead>\n",
              "<tr><th style=\"text-align: right;\">      </th><th>restaurant        </th><th>rating_count  </th><th style=\"text-align: right;\">  rating</th></tr>\n",
              "</thead>\n",
              "<tbody>\n",
              "<tr><td style=\"text-align: right;\">122959</td><td>Sheetal Restaurant</td><td>1K+ ratings   </td><td style=\"text-align: right;\">     4.5</td></tr>\n",
              "</tbody>\n",
              "</table>"
            ],
            "application/vnd.google.colaboratory.intrinsic+json": {
              "type": "string"
            }
          },
          "metadata": {},
          "execution_count": 53
        }
      ],
      "source": [
        "# this question is similar to Q8\n",
        "# in our case most visited would be probably be correlated to most reviewed.\n",
        "# get all all restaurants in Pune\n",
        "pune_rest = df[df['city'] == 'Pune']\n",
        "# find all the unique rating counts\n",
        "rating_unique = pune_rest['rating_count'].unique()\n",
        "print(rating_unique)\n",
        "# From the list above assign a new column based on rating_count rank with\n",
        "# 1K+ being the highest and NA being the lowest\n",
        "rating_rank(pune_rest)\n",
        "# sort the table with newly created rating-rank and rank with top 5 pop values with highest rating first\n",
        "pop_rest = pune_rest.sort_values(by=['rating_rank','rating'],ascending=False).head(1)\n",
        "print(\"In the city of Pune the most visited restaurant is ->\")\n",
        "# show(pop_rest[['restaurant','rating_count','rating']])\n",
        "tabulate(pop_rest[['restaurant','rating_count','rating']], headers = 'keys', tablefmt = 'html')"
      ]
    },
    {
      "cell_type": "markdown",
      "metadata": {
        "id": "rQYDGNtvM6cv"
      },
      "source": [
        "### Top 10 Restaurants with Maximum Ratings in Bangalore"
      ]
    },
    {
      "cell_type": "code",
      "execution_count": 54,
      "metadata": {
        "colab": {
          "base_uri": "https://localhost:8080/",
          "height": 178
        },
        "id": "SeXE96CUM6cv",
        "outputId": "a917374c-c46c-4d49-891c-bc719bfc36ff"
      },
      "outputs": [
        {
          "output_type": "stream",
          "name": "stdout",
          "text": [
            "Top 10 Restaurants with Maximum Ratings in Bangalore are ->\n"
          ]
        },
        {
          "output_type": "execute_result",
          "data": {
            "text/plain": [
              "'<table>\\n<thead>\\n<tr><th style=\"text-align: right;\">     </th><th>restaurant                                 </th><th style=\"text-align: right;\">  rating</th><th>rating_count  </th></tr>\\n</thead>\\n<tbody>\\n<tr><td style=\"text-align: right;\">12157</td><td>HUNGER TREATS                              </td><td style=\"text-align: right;\">       5</td><td>50+ ratings   </td></tr>\\n<tr><td style=\"text-align: right;\"> 9769</td><td>Creams and Bites                           </td><td style=\"text-align: right;\">       5</td><td>20+ ratings   </td></tr>\\n<tr><td style=\"text-align: right;\"> 9819</td><td>Bansal&#x27;s Thali &amp; Combo Meals               </td><td style=\"text-align: right;\">       5</td><td>20+ ratings   </td></tr>\\n<tr><td style=\"text-align: right;\">10251</td><td>GOWHEY- HEALTHY DESSERT COMPANY            </td><td style=\"text-align: right;\">       5</td><td>20+ ratings   </td></tr>\\n<tr><td style=\"text-align: right;\">10701</td><td>JUST CREAMERY - Artisanal Healthy Ice Cream</td><td style=\"text-align: right;\">       5</td><td>20+ ratings   </td></tr>\\n<tr><td style=\"text-align: right;\">11195</td><td>The Chinese Connection                     </td><td style=\"text-align: right;\">       5</td><td>20+ ratings   </td></tr>\\n<tr><td style=\"text-align: right;\">11908</td><td>HRX by Eatfit                              </td><td style=\"text-align: right;\">       5</td><td>20+ ratings   </td></tr>\\n<tr><td style=\"text-align: right;\">12181</td><td>Snack Ride                                 </td><td style=\"text-align: right;\">       5</td><td>20+ ratings   </td></tr>\\n<tr><td style=\"text-align: right;\">12950</td><td>JUST CREAMERY - Artisanal Healthy Ice Cream</td><td style=\"text-align: right;\">       5</td><td>20+ ratings   </td></tr>\\n<tr><td style=\"text-align: right;\">13072</td><td>Fresh crunch pizza                         </td><td style=\"text-align: right;\">       5</td><td>20+ ratings   </td></tr>\\n</tbody>\\n</table>'"
            ],
            "text/html": [
              "<table>\n",
              "<thead>\n",
              "<tr><th style=\"text-align: right;\">     </th><th>restaurant                                 </th><th style=\"text-align: right;\">  rating</th><th>rating_count  </th></tr>\n",
              "</thead>\n",
              "<tbody>\n",
              "<tr><td style=\"text-align: right;\">12157</td><td>HUNGER TREATS                              </td><td style=\"text-align: right;\">       5</td><td>50+ ratings   </td></tr>\n",
              "<tr><td style=\"text-align: right;\"> 9769</td><td>Creams and Bites                           </td><td style=\"text-align: right;\">       5</td><td>20+ ratings   </td></tr>\n",
              "<tr><td style=\"text-align: right;\"> 9819</td><td>Bansal&#x27;s Thali &amp; Combo Meals               </td><td style=\"text-align: right;\">       5</td><td>20+ ratings   </td></tr>\n",
              "<tr><td style=\"text-align: right;\">10251</td><td>GOWHEY- HEALTHY DESSERT COMPANY            </td><td style=\"text-align: right;\">       5</td><td>20+ ratings   </td></tr>\n",
              "<tr><td style=\"text-align: right;\">10701</td><td>JUST CREAMERY - Artisanal Healthy Ice Cream</td><td style=\"text-align: right;\">       5</td><td>20+ ratings   </td></tr>\n",
              "<tr><td style=\"text-align: right;\">11195</td><td>The Chinese Connection                     </td><td style=\"text-align: right;\">       5</td><td>20+ ratings   </td></tr>\n",
              "<tr><td style=\"text-align: right;\">11908</td><td>HRX by Eatfit                              </td><td style=\"text-align: right;\">       5</td><td>20+ ratings   </td></tr>\n",
              "<tr><td style=\"text-align: right;\">12181</td><td>Snack Ride                                 </td><td style=\"text-align: right;\">       5</td><td>20+ ratings   </td></tr>\n",
              "<tr><td style=\"text-align: right;\">12950</td><td>JUST CREAMERY - Artisanal Healthy Ice Cream</td><td style=\"text-align: right;\">       5</td><td>20+ ratings   </td></tr>\n",
              "<tr><td style=\"text-align: right;\">13072</td><td>Fresh crunch pizza                         </td><td style=\"text-align: right;\">       5</td><td>20+ ratings   </td></tr>\n",
              "</tbody>\n",
              "</table>"
            ],
            "application/vnd.google.colaboratory.intrinsic+json": {
              "type": "string"
            }
          },
          "metadata": {},
          "execution_count": 54
        }
      ],
      "source": [
        "# first exclude all restaurants with too few ratings\n",
        "df_ratings = df[df['rating_count']!='Too Few Ratings']\n",
        "# convert str column to float\n",
        "df_ratings['rating'] = pd.to_numeric(df_ratings['rating'], errors='coerce')\n",
        "# get all all restaurants in Bangalore\n",
        "bang_rest = df_ratings[df_ratings['city'] == 'Bangalore']\n",
        "rating_rank(bang_rest)\n",
        "max_ratings = bang_rest.sort_values(by=['rating','rating_rank'],ascending=False).head(10)\n",
        "print(\"Top 10 Restaurants with Maximum Ratings in Bangalore are ->\")\n",
        "# show(max_ratings[['restaurant','rating','rating_count']])\n",
        "tabulate(max_ratings[['restaurant','rating','rating_count']], headers = 'keys', tablefmt = 'html')"
      ]
    },
    {
      "cell_type": "markdown",
      "metadata": {
        "id": "susQeRpIM6cv"
      },
      "source": [
        "### Top 10 Restaurant in Patna w.r.t rating"
      ]
    },
    {
      "cell_type": "code",
      "execution_count": 55,
      "metadata": {
        "colab": {
          "base_uri": "https://localhost:8080/",
          "height": 178
        },
        "id": "Q9WlYBXzM6cv",
        "outputId": "9badc034-0d02-45f4-e243-118022703fce"
      },
      "outputs": [
        {
          "output_type": "stream",
          "name": "stdout",
          "text": [
            "Top 10 Restaurants with Maximum Ratings in Patna are ->\n"
          ]
        },
        {
          "output_type": "execute_result",
          "data": {
            "text/plain": [
              "'<table>\\n<thead>\\n<tr><th style=\"text-align: right;\">      </th><th>restaurant                                     </th><th style=\"text-align: right;\">  rating</th><th>rating_count  </th></tr>\\n</thead>\\n<tbody>\\n<tr><td style=\"text-align: right;\">119347</td><td>Kwality Walls Frozen Dessert and Ice Cream Shop</td><td style=\"text-align: right;\">     4.6</td><td>1K+ ratings   </td></tr>\\n<tr><td style=\"text-align: right;\">119547</td><td>Slurpy Shakes                                  </td><td style=\"text-align: right;\">     4.6</td><td>50+ ratings   </td></tr>\\n<tr><td style=\"text-align: right;\">119535</td><td>Kouzina Kafe The Food Court                    </td><td style=\"text-align: right;\">     4.5</td><td>50+ ratings   </td></tr>\\n<tr><td style=\"text-align: right;\">119836</td><td>GARAGE KITCHEN                                 </td><td style=\"text-align: right;\">     4.5</td><td>50+ ratings   </td></tr>\\n<tr><td style=\"text-align: right;\">119581</td><td>Cupcake Bliss Cake &amp; Desserts                  </td><td style=\"text-align: right;\">     4.5</td><td>20+ ratings   </td></tr>\\n<tr><td style=\"text-align: right;\">119604</td><td>Burger It Up                                   </td><td style=\"text-align: right;\">     4.5</td><td>20+ ratings   </td></tr>\\n<tr><td style=\"text-align: right;\">119553</td><td>Indiana Burgers                                </td><td style=\"text-align: right;\">     4.4</td><td>50+ ratings   </td></tr>\\n<tr><td style=\"text-align: right;\">119564</td><td>The Dessert Zone                               </td><td style=\"text-align: right;\">     4.4</td><td>50+ ratings   </td></tr>\\n<tr><td style=\"text-align: right;\">119790</td><td>KINGDOM OF MOMOS                               </td><td style=\"text-align: right;\">     4.4</td><td>50+ ratings   </td></tr>\\n<tr><td style=\"text-align: right;\">119613</td><td>Pure Veg Meals by Lunchbox                     </td><td style=\"text-align: right;\">     4.4</td><td>20+ ratings   </td></tr>\\n</tbody>\\n</table>'"
            ],
            "text/html": [
              "<table>\n",
              "<thead>\n",
              "<tr><th style=\"text-align: right;\">      </th><th>restaurant                                     </th><th style=\"text-align: right;\">  rating</th><th>rating_count  </th></tr>\n",
              "</thead>\n",
              "<tbody>\n",
              "<tr><td style=\"text-align: right;\">119347</td><td>Kwality Walls Frozen Dessert and Ice Cream Shop</td><td style=\"text-align: right;\">     4.6</td><td>1K+ ratings   </td></tr>\n",
              "<tr><td style=\"text-align: right;\">119547</td><td>Slurpy Shakes                                  </td><td style=\"text-align: right;\">     4.6</td><td>50+ ratings   </td></tr>\n",
              "<tr><td style=\"text-align: right;\">119535</td><td>Kouzina Kafe The Food Court                    </td><td style=\"text-align: right;\">     4.5</td><td>50+ ratings   </td></tr>\n",
              "<tr><td style=\"text-align: right;\">119836</td><td>GARAGE KITCHEN                                 </td><td style=\"text-align: right;\">     4.5</td><td>50+ ratings   </td></tr>\n",
              "<tr><td style=\"text-align: right;\">119581</td><td>Cupcake Bliss Cake &amp; Desserts                  </td><td style=\"text-align: right;\">     4.5</td><td>20+ ratings   </td></tr>\n",
              "<tr><td style=\"text-align: right;\">119604</td><td>Burger It Up                                   </td><td style=\"text-align: right;\">     4.5</td><td>20+ ratings   </td></tr>\n",
              "<tr><td style=\"text-align: right;\">119553</td><td>Indiana Burgers                                </td><td style=\"text-align: right;\">     4.4</td><td>50+ ratings   </td></tr>\n",
              "<tr><td style=\"text-align: right;\">119564</td><td>The Dessert Zone                               </td><td style=\"text-align: right;\">     4.4</td><td>50+ ratings   </td></tr>\n",
              "<tr><td style=\"text-align: right;\">119790</td><td>KINGDOM OF MOMOS                               </td><td style=\"text-align: right;\">     4.4</td><td>50+ ratings   </td></tr>\n",
              "<tr><td style=\"text-align: right;\">119613</td><td>Pure Veg Meals by Lunchbox                     </td><td style=\"text-align: right;\">     4.4</td><td>20+ ratings   </td></tr>\n",
              "</tbody>\n",
              "</table>"
            ],
            "application/vnd.google.colaboratory.intrinsic+json": {
              "type": "string"
            }
          },
          "metadata": {},
          "execution_count": 55
        }
      ],
      "source": [
        "# first exclude all restaurants with too few ratings\n",
        "df_ratings = df[df['rating_count']!='Too Few Ratings']\n",
        "# convert str column to float\n",
        "df_ratings['rating'] = pd.to_numeric(df_ratings['rating'], errors='coerce')\n",
        "patna_rest = df_ratings[df_ratings['city'] == 'Patna']\n",
        "rating_rank(patna_rest)\n",
        "max_ratings = patna_rest.sort_values(by=['rating','rating_rank'],ascending=False).head(10)\n",
        "print(\"Top 10 Restaurants with Maximum Ratings in Patna are ->\")\n",
        "# show(max_ratings[['restaurant','rating','rating_count']])\n",
        "tabulate(max_ratings[['restaurant','rating','rating_count']], headers = 'keys', tablefmt = 'html')"
      ]
    }
  ],
  "metadata": {
    "kernelspec": {
      "display_name": "Python 3",
      "language": "python",
      "name": "python3"
    },
    "language_info": {
      "codemirror_mode": {
        "name": "ipython",
        "version": 3
      },
      "file_extension": ".py",
      "mimetype": "text/x-python",
      "name": "python",
      "nbconvert_exporter": "python",
      "pygments_lexer": "ipython3",
      "version": "3.7.5"
    },
    "colab": {
      "provenance": [],
      "include_colab_link": true
    }
  },
  "nbformat": 4,
  "nbformat_minor": 0
}