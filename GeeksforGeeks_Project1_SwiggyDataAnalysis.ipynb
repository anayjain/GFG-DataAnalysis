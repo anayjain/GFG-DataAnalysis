{
  "cells": [
    {
      "cell_type": "markdown",
      "metadata": {
        "id": "view-in-github",
        "colab_type": "text"
      },
      "source": [
        "<a href=\"https://colab.research.google.com/github/anayjain/GFG-DataAnalysis/blob/main/GeeksforGeeks_Project1_SwiggyDataAnalysis.ipynb\" target=\"_parent\"><img src=\"https://colab.research.google.com/assets/colab-badge.svg\" alt=\"Open In Colab\"/></a>"
      ]
    },
    {
      "cell_type": "markdown",
      "metadata": {
        "id": "FOBejg8jM6co"
      },
      "source": [
        "# Project Name: Swiggy Restaurants Data Analysis\n"
      ]
    },
    {
      "cell_type": "markdown",
      "metadata": {
        "id": "TxhBjM8CM6cp"
      },
      "source": [
        "### Problem Statement:\n",
        "1.   How many cities (including subregions) where Swiggy is having its restaurants listed?\n",
        "2.   How many cities  (don't include subregions) where Swiggy is having their restaurants listed?\n",
        "3.   The Subregion of Delhi with the maximum number of restaurants listed on Swiggy?\n",
        "4.   Name the top 5 Most Expensive Cities in the Datasets.\n",
        "5.   List out the top 5 Restaurants with Maximum & minimum ratings throughout the dataset.\n",
        "6.   Name of top 5 cities with the highest number of restaurants listed.\n",
        "7.   Top 10 cities as per the number of restaurants listed?\n",
        "8.   Name the top 5 Most Popular Restaurants in Pune.\n",
        "9.   Which SubRegion in Delhi is having the least expensive restaurant in terms of cost?\n",
        "10.  Top 5 most popular restaurant chains in India?\n",
        "11.  Which restaurant in Pune has the most number of people visiting?\n",
        "12.  Top 10 Restaurants with Maximum Ratings in Banglore\n",
        "13.  Top 10 Restaurant in Patna w.r.t rating\n",
        "\n",
        "Dataset link: [Swiggy Data](https://drive.google.com/file/d/1MCnCNHJXxc97EYwIdBszOkEBusu9FpCa/view)"
      ]
    },
    {
      "cell_type": "code",
      "source": [
        "from google.colab import drive\n",
        "drive.mount('/content/drive')"
      ],
      "metadata": {
        "colab": {
          "base_uri": "https://localhost:8080/"
        },
        "id": "tf-WhFPRM9bq",
        "outputId": "536a578e-6419-455d-93b9-afe74d5bf7a7"
      },
      "execution_count": 1,
      "outputs": [
        {
          "output_type": "stream",
          "name": "stdout",
          "text": [
            "Mounted at /content/drive\n"
          ]
        }
      ]
    },
    {
      "cell_type": "code",
      "source": [
        "!pip3 install itables\n",
        "from itables import show\n",
        "import numpy as np\n",
        "from tabulate import tabulate\n",
        "\n",
        "import json\n",
        "import pandas as pd"
      ],
      "metadata": {
        "id": "hpYFmAn4O3wj"
      },
      "execution_count": null,
      "outputs": []
    },
    {
      "cell_type": "markdown",
      "metadata": {
        "id": "4sm2sLiqM6cp"
      },
      "source": [
        "### Download data and cleansing data"
      ]
    },
    {
      "cell_type": "markdown",
      "source": [
        "Save data.json file in your local google drive using this [shareable link](https://drive.google.com/file/d/1ck3s3JSW-Sql5xpuvxFATJ6iDfHadkhp/view?usp=sharing)."
      ],
      "metadata": {
        "id": "6YwowmtO3yd4"
      }
    },
    {
      "cell_type": "code",
      "execution_count": 3,
      "metadata": {
        "id": "8kkVLSXZM6cq"
      },
      "outputs": [],
      "source": [
        "with open('./drive/MyDrive/data.json', 'r') as f:\n",
        "    data = json.load(f)"
      ]
    },
    {
      "cell_type": "code",
      "execution_count": 4,
      "metadata": {
        "colab": {
          "base_uri": "https://localhost:8080/"
        },
        "id": "xdBz7rDWM6cq",
        "outputId": "ddae7ebc-1398-418f-a58d-7036a4cd44c3"
      },
      "outputs": [
        {
          "output_type": "stream",
          "name": "stdout",
          "text": [
            "623\n"
          ]
        }
      ],
      "source": [
        "# get all cities that are in the dataset\n",
        "cities = list(data.keys())\n",
        "print(len(cities))\n",
        "# for some cities you notice that there are some cases where restaurants are in special sub-regions\n",
        "for i in cities:\n",
        "    sub = list(data[i].keys())\n",
        "    # print(sub)\n",
        "    # lets check all cities that do not have 'restaurants' as keys\n",
        "#     if 'restaurants' not in sub:\n",
        "#         print(sub)"
      ]
    },
    {
      "cell_type": "code",
      "execution_count": 5,
      "metadata": {
        "id": "-Hx65t6GM6cq"
      },
      "outputs": [],
      "source": [
        "df = pd.DataFrame() # Empty dataframe for the whole dataset\n",
        "for i in cities:\n",
        "    subregions = list(data[i].keys())\n",
        "    # check for all cities with no sub-regions\n",
        "    try:\n",
        "        # get restaurant data for each city\n",
        "        rest = pd.DataFrame(data[i]['restaurants']).T\n",
        "        # add city column for each restaurant\n",
        "        city = [i for x in range(len(rest.index))]\n",
        "        rest['city'] = city\n",
        "        # also add sub-region for each restaurant which is same as city\n",
        "        rest['sub_region'] = city\n",
        "        # Concatenate to main Dataframe\n",
        "        df = pd.concat([df,rest])\n",
        "    # check for all cities with sub-regions\n",
        "    except:\n",
        "        for r in subregions:\n",
        "            # Convert the city-wise restaurant data to pandas Dataframe\n",
        "            rest = pd.DataFrame(data[i][r]['restaurants']).T\n",
        "            # City\n",
        "            city = [i for x in range(len(rest.index))]\n",
        "            # Add City column for each restaurants in that city\n",
        "            rest['city'] = city\n",
        "            # Sub-region\n",
        "            subregion = [r for x in range(len(rest.index))]\n",
        "            # add sub-region column for each restaurants in that city\n",
        "            rest['sub_region'] = subregion\n",
        "            df = pd.concat([df,rest])"
      ]
    },
    {
      "cell_type": "code",
      "execution_count": 6,
      "metadata": {
        "colab": {
          "base_uri": "https://localhost:8080/",
          "height": 247
        },
        "id": "X_ayY3nAM6cr",
        "outputId": "b9e6abd6-087d-40ff-e2d8-211967718122"
      },
      "outputs": [
        {
          "output_type": "display_data",
          "data": {
            "text/plain": [
              "<IPython.core.display.HTML object>"
            ],
            "text/html": [
              "<style>.itables table td {\n",
              "    text-overflow: ellipsis;\n",
              "    overflow: hidden;\n",
              "}\n",
              "\n",
              ".itables table th {\n",
              "    text-overflow: ellipsis;\n",
              "    overflow: hidden;\n",
              "}\n",
              "\n",
              ".itables thead input {\n",
              "    width: 100%;\n",
              "    padding: 3px;\n",
              "    box-sizing: border-box;\n",
              "}\n",
              "\n",
              ".itables tfoot input {\n",
              "    width: 100%;\n",
              "    padding: 3px;\n",
              "    box-sizing: border-box;\n",
              "}\n",
              "</style>\n",
              "<div class=\"itables\">\n",
              "<table id=\"b120c3ca-7583-45a6-a19c-d3399b1ef050\" class=\"display nowrap\"style=\"table-layout:auto;width:auto;margin:auto;caption-side:bottom\"><thead>\n",
              "    <tr style=\"text-align: right;\">\n",
              "      <th></th>\n",
              "      <th>name</th>\n",
              "      <th>rating</th>\n",
              "      <th>rating_count</th>\n",
              "      <th>cost</th>\n",
              "      <th>address</th>\n",
              "      <th>cuisine</th>\n",
              "      <th>lic_no</th>\n",
              "      <th>menu</th>\n",
              "      <th>link</th>\n",
              "      <th>city</th>\n",
              "      <th>sub_region</th>\n",
              "      <th>type</th>\n",
              "      <th>price</th>\n",
              "    </tr>\n",
              "  </thead><tbody><tr><td>Loading... (need <a href=https://mwouts.github.io/itables/troubleshooting.html>help</a>?)</td></tr></tbody></table>\n",
              "<link rel=\"stylesheet\" type=\"text/css\" href=\"https://cdn.datatables.net/1.13.1/css/jquery.dataTables.min.css\">\n",
              "<script type=\"module\">\n",
              "    // Import jquery and DataTable\n",
              "    import 'https://code.jquery.com/jquery-3.6.0.min.js';\n",
              "    import dt from 'https://cdn.datatables.net/1.12.1/js/jquery.dataTables.mjs';\n",
              "    dt($);\n",
              "\n",
              "    // Define the table data\n",
              "    const data = [[\"567335\", \"AB FOODS POINT\", \"--\", \"Too Few Ratings\", \"\\u20b9 200\", \"AB FOODS POINT, NEAR RISHI NARANG DENTAL CLINIC , NEAR IDBI BANK, ABOHAR\", \"Beverages,Pizzas\", \"22122652000138\", \"{'Burger': {'Aloo Tikki Burger': {'price': '40', 'veg_or_non_veg': 'Veg'}, 'Veg Creamy Burger': {'price': '50', 'veg_or_non_veg': 'Veg'}, 'Cheese Burst Burger': {'price': '65', 'veg_or_non_veg': 'Veg'}, 'Paneer Creamy Burger': {'price': '80', 'veg_or_non_veg': 'Veg'}, 'Maxican Burger': {'price': '80', 'veg_or_non_veg': 'Veg'}, 'Bbq Chicken Burger': {'price': '105', 'veg_or_non_veg': 'Non-veg'}, 'Peri Peri Chicken Burger': {'price': '105', 'veg_or_non_veg': 'Non-veg'}}, 'Pasta Must Try': {'White Sauce': {'price': '100', 'veg_or_non_veg': 'Veg'}, 'Red Sauce': {'price': '100', 'veg_or_non_veg': 'Veg'}, 'Pink Sauce': {'price': '125', 'veg_or_non_veg': 'Veg'}, 'Masala Pasta': {'price': '100', 'veg_or_non_veg': 'Veg'}, 'Chicken Pasta': {'price': '125', 'veg_or_non_veg': 'Non-veg'}, 'Egg Pasta': {'price': '125', 'veg_or_non_veg': 'Non-veg'}}, 'Chiness Appetizer': {'Noodles': {'price': '90', 'veg_or_non_veg': 'Veg'}, 'Singapuri Noodles': {'price': '100', 'veg_or_non_veg': 'Veg'}, 'Hakka Noodles': {'price': '90', 'veg_or_non_veg': 'Veg'}, 'Garlic Noodles': {'price': '100', 'veg_or_non_veg': 'Veg'}, 'Paneer Noodles': {'price': '120', 'veg_or_non_veg': 'Veg'}, 'Dry Manchurian': {'price': '190', 'veg_or_non_veg': 'Veg'}, 'Gravy Manchurian': {'price': '200', 'veg_or_non_veg': 'Veg'}, 'Cheese Chilly Dry': {'price': '250', 'veg_or_non_veg': 'Veg'}, 'Cheese Chilly Gravy': {'price': '250', 'veg_or_non_veg': 'Veg'}, 'Egg Chilly': {'price': '220', 'veg_or_non_veg': 'Non-veg'}, 'Chicken Chilly': {'price': '260', 'veg_or_non_veg': 'Non-veg'}, 'Spring Roll [2pc]': {'price': '100', 'veg_or_non_veg': 'Veg'}, 'Momos [8pc]': {'price': '65', 'veg_or_non_veg': 'Veg'}, 'Honey Chilly Patato': {'price': '165', 'veg_or_non_veg': 'Veg'}, 'Honey Chilly Cauliflower': {'price': '165', 'veg_or_non_veg': 'Veg'}, 'Veg Fried Rice': {'price': '125', 'veg_or_non_veg': 'Veg'}, 'Chicken Fried Rice': {'price': '150', 'veg_or_non_veg': 'Non-veg'}}, 'Fried Chicken': {'Kfc Fried Chicken': {'price': '250', 'veg_or_non_veg': 'Non-veg'}, 'Fried Chicken': {'price': '260', 'veg_or_non_veg': 'Non-veg'}}, 'Sandwich': {'Veg Mayo Sandwich': {'price': '65', 'veg_or_non_veg': 'Veg'}, 'Veg Creamy Sandwich': {'price': '80', 'veg_or_non_veg': 'Veg'}, 'Bombay Sandwich': {'price': '90', 'veg_or_non_veg': 'Veg'}, 'Paneer Tikka Sandwich': {'price': '100', 'veg_or_non_veg': 'Veg'}, 'Chicken Sandwich': {'price': '125', 'veg_or_non_veg': 'Non-veg'}, 'Peri Peri Sandwich': {'price': '120', 'veg_or_non_veg': 'Veg'}, 'Egg Sandwich': {'price': '120', 'veg_or_non_veg': 'Non-veg'}}, 'Fries': {'Classical Fries': {'price': '65', 'veg_or_non_veg': 'Veg'}, 'Red Chilli Papper': {'price': '80', 'veg_or_non_veg': 'Veg'}, 'Creamy Fries': {'price': '90', 'veg_or_non_veg': 'Veg'}, 'Peri Peri Fries': {'price': '90', 'veg_or_non_veg': 'Veg'}}, 'Roll & Wrapes': {'Egg Roll': {'price': '80', 'veg_or_non_veg': 'Non-veg'}, 'Veg Roll': {'price': '80', 'veg_or_non_veg': 'Veg'}, 'Paneer Roll': {'price': '90', 'veg_or_non_veg': 'Veg'}, 'Chicken Roll': {'price': '100', 'veg_or_non_veg': 'Non-veg'}, 'Egg Chicken Roll [Double]': {'price': '120', 'veg_or_non_veg': 'Non-veg'}, 'Veg Wrapes': {'price': '100', 'veg_or_non_veg': 'Veg'}, 'Paneer Wrapes': {'price': '120', 'veg_or_non_veg': 'Veg'}, 'Peri Peri Chicken Wrapes': {'price': '125', 'veg_or_non_veg': 'Non-veg'}, 'Egg Wrapes': {'price': '125', 'veg_or_non_veg': 'Non-veg'}}, 'Garlic Bread': {'Simple Garlic Bread': {'price': '65', 'veg_or_non_veg': 'Veg'}, 'Veg Garlic Bread': {'price': '80', 'veg_or_non_veg': 'Veg'}, 'Stuff Garlic Bread': {'price': '120', 'veg_or_non_veg': 'Veg'}, '2 Alao Prantha + Dahi': {'price': '65', 'veg_or_non_veg': 'Veg'}}, 'Prantha': {'Bhature': {'price': '65', 'veg_or_non_veg': 'Veg'}, 'Spl Tiffen [Desi Ghee]': {'price': '90', 'veg_or_non_veg': 'Veg'}, 'Piyaz Prantha Dahi': {'price': '65', 'veg_or_non_veg': 'Veg'}, 'Paneer Prantha + Dahi': {'price': '90', 'veg_or_non_veg': 'Veg'}}, 'Stuff Kulcha': {'Veg Kulcha': {'price': '40', 'veg_or_non_veg': 'Veg'}, 'Veg Mayo Kulcha': {'price': '50', 'veg_or_non_veg': 'Veg'}, 'Masala Kulcha': {'price': '60', 'veg_or_non_veg': 'Veg'}, 'Paneer Kulcha': {'price': '65', 'veg_or_non_veg': 'Veg'}, 'Makhni Kulcha': {'price': '65', 'veg_or_non_veg': 'Veg'}}, 'Maggie & Pav Bhaji': {'Masala Maggie 2 Packet': {'price': '80', 'veg_or_non_veg': 'Veg'}, 'Veg Maggie 2 Packet': {'price': '90', 'veg_or_non_veg': 'Veg'}, 'Tandoori Maggie 2 Packet': {'price': '100', 'veg_or_non_veg': 'Veg'}, 'Chicken Maggie': {'price': '125', 'veg_or_non_veg': 'Non-veg'}, 'Creamy Maggie': {'price': '125', 'veg_or_non_veg': 'Veg'}, 'Egg Maggie': {'price': '125', 'veg_or_non_veg': 'Non-veg'}, 'Pav Bhaji': {'price': '90', 'veg_or_non_veg': 'Veg'}, 'Creamy Pav Bhaji': {'price': '100', 'veg_or_non_veg': 'Veg'}}, 'Mocktails & Cooler': {'Virgin Moijto': {'price': '80', 'veg_or_non_veg': 'Veg'}, 'Blue Curracco': {'price': '90', 'veg_or_non_veg': 'Veg'}, 'Green Apple': {'price': '90', 'veg_or_non_veg': 'Veg'}, 'Pinacolado': {'price': '100', 'veg_or_non_veg': 'Veg'}, 'X Mass Punch': {'price': '100', 'veg_or_non_veg': 'Veg'}, 'Masala Coke': {'price': '65', 'veg_or_non_veg': 'Veg'}, 'Jaljeera': {'price': '65', 'veg_or_non_veg': 'Veg'}}, 'Fresh Dough Regular Pizza': {'Margherita Pizza': {'price': '155', 'veg_or_non_veg': 'Veg'}, 'Cheese Margherita [Double]': {'price': '180', 'veg_or_non_veg': 'Veg'}, 'Capcicum Onion Pizza': {'price': '125', 'veg_or_non_veg': 'Veg'}, 'Mashroom Corn Pizza': {'price': '125', 'veg_or_non_veg': 'Veg'}, 'Only Corn Pizza': {'price': '125', 'veg_or_non_veg': 'Veg'}, 'Only Onion Pizza': {'price': '125', 'veg_or_non_veg': 'Veg'}, 'Onion Olive Pizza': {'price': '125', 'veg_or_non_veg': 'Veg'}}, 'Shakes': {'Vanila Shake': {'price': '100', 'veg_or_non_veg': 'Veg'}, 'Choclate Shake': {'price': '100', 'veg_or_non_veg': 'Veg'}, 'Staweberry Shake': {'price': '100', 'veg_or_non_veg': 'Veg'}, 'Oreo Shake': {'price': '90', 'veg_or_non_veg': 'Veg'}, 'Butter Scotch Shake': {'price': '90', 'veg_or_non_veg': 'Veg'}, 'Banana Shake': {'price': '90', 'veg_or_non_veg': 'Veg'}, 'Pineapple Shake': {'price': '90', 'veg_or_non_veg': 'Veg'}, 'Mango Shake': {'price': '90', 'veg_or_non_veg': 'Veg'}, 'Blue Berry Shake': {'price': '100', 'veg_or_non_veg': 'Veg'}, 'Nutela Shake': {'price': '100', 'veg_or_non_veg': 'Veg'}, 'Kit Kat Shake': {'price': '110', 'veg_or_non_veg': 'Veg'}}, 'Thick Shake': {'Kit   K at Shake': {'price': '120', 'veg_or_non_veg': 'Veg'}, 'Staweberry Oreo Shake': {'price': '120', 'veg_or_non_veg': 'Veg'}, 'Black Current Shake': {'price': '120', 'veg_or_non_veg': 'Veg'}, 'Brownie Shake': {'price': '120', 'veg_or_non_veg': 'Veg'}}, 'Large Pizza': {'Paneer Tikka Pizza': {'price': '230', 'veg_or_non_veg': 'Veg'}, 'Spicy Paneer Pizza': {'price': '230', 'veg_or_non_veg': 'Veg'}, 'Farm House Pizza': {'price': '300', 'veg_or_non_veg': 'Veg'}, 'Country Feast Pizza': {'price': '300', 'veg_or_non_veg': 'Veg'}, 'Paneer Makhni Pizza': {'price': '250', 'veg_or_non_veg': 'Veg'}, 'Otc Onion Tamato Corn Pizza': {'price': '230', 'veg_or_non_veg': 'Veg'}, 'Chicken Pizza': {'price': '300', 'veg_or_non_veg': 'Non-veg'}, 'Peri Peri Paneer Pizza': {'price': '250', 'veg_or_non_veg': 'Veg'}, 'Egg Pizza': {'price': '250', 'veg_or_non_veg': 'Non-veg'}, 'Mashroom Pizza': {'price': '250', 'veg_or_non_veg': 'Veg'}, 'Ab Special Pizza': {'price': '350', 'veg_or_non_veg': 'Veg'}}, 'Cold Coffee': {'Classical Cold Coffee': {'price': '90', 'veg_or_non_veg': 'Veg'}, 'Hezelnut Cold Coffee': {'price': '90', 'veg_or_non_veg': 'Veg'}, 'Frape Cold Coffee': {'price': '90', 'veg_or_non_veg': 'Veg'}}}\", \"https://www.swiggy.com/restaurants/ab-foods-point-central-abohar-abohar-567335\", \"Abohar\", \"Abohar\", \"NaN\", \"NaN\"], [\"531342\", \"Janta Sweet House\", \"4.4\", \"50+ ratings\", \"\\u20b9 200\", \"Janta Sweet House, Bazar No.9, Circullar Road, Abohar\", \"Sweets,Bakery\", \"12117201000112\", \"{'Breakfast': {'Veg Grilled Sandwich': {'price': '55', 'veg_or_non_veg': 'Veg'}, 'Veg Sandwich': {'price': '40', 'veg_or_non_veg': 'Veg'}, 'Dhokla': {'price': '300', 'veg_or_non_veg': 'Veg'}, 'Channa Bhatura [2 Pc]': {'price': '95', 'veg_or_non_veg': 'Veg'}, 'Chana Bhatura With Lassi': {'price': '145', 'veg_or_non_veg': 'Veg'}}, 'Drinks (beverages)': {'Mango Shake': {'price': '72', 'veg_or_non_veg': 'Veg'}, 'Milk Badam Shake': {'price': '59', 'veg_or_non_veg': 'Veg'}, 'Namkeen Lassi': {'price': '59', 'veg_or_non_veg': 'Veg'}, 'Cold Coffee': {'price': '67', 'veg_or_non_veg': 'Veg'}, 'Butterscotch Shake': {'price': '59', 'veg_or_non_veg': 'Veg'}, 'Oreo Shake': {'price': '67', 'veg_or_non_veg': 'Veg'}, 'Pineapple Shake': {'price': '59', 'veg_or_non_veg': 'Veg'}, 'Banana Shake': {'price': '59', 'veg_or_non_veg': 'Veg'}, 'Strawberry Shake': {'price': '59', 'veg_or_non_veg': 'Veg'}, 'Roohafza Milkshake': {'price': '59', 'veg_or_non_veg': 'Veg'}, 'Lassi [sweet]': {'price': '59', 'veg_or_non_veg': 'Veg'}}, 'Combos': {'Burgers Pack': {'price': '225', 'veg_or_non_veg': 'Veg'}, 'Barfi Pack': {'price': '250', 'veg_or_non_veg': 'Veg'}, 'Starters Combo': {'price': '225', 'veg_or_non_veg': 'Veg'}, 'Chai Time Combo': {'price': '209', 'veg_or_non_veg': 'Veg'}, 'South Special': {'price': '115', 'veg_or_non_veg': 'Veg'}, 'Snacks Combo': {'price': '167', 'veg_or_non_veg': 'Veg'}, 'Patties Combo': {'price': '105', 'veg_or_non_veg': 'Veg'}, 'Pastry Pack': {'price': '98', 'veg_or_non_veg': 'Veg'}}, 'Sweets': {'Modak Laddu': {'price': '105', 'veg_or_non_veg': 'Veg'}, 'Dhodha': {'price': '125', 'veg_or_non_veg': 'Veg'}, 'Baisan Barfi': {'price': '125', 'veg_or_non_veg': 'Veg'}, 'Rewari Barfi': {'price': '135', 'veg_or_non_veg': 'Veg'}, 'Kesar Laddu (desi Ghee)': {'price': '115', 'veg_or_non_veg': 'Veg'}, 'Moti Pak (desi Ghee)': {'price': '120', 'veg_or_non_veg': 'Veg'}, 'Pinni (desi Ghee)': {'price': '130', 'veg_or_non_veg': 'Veg'}, 'Sohan Halwa': {'price': '135', 'veg_or_non_veg': 'Veg'}, 'Kalakand': {'price': '130', 'veg_or_non_veg': 'Veg'}, 'Chocolate Burfi': {'price': '135', 'veg_or_non_veg': 'Veg'}, 'Elaichi Burfi': {'price': '135', 'veg_or_non_veg': 'Veg'}, 'Kesar Katli': {'price': '130', 'veg_or_non_veg': 'Veg'}, 'Khoya Katli': {'price': '130', 'veg_or_non_veg': 'Veg'}, 'Mandakini Burfi': {'price': '125', 'veg_or_non_veg': 'Veg'}, 'Plain Burfi': {'price': '123', 'veg_or_non_veg': 'Veg'}, 'Anguri Petha': {'price': '100', 'veg_or_non_veg': 'Veg'}, 'Khurmani': {'price': '103', 'veg_or_non_veg': 'Veg'}, 'Murki Chhena': {'price': '113', 'veg_or_non_veg': 'Veg'}, 'Spungi Rasbhari': {'price': '105', 'veg_or_non_veg': 'Veg'}, 'Rasbhari': {'price': '93', 'veg_or_non_veg': 'Veg'}, 'Chamcham': {'price': '90', 'veg_or_non_veg': 'Veg'}, 'Tosha': {'price': '93', 'veg_or_non_veg': 'Veg'}, 'Rasgulla': {'price': '93', 'veg_or_non_veg': 'Veg'}, 'Gulab Jamun': {'price': '93', 'veg_or_non_veg': 'Veg'}, 'Rasmalai [1 Piece]': {'price': '60', 'veg_or_non_veg': 'Veg'}, 'Spungi Rasgulla [1 Piece]': {'price': '44', 'veg_or_non_veg': 'Veg'}, 'Emarti': {'price': '95', 'veg_or_non_veg': 'Veg'}, 'Jullie': {'price': '135', 'veg_or_non_veg': 'Veg'}, 'Kaju Katli': {'price': '273', 'veg_or_non_veg': 'Veg'}, 'Kesar Laddu': {'price': '80', 'veg_or_non_veg': 'Veg'}, 'Moti Choor Laddu': {'price': '75', 'veg_or_non_veg': 'Veg'}, 'Baisan Pinni': {'price': '85', 'veg_or_non_veg': 'Veg'}, 'Dry Fruit Pinni': {'price': '110', 'veg_or_non_veg': 'Veg'}, 'Mango Pera': {'price': '135', 'veg_or_non_veg': 'Veg'}, 'Chana Laddu': {'price': '178', 'veg_or_non_veg': 'Veg'}, 'Chocolate Roll': {'price': '135', 'veg_or_non_veg': 'Veg'}, 'Kesar Roll': {'price': '135', 'veg_or_non_veg': 'Veg'}, 'Pista Roll': {'price': '135', 'veg_or_non_veg': 'Veg'}, 'Malai Pera': {'price': '135', 'veg_or_non_veg': 'Veg'}, 'Mini Pera': {'price': '135', 'veg_or_non_veg': 'Veg'}, 'Badam Cake': {'price': '100', 'veg_or_non_veg': 'Veg'}, 'Coconut Burfi': {'price': '120', 'veg_or_non_veg': 'Veg'}, 'Milk Cake': {'price': '142', 'veg_or_non_veg': 'Veg'}, 'Boondi': {'price': '68', 'veg_or_non_veg': 'Veg'}, 'Sandwich [mithai]': {'price': '105', 'veg_or_non_veg': 'Veg'}, 'Aam Papad Roll': {'price': '186', 'veg_or_non_veg': 'Veg'}, 'Soan Papdi [1 Kg]': {'price': '240', 'veg_or_non_veg': 'Veg'}, 'Sirni [500 Grams]': {'price': '157', 'veg_or_non_veg': 'Veg'}, 'Balushai [500 Grams]': {'price': '142', 'veg_or_non_veg': 'Veg'}, 'Shakarpare [500 Grams]': {'price': '142', 'veg_or_non_veg': 'Veg'}, 'Gurpare [500 Grams]': {'price': '142', 'veg_or_non_veg': 'Veg'}, 'Hot Gulab Jamun [1 Pc]': {'price': '30', 'veg_or_non_veg': 'Veg'}}, 'Special Sweet Gifts': {'Basket Gift Pack': {'price': '470', 'veg_or_non_veg': 'Veg'}, 'Dry Fruit Tray': {'price': '1070', 'veg_or_non_veg': 'Veg'}, 'All Mix Sweet': {'price': '220', 'veg_or_non_veg': 'Veg'}, '3 Line Mix Sweet': {'price': '500', 'veg_or_non_veg': 'Veg'}}, 'Dry Fruit & Nuts': {'Pista Roasted': {'price': '350', 'veg_or_non_veg': 'Veg'}, 'Kishmish': {'price': '170', 'veg_or_non_veg': 'Veg'}, 'Badam Giri': {'price': '370', 'veg_or_non_veg': 'Veg'}, 'Kaju Namkeen Roasted': {'price': '470', 'veg_or_non_veg': 'Veg'}, 'Kaju Plain': {'price': '485', 'veg_or_non_veg': 'Veg'}}, 'Dairy Products': {'Dahi': {'price': '34', 'veg_or_non_veg': 'Veg'}, 'Paneer': {'price': '120', 'veg_or_non_veg': 'Veg'}}, 'Snacks': {'Bhalla Papdi': {'price': '60', 'veg_or_non_veg': 'Veg'}, 'Dahi Bhalla': {'price': '45', 'veg_or_non_veg': 'Veg'}, 'Dahi Vada': {'price': '60', 'veg_or_non_veg': 'Veg'}, 'Special Pav Bhaji': {'price': '135', 'veg_or_non_veg': 'Veg'}, 'Pav Bhaji': {'price': '105', 'veg_or_non_veg': 'Veg'}, 'Cheese Cutlet': {'price': '150', 'veg_or_non_veg': 'Veg'}, 'Veg Cutlet': {'price': '120', 'veg_or_non_veg': 'Veg'}, 'Noodles Cutlet': {'price': '34', 'veg_or_non_veg': 'Veg'}, 'Paneer Pakoda': {'price': '43', 'veg_or_non_veg': 'Veg'}, 'Samosa': {'price': '22', 'veg_or_non_veg': 'Veg'}, 'Samosa With Chana': {'price': '64', 'veg_or_non_veg': 'Veg'}, 'Masala Papad': {'price': '73', 'veg_or_non_veg': 'Veg'}}, 'Patties': {'Noodles Patties': {'price': '30', 'veg_or_non_veg': 'Veg'}, 'Veg Patties': {'price': '23', 'veg_or_non_veg': 'Veg'}, 'Paneer Patties': {'price': '30', 'veg_or_non_veg': 'Veg'}}, 'Burgers And Hot Dogs': {'Cheese Burger Fry': {'price': '75', 'veg_or_non_veg': 'Veg'}, 'Veg Burger Fry': {'price': '60', 'veg_or_non_veg': 'Veg'}, 'Tikki Burger': {'price': '60', 'veg_or_non_veg': 'Veg'}, 'Noodles Burger': {'price': '60', 'veg_or_non_veg': 'Veg'}, 'Cheese Hot Dog': {'price': '75', 'veg_or_non_veg': 'Veg'}, 'Veg Hot Dog': {'price': '60', 'veg_or_non_veg': 'Veg'}}, 'Noodles': {'Mushroom Chowmein': {'price': '164', 'veg_or_non_veg': 'Veg'}, 'Special Chowmein': {'price': '209', 'veg_or_non_veg': 'Veg'}, 'Paneer Chowmein': {'price': '179', 'veg_or_non_veg': 'Veg'}, 'Noodles': {'price': '134', 'veg_or_non_veg': 'Veg'}, 'Singapore Chopsuey': {'price': '164', 'veg_or_non_veg': 'Veg'}, 'American Chopsuey': {'price': '164', 'veg_or_non_veg': 'Veg'}}, 'Starters': {'Cheese Tikka Fry': {'price': '194', 'veg_or_non_veg': 'Veg'}, 'Cheese Corn Roll': {'price': '179', 'veg_or_non_veg': 'Veg'}, 'Cheese Spring Roll': {'price': '194', 'veg_or_non_veg': 'Veg'}, 'Veg Spring Roll': {'price': '149', 'veg_or_non_veg': 'Veg'}, 'Cheese Manchurian With Gravy': {'price': '284', 'veg_or_non_veg': 'Veg'}, 'Cheese Manchurian': {'price': '269', 'veg_or_non_veg': 'Veg'}, 'Veg Manchurian With Gravy': {'price': '209', 'veg_or_non_veg': 'Veg'}, 'Veg Manchurian': {'price': '194', 'veg_or_non_veg': 'Veg'}, 'Mushroom Chilly': {'price': '224', 'veg_or_non_veg': 'Veg'}, 'Cheese Chilli With Gravy': {'price': '320', 'veg_or_non_veg': 'Veg'}, 'Cheese Chilli': {'price': '194', 'veg_or_non_veg': 'Veg'}, 'French Fries': {'price': '105', 'veg_or_non_veg': 'Veg'}, 'Cheese Finger': {'price': '209', 'veg_or_non_veg': 'Veg'}, 'Potato Finger': {'price': '105', 'veg_or_non_veg': 'Veg'}, 'Veg Bullet': {'price': '149', 'veg_or_non_veg': 'Veg'}, 'Cheese Kabab': {'price': '224', 'veg_or_non_veg': 'Veg'}, 'Veg Kabab': {'price': '134', 'veg_or_non_veg': 'Veg'}, 'Veg Cotton Kabab': {'price': '179', 'veg_or_non_veg': 'Veg'}}, 'South Indian Dishes': {'Sambar Vada': {'price': '60', 'veg_or_non_veg': 'Veg'}, 'Mushroom Uttapam': {'price': '120', 'veg_or_non_veg': 'Veg'}, 'Cheese Uttapam': {'price': '120', 'veg_or_non_veg': 'Veg'}, 'Onion Uttapam': {'price': '105', 'veg_or_non_veg': 'Veg'}, 'Special Family Dosa': {'price': '239', 'veg_or_non_veg': 'Veg'}, 'Mushroom Masala Dosa': {'price': '149', 'veg_or_non_veg': 'Veg'}, 'Paneer Dosa': {'price': '149', 'veg_or_non_veg': 'Veg'}, 'Masala Dosa': {'price': '105', 'veg_or_non_veg': 'Veg'}, 'Plain Dosa': {'price': '75', 'veg_or_non_veg': 'Veg'}, 'Onion Butter Masala Dosa': {'price': '149', 'veg_or_non_veg': 'Veg'}, 'Pizza Dosa': {'price': '135', 'veg_or_non_veg': 'Veg'}}, 'Pizza And Pasta': {'Pasta White Sauce': {'price': '179', 'veg_or_non_veg': 'Veg'}, 'Pasta Red Sauce': {'price': '164', 'veg_or_non_veg': 'Veg'}, 'Capsicum Pizza [medium 8 Inches]': {'price': '194', 'veg_or_non_veg': 'Veg'}, 'Cheese And Chilli Pizza [medium 8 Inches]': {'price': '269', 'veg_or_non_veg': 'Veg'}, 'Cheese Pizza [medium 8 Inches]': {'price': '194', 'veg_or_non_veg': 'Veg'}, 'Mushroom Pizza [medium 8 Inches]': {'price': '209', 'veg_or_non_veg': 'Veg'}, 'Onion Pizza [medium 8 Inches]': {'price': '194', 'veg_or_non_veg': 'Veg'}, 'Paneer Tikka Pizza [medium 8 Inches]': {'price': '254', 'veg_or_non_veg': 'Veg'}, 'Veg Pizza [medium 8 Inches]': {'price': '179', 'veg_or_non_veg': 'Veg'}}, 'Mathi & Namkeen': {'Pitthi Samosi': {'price': '70', 'veg_or_non_veg': 'Veg'}, 'Samosa Mathi': {'price': '72.25', 'veg_or_non_veg': 'Veg'}, 'Methi Mathi': {'price': '72.25', 'veg_or_non_veg': 'Veg'}, 'Plain Mathi': {'price': '72.25', 'veg_or_non_veg': 'Veg'}, 'Kaju Matar [190 Grams]': {'price': '60', 'veg_or_non_veg': 'Veg'}, 'Matri [190 Grams]': {'price': '60', 'veg_or_non_veg': 'Veg'}, 'Papri [500 Grams]': {'price': '139', 'veg_or_non_veg': 'Veg'}, 'Pudina Boondi [190 Grams]': {'price': '75', 'veg_or_non_veg': 'Veg'}, 'Plain Boondi [190 Grams]': {'price': '67', 'veg_or_non_veg': 'Veg'}}, 'Cake': {'Fruit Cake': {'price': '90', 'veg_or_non_veg': 'Veg'}, 'Cake [900 Grams]': {'price': '470', 'veg_or_non_veg': 'Veg'}, 'Fruit Cake (egg)': {'price': '110', 'veg_or_non_veg': 'Non-veg'}}, 'Pastries': {'Jam Roll Pastry': {'price': '30', 'veg_or_non_veg': 'Veg'}, 'Chocolate Pastry': {'price': '45', 'veg_or_non_veg': 'Veg'}, 'Black Forest Pastry': {'price': '38', 'veg_or_non_veg': 'Veg'}, 'Swiss Roll Pastry': {'price': '38', 'veg_or_non_veg': 'Veg'}, 'Milk Badam Pastry': {'price': '38', 'veg_or_non_veg': 'Veg'}, 'Butterscotch Pastry': {'price': '38', 'veg_or_non_veg': 'Veg'}, 'Jelly Pastry': {'price': '30', 'veg_or_non_veg': 'Veg'}, 'Strwaberry Pastry': {'price': '23', 'veg_or_non_veg': 'Veg'}, 'Vanila Pastry': {'price': '30', 'veg_or_non_veg': 'Veg'}, 'Pineapple Pastry': {'price': '23', 'veg_or_non_veg': 'Veg'}, 'Choco Lava Cake': {'price': '59', 'veg_or_non_veg': 'Veg'}, 'Cream Roll': {'price': '22', 'veg_or_non_veg': 'Veg'}}, 'Bakery Biscuits': {'Cake Rusk': {'price': '115', 'veg_or_non_veg': 'Non-veg'}, 'Atta Namkeen Biscuit [400 Grams]': {'price': '105', 'veg_or_non_veg': 'Veg'}, 'Atta Sweet Biscuit [400 Grams]': {'price': '105', 'veg_or_non_veg': 'Veg'}, 'French Heart': {'price': '60', 'veg_or_non_veg': 'Veg'}, 'Fan': {'price': '52', 'veg_or_non_veg': 'Veg'}, 'Suju Rusk': {'price': '45', 'veg_or_non_veg': 'Veg'}, 'Atta Biscuit (desi Ghee)': {'price': '100', 'veg_or_non_veg': 'Veg'}, 'Butter Pista Finger': {'price': '100', 'veg_or_non_veg': 'Veg'}}, 'Donuts': {'White Chocolate Donut': {'price': '44', 'veg_or_non_veg': 'Veg'}, 'Chocolate Donut': {'price': '44', 'veg_or_non_veg': 'Veg'}}, 'Navratri Special': {'Pistachio Rabri': {'price': '143', 'veg_or_non_veg': 'Veg'}, 'Sabu Dana Lachha Mix': {'price': '74', 'veg_or_non_veg': 'Veg'}, 'Badam Lachha': {'price': '74', 'veg_or_non_veg': 'Veg'}, 'Potato Papad': {'price': '30', 'veg_or_non_veg': 'Veg'}, 'Potato Chips': {'price': '30', 'veg_or_non_veg': 'Veg'}}, 'Soups': {'Manchow Soup': {'price': '105', 'veg_or_non_veg': 'Veg'}, 'Tomato Cream Soup': {'price': '90', 'veg_or_non_veg': 'Veg'}, 'Tomato Soup': {'price': '90', 'veg_or_non_veg': 'Veg'}, 'Veg Sweet Corn Soup': {'price': '90', 'veg_or_non_veg': 'Veg'}, 'Veg Soup': {'price': '90', 'veg_or_non_veg': 'Veg'}}}\", \"https://www.swiggy.com/restaurants/janta-sweet-house-central-abohar-abohar-531342\", \"Abohar\", \"Abohar\", \"NaN\", \"NaN\"], [\"158203\", \"theka coffee desi\", \"3.8\", \"100+ ratings\", \"\\u20b9 100\", \"theka coffee desi, sahtiya sadan road city\", \"Beverages\", \"22121652000190\", \"{'Recommended': {'Cafe Latte Coffee': {'price': '118', 'veg_or_non_veg': 'Veg'}, 'Cafe Mocha Coffee': {'price': '132', 'veg_or_non_veg': 'Veg'}, 'Chocolate Shake': {'price': '118', 'veg_or_non_veg': 'Veg'}, 'Mango Shake': {'price': '118', 'veg_or_non_veg': 'Veg'}, 'Walnut Brownie': {'price': '65', 'veg_or_non_veg': 'Veg'}, 'Chocolaty Frappe': {'price': '158', 'veg_or_non_veg': 'Veg'}, 'French Fries': {'price': '82', 'veg_or_non_veg': 'Veg'}, 'Cheese Garlic Bread': {'price': '124', 'veg_or_non_veg': 'Veg'}, 'Exotic Garlic Bread': {'price': '150', 'veg_or_non_veg': 'Veg'}, 'Paneer Wrap': {'price': '118', 'veg_or_non_veg': 'Veg'}, 'Mexican Veg Wrap': {'price': '92', 'veg_or_non_veg': 'Veg'}, 'Paneer Tikka Sub': {'price': '166', 'veg_or_non_veg': 'Veg'}, '8 \\\" Regular Farm House Pizza': {'price': '217', 'veg_or_non_veg': 'Veg'}, '10 \\\" Medium Farm House Pizza': {'price': '375', 'veg_or_non_veg': 'Veg'}, '13 \\\"Large Farm House Pizza': {'price': '475', 'veg_or_non_veg': 'Veg'}, 'American Cheese Burger': {'price': '158', 'veg_or_non_veg': 'Veg'}, 'Aloo Tikki Burger': {'price': '65', 'veg_or_non_veg': 'Veg'}, 'Veg Burger': {'price': '79', 'veg_or_non_veg': 'Veg'}, 'Chicken Burger': {'price': '92', 'veg_or_non_veg': 'Non-veg'}, '8 \\\" Regular Spicy Paneer Pizza': {'price': '160', 'veg_or_non_veg': 'Veg'}, '13 \\\" Large Spicy Paneer Pizza': {'price': '480', 'veg_or_non_veg': 'Veg'}, 'Paneer Tikka Sandwich': {'price': '145', 'veg_or_non_veg': 'Veg'}, '8 \\\" Regular Paneer Makhani Pizza': {'price': '197', 'veg_or_non_veg': 'Veg'}, '13 \\\" Large Paneer Makhani Pizza': {'price': '499', 'veg_or_non_veg': 'Veg'}, 'Red Penne Alfredo Pasta': {'price': '152', 'veg_or_non_veg': 'Veg'}, 'White Penne Alfredo Pasta': {'price': '152', 'veg_or_non_veg': 'Veg'}, 'Mix Sauce Penne Alfredo Pasta': {'price': '152', 'veg_or_non_veg': 'Veg'}, '10 \\\" Medium Loaded Chicken Pizza': {'price': '432', 'veg_or_non_veg': 'Non-veg'}, 'Paneer Tikka Salad': {'price': '158', 'veg_or_non_veg': 'Veg'}, 'Chicken Delight Salad': {'price': '189', 'veg_or_non_veg': 'Non-veg'}, '8 \\\" Regular Chicken Tikka Pizza': {'price': '187', 'veg_or_non_veg': 'Non-veg'}, '13 \\\" Large Tandoori Chicken Pizza': {'price': '463', 'veg_or_non_veg': 'Non-veg'}}, 'Family Binge Combos': {'2 Strawberry Shake + 2 Punjabi Paneer Cruncher (Without Onion + Garlic) + 1 Mint Mojito Mocktail': {'price': '720', 'veg_or_non_veg': 'Veg'}, '2 Butterscotch Shake + 2 Red Penne Mushroom Pata (Without Onion + Garlic) + 3 Veg Burger (Without Onion + Garlic)': {'price': '862', 'veg_or_non_veg': 'Veg'}, '3 Piece 8\\\" Regular Spicy Corn Tango Pizza (Without Onion + Garlic) + 3 Choclate Shakes': {'price': '932', 'veg_or_non_veg': 'Veg'}, '3 American Cheese Burger (Without Onion + Garlic) + 3 Tcd Special Shake': {'price': '1365', 'veg_or_non_veg': 'Veg'}, '3 Oreo Shake + 3 Paneer Wrap (Without Onion + Garlic)': {'price': '888', 'veg_or_non_veg': 'Veg'}}, 'Hot Coffee': {'Americano Black Coffee': {'price': '65', 'veg_or_non_veg': 'Veg'}, 'Cappuccino Coffee': {'price': '91', 'veg_or_non_veg': 'Veg'}, 'Hot Chocolate Coffee': {'price': '91', 'veg_or_non_veg': 'Veg'}, 'Hazelnut Cappuccino Coffee': {'price': '111', 'veg_or_non_veg': 'Veg'}, 'Cookie Cappuccino Coffee': {'price': '155', 'veg_or_non_veg': 'Veg'}, 'Cafe Latte Coffee': {'price': '118', 'veg_or_non_veg': 'Veg'}, 'Irish Cafe Latte Coffee': {'price': '145', 'veg_or_non_veg': 'Veg'}, 'Caramel Latte Coffee': {'price': '132', 'veg_or_non_veg': 'Veg'}, 'Cafe Mocha Coffee': {'price': '132', 'veg_or_non_veg': 'Veg'}}, 'Tea': {'Assam Tea': {'price': '52', 'veg_or_non_veg': 'Veg'}, 'Green Tea': {'price': '52', 'veg_or_non_veg': 'Veg'}}, 'Thirst Quenchers': {'Lemon Ice Tea': {'price': '89', 'veg_or_non_veg': 'Veg'}, 'Peach Ice Tea': {'price': '89', 'veg_or_non_veg': 'Veg'}, 'Strawberry Ice Tea': {'price': '89', 'veg_or_non_veg': 'Veg'}, 'Classic Lemonade': {'price': '99', 'veg_or_non_veg': 'Veg'}, 'Strawberry Lemonade': {'price': '115', 'veg_or_non_veg': 'Veg'}, 'Mint Lemonade': {'price': '115', 'veg_or_non_veg': 'Veg'}}, 'Shakes Crunchy': {'Oreo Shake': {'price': '145', 'veg_or_non_veg': 'Veg'}, 'TCD Special Shake': {'price': '264', 'veg_or_non_veg': 'Veg'}}, 'Classic Shakes': {'Strawberry Shake': {'price': '118', 'veg_or_non_veg': 'Veg'}, 'Chocolate Shake': {'price': '118', 'veg_or_non_veg': 'Veg'}, 'Butterscotch Shake': {'price': '118', 'veg_or_non_veg': 'Veg'}, 'Vanilla Shake': {'price': '118', 'veg_or_non_veg': 'Veg'}, 'Greenapple Shake': {'price': '125', 'veg_or_non_veg': 'Veg'}, 'Black Current Shake': {'price': '118', 'veg_or_non_veg': 'Veg'}}, 'Shakes Premium': {'Mango Shake': {'price': '118', 'veg_or_non_veg': 'Veg'}, 'Paan Shake': {'price': '131', 'veg_or_non_veg': 'Veg'}, 'Orange chocolate shake': {'price': '143', 'veg_or_non_veg': 'Veg'}}, 'Sweet Moments': {'Walnut Brownie': {'price': '65', 'veg_or_non_veg': 'Veg'}, 'Fruit Sundae': {'price': '113', 'veg_or_non_veg': 'Veg'}, 'Paan Sundae': {'price': '119', 'veg_or_non_veg': 'Veg'}}, 'Cold Coffee': {'Devils Own Desi Style Coffee': {'price': '144', 'veg_or_non_veg': 'Veg'}, 'Classic Cold Coffee': {'price': '119', 'veg_or_non_veg': 'Veg'}, 'Iced Cappuccino Coffee': {'price': '133', 'veg_or_non_veg': 'Veg'}, 'Iced Vanilla Cappuccino Coffee': {'price': '154', 'veg_or_non_veg': 'Veg'}, 'Cafe Frappe': {'price': '145', 'veg_or_non_veg': 'Veg'}, 'Chocolaty Frappe': {'price': '158', 'veg_or_non_veg': 'Veg'}, 'Caramel Frappe': {'price': '160', 'veg_or_non_veg': 'Veg'}}, 'Quick Bites': {'Masala Fries with Dip': {'price': '115', 'veg_or_non_veg': 'Veg'}, 'Mexican Tokari': {'price': '113', 'veg_or_non_veg': 'Veg'}, 'Cheese Shots': {'price': '113', 'veg_or_non_veg': 'Veg'}, 'Veg Fingers': {'price': '86', 'veg_or_non_veg': 'Veg'}, 'Triple S': {'price': '130', 'veg_or_non_veg': 'Non-veg'}, 'Chicken Finger(peri peri)': {'price': '176', 'veg_or_non_veg': 'Non-veg'}, 'Chicken Finger 5pc(Barbeque)': {'price': '177', 'veg_or_non_veg': 'Non-veg'}, 'French Fries': {'price': '82', 'veg_or_non_veg': 'Veg'}, 'Seekh Kabab with Dip': {'price': '91', 'veg_or_non_veg': 'Non-veg'}, 'Chicken Nuggets': {'price': '139', 'veg_or_non_veg': 'Non-veg'}, 'Chicken Popcorn': {'price': '144', 'veg_or_non_veg': 'Non-veg'}, 'Chicken Finger (5 Pcs)': {'price': '150', 'veg_or_non_veg': 'Non-veg'}}, 'Garlic Breads': {'Plain Garlic Bread': {'price': '88', 'veg_or_non_veg': 'Veg'}, 'Cheese Garlic Bread': {'price': '124', 'veg_or_non_veg': 'Veg'}, 'Chilly Corn Garlic Bread': {'price': '142', 'veg_or_non_veg': 'Veg'}, 'Tandoori Cavity': {'price': '119', 'veg_or_non_veg': 'Veg'}, 'Exotic Garlic Bread': {'price': '150', 'veg_or_non_veg': 'Veg'}, 'Roasted Chicken Garlic Bread': {'price': '166', 'veg_or_non_veg': 'Non-veg'}, 'Seekh Kabab Garlic Bread': {'price': '172', 'veg_or_non_veg': 'Non-veg'}}, 'Mocktails': {'Mint Mojito Mocktail': {'price': '155', 'veg_or_non_veg': 'Veg'}, 'Cucumber Lemon Mojito Mocktail': {'price': '152', 'veg_or_non_veg': 'Veg'}, 'Meloneez Mocktail': {'price': '139', 'veg_or_non_veg': 'Veg'}, 'Candid Apple Mocktail': {'price': '145', 'veg_or_non_veg': 'Veg'}, 'TCD Float (Coke with Ice Cream Float) Mocktail': {'price': '73', 'veg_or_non_veg': 'Veg'}, 'Lemon Coke Mocktail': {'price': '60', 'veg_or_non_veg': 'Veg'}, 'Malt (Taste of Beer) Mocktail': {'price': '131', 'veg_or_non_veg': 'Veg'}, 'Blue Curacao': {'price': '148', 'veg_or_non_veg': 'Veg'}, 'Spicy Mango': {'price': '131', 'veg_or_non_veg': 'Veg'}}, 'Wraps': {'Paneer Wrap': {'price': '118', 'veg_or_non_veg': 'Veg'}, 'Seekh Kabab Wrap': {'price': '121', 'veg_or_non_veg': 'Non-veg'}, 'Chicken Tikka Wrap': {'price': '139', 'veg_or_non_veg': 'Non-veg'}, 'Tandoori Chicken Wrap': {'price': '144', 'veg_or_non_veg': 'Non-veg'}, 'Single egg single chicken wrap': {'price': '155', 'veg_or_non_veg': 'Non-veg'}, 'Aloo Wrap': {'price': '78', 'veg_or_non_veg': 'Veg'}, 'Mexican Veg Wrap': {'price': '92', 'veg_or_non_veg': 'Veg'}, 'Egg Wrap': {'price': '92', 'veg_or_non_veg': 'Non-veg'}, 'Pasta Wrap': {'price': '100', 'veg_or_non_veg': 'Veg'}}, 'Sub': {'Paneer Tikka Sub': {'price': '166', 'veg_or_non_veg': 'Veg'}, 'Veg Tikki Sub': {'price': '158', 'veg_or_non_veg': 'Veg'}, 'Veg Delight Sub': {'price': '145', 'veg_or_non_veg': 'Veg'}, 'Chicken Tikka Sub': {'price': '179', 'veg_or_non_veg': 'Non-veg'}, 'Chicken Delight Sub': {'price': '192', 'veg_or_non_veg': 'Non-veg'}, 'Saute Chicken Sub': {'price': '166', 'veg_or_non_veg': 'Non-veg'}}, 'Combos': {'2 Pieces Chicken Tikka Sandwich  +  Classic Lemonade': {'price': '145', 'veg_or_non_veg': 'Non-veg'}, '2 Pieces Paneer Tikka Sandwich + Cappuccino': {'price': '132', 'veg_or_non_veg': 'Veg'}, '1 Veg Burger with Cheese + Classic Cold Coffee': {'price': '190', 'veg_or_non_veg': 'Veg'}, '1 Chicken Burger with Cheese + Classic Cold Coffee': {'price': '198', 'veg_or_non_veg': 'Non-veg'}, 'Mexican Veg Wrap + Lemon Coke': {'price': '145', 'veg_or_non_veg': 'Veg'}, 'Chicken Wrap + Meloneez': {'price': '211', 'veg_or_non_veg': 'Non-veg'}}, 'Veg Supreme Pizza': {'8 \\\" Regular Farm House Pizza': {'price': '217', 'veg_or_non_veg': 'Veg'}, '10 \\\" Medium Farm House Pizza': {'price': '375', 'veg_or_non_veg': 'Veg'}, '13 \\\"Large Farm House Pizza': {'price': '475', 'veg_or_non_veg': 'Veg'}, '8 \\\" Regular Special Wonder Pizza': {'price': '184', 'veg_or_non_veg': 'Veg'}, '10 \\\" Medium Special Wonder Pizza': {'price': '375', 'veg_or_non_veg': 'Veg'}, '13 \\\" Large Special Wonder Pizza': {'price': '475', 'veg_or_non_veg': 'Veg'}}, 'Burgers': {'Punjabi Paneer Cruncher': {'price': '116', 'veg_or_non_veg': 'Veg'}, 'Double Decker Veg Burger': {'price': '145', 'veg_or_non_veg': 'Veg'}, 'American Cheese Burger': {'price': '158', 'veg_or_non_veg': 'Veg'}, 'Exotic Egg Burger': {'price': '118', 'veg_or_non_veg': 'Non-veg'}, 'Spicy Chicken Burger': {'price': '119', 'veg_or_non_veg': 'Non-veg'}, 'Double Decker Chicken Burger': {'price': '172', 'veg_or_non_veg': 'Non-veg'}, 'American chicken burger': {'price': '136', 'veg_or_non_veg': 'Non-veg'}, 'Aloo Tikki Burger': {'price': '65', 'veg_or_non_veg': 'Veg'}, 'Veg Burger': {'price': '79', 'veg_or_non_veg': 'Veg'}, 'Spicy Veg Burger': {'price': '91', 'veg_or_non_veg': 'Veg'}, 'Chicken Burger': {'price': '92', 'veg_or_non_veg': 'Non-veg'}}, 'Veg Delight Pizza': {'8 \\\" Regular Tandoori Paneer Pizza': {'price': '175', 'veg_or_non_veg': 'Veg'}, '10 \\\" Medium Tandoori Paneer Pizza': {'price': '325', 'veg_or_non_veg': 'Veg'}, '13 \\\" Large Tandoori Paneer Pizza': {'price': '450', 'veg_or_non_veg': 'Veg'}, '8 \\\" Regular Hot & Sweet Delight Pizza': {'price': '175', 'veg_or_non_veg': 'Veg'}, '10 \\\"Medium Hot & Sweet Delight Pizza': {'price': '325', 'veg_or_non_veg': 'Veg'}, '13 \\\" Large Hot & Sweet Delight Pizza': {'price': '450', 'veg_or_non_veg': 'Veg'}}, 'Veg Super Pizza': {'8 \\\" Regular Veg Feast Pizza': {'price': '160', 'veg_or_non_veg': 'Veg'}, '10 \\\" Medium Veg Feast Pizza': {'price': '270', 'veg_or_non_veg': 'Veg'}, '13 \\\" Large Veg Feast Pizza': {'price': '480', 'veg_or_non_veg': 'Veg'}, '8 \\\" Regular Spicy Corn Tango Pizza': {'price': '160', 'veg_or_non_veg': 'Veg'}, '13 \\\" Large Spicy Corn Tango Pizza': {'price': '480', 'veg_or_non_veg': 'Veg'}, '8 \\\" Regular Spicy Paneer Pizza': {'price': '160', 'veg_or_non_veg': 'Veg'}, '10 \\\"Medium Spicy Paneer Pizza': {'price': '270', 'veg_or_non_veg': 'Veg'}, '13 \\\" Large Spicy Paneer Pizza': {'price': '480', 'veg_or_non_veg': 'Veg'}}, 'Sandwiches': {'Corn Delight Sandwich': {'price': '102', 'veg_or_non_veg': 'Veg'}, 'Veg Cheese Sandwich': {'price': '118', 'veg_or_non_veg': 'Veg'}, 'Paneer Tikka Sandwich': {'price': '145', 'veg_or_non_veg': 'Veg'}, 'Paneer Makhani Sandwich': {'price': '160', 'veg_or_non_veg': 'Veg'}, 'Mexican Sandwich': {'price': '142', 'veg_or_non_veg': 'Veg'}, 'Veg Delight Sandwich': {'price': '160', 'veg_or_non_veg': 'Veg'}, 'Chicken Tikka Sandwich': {'price': '152', 'veg_or_non_veg': 'Non-veg'}, 'Egg Delight Sandwich': {'price': '131', 'veg_or_non_veg': 'Non-veg'}, 'Chicken Delight Sandwich': {'price': '168', 'veg_or_non_veg': 'Non-veg'}, 'Double Decker Ontario Sandwich': {'price': '209', 'veg_or_non_veg': 'Non-veg'}, 'Schezwan Veg sandwich': {'price': '162', 'veg_or_non_veg': 'Veg'}, 'Schezwan chicken sandwich': {'price': '175', 'veg_or_non_veg': 'Non-veg'}}, 'Single Topping Pizza': {'Cheesy Marghrita (Medium)': {'price': '228', 'veg_or_non_veg': 'Veg'}, 'Cheesy Margheritta Pizza (Large)': {'price': '364', 'veg_or_non_veg': 'Veg'}, 'Cheesy  Margherita (Regular)': {'price': '127', 'veg_or_non_veg': 'Veg'}}, 'Wonder Pizza': {'8 \\\" Regular Paneer Makhani Pizza': {'price': '197', 'veg_or_non_veg': 'Veg'}, '10 \\\" Medium Paneer Makhani Pizza': {'price': '355', 'veg_or_non_veg': 'Veg'}, '13 \\\" Large Paneer Makhani Pizza': {'price': '499', 'veg_or_non_veg': 'Veg'}}, 'Pastas': {'Red Penne Alfredo Pasta': {'price': '152', 'veg_or_non_veg': 'Veg'}, 'Red Penne Mushroom Pasta': {'price': '145', 'veg_or_non_veg': 'Veg'}, 'Red Exotic Veggie Pasta': {'price': '179', 'veg_or_non_veg': 'Veg'}, 'Red Penne Chicken Pasta': {'price': '205', 'veg_or_non_veg': 'Non-veg'}, 'White Penne Alfredo Pasta': {'price': '152', 'veg_or_non_veg': 'Veg'}, 'White Penne Mushroom Pasta': {'price': '145', 'veg_or_non_veg': 'Veg'}, 'White Exotic Veggie Pasta': {'price': '179', 'veg_or_non_veg': 'Veg'}, 'White Penne Chicken Pasta': {'price': '205', 'veg_or_non_veg': 'Non-veg'}, 'Mix Sauce Penne Alfredo Pasta': {'price': '152', 'veg_or_non_veg': 'Veg'}, 'Mix Sauce Penne Mushroom Pasta': {'price': '145', 'veg_or_non_veg': 'Veg'}, 'Mix Sauce Exotic Veggie Pasta': {'price': '179', 'veg_or_non_veg': 'Veg'}, 'Mix Sauce Penne Chicken Pasta': {'price': '205', 'veg_or_non_veg': 'Non-veg'}, 'American crunchy veg pasta': {'price': '196', 'veg_or_non_veg': 'Veg'}, 'American Crunchy chicken pasta': {'price': '215', 'veg_or_non_veg': 'Non-veg'}}, 'Non Veg Supreme Pizza': {'8 \\\" Regular Spicy Chicken Pizza': {'price': '312', 'veg_or_non_veg': 'Non-veg'}, '10 \\\" Medium Spicy Chicken Pizza': {'price': '432', 'veg_or_non_veg': 'Non-veg'}, '13 \\\" Large Spicy Chicken Pizza': {'price': '594', 'veg_or_non_veg': 'Non-veg'}, '8 \\\" Regular Chicken Love Pizza': {'price': '312', 'veg_or_non_veg': 'Non-veg'}, '10 \\\" Medium Chicken Love Pizza': {'price': '432', 'veg_or_non_veg': 'Non-veg'}, '13 \\\" Large Chicken Love Pizza': {'price': '594', 'veg_or_non_veg': 'Non-veg'}, '8 \\\" Regular Loaded Chicken Pizza': {'price': '312', 'veg_or_non_veg': 'Non-veg'}, '10 \\\" Medium Loaded Chicken Pizza': {'price': '432', 'veg_or_non_veg': 'Non-veg'}, '13 \\\" Large Loaded Chicken Pizza': {'price': '594', 'veg_or_non_veg': 'Non-veg'}}, 'Non Veg Delight Pizza': {'8 \\\" Regular Hawaiian Delight Pizza': {'price': '228', 'veg_or_non_veg': 'Non-veg'}, '10 \\\" Medium Hawaiian Delight Pizza': {'price': '378', 'veg_or_non_veg': 'Non-veg'}, '13 \\\" Large Hawaiian Delight Pizza': {'price': '495', 'veg_or_non_veg': 'Non-veg'}, '8 \\\" Regular Golden Delight Pizza': {'price': '228', 'veg_or_non_veg': 'Non-veg'}, '10 \\\" Medium Golden Delight Pizza': {'price': '378', 'veg_or_non_veg': 'Non-veg'}, '13 \\\" Large Golden Delight Pizza': {'price': '495', 'veg_or_non_veg': 'Non-veg'}}, 'Salad': {'Paneer Tikka Salad': {'price': '158', 'veg_or_non_veg': 'Veg'}, 'Veg Tikki Salad': {'price': '152', 'veg_or_non_veg': 'Veg'}, 'Veg Delight Salad': {'price': '145', 'veg_or_non_veg': 'Veg'}, 'Chicken Tikka Salad': {'price': '172', 'veg_or_non_veg': 'Non-veg'}, 'Chicken Delight Salad': {'price': '189', 'veg_or_non_veg': 'Non-veg'}, 'Saute Chicken Salad': {'price': '166', 'veg_or_non_veg': 'Non-veg'}, 'Egg Salad': {'price': '166', 'veg_or_non_veg': 'Non-veg'}, 'Nacho Salad': {'price': '188', 'veg_or_non_veg': 'Veg'}, 'Crispy veg saled': {'price': '188', 'veg_or_non_veg': 'Veg'}}, 'Non Veg Super Pizza': {'8 \\\" Regular Chicken Tikka Pizza': {'price': '187', 'veg_or_non_veg': 'Non-veg'}, '10 \\\" Medium Chicken Tikka Pizza': {'price': '330', 'veg_or_non_veg': 'Non-veg'}, '13 \\\" Large Chicken Tikka Pizza': {'price': '463', 'veg_or_non_veg': 'Non-veg'}, '8 \\\" Regular Tandoori Chicken Pizza': {'price': '187', 'veg_or_non_veg': 'Non-veg'}, '10 \\\" Medium Tandoori Chicken Pizza': {'price': '330', 'veg_or_non_veg': 'Non-veg'}, '13 \\\" Large Tandoori Chicken Pizza': {'price': '463', 'veg_or_non_veg': 'Non-veg'}}, 'Swiggy Special Combos': {'1 Aloo Tikki Burger + 1 Single Topping Onion Pizza': {'price': '140', 'veg_or_non_veg': 'Veg'}, '1 Aloo Tikki Burger + 1 Single Topping Corn Pizza': {'price': '150', 'veg_or_non_veg': 'Veg'}}}\", \"https://www.swiggy.com/restaurants/theka-coffee-desi-central-raipura-abohar-158203\", \"Abohar\", \"Abohar\", \"NaN\", \"NaN\"], [\"187912\", \"Singh Hut\", \"3.7\", \"20+ ratings\", \"\\u20b9 250\", \"Singh Hut, CIRCULAR ROAD NEAR NEHRU PARK ABOHAR\", \"Fast Food,Indian\", \"22119652000167\", \"{'Recommended': {'Malai Chaap': {'price': '200', 'veg_or_non_veg': 'Veg'}, 'Afghani Chaap': {'price': '200', 'veg_or_non_veg': 'Veg'}, 'Tandoori Chaap': {'price': '200', 'veg_or_non_veg': 'Veg'}, 'Pudina Chaap': {'price': '200', 'veg_or_non_veg': 'Veg'}, 'Achari Chaap': {'price': '200', 'veg_or_non_veg': 'Veg'}, 'Chaap Tikka Gravy': {'price': '240', 'veg_or_non_veg': 'Veg'}, 'Keema Chaap Gravy': {'price': '220', 'veg_or_non_veg': 'Veg'}, 'Paneer Tikka Butter Masala': {'price': '300', 'veg_or_non_veg': 'Veg'}, 'Rumali Roti': {'price': '40', 'veg_or_non_veg': 'Veg'}, 'Chilli Chaap': {'price': '200', 'veg_or_non_veg': 'Veg'}, 'Chilli Mushroom': {'price': '280', 'veg_or_non_veg': 'Veg'}, 'Cheese Chilli': {'price': '280', 'veg_or_non_veg': 'Veg'}, 'Manchurian Gravy': {'price': '120', 'veg_or_non_veg': 'Veg'}, 'Chilli Potato': {'price': '140', 'veg_or_non_veg': 'Veg'}, 'Honey Chilli Potato': {'price': '180', 'veg_or_non_veg': 'Veg'}, 'French Fry': {'price': '100', 'veg_or_non_veg': 'Veg'}, 'Veg Spring Roll': {'price': '120', 'veg_or_non_veg': 'Veg'}, 'Momos (10 Pcs)': {'price': '120', 'veg_or_non_veg': 'Veg'}, 'Fried Momos (10 Pcs)': {'price': '140', 'veg_or_non_veg': 'Veg'}, 'Tandoori Momos (8 Pcs)': {'price': '160', 'veg_or_non_veg': 'Veg'}, 'Malai Paneer': {'price': '240', 'veg_or_non_veg': 'Veg'}, 'Veg Chow mien': {'price': '120', 'veg_or_non_veg': 'Veg'}, 'Cheese Chow mien': {'price': '140', 'veg_or_non_veg': 'Veg'}, 'Singapore Chow mien': {'price': '140', 'veg_or_non_veg': 'Veg'}, 'Chaap Roll': {'price': '180', 'veg_or_non_veg': 'Veg'}, 'Combos': {'price': '200', 'veg_or_non_veg': 'Veg'}}, 'Soya Chaap': {'Malai Chaap': {'price': '200', 'veg_or_non_veg': 'Veg'}, 'Afghani Chaap': {'price': '200', 'veg_or_non_veg': 'Veg'}, 'Tandoori Chaap': {'price': '200', 'veg_or_non_veg': 'Veg'}, 'Pudina Chaap': {'price': '200', 'veg_or_non_veg': 'Veg'}, 'Achari Chaap': {'price': '200', 'veg_or_non_veg': 'Veg'}, 'Irani Chaap': {'price': '200', 'veg_or_non_veg': 'Veg'}, 'Fried Chaap': {'price': '240', 'veg_or_non_veg': 'Veg'}}, 'Gravy Item': {'Chaap Tikka Gravy': {'price': '240', 'veg_or_non_veg': 'Veg'}, 'Keema Chaap Gravy': {'price': '220', 'veg_or_non_veg': 'Veg'}, 'Paneer Tikka Butter Masala': {'price': '300', 'veg_or_non_veg': 'Veg'}, 'Kadai Paneer': {'price': '300', 'veg_or_non_veg': 'Veg'}, 'Mushroom Tikka Masala': {'price': '300', 'veg_or_non_veg': 'Veg'}, 'Rumali Roti': {'price': '40', 'veg_or_non_veg': 'Veg'}}, 'Chinese Hot': {'Chilli Chaap': {'price': '200', 'veg_or_non_veg': 'Veg'}, 'Chilli Mushroom': {'price': '280', 'veg_or_non_veg': 'Veg'}, 'Cheese Chilli': {'price': '280', 'veg_or_non_veg': 'Veg'}, 'Manchurian Gravy': {'price': '120', 'veg_or_non_veg': 'Veg'}, 'Chilli Potato': {'price': '140', 'veg_or_non_veg': 'Veg'}, 'Honey Chilli Potato': {'price': '180', 'veg_or_non_veg': 'Veg'}, 'French Fry': {'price': '100', 'veg_or_non_veg': 'Veg'}, 'Veg Spring Roll': {'price': '120', 'veg_or_non_veg': 'Veg'}}, 'Momos': {'Momos (10 Pcs)': {'price': '120', 'veg_or_non_veg': 'Veg'}, 'Fried Momos (10 Pcs)': {'price': '140', 'veg_or_non_veg': 'Veg'}, 'Tandoori Momos (8 Pcs)': {'price': '160', 'veg_or_non_veg': 'Veg'}, 'Masala Fried Momos (8 Pcs)': {'price': '160', 'veg_or_non_veg': 'Veg'}}, 'Soup': {'Veg Manchow Soup': {'price': '50', 'veg_or_non_veg': 'Veg'}}, 'Paneer': {'Malai Paneer': {'price': '240', 'veg_or_non_veg': 'Veg'}, 'Afghani Paneer': {'price': '240', 'veg_or_non_veg': 'Veg'}, 'Irani Paneer': {'price': '240', 'veg_or_non_veg': 'Veg'}, 'Tandoori Paneer': {'price': '220', 'veg_or_non_veg': 'Veg'}, 'Pudina Paneer': {'price': '220', 'veg_or_non_veg': 'Veg'}, 'Achari Paneer': {'price': '220', 'veg_or_non_veg': 'Veg'}, 'Golden Fried Paneer': {'price': '240', 'veg_or_non_veg': 'Veg'}}, 'Mushroom': {'Malai Mushroom': {'price': '200', 'veg_or_non_veg': 'Veg'}, 'Afghani Mushroom': {'price': '200', 'veg_or_non_veg': 'Veg'}, 'Irani Mushroom': {'price': '200', 'veg_or_non_veg': 'Veg'}, 'Tandoori Mushroom': {'price': '180', 'veg_or_non_veg': 'Veg'}, 'Pudina Mushroom': {'price': '180', 'veg_or_non_veg': 'Veg'}, 'Achari Mushroom': {'price': '180', 'veg_or_non_veg': 'Veg'}, 'Golden Fried Mushroom': {'price': '240', 'veg_or_non_veg': 'Veg'}}, 'Chow mien': {'Veg Chow mien': {'price': '120', 'veg_or_non_veg': 'Veg'}, 'Veg Hakka Chow mien': {'price': '140', 'veg_or_non_veg': 'Veg'}, 'Cheese Chow mien': {'price': '140', 'veg_or_non_veg': 'Veg'}, 'Singapore Chow mien': {'price': '140', 'veg_or_non_veg': 'Veg'}, 'Mixed Veg Chow mien': {'price': '160', 'veg_or_non_veg': 'Veg'}, 'Chaap Chow mien': {'price': '140', 'veg_or_non_veg': 'Veg'}}, 'Rumali Roll': {'Paneer Roll': {'price': '200', 'veg_or_non_veg': 'Veg'}, 'Chaap Roll': {'price': '180', 'veg_or_non_veg': 'Veg'}, 'Mushroom Roll': {'price': '180', 'veg_or_non_veg': 'Veg'}, 'Mixed Roll': {'price': '220', 'veg_or_non_veg': 'Veg'}}, 'Rumali Package': {'Combos': {'price': '200', 'veg_or_non_veg': 'Veg'}}}\", \"https://www.swiggy.com/restaurants/singh-hut-nehru-park-main-bazar-abohar-187912\", \"Abohar\", \"Abohar\", \"NaN\", \"NaN\"], [\"543530\", \"GRILL MASTERS\", \"--\", \"Too Few Ratings\", \"\\u20b9 250\", \"GRILL MASTERS, ADA Heights, Abohar - Hanumangarh Rd, Raipura, Abohar, Punjab 152116, India\", \"Italian-American,Fast Food\", \"12122201000053\", \"{'Veg Burgers': {'Junior': {'price': '65', 'veg_or_non_veg': 'Veg'}, 'Texas': {'price': '90', 'veg_or_non_veg': 'Veg'}, 'New Yorker': {'price': '120', 'veg_or_non_veg': 'Veg'}, 'Paneer Crisp': {'price': '120', 'veg_or_non_veg': 'Veg'}, 'Giga Bite': {'price': '130', 'veg_or_non_veg': 'Veg'}, 'Mexican Paneer': {'price': '145', 'veg_or_non_veg': 'Veg'}, 'Veg Mountain': {'price': '160', 'veg_or_non_veg': 'Veg'}}, 'Non-Veg Burgers': {'Compact Burger': {'price': '80', 'veg_or_non_veg': 'Non-veg'}, 'Bad Boy': {'price': '105', 'veg_or_non_veg': 'Non-veg'}, 'Big Devil': {'price': '130', 'veg_or_non_veg': 'Non-veg'}, 'Illegal Burger': {'price': '130', 'veg_or_non_veg': 'Non-veg'}, 'Grilled Chicken Burger': {'price': '145', 'veg_or_non_veg': 'Non-veg'}, 'Crispy Chicken Burger': {'price': '160', 'veg_or_non_veg': 'Non-veg'}, 'The Heavy Driver': {'price': '185', 'veg_or_non_veg': 'Non-veg'}, 'Chicken Mountain': {'price': '185', 'veg_or_non_veg': 'Non-veg'}}, 'Veg Wraps': {'Veg Wrap': {'price': '145', 'veg_or_non_veg': 'Veg'}, 'Paneer Wrap': {'price': '160', 'veg_or_non_veg': 'Veg'}, 'Mexican Tortilla': {'price': '170', 'veg_or_non_veg': 'Veg'}, 'Peri Peri Paneer Wrap': {'price': '185', 'veg_or_non_veg': 'Veg'}}, 'Non Veg Wraps': {'Chicken Barbeque': {'price': '160', 'veg_or_non_veg': 'Non-veg'}, 'Chicken Crust Wrap': {'price': '170', 'veg_or_non_veg': 'Non-veg'}, 'Chicken Salami Wrap': {'price': '185', 'veg_or_non_veg': 'Non-veg'}, 'Crispy Chicken Wrap': {'price': '195', 'veg_or_non_veg': 'Non-veg'}, 'Chicken Tikka Wrap': {'price': '195', 'veg_or_non_veg': 'Non-veg'}, 'Chicken Southern Spice': {'price': '185', 'veg_or_non_veg': 'Non-veg'}}, 'Veg Grilled Sandwiches': {'Warm Up Sandwich': {'price': '120', 'veg_or_non_veg': 'Veg'}, 'Cheesy Corn Sandwich': {'price': '145', 'veg_or_non_veg': 'Veg'}, 'Mexican Wave Sandwich': {'price': '170', 'veg_or_non_veg': 'Veg'}, 'Paneer Tikka Sandwich': {'price': '195', 'veg_or_non_veg': 'Veg'}}, 'Non-Veg Grilled Sandwiches': {'Chicken Salami': {'price': '170', 'veg_or_non_veg': 'Non-veg'}, 'Saucy Mexicano': {'price': '195', 'veg_or_non_veg': 'Non-veg'}, 'Chicken Paradise': {'price': '195', 'veg_or_non_veg': 'Non-veg'}, 'Fiery Chicken': {'price': '210', 'veg_or_non_veg': 'Non-veg'}}, 'Veg Pizzas': {'Cheese & Onion': {'price': '95', 'veg_or_non_veg': 'Veg'}, 'Cheese & Corn': {'price': '95', 'veg_or_non_veg': 'Veg'}, 'Cheese & Paneer': {'price': '120', 'veg_or_non_veg': 'Veg'}, 'Queen Margherita [Small]': {'price': '185', 'veg_or_non_veg': 'Veg'}, 'Veggie Garden [Small]': {'price': '195', 'veg_or_non_veg': 'Veg'}, 'Corn & Olive [Small]': {'price': '195', 'veg_or_non_veg': 'Veg'}, 'Farm Fresh [Small]': {'price': '210', 'veg_or_non_veg': 'Veg'}, 'Paneer Bingo [Small]': {'price': '210', 'veg_or_non_veg': 'Veg'}, 'Mexican Pizza [Small]': {'price': '210', 'veg_or_non_veg': 'Veg'}, 'Paneer Tikka [Small]': {'price': '235', 'veg_or_non_veg': 'Veg'}, 'Grills Special [Small]': {'price': '235', 'veg_or_non_veg': 'Veg'}, 'Queen Margherita [Large]': {'price': '325', 'veg_or_non_veg': 'Veg'}, 'Corn & Olive [Large]': {'price': '365', 'veg_or_non_veg': 'Veg'}, 'Farm Fresh [Large]': {'price': '390', 'veg_or_non_veg': 'Veg'}, 'Paneer Bingo [Large]': {'price': '390', 'veg_or_non_veg': 'Veg'}, 'Mexican Pizza [Large]': {'price': '390', 'veg_or_non_veg': 'Veg'}, 'Paneer Tikka [Large]': {'price': '420', 'veg_or_non_veg': 'Veg'}, 'Garlic Exotica [Large]': {'price': '420', 'veg_or_non_veg': 'Veg'}, 'Grills Special [Large]': {'price': '420', 'veg_or_non_veg': 'Veg'}, 'Cheese & Capsicum': {'price': '95', 'veg_or_non_veg': 'Veg'}, 'Veggie Garden [Large]': {'price': '365', 'veg_or_non_veg': 'Veg'}, 'The Lord of Cheese [Small]': {'price': '235', 'veg_or_non_veg': 'Veg'}, 'The Lord of Cheese [Large]': {'price': '420', 'veg_or_non_veg': 'Veg'}, 'Garlic Exotica [Small]': {'price': '235', 'veg_or_non_veg': 'Veg'}}, 'Garlic Bread': {'Cheese Garlic Bread': {'price': '120', 'veg_or_non_veg': 'Veg'}, 'Loaded Garlic Bread': {'price': '145', 'veg_or_non_veg': 'Veg'}}, 'Non Veg Pizzas': {'Grilled Chicken Pizza [Small]': {'price': '250', 'veg_or_non_veg': 'Non-veg'}, 'Chicken Makhani Pizza [Small]': {'price': '290', 'veg_or_non_veg': 'Non-veg'}, 'Chicken Monster Pizza [Small]': {'price': '300', 'veg_or_non_veg': 'Non-veg'}, 'Grilled Chicken Pizza [Large]': {'price': '420', 'veg_or_non_veg': 'Non-veg'}, 'Chicken Kebab Pizza [Large]': {'price': '420', 'veg_or_non_veg': 'Non-veg'}, 'Chicken Makhani Pizza [Large]': {'price': '455', 'veg_or_non_veg': 'Non-veg'}, 'Peri Peri Chicken Pizza [Large]': {'price': '455', 'veg_or_non_veg': 'Non-veg'}, 'Chicken Monster Pizza [Large]': {'price': '495', 'veg_or_non_veg': 'Non-veg'}, 'Chicken Kebab Pizza [Small]': {'price': '250', 'veg_or_non_veg': 'Non-veg'}, 'Peri Peri Chicken Pizza [Small]': {'price': '290', 'veg_or_non_veg': 'Non-veg'}}, 'Pasta-La-Vista': {'Veg White Sauce Pasta': {'price': '185', 'veg_or_non_veg': 'Veg'}, 'Veg Red Sauce Pasta': {'price': '185', 'veg_or_non_veg': 'Veg'}, 'Veg Mix Sauce Pasta': {'price': '195', 'veg_or_non_veg': 'Veg'}, 'Tandoori Pasta': {'price': '195', 'veg_or_non_veg': 'Veg'}, 'Chicken White Sauce Pasta': {'price': '250', 'veg_or_non_veg': 'Non-veg'}, 'Chicken Red Sauce Pasta': {'price': '250', 'veg_or_non_veg': 'Non-veg'}, 'Chicken Mix Sauce Pasta': {'price': '260', 'veg_or_non_veg': 'Non-veg'}, 'Chicken Tandoori Pasta': {'price': '260', 'veg_or_non_veg': 'Non-veg'}}, 'Shakespears': {'Vanilla Shake': {'price': '120', 'veg_or_non_veg': 'Veg'}, 'Naughty Strawberry': {'price': '120', 'veg_or_non_veg': 'Veg'}, 'Butterscotch Shake': {'price': '130', 'veg_or_non_veg': 'Veg'}, 'Chocolate Shake': {'price': '130', 'veg_or_non_veg': 'Veg'}, 'Black Currant Shake': {'price': '130', 'veg_or_non_veg': 'Veg'}, 'Cold Coffee': {'price': '130', 'veg_or_non_veg': 'Veg'}, 'Caramel Coffee': {'price': '145', 'veg_or_non_veg': 'Veg'}, 'Classic Oreo': {'price': '160', 'veg_or_non_veg': 'Veg'}, 'Chocolate Oreo': {'price': '160', 'veg_or_non_veg': 'Veg'}, 'Veryberry Oreo': {'price': '160', 'veg_or_non_veg': 'Veg'}}, 'Let's Cool Down': {'Lemon Ice Tea': {'price': '80', 'veg_or_non_veg': 'Veg'}, 'Virgin Mojito': {'price': '95', 'veg_or_non_veg': 'Veg'}, 'Peach Mojito': {'price': '95', 'veg_or_non_veg': 'Veg'}, 'Blueberry Mojito': {'price': '95', 'veg_or_non_veg': 'Veg'}, 'Watermelon Mojito': {'price': '95', 'veg_or_non_veg': 'Veg'}, 'Green Apple Mojito': {'price': '95', 'veg_or_non_veg': 'Veg'}}, 'Crispy Chicken': {'Chicken Popcorn': {'price': '210', 'veg_or_non_veg': 'Non-veg'}, 'Chicken Leg [2 Pcs]': {'price': '140', 'veg_or_non_veg': 'Non-veg'}, 'Chicken Wings [6 Pcs]': {'price': '185', 'veg_or_non_veg': 'Non-veg'}, 'Chicken Strips [3 Pcs]': {'price': '145', 'veg_or_non_veg': 'Non-veg'}, 'Peri Peri Chicken Popcorn': {'price': '235', 'veg_or_non_veg': 'Non-veg'}, 'Butter Chicken Popcorn': {'price': '235', 'veg_or_non_veg': 'Non-veg'}}, 'Salads': {'Veg Crunch': {'price': '145', 'veg_or_non_veg': 'Veg'}, 'Paneer Crunch': {'price': '170', 'veg_or_non_veg': 'Veg'}, 'Chicken Salad': {'price': '195', 'veg_or_non_veg': 'Non-veg'}, 'Chicken Protein Diet': {'price': '210', 'veg_or_non_veg': 'Non-veg'}, 'Fiery Chicken Salad': {'price': '210', 'veg_or_non_veg': 'Non-veg'}, 'Chicken Salami Salad': {'price': '210', 'veg_or_non_veg': 'Non-veg'}}, 'Sides': {'French Fries': {'price': '105', 'veg_or_non_veg': 'Veg'}, 'Peri Peri Fries': {'price': '130', 'veg_or_non_veg': 'Veg'}, 'Cheese Loaded Fries': {'price': '160', 'veg_or_non_veg': 'Veg'}, 'Peri Peri Potato Pops': {'price': '160', 'veg_or_non_veg': 'Veg'}, 'Chicken Nuggets': {'price': '170', 'veg_or_non_veg': 'Non-veg'}, 'Peri Peri Veggie Fingers': {'price': '185', 'veg_or_non_veg': 'Veg'}, 'Peri Peri Cheese Loaded': {'price': '185', 'veg_or_non_veg': 'Veg'}}, 'Extras': {'Cheese Slice': {'price': '30', 'veg_or_non_veg': 'Veg'}, 'Salami': {'price': '30', 'veg_or_non_veg': 'Non-veg'}, 'Cheesy Dip': {'price': '30', 'veg_or_non_veg': 'Veg'}, 'Tandoori Dip': {'price': '30', 'veg_or_non_veg': 'Veg'}, 'Chilli Garlic Dip': {'price': '30', 'veg_or_non_veg': 'Veg'}, 'Island Dip': {'price': '30', 'veg_or_non_veg': 'Veg'}}}\", \"https://www.swiggy.com/restaurants/grill-masters-central-abohar-abohar-543530\", \"Abohar\", \"Abohar\", \"NaN\", \"NaN\"]];\n",
              "\n",
              "    // Define the dt_args\n",
              "    let dt_args = {\"order\": [], \"dom\": \"t\"};\n",
              "    dt_args[\"data\"] = data;\n",
              "\n",
              "    $(document).ready(function () {\n",
              "        \n",
              "        $('#b120c3ca-7583-45a6-a19c-d3399b1ef050').DataTable(dt_args);\n",
              "    });\n",
              "</script>\n",
              "</div>\n"
            ]
          },
          "metadata": {}
        }
      ],
      "source": [
        "show(df.head(5))"
      ]
    },
    {
      "cell_type": "code",
      "execution_count": 7,
      "metadata": {
        "colab": {
          "base_uri": "https://localhost:8080/"
        },
        "id": "GfSh7yrzM6cr",
        "outputId": "5ed9c2d8-bab9-4067-baf7-3ac0d0294e47"
      },
      "outputs": [
        {
          "output_type": "execute_result",
          "data": {
            "text/plain": [
              "(160621, 14)"
            ]
          },
          "metadata": {},
          "execution_count": 7
        }
      ],
      "source": [
        "# DATA CLEANING\n",
        "# reset index as a column and rename column index and name\n",
        "df.reset_index(level=0, inplace=True)\n",
        "df = df.rename(columns={'index':'restaurant_id', 'name':'restaurant'})\n",
        "# print(type(df['restaurant_id']))\n",
        "df.drop_duplicates(subset=['restaurant_id'], keep='first', inplace = True)\n",
        "#df.set_index('id', inplace=True)\n",
        "df.shape"
      ]
    },
    {
      "cell_type": "code",
      "execution_count": 8,
      "metadata": {
        "colab": {
          "base_uri": "https://localhost:8080/",
          "height": 247
        },
        "id": "FV_1X-c5M6cr",
        "outputId": "0a0a269f-5391-4ea1-c869-f97c4e066179"
      },
      "outputs": [
        {
          "output_type": "display_data",
          "data": {
            "text/plain": [
              "<IPython.core.display.HTML object>"
            ],
            "text/html": [
              "<style>.itables table td {\n",
              "    text-overflow: ellipsis;\n",
              "    overflow: hidden;\n",
              "}\n",
              "\n",
              ".itables table th {\n",
              "    text-overflow: ellipsis;\n",
              "    overflow: hidden;\n",
              "}\n",
              "\n",
              ".itables thead input {\n",
              "    width: 100%;\n",
              "    padding: 3px;\n",
              "    box-sizing: border-box;\n",
              "}\n",
              "\n",
              ".itables tfoot input {\n",
              "    width: 100%;\n",
              "    padding: 3px;\n",
              "    box-sizing: border-box;\n",
              "}\n",
              "</style>\n",
              "<div class=\"itables\">\n",
              "<table id=\"e687ebbd-b68d-497b-a993-3674b3ac949b\" class=\"display nowrap\"style=\"table-layout:auto;width:auto;margin:auto;caption-side:bottom\"><thead>\n",
              "    <tr style=\"text-align: right;\">\n",
              "      <th></th>\n",
              "      <th>restaurant_id</th>\n",
              "      <th>restaurant</th>\n",
              "      <th>rating</th>\n",
              "      <th>rating_count</th>\n",
              "      <th>cost</th>\n",
              "      <th>address</th>\n",
              "      <th>cuisine</th>\n",
              "      <th>lic_no</th>\n",
              "      <th>menu</th>\n",
              "      <th>link</th>\n",
              "      <th>city</th>\n",
              "      <th>sub_region</th>\n",
              "      <th>type</th>\n",
              "      <th>price</th>\n",
              "    </tr>\n",
              "  </thead><tbody><tr><td>Loading... (need <a href=https://mwouts.github.io/itables/troubleshooting.html>help</a>?)</td></tr></tbody></table>\n",
              "<link rel=\"stylesheet\" type=\"text/css\" href=\"https://cdn.datatables.net/1.13.1/css/jquery.dataTables.min.css\">\n",
              "<script type=\"module\">\n",
              "    // Import jquery and DataTable\n",
              "    import 'https://code.jquery.com/jquery-3.6.0.min.js';\n",
              "    import dt from 'https://cdn.datatables.net/1.12.1/js/jquery.dataTables.mjs';\n",
              "    dt($);\n",
              "\n",
              "    // Define the table data\n",
              "    const data = [[0, \"567335\", \"AB FOODS POINT\", \"--\", \"Too Few Ratings\", \"\\u20b9 200\", \"AB FOODS POINT, NEAR RISHI NARANG DENTAL CLINIC , NEAR IDBI BANK, ABOHAR\", \"Beverages,Pizzas\", \"22122652000138\", \"{'Burger': {'Aloo Tikki Burger': {'price': '40', 'veg_or_non_veg': 'Veg'}, 'Veg Creamy Burger': {'price': '50', 'veg_or_non_veg': 'Veg'}, 'Cheese Burst Burger': {'price': '65', 'veg_or_non_veg': 'Veg'}, 'Paneer Creamy Burger': {'price': '80', 'veg_or_non_veg': 'Veg'}, 'Maxican Burger': {'price': '80', 'veg_or_non_veg': 'Veg'}, 'Bbq Chicken Burger': {'price': '105', 'veg_or_non_veg': 'Non-veg'}, 'Peri Peri Chicken Burger': {'price': '105', 'veg_or_non_veg': 'Non-veg'}}, 'Pasta Must Try': {'White Sauce': {'price': '100', 'veg_or_non_veg': 'Veg'}, 'Red Sauce': {'price': '100', 'veg_or_non_veg': 'Veg'}, 'Pink Sauce': {'price': '125', 'veg_or_non_veg': 'Veg'}, 'Masala Pasta': {'price': '100', 'veg_or_non_veg': 'Veg'}, 'Chicken Pasta': {'price': '125', 'veg_or_non_veg': 'Non-veg'}, 'Egg Pasta': {'price': '125', 'veg_or_non_veg': 'Non-veg'}}, 'Chiness Appetizer': {'Noodles': {'price': '90', 'veg_or_non_veg': 'Veg'}, 'Singapuri Noodles': {'price': '100', 'veg_or_non_veg': 'Veg'}, 'Hakka Noodles': {'price': '90', 'veg_or_non_veg': 'Veg'}, 'Garlic Noodles': {'price': '100', 'veg_or_non_veg': 'Veg'}, 'Paneer Noodles': {'price': '120', 'veg_or_non_veg': 'Veg'}, 'Dry Manchurian': {'price': '190', 'veg_or_non_veg': 'Veg'}, 'Gravy Manchurian': {'price': '200', 'veg_or_non_veg': 'Veg'}, 'Cheese Chilly Dry': {'price': '250', 'veg_or_non_veg': 'Veg'}, 'Cheese Chilly Gravy': {'price': '250', 'veg_or_non_veg': 'Veg'}, 'Egg Chilly': {'price': '220', 'veg_or_non_veg': 'Non-veg'}, 'Chicken Chilly': {'price': '260', 'veg_or_non_veg': 'Non-veg'}, 'Spring Roll [2pc]': {'price': '100', 'veg_or_non_veg': 'Veg'}, 'Momos [8pc]': {'price': '65', 'veg_or_non_veg': 'Veg'}, 'Honey Chilly Patato': {'price': '165', 'veg_or_non_veg': 'Veg'}, 'Honey Chilly Cauliflower': {'price': '165', 'veg_or_non_veg': 'Veg'}, 'Veg Fried Rice': {'price': '125', 'veg_or_non_veg': 'Veg'}, 'Chicken Fried Rice': {'price': '150', 'veg_or_non_veg': 'Non-veg'}}, 'Fried Chicken': {'Kfc Fried Chicken': {'price': '250', 'veg_or_non_veg': 'Non-veg'}, 'Fried Chicken': {'price': '260', 'veg_or_non_veg': 'Non-veg'}}, 'Sandwich': {'Veg Mayo Sandwich': {'price': '65', 'veg_or_non_veg': 'Veg'}, 'Veg Creamy Sandwich': {'price': '80', 'veg_or_non_veg': 'Veg'}, 'Bombay Sandwich': {'price': '90', 'veg_or_non_veg': 'Veg'}, 'Paneer Tikka Sandwich': {'price': '100', 'veg_or_non_veg': 'Veg'}, 'Chicken Sandwich': {'price': '125', 'veg_or_non_veg': 'Non-veg'}, 'Peri Peri Sandwich': {'price': '120', 'veg_or_non_veg': 'Veg'}, 'Egg Sandwich': {'price': '120', 'veg_or_non_veg': 'Non-veg'}}, 'Fries': {'Classical Fries': {'price': '65', 'veg_or_non_veg': 'Veg'}, 'Red Chilli Papper': {'price': '80', 'veg_or_non_veg': 'Veg'}, 'Creamy Fries': {'price': '90', 'veg_or_non_veg': 'Veg'}, 'Peri Peri Fries': {'price': '90', 'veg_or_non_veg': 'Veg'}}, 'Roll & Wrapes': {'Egg Roll': {'price': '80', 'veg_or_non_veg': 'Non-veg'}, 'Veg Roll': {'price': '80', 'veg_or_non_veg': 'Veg'}, 'Paneer Roll': {'price': '90', 'veg_or_non_veg': 'Veg'}, 'Chicken Roll': {'price': '100', 'veg_or_non_veg': 'Non-veg'}, 'Egg Chicken Roll [Double]': {'price': '120', 'veg_or_non_veg': 'Non-veg'}, 'Veg Wrapes': {'price': '100', 'veg_or_non_veg': 'Veg'}, 'Paneer Wrapes': {'price': '120', 'veg_or_non_veg': 'Veg'}, 'Peri Peri Chicken Wrapes': {'price': '125', 'veg_or_non_veg': 'Non-veg'}, 'Egg Wrapes': {'price': '125', 'veg_or_non_veg': 'Non-veg'}}, 'Garlic Bread': {'Simple Garlic Bread': {'price': '65', 'veg_or_non_veg': 'Veg'}, 'Veg Garlic Bread': {'price': '80', 'veg_or_non_veg': 'Veg'}, 'Stuff Garlic Bread': {'price': '120', 'veg_or_non_veg': 'Veg'}, '2 Alao Prantha + Dahi': {'price': '65', 'veg_or_non_veg': 'Veg'}}, 'Prantha': {'Bhature': {'price': '65', 'veg_or_non_veg': 'Veg'}, 'Spl Tiffen [Desi Ghee]': {'price': '90', 'veg_or_non_veg': 'Veg'}, 'Piyaz Prantha Dahi': {'price': '65', 'veg_or_non_veg': 'Veg'}, 'Paneer Prantha + Dahi': {'price': '90', 'veg_or_non_veg': 'Veg'}}, 'Stuff Kulcha': {'Veg Kulcha': {'price': '40', 'veg_or_non_veg': 'Veg'}, 'Veg Mayo Kulcha': {'price': '50', 'veg_or_non_veg': 'Veg'}, 'Masala Kulcha': {'price': '60', 'veg_or_non_veg': 'Veg'}, 'Paneer Kulcha': {'price': '65', 'veg_or_non_veg': 'Veg'}, 'Makhni Kulcha': {'price': '65', 'veg_or_non_veg': 'Veg'}}, 'Maggie & Pav Bhaji': {'Masala Maggie 2 Packet': {'price': '80', 'veg_or_non_veg': 'Veg'}, 'Veg Maggie 2 Packet': {'price': '90', 'veg_or_non_veg': 'Veg'}, 'Tandoori Maggie 2 Packet': {'price': '100', 'veg_or_non_veg': 'Veg'}, 'Chicken Maggie': {'price': '125', 'veg_or_non_veg': 'Non-veg'}, 'Creamy Maggie': {'price': '125', 'veg_or_non_veg': 'Veg'}, 'Egg Maggie': {'price': '125', 'veg_or_non_veg': 'Non-veg'}, 'Pav Bhaji': {'price': '90', 'veg_or_non_veg': 'Veg'}, 'Creamy Pav Bhaji': {'price': '100', 'veg_or_non_veg': 'Veg'}}, 'Mocktails & Cooler': {'Virgin Moijto': {'price': '80', 'veg_or_non_veg': 'Veg'}, 'Blue Curracco': {'price': '90', 'veg_or_non_veg': 'Veg'}, 'Green Apple': {'price': '90', 'veg_or_non_veg': 'Veg'}, 'Pinacolado': {'price': '100', 'veg_or_non_veg': 'Veg'}, 'X Mass Punch': {'price': '100', 'veg_or_non_veg': 'Veg'}, 'Masala Coke': {'price': '65', 'veg_or_non_veg': 'Veg'}, 'Jaljeera': {'price': '65', 'veg_or_non_veg': 'Veg'}}, 'Fresh Dough Regular Pizza': {'Margherita Pizza': {'price': '155', 'veg_or_non_veg': 'Veg'}, 'Cheese Margherita [Double]': {'price': '180', 'veg_or_non_veg': 'Veg'}, 'Capcicum Onion Pizza': {'price': '125', 'veg_or_non_veg': 'Veg'}, 'Mashroom Corn Pizza': {'price': '125', 'veg_or_non_veg': 'Veg'}, 'Only Corn Pizza': {'price': '125', 'veg_or_non_veg': 'Veg'}, 'Only Onion Pizza': {'price': '125', 'veg_or_non_veg': 'Veg'}, 'Onion Olive Pizza': {'price': '125', 'veg_or_non_veg': 'Veg'}}, 'Shakes': {'Vanila Shake': {'price': '100', 'veg_or_non_veg': 'Veg'}, 'Choclate Shake': {'price': '100', 'veg_or_non_veg': 'Veg'}, 'Staweberry Shake': {'price': '100', 'veg_or_non_veg': 'Veg'}, 'Oreo Shake': {'price': '90', 'veg_or_non_veg': 'Veg'}, 'Butter Scotch Shake': {'price': '90', 'veg_or_non_veg': 'Veg'}, 'Banana Shake': {'price': '90', 'veg_or_non_veg': 'Veg'}, 'Pineapple Shake': {'price': '90', 'veg_or_non_veg': 'Veg'}, 'Mango Shake': {'price': '90', 'veg_or_non_veg': 'Veg'}, 'Blue Berry Shake': {'price': '100', 'veg_or_non_veg': 'Veg'}, 'Nutela Shake': {'price': '100', 'veg_or_non_veg': 'Veg'}, 'Kit Kat Shake': {'price': '110', 'veg_or_non_veg': 'Veg'}}, 'Thick Shake': {'Kit   K at Shake': {'price': '120', 'veg_or_non_veg': 'Veg'}, 'Staweberry Oreo Shake': {'price': '120', 'veg_or_non_veg': 'Veg'}, 'Black Current Shake': {'price': '120', 'veg_or_non_veg': 'Veg'}, 'Brownie Shake': {'price': '120', 'veg_or_non_veg': 'Veg'}}, 'Large Pizza': {'Paneer Tikka Pizza': {'price': '230', 'veg_or_non_veg': 'Veg'}, 'Spicy Paneer Pizza': {'price': '230', 'veg_or_non_veg': 'Veg'}, 'Farm House Pizza': {'price': '300', 'veg_or_non_veg': 'Veg'}, 'Country Feast Pizza': {'price': '300', 'veg_or_non_veg': 'Veg'}, 'Paneer Makhni Pizza': {'price': '250', 'veg_or_non_veg': 'Veg'}, 'Otc Onion Tamato Corn Pizza': {'price': '230', 'veg_or_non_veg': 'Veg'}, 'Chicken Pizza': {'price': '300', 'veg_or_non_veg': 'Non-veg'}, 'Peri Peri Paneer Pizza': {'price': '250', 'veg_or_non_veg': 'Veg'}, 'Egg Pizza': {'price': '250', 'veg_or_non_veg': 'Non-veg'}, 'Mashroom Pizza': {'price': '250', 'veg_or_non_veg': 'Veg'}, 'Ab Special Pizza': {'price': '350', 'veg_or_non_veg': 'Veg'}}, 'Cold Coffee': {'Classical Cold Coffee': {'price': '90', 'veg_or_non_veg': 'Veg'}, 'Hezelnut Cold Coffee': {'price': '90', 'veg_or_non_veg': 'Veg'}, 'Frape Cold Coffee': {'price': '90', 'veg_or_non_veg': 'Veg'}}}\", \"https://www.swiggy.com/restaurants/ab-foods-point-central-abohar-abohar-567335\", \"Abohar\", \"Abohar\", \"NaN\", \"NaN\"], [1, \"531342\", \"Janta Sweet House\", \"4.4\", \"50+ ratings\", \"\\u20b9 200\", \"Janta Sweet House, Bazar No.9, Circullar Road, Abohar\", \"Sweets,Bakery\", \"12117201000112\", \"{'Breakfast': {'Veg Grilled Sandwich': {'price': '55', 'veg_or_non_veg': 'Veg'}, 'Veg Sandwich': {'price': '40', 'veg_or_non_veg': 'Veg'}, 'Dhokla': {'price': '300', 'veg_or_non_veg': 'Veg'}, 'Channa Bhatura [2 Pc]': {'price': '95', 'veg_or_non_veg': 'Veg'}, 'Chana Bhatura With Lassi': {'price': '145', 'veg_or_non_veg': 'Veg'}}, 'Drinks (beverages)': {'Mango Shake': {'price': '72', 'veg_or_non_veg': 'Veg'}, 'Milk Badam Shake': {'price': '59', 'veg_or_non_veg': 'Veg'}, 'Namkeen Lassi': {'price': '59', 'veg_or_non_veg': 'Veg'}, 'Cold Coffee': {'price': '67', 'veg_or_non_veg': 'Veg'}, 'Butterscotch Shake': {'price': '59', 'veg_or_non_veg': 'Veg'}, 'Oreo Shake': {'price': '67', 'veg_or_non_veg': 'Veg'}, 'Pineapple Shake': {'price': '59', 'veg_or_non_veg': 'Veg'}, 'Banana Shake': {'price': '59', 'veg_or_non_veg': 'Veg'}, 'Strawberry Shake': {'price': '59', 'veg_or_non_veg': 'Veg'}, 'Roohafza Milkshake': {'price': '59', 'veg_or_non_veg': 'Veg'}, 'Lassi [sweet]': {'price': '59', 'veg_or_non_veg': 'Veg'}}, 'Combos': {'Burgers Pack': {'price': '225', 'veg_or_non_veg': 'Veg'}, 'Barfi Pack': {'price': '250', 'veg_or_non_veg': 'Veg'}, 'Starters Combo': {'price': '225', 'veg_or_non_veg': 'Veg'}, 'Chai Time Combo': {'price': '209', 'veg_or_non_veg': 'Veg'}, 'South Special': {'price': '115', 'veg_or_non_veg': 'Veg'}, 'Snacks Combo': {'price': '167', 'veg_or_non_veg': 'Veg'}, 'Patties Combo': {'price': '105', 'veg_or_non_veg': 'Veg'}, 'Pastry Pack': {'price': '98', 'veg_or_non_veg': 'Veg'}}, 'Sweets': {'Modak Laddu': {'price': '105', 'veg_or_non_veg': 'Veg'}, 'Dhodha': {'price': '125', 'veg_or_non_veg': 'Veg'}, 'Baisan Barfi': {'price': '125', 'veg_or_non_veg': 'Veg'}, 'Rewari Barfi': {'price': '135', 'veg_or_non_veg': 'Veg'}, 'Kesar Laddu (desi Ghee)': {'price': '115', 'veg_or_non_veg': 'Veg'}, 'Moti Pak (desi Ghee)': {'price': '120', 'veg_or_non_veg': 'Veg'}, 'Pinni (desi Ghee)': {'price': '130', 'veg_or_non_veg': 'Veg'}, 'Sohan Halwa': {'price': '135', 'veg_or_non_veg': 'Veg'}, 'Kalakand': {'price': '130', 'veg_or_non_veg': 'Veg'}, 'Chocolate Burfi': {'price': '135', 'veg_or_non_veg': 'Veg'}, 'Elaichi Burfi': {'price': '135', 'veg_or_non_veg': 'Veg'}, 'Kesar Katli': {'price': '130', 'veg_or_non_veg': 'Veg'}, 'Khoya Katli': {'price': '130', 'veg_or_non_veg': 'Veg'}, 'Mandakini Burfi': {'price': '125', 'veg_or_non_veg': 'Veg'}, 'Plain Burfi': {'price': '123', 'veg_or_non_veg': 'Veg'}, 'Anguri Petha': {'price': '100', 'veg_or_non_veg': 'Veg'}, 'Khurmani': {'price': '103', 'veg_or_non_veg': 'Veg'}, 'Murki Chhena': {'price': '113', 'veg_or_non_veg': 'Veg'}, 'Spungi Rasbhari': {'price': '105', 'veg_or_non_veg': 'Veg'}, 'Rasbhari': {'price': '93', 'veg_or_non_veg': 'Veg'}, 'Chamcham': {'price': '90', 'veg_or_non_veg': 'Veg'}, 'Tosha': {'price': '93', 'veg_or_non_veg': 'Veg'}, 'Rasgulla': {'price': '93', 'veg_or_non_veg': 'Veg'}, 'Gulab Jamun': {'price': '93', 'veg_or_non_veg': 'Veg'}, 'Rasmalai [1 Piece]': {'price': '60', 'veg_or_non_veg': 'Veg'}, 'Spungi Rasgulla [1 Piece]': {'price': '44', 'veg_or_non_veg': 'Veg'}, 'Emarti': {'price': '95', 'veg_or_non_veg': 'Veg'}, 'Jullie': {'price': '135', 'veg_or_non_veg': 'Veg'}, 'Kaju Katli': {'price': '273', 'veg_or_non_veg': 'Veg'}, 'Kesar Laddu': {'price': '80', 'veg_or_non_veg': 'Veg'}, 'Moti Choor Laddu': {'price': '75', 'veg_or_non_veg': 'Veg'}, 'Baisan Pinni': {'price': '85', 'veg_or_non_veg': 'Veg'}, 'Dry Fruit Pinni': {'price': '110', 'veg_or_non_veg': 'Veg'}, 'Mango Pera': {'price': '135', 'veg_or_non_veg': 'Veg'}, 'Chana Laddu': {'price': '178', 'veg_or_non_veg': 'Veg'}, 'Chocolate Roll': {'price': '135', 'veg_or_non_veg': 'Veg'}, 'Kesar Roll': {'price': '135', 'veg_or_non_veg': 'Veg'}, 'Pista Roll': {'price': '135', 'veg_or_non_veg': 'Veg'}, 'Malai Pera': {'price': '135', 'veg_or_non_veg': 'Veg'}, 'Mini Pera': {'price': '135', 'veg_or_non_veg': 'Veg'}, 'Badam Cake': {'price': '100', 'veg_or_non_veg': 'Veg'}, 'Coconut Burfi': {'price': '120', 'veg_or_non_veg': 'Veg'}, 'Milk Cake': {'price': '142', 'veg_or_non_veg': 'Veg'}, 'Boondi': {'price': '68', 'veg_or_non_veg': 'Veg'}, 'Sandwich [mithai]': {'price': '105', 'veg_or_non_veg': 'Veg'}, 'Aam Papad Roll': {'price': '186', 'veg_or_non_veg': 'Veg'}, 'Soan Papdi [1 Kg]': {'price': '240', 'veg_or_non_veg': 'Veg'}, 'Sirni [500 Grams]': {'price': '157', 'veg_or_non_veg': 'Veg'}, 'Balushai [500 Grams]': {'price': '142', 'veg_or_non_veg': 'Veg'}, 'Shakarpare [500 Grams]': {'price': '142', 'veg_or_non_veg': 'Veg'}, 'Gurpare [500 Grams]': {'price': '142', 'veg_or_non_veg': 'Veg'}, 'Hot Gulab Jamun [1 Pc]': {'price': '30', 'veg_or_non_veg': 'Veg'}}, 'Special Sweet Gifts': {'Basket Gift Pack': {'price': '470', 'veg_or_non_veg': 'Veg'}, 'Dry Fruit Tray': {'price': '1070', 'veg_or_non_veg': 'Veg'}, 'All Mix Sweet': {'price': '220', 'veg_or_non_veg': 'Veg'}, '3 Line Mix Sweet': {'price': '500', 'veg_or_non_veg': 'Veg'}}, 'Dry Fruit & Nuts': {'Pista Roasted': {'price': '350', 'veg_or_non_veg': 'Veg'}, 'Kishmish': {'price': '170', 'veg_or_non_veg': 'Veg'}, 'Badam Giri': {'price': '370', 'veg_or_non_veg': 'Veg'}, 'Kaju Namkeen Roasted': {'price': '470', 'veg_or_non_veg': 'Veg'}, 'Kaju Plain': {'price': '485', 'veg_or_non_veg': 'Veg'}}, 'Dairy Products': {'Dahi': {'price': '34', 'veg_or_non_veg': 'Veg'}, 'Paneer': {'price': '120', 'veg_or_non_veg': 'Veg'}}, 'Snacks': {'Bhalla Papdi': {'price': '60', 'veg_or_non_veg': 'Veg'}, 'Dahi Bhalla': {'price': '45', 'veg_or_non_veg': 'Veg'}, 'Dahi Vada': {'price': '60', 'veg_or_non_veg': 'Veg'}, 'Special Pav Bhaji': {'price': '135', 'veg_or_non_veg': 'Veg'}, 'Pav Bhaji': {'price': '105', 'veg_or_non_veg': 'Veg'}, 'Cheese Cutlet': {'price': '150', 'veg_or_non_veg': 'Veg'}, 'Veg Cutlet': {'price': '120', 'veg_or_non_veg': 'Veg'}, 'Noodles Cutlet': {'price': '34', 'veg_or_non_veg': 'Veg'}, 'Paneer Pakoda': {'price': '43', 'veg_or_non_veg': 'Veg'}, 'Samosa': {'price': '22', 'veg_or_non_veg': 'Veg'}, 'Samosa With Chana': {'price': '64', 'veg_or_non_veg': 'Veg'}, 'Masala Papad': {'price': '73', 'veg_or_non_veg': 'Veg'}}, 'Patties': {'Noodles Patties': {'price': '30', 'veg_or_non_veg': 'Veg'}, 'Veg Patties': {'price': '23', 'veg_or_non_veg': 'Veg'}, 'Paneer Patties': {'price': '30', 'veg_or_non_veg': 'Veg'}}, 'Burgers And Hot Dogs': {'Cheese Burger Fry': {'price': '75', 'veg_or_non_veg': 'Veg'}, 'Veg Burger Fry': {'price': '60', 'veg_or_non_veg': 'Veg'}, 'Tikki Burger': {'price': '60', 'veg_or_non_veg': 'Veg'}, 'Noodles Burger': {'price': '60', 'veg_or_non_veg': 'Veg'}, 'Cheese Hot Dog': {'price': '75', 'veg_or_non_veg': 'Veg'}, 'Veg Hot Dog': {'price': '60', 'veg_or_non_veg': 'Veg'}}, 'Noodles': {'Mushroom Chowmein': {'price': '164', 'veg_or_non_veg': 'Veg'}, 'Special Chowmein': {'price': '209', 'veg_or_non_veg': 'Veg'}, 'Paneer Chowmein': {'price': '179', 'veg_or_non_veg': 'Veg'}, 'Noodles': {'price': '134', 'veg_or_non_veg': 'Veg'}, 'Singapore Chopsuey': {'price': '164', 'veg_or_non_veg': 'Veg'}, 'American Chopsuey': {'price': '164', 'veg_or_non_veg': 'Veg'}}, 'Starters': {'Cheese Tikka Fry': {'price': '194', 'veg_or_non_veg': 'Veg'}, 'Cheese Corn Roll': {'price': '179', 'veg_or_non_veg': 'Veg'}, 'Cheese Spring Roll': {'price': '194', 'veg_or_non_veg': 'Veg'}, 'Veg Spring Roll': {'price': '149', 'veg_or_non_veg': 'Veg'}, 'Cheese Manchurian With Gravy': {'price': '284', 'veg_or_non_veg': 'Veg'}, 'Cheese Manchurian': {'price': '269', 'veg_or_non_veg': 'Veg'}, 'Veg Manchurian With Gravy': {'price': '209', 'veg_or_non_veg': 'Veg'}, 'Veg Manchurian': {'price': '194', 'veg_or_non_veg': 'Veg'}, 'Mushroom Chilly': {'price': '224', 'veg_or_non_veg': 'Veg'}, 'Cheese Chilli With Gravy': {'price': '320', 'veg_or_non_veg': 'Veg'}, 'Cheese Chilli': {'price': '194', 'veg_or_non_veg': 'Veg'}, 'French Fries': {'price': '105', 'veg_or_non_veg': 'Veg'}, 'Cheese Finger': {'price': '209', 'veg_or_non_veg': 'Veg'}, 'Potato Finger': {'price': '105', 'veg_or_non_veg': 'Veg'}, 'Veg Bullet': {'price': '149', 'veg_or_non_veg': 'Veg'}, 'Cheese Kabab': {'price': '224', 'veg_or_non_veg': 'Veg'}, 'Veg Kabab': {'price': '134', 'veg_or_non_veg': 'Veg'}, 'Veg Cotton Kabab': {'price': '179', 'veg_or_non_veg': 'Veg'}}, 'South Indian Dishes': {'Sambar Vada': {'price': '60', 'veg_or_non_veg': 'Veg'}, 'Mushroom Uttapam': {'price': '120', 'veg_or_non_veg': 'Veg'}, 'Cheese Uttapam': {'price': '120', 'veg_or_non_veg': 'Veg'}, 'Onion Uttapam': {'price': '105', 'veg_or_non_veg': 'Veg'}, 'Special Family Dosa': {'price': '239', 'veg_or_non_veg': 'Veg'}, 'Mushroom Masala Dosa': {'price': '149', 'veg_or_non_veg': 'Veg'}, 'Paneer Dosa': {'price': '149', 'veg_or_non_veg': 'Veg'}, 'Masala Dosa': {'price': '105', 'veg_or_non_veg': 'Veg'}, 'Plain Dosa': {'price': '75', 'veg_or_non_veg': 'Veg'}, 'Onion Butter Masala Dosa': {'price': '149', 'veg_or_non_veg': 'Veg'}, 'Pizza Dosa': {'price': '135', 'veg_or_non_veg': 'Veg'}}, 'Pizza And Pasta': {'Pasta White Sauce': {'price': '179', 'veg_or_non_veg': 'Veg'}, 'Pasta Red Sauce': {'price': '164', 'veg_or_non_veg': 'Veg'}, 'Capsicum Pizza [medium 8 Inches]': {'price': '194', 'veg_or_non_veg': 'Veg'}, 'Cheese And Chilli Pizza [medium 8 Inches]': {'price': '269', 'veg_or_non_veg': 'Veg'}, 'Cheese Pizza [medium 8 Inches]': {'price': '194', 'veg_or_non_veg': 'Veg'}, 'Mushroom Pizza [medium 8 Inches]': {'price': '209', 'veg_or_non_veg': 'Veg'}, 'Onion Pizza [medium 8 Inches]': {'price': '194', 'veg_or_non_veg': 'Veg'}, 'Paneer Tikka Pizza [medium 8 Inches]': {'price': '254', 'veg_or_non_veg': 'Veg'}, 'Veg Pizza [medium 8 Inches]': {'price': '179', 'veg_or_non_veg': 'Veg'}}, 'Mathi & Namkeen': {'Pitthi Samosi': {'price': '70', 'veg_or_non_veg': 'Veg'}, 'Samosa Mathi': {'price': '72.25', 'veg_or_non_veg': 'Veg'}, 'Methi Mathi': {'price': '72.25', 'veg_or_non_veg': 'Veg'}, 'Plain Mathi': {'price': '72.25', 'veg_or_non_veg': 'Veg'}, 'Kaju Matar [190 Grams]': {'price': '60', 'veg_or_non_veg': 'Veg'}, 'Matri [190 Grams]': {'price': '60', 'veg_or_non_veg': 'Veg'}, 'Papri [500 Grams]': {'price': '139', 'veg_or_non_veg': 'Veg'}, 'Pudina Boondi [190 Grams]': {'price': '75', 'veg_or_non_veg': 'Veg'}, 'Plain Boondi [190 Grams]': {'price': '67', 'veg_or_non_veg': 'Veg'}}, 'Cake': {'Fruit Cake': {'price': '90', 'veg_or_non_veg': 'Veg'}, 'Cake [900 Grams]': {'price': '470', 'veg_or_non_veg': 'Veg'}, 'Fruit Cake (egg)': {'price': '110', 'veg_or_non_veg': 'Non-veg'}}, 'Pastries': {'Jam Roll Pastry': {'price': '30', 'veg_or_non_veg': 'Veg'}, 'Chocolate Pastry': {'price': '45', 'veg_or_non_veg': 'Veg'}, 'Black Forest Pastry': {'price': '38', 'veg_or_non_veg': 'Veg'}, 'Swiss Roll Pastry': {'price': '38', 'veg_or_non_veg': 'Veg'}, 'Milk Badam Pastry': {'price': '38', 'veg_or_non_veg': 'Veg'}, 'Butterscotch Pastry': {'price': '38', 'veg_or_non_veg': 'Veg'}, 'Jelly Pastry': {'price': '30', 'veg_or_non_veg': 'Veg'}, 'Strwaberry Pastry': {'price': '23', 'veg_or_non_veg': 'Veg'}, 'Vanila Pastry': {'price': '30', 'veg_or_non_veg': 'Veg'}, 'Pineapple Pastry': {'price': '23', 'veg_or_non_veg': 'Veg'}, 'Choco Lava Cake': {'price': '59', 'veg_or_non_veg': 'Veg'}, 'Cream Roll': {'price': '22', 'veg_or_non_veg': 'Veg'}}, 'Bakery Biscuits': {'Cake Rusk': {'price': '115', 'veg_or_non_veg': 'Non-veg'}, 'Atta Namkeen Biscuit [400 Grams]': {'price': '105', 'veg_or_non_veg': 'Veg'}, 'Atta Sweet Biscuit [400 Grams]': {'price': '105', 'veg_or_non_veg': 'Veg'}, 'French Heart': {'price': '60', 'veg_or_non_veg': 'Veg'}, 'Fan': {'price': '52', 'veg_or_non_veg': 'Veg'}, 'Suju Rusk': {'price': '45', 'veg_or_non_veg': 'Veg'}, 'Atta Biscuit (desi Ghee)': {'price': '100', 'veg_or_non_veg': 'Veg'}, 'Butter Pista Finger': {'price': '100', 'veg_or_non_veg': 'Veg'}}, 'Donuts': {'White Chocolate Donut': {'price': '44', 'veg_or_non_veg': 'Veg'}, 'Chocolate Donut': {'price': '44', 'veg_or_non_veg': 'Veg'}}, 'Navratri Special': {'Pistachio Rabri': {'price': '143', 'veg_or_non_veg': 'Veg'}, 'Sabu Dana Lachha Mix': {'price': '74', 'veg_or_non_veg': 'Veg'}, 'Badam Lachha': {'price': '74', 'veg_or_non_veg': 'Veg'}, 'Potato Papad': {'price': '30', 'veg_or_non_veg': 'Veg'}, 'Potato Chips': {'price': '30', 'veg_or_non_veg': 'Veg'}}, 'Soups': {'Manchow Soup': {'price': '105', 'veg_or_non_veg': 'Veg'}, 'Tomato Cream Soup': {'price': '90', 'veg_or_non_veg': 'Veg'}, 'Tomato Soup': {'price': '90', 'veg_or_non_veg': 'Veg'}, 'Veg Sweet Corn Soup': {'price': '90', 'veg_or_non_veg': 'Veg'}, 'Veg Soup': {'price': '90', 'veg_or_non_veg': 'Veg'}}}\", \"https://www.swiggy.com/restaurants/janta-sweet-house-central-abohar-abohar-531342\", \"Abohar\", \"Abohar\", \"NaN\", \"NaN\"], [2, \"158203\", \"theka coffee desi\", \"3.8\", \"100+ ratings\", \"\\u20b9 100\", \"theka coffee desi, sahtiya sadan road city\", \"Beverages\", \"22121652000190\", \"{'Recommended': {'Cafe Latte Coffee': {'price': '118', 'veg_or_non_veg': 'Veg'}, 'Cafe Mocha Coffee': {'price': '132', 'veg_or_non_veg': 'Veg'}, 'Chocolate Shake': {'price': '118', 'veg_or_non_veg': 'Veg'}, 'Mango Shake': {'price': '118', 'veg_or_non_veg': 'Veg'}, 'Walnut Brownie': {'price': '65', 'veg_or_non_veg': 'Veg'}, 'Chocolaty Frappe': {'price': '158', 'veg_or_non_veg': 'Veg'}, 'French Fries': {'price': '82', 'veg_or_non_veg': 'Veg'}, 'Cheese Garlic Bread': {'price': '124', 'veg_or_non_veg': 'Veg'}, 'Exotic Garlic Bread': {'price': '150', 'veg_or_non_veg': 'Veg'}, 'Paneer Wrap': {'price': '118', 'veg_or_non_veg': 'Veg'}, 'Mexican Veg Wrap': {'price': '92', 'veg_or_non_veg': 'Veg'}, 'Paneer Tikka Sub': {'price': '166', 'veg_or_non_veg': 'Veg'}, '8 \\\" Regular Farm House Pizza': {'price': '217', 'veg_or_non_veg': 'Veg'}, '10 \\\" Medium Farm House Pizza': {'price': '375', 'veg_or_non_veg': 'Veg'}, '13 \\\"Large Farm House Pizza': {'price': '475', 'veg_or_non_veg': 'Veg'}, 'American Cheese Burger': {'price': '158', 'veg_or_non_veg': 'Veg'}, 'Aloo Tikki Burger': {'price': '65', 'veg_or_non_veg': 'Veg'}, 'Veg Burger': {'price': '79', 'veg_or_non_veg': 'Veg'}, 'Chicken Burger': {'price': '92', 'veg_or_non_veg': 'Non-veg'}, '8 \\\" Regular Spicy Paneer Pizza': {'price': '160', 'veg_or_non_veg': 'Veg'}, '13 \\\" Large Spicy Paneer Pizza': {'price': '480', 'veg_or_non_veg': 'Veg'}, 'Paneer Tikka Sandwich': {'price': '145', 'veg_or_non_veg': 'Veg'}, '8 \\\" Regular Paneer Makhani Pizza': {'price': '197', 'veg_or_non_veg': 'Veg'}, '13 \\\" Large Paneer Makhani Pizza': {'price': '499', 'veg_or_non_veg': 'Veg'}, 'Red Penne Alfredo Pasta': {'price': '152', 'veg_or_non_veg': 'Veg'}, 'White Penne Alfredo Pasta': {'price': '152', 'veg_or_non_veg': 'Veg'}, 'Mix Sauce Penne Alfredo Pasta': {'price': '152', 'veg_or_non_veg': 'Veg'}, '10 \\\" Medium Loaded Chicken Pizza': {'price': '432', 'veg_or_non_veg': 'Non-veg'}, 'Paneer Tikka Salad': {'price': '158', 'veg_or_non_veg': 'Veg'}, 'Chicken Delight Salad': {'price': '189', 'veg_or_non_veg': 'Non-veg'}, '8 \\\" Regular Chicken Tikka Pizza': {'price': '187', 'veg_or_non_veg': 'Non-veg'}, '13 \\\" Large Tandoori Chicken Pizza': {'price': '463', 'veg_or_non_veg': 'Non-veg'}}, 'Family Binge Combos': {'2 Strawberry Shake + 2 Punjabi Paneer Cruncher (Without Onion + Garlic) + 1 Mint Mojito Mocktail': {'price': '720', 'veg_or_non_veg': 'Veg'}, '2 Butterscotch Shake + 2 Red Penne Mushroom Pata (Without Onion + Garlic) + 3 Veg Burger (Without Onion + Garlic)': {'price': '862', 'veg_or_non_veg': 'Veg'}, '3 Piece 8\\\" Regular Spicy Corn Tango Pizza (Without Onion + Garlic) + 3 Choclate Shakes': {'price': '932', 'veg_or_non_veg': 'Veg'}, '3 American Cheese Burger (Without Onion + Garlic) + 3 Tcd Special Shake': {'price': '1365', 'veg_or_non_veg': 'Veg'}, '3 Oreo Shake + 3 Paneer Wrap (Without Onion + Garlic)': {'price': '888', 'veg_or_non_veg': 'Veg'}}, 'Hot Coffee': {'Americano Black Coffee': {'price': '65', 'veg_or_non_veg': 'Veg'}, 'Cappuccino Coffee': {'price': '91', 'veg_or_non_veg': 'Veg'}, 'Hot Chocolate Coffee': {'price': '91', 'veg_or_non_veg': 'Veg'}, 'Hazelnut Cappuccino Coffee': {'price': '111', 'veg_or_non_veg': 'Veg'}, 'Cookie Cappuccino Coffee': {'price': '155', 'veg_or_non_veg': 'Veg'}, 'Cafe Latte Coffee': {'price': '118', 'veg_or_non_veg': 'Veg'}, 'Irish Cafe Latte Coffee': {'price': '145', 'veg_or_non_veg': 'Veg'}, 'Caramel Latte Coffee': {'price': '132', 'veg_or_non_veg': 'Veg'}, 'Cafe Mocha Coffee': {'price': '132', 'veg_or_non_veg': 'Veg'}}, 'Tea': {'Assam Tea': {'price': '52', 'veg_or_non_veg': 'Veg'}, 'Green Tea': {'price': '52', 'veg_or_non_veg': 'Veg'}}, 'Thirst Quenchers': {'Lemon Ice Tea': {'price': '89', 'veg_or_non_veg': 'Veg'}, 'Peach Ice Tea': {'price': '89', 'veg_or_non_veg': 'Veg'}, 'Strawberry Ice Tea': {'price': '89', 'veg_or_non_veg': 'Veg'}, 'Classic Lemonade': {'price': '99', 'veg_or_non_veg': 'Veg'}, 'Strawberry Lemonade': {'price': '115', 'veg_or_non_veg': 'Veg'}, 'Mint Lemonade': {'price': '115', 'veg_or_non_veg': 'Veg'}}, 'Shakes Crunchy': {'Oreo Shake': {'price': '145', 'veg_or_non_veg': 'Veg'}, 'TCD Special Shake': {'price': '264', 'veg_or_non_veg': 'Veg'}}, 'Classic Shakes': {'Strawberry Shake': {'price': '118', 'veg_or_non_veg': 'Veg'}, 'Chocolate Shake': {'price': '118', 'veg_or_non_veg': 'Veg'}, 'Butterscotch Shake': {'price': '118', 'veg_or_non_veg': 'Veg'}, 'Vanilla Shake': {'price': '118', 'veg_or_non_veg': 'Veg'}, 'Greenapple Shake': {'price': '125', 'veg_or_non_veg': 'Veg'}, 'Black Current Shake': {'price': '118', 'veg_or_non_veg': 'Veg'}}, 'Shakes Premium': {'Mango Shake': {'price': '118', 'veg_or_non_veg': 'Veg'}, 'Paan Shake': {'price': '131', 'veg_or_non_veg': 'Veg'}, 'Orange chocolate shake': {'price': '143', 'veg_or_non_veg': 'Veg'}}, 'Sweet Moments': {'Walnut Brownie': {'price': '65', 'veg_or_non_veg': 'Veg'}, 'Fruit Sundae': {'price': '113', 'veg_or_non_veg': 'Veg'}, 'Paan Sundae': {'price': '119', 'veg_or_non_veg': 'Veg'}}, 'Cold Coffee': {'Devils Own Desi Style Coffee': {'price': '144', 'veg_or_non_veg': 'Veg'}, 'Classic Cold Coffee': {'price': '119', 'veg_or_non_veg': 'Veg'}, 'Iced Cappuccino Coffee': {'price': '133', 'veg_or_non_veg': 'Veg'}, 'Iced Vanilla Cappuccino Coffee': {'price': '154', 'veg_or_non_veg': 'Veg'}, 'Cafe Frappe': {'price': '145', 'veg_or_non_veg': 'Veg'}, 'Chocolaty Frappe': {'price': '158', 'veg_or_non_veg': 'Veg'}, 'Caramel Frappe': {'price': '160', 'veg_or_non_veg': 'Veg'}}, 'Quick Bites': {'Masala Fries with Dip': {'price': '115', 'veg_or_non_veg': 'Veg'}, 'Mexican Tokari': {'price': '113', 'veg_or_non_veg': 'Veg'}, 'Cheese Shots': {'price': '113', 'veg_or_non_veg': 'Veg'}, 'Veg Fingers': {'price': '86', 'veg_or_non_veg': 'Veg'}, 'Triple S': {'price': '130', 'veg_or_non_veg': 'Non-veg'}, 'Chicken Finger(peri peri)': {'price': '176', 'veg_or_non_veg': 'Non-veg'}, 'Chicken Finger 5pc(Barbeque)': {'price': '177', 'veg_or_non_veg': 'Non-veg'}, 'French Fries': {'price': '82', 'veg_or_non_veg': 'Veg'}, 'Seekh Kabab with Dip': {'price': '91', 'veg_or_non_veg': 'Non-veg'}, 'Chicken Nuggets': {'price': '139', 'veg_or_non_veg': 'Non-veg'}, 'Chicken Popcorn': {'price': '144', 'veg_or_non_veg': 'Non-veg'}, 'Chicken Finger (5 Pcs)': {'price': '150', 'veg_or_non_veg': 'Non-veg'}}, 'Garlic Breads': {'Plain Garlic Bread': {'price': '88', 'veg_or_non_veg': 'Veg'}, 'Cheese Garlic Bread': {'price': '124', 'veg_or_non_veg': 'Veg'}, 'Chilly Corn Garlic Bread': {'price': '142', 'veg_or_non_veg': 'Veg'}, 'Tandoori Cavity': {'price': '119', 'veg_or_non_veg': 'Veg'}, 'Exotic Garlic Bread': {'price': '150', 'veg_or_non_veg': 'Veg'}, 'Roasted Chicken Garlic Bread': {'price': '166', 'veg_or_non_veg': 'Non-veg'}, 'Seekh Kabab Garlic Bread': {'price': '172', 'veg_or_non_veg': 'Non-veg'}}, 'Mocktails': {'Mint Mojito Mocktail': {'price': '155', 'veg_or_non_veg': 'Veg'}, 'Cucumber Lemon Mojito Mocktail': {'price': '152', 'veg_or_non_veg': 'Veg'}, 'Meloneez Mocktail': {'price': '139', 'veg_or_non_veg': 'Veg'}, 'Candid Apple Mocktail': {'price': '145', 'veg_or_non_veg': 'Veg'}, 'TCD Float (Coke with Ice Cream Float) Mocktail': {'price': '73', 'veg_or_non_veg': 'Veg'}, 'Lemon Coke Mocktail': {'price': '60', 'veg_or_non_veg': 'Veg'}, 'Malt (Taste of Beer) Mocktail': {'price': '131', 'veg_or_non_veg': 'Veg'}, 'Blue Curacao': {'price': '148', 'veg_or_non_veg': 'Veg'}, 'Spicy Mango': {'price': '131', 'veg_or_non_veg': 'Veg'}}, 'Wraps': {'Paneer Wrap': {'price': '118', 'veg_or_non_veg': 'Veg'}, 'Seekh Kabab Wrap': {'price': '121', 'veg_or_non_veg': 'Non-veg'}, 'Chicken Tikka Wrap': {'price': '139', 'veg_or_non_veg': 'Non-veg'}, 'Tandoori Chicken Wrap': {'price': '144', 'veg_or_non_veg': 'Non-veg'}, 'Single egg single chicken wrap': {'price': '155', 'veg_or_non_veg': 'Non-veg'}, 'Aloo Wrap': {'price': '78', 'veg_or_non_veg': 'Veg'}, 'Mexican Veg Wrap': {'price': '92', 'veg_or_non_veg': 'Veg'}, 'Egg Wrap': {'price': '92', 'veg_or_non_veg': 'Non-veg'}, 'Pasta Wrap': {'price': '100', 'veg_or_non_veg': 'Veg'}}, 'Sub': {'Paneer Tikka Sub': {'price': '166', 'veg_or_non_veg': 'Veg'}, 'Veg Tikki Sub': {'price': '158', 'veg_or_non_veg': 'Veg'}, 'Veg Delight Sub': {'price': '145', 'veg_or_non_veg': 'Veg'}, 'Chicken Tikka Sub': {'price': '179', 'veg_or_non_veg': 'Non-veg'}, 'Chicken Delight Sub': {'price': '192', 'veg_or_non_veg': 'Non-veg'}, 'Saute Chicken Sub': {'price': '166', 'veg_or_non_veg': 'Non-veg'}}, 'Combos': {'2 Pieces Chicken Tikka Sandwich  +  Classic Lemonade': {'price': '145', 'veg_or_non_veg': 'Non-veg'}, '2 Pieces Paneer Tikka Sandwich + Cappuccino': {'price': '132', 'veg_or_non_veg': 'Veg'}, '1 Veg Burger with Cheese + Classic Cold Coffee': {'price': '190', 'veg_or_non_veg': 'Veg'}, '1 Chicken Burger with Cheese + Classic Cold Coffee': {'price': '198', 'veg_or_non_veg': 'Non-veg'}, 'Mexican Veg Wrap + Lemon Coke': {'price': '145', 'veg_or_non_veg': 'Veg'}, 'Chicken Wrap + Meloneez': {'price': '211', 'veg_or_non_veg': 'Non-veg'}}, 'Veg Supreme Pizza': {'8 \\\" Regular Farm House Pizza': {'price': '217', 'veg_or_non_veg': 'Veg'}, '10 \\\" Medium Farm House Pizza': {'price': '375', 'veg_or_non_veg': 'Veg'}, '13 \\\"Large Farm House Pizza': {'price': '475', 'veg_or_non_veg': 'Veg'}, '8 \\\" Regular Special Wonder Pizza': {'price': '184', 'veg_or_non_veg': 'Veg'}, '10 \\\" Medium Special Wonder Pizza': {'price': '375', 'veg_or_non_veg': 'Veg'}, '13 \\\" Large Special Wonder Pizza': {'price': '475', 'veg_or_non_veg': 'Veg'}}, 'Burgers': {'Punjabi Paneer Cruncher': {'price': '116', 'veg_or_non_veg': 'Veg'}, 'Double Decker Veg Burger': {'price': '145', 'veg_or_non_veg': 'Veg'}, 'American Cheese Burger': {'price': '158', 'veg_or_non_veg': 'Veg'}, 'Exotic Egg Burger': {'price': '118', 'veg_or_non_veg': 'Non-veg'}, 'Spicy Chicken Burger': {'price': '119', 'veg_or_non_veg': 'Non-veg'}, 'Double Decker Chicken Burger': {'price': '172', 'veg_or_non_veg': 'Non-veg'}, 'American chicken burger': {'price': '136', 'veg_or_non_veg': 'Non-veg'}, 'Aloo Tikki Burger': {'price': '65', 'veg_or_non_veg': 'Veg'}, 'Veg Burger': {'price': '79', 'veg_or_non_veg': 'Veg'}, 'Spicy Veg Burger': {'price': '91', 'veg_or_non_veg': 'Veg'}, 'Chicken Burger': {'price': '92', 'veg_or_non_veg': 'Non-veg'}}, 'Veg Delight Pizza': {'8 \\\" Regular Tandoori Paneer Pizza': {'price': '175', 'veg_or_non_veg': 'Veg'}, '10 \\\" Medium Tandoori Paneer Pizza': {'price': '325', 'veg_or_non_veg': 'Veg'}, '13 \\\" Large Tandoori Paneer Pizza': {'price': '450', 'veg_or_non_veg': 'Veg'}, '8 \\\" Regular Hot & Sweet Delight Pizza': {'price': '175', 'veg_or_non_veg': 'Veg'}, '10 \\\"Medium Hot & Sweet Delight Pizza': {'price': '325', 'veg_or_non_veg': 'Veg'}, '13 \\\" Large Hot & Sweet Delight Pizza': {'price': '450', 'veg_or_non_veg': 'Veg'}}, 'Veg Super Pizza': {'8 \\\" Regular Veg Feast Pizza': {'price': '160', 'veg_or_non_veg': 'Veg'}, '10 \\\" Medium Veg Feast Pizza': {'price': '270', 'veg_or_non_veg': 'Veg'}, '13 \\\" Large Veg Feast Pizza': {'price': '480', 'veg_or_non_veg': 'Veg'}, '8 \\\" Regular Spicy Corn Tango Pizza': {'price': '160', 'veg_or_non_veg': 'Veg'}, '13 \\\" Large Spicy Corn Tango Pizza': {'price': '480', 'veg_or_non_veg': 'Veg'}, '8 \\\" Regular Spicy Paneer Pizza': {'price': '160', 'veg_or_non_veg': 'Veg'}, '10 \\\"Medium Spicy Paneer Pizza': {'price': '270', 'veg_or_non_veg': 'Veg'}, '13 \\\" Large Spicy Paneer Pizza': {'price': '480', 'veg_or_non_veg': 'Veg'}}, 'Sandwiches': {'Corn Delight Sandwich': {'price': '102', 'veg_or_non_veg': 'Veg'}, 'Veg Cheese Sandwich': {'price': '118', 'veg_or_non_veg': 'Veg'}, 'Paneer Tikka Sandwich': {'price': '145', 'veg_or_non_veg': 'Veg'}, 'Paneer Makhani Sandwich': {'price': '160', 'veg_or_non_veg': 'Veg'}, 'Mexican Sandwich': {'price': '142', 'veg_or_non_veg': 'Veg'}, 'Veg Delight Sandwich': {'price': '160', 'veg_or_non_veg': 'Veg'}, 'Chicken Tikka Sandwich': {'price': '152', 'veg_or_non_veg': 'Non-veg'}, 'Egg Delight Sandwich': {'price': '131', 'veg_or_non_veg': 'Non-veg'}, 'Chicken Delight Sandwich': {'price': '168', 'veg_or_non_veg': 'Non-veg'}, 'Double Decker Ontario Sandwich': {'price': '209', 'veg_or_non_veg': 'Non-veg'}, 'Schezwan Veg sandwich': {'price': '162', 'veg_or_non_veg': 'Veg'}, 'Schezwan chicken sandwich': {'price': '175', 'veg_or_non_veg': 'Non-veg'}}, 'Single Topping Pizza': {'Cheesy Marghrita (Medium)': {'price': '228', 'veg_or_non_veg': 'Veg'}, 'Cheesy Margheritta Pizza (Large)': {'price': '364', 'veg_or_non_veg': 'Veg'}, 'Cheesy  Margherita (Regular)': {'price': '127', 'veg_or_non_veg': 'Veg'}}, 'Wonder Pizza': {'8 \\\" Regular Paneer Makhani Pizza': {'price': '197', 'veg_or_non_veg': 'Veg'}, '10 \\\" Medium Paneer Makhani Pizza': {'price': '355', 'veg_or_non_veg': 'Veg'}, '13 \\\" Large Paneer Makhani Pizza': {'price': '499', 'veg_or_non_veg': 'Veg'}}, 'Pastas': {'Red Penne Alfredo Pasta': {'price': '152', 'veg_or_non_veg': 'Veg'}, 'Red Penne Mushroom Pasta': {'price': '145', 'veg_or_non_veg': 'Veg'}, 'Red Exotic Veggie Pasta': {'price': '179', 'veg_or_non_veg': 'Veg'}, 'Red Penne Chicken Pasta': {'price': '205', 'veg_or_non_veg': 'Non-veg'}, 'White Penne Alfredo Pasta': {'price': '152', 'veg_or_non_veg': 'Veg'}, 'White Penne Mushroom Pasta': {'price': '145', 'veg_or_non_veg': 'Veg'}, 'White Exotic Veggie Pasta': {'price': '179', 'veg_or_non_veg': 'Veg'}, 'White Penne Chicken Pasta': {'price': '205', 'veg_or_non_veg': 'Non-veg'}, 'Mix Sauce Penne Alfredo Pasta': {'price': '152', 'veg_or_non_veg': 'Veg'}, 'Mix Sauce Penne Mushroom Pasta': {'price': '145', 'veg_or_non_veg': 'Veg'}, 'Mix Sauce Exotic Veggie Pasta': {'price': '179', 'veg_or_non_veg': 'Veg'}, 'Mix Sauce Penne Chicken Pasta': {'price': '205', 'veg_or_non_veg': 'Non-veg'}, 'American crunchy veg pasta': {'price': '196', 'veg_or_non_veg': 'Veg'}, 'American Crunchy chicken pasta': {'price': '215', 'veg_or_non_veg': 'Non-veg'}}, 'Non Veg Supreme Pizza': {'8 \\\" Regular Spicy Chicken Pizza': {'price': '312', 'veg_or_non_veg': 'Non-veg'}, '10 \\\" Medium Spicy Chicken Pizza': {'price': '432', 'veg_or_non_veg': 'Non-veg'}, '13 \\\" Large Spicy Chicken Pizza': {'price': '594', 'veg_or_non_veg': 'Non-veg'}, '8 \\\" Regular Chicken Love Pizza': {'price': '312', 'veg_or_non_veg': 'Non-veg'}, '10 \\\" Medium Chicken Love Pizza': {'price': '432', 'veg_or_non_veg': 'Non-veg'}, '13 \\\" Large Chicken Love Pizza': {'price': '594', 'veg_or_non_veg': 'Non-veg'}, '8 \\\" Regular Loaded Chicken Pizza': {'price': '312', 'veg_or_non_veg': 'Non-veg'}, '10 \\\" Medium Loaded Chicken Pizza': {'price': '432', 'veg_or_non_veg': 'Non-veg'}, '13 \\\" Large Loaded Chicken Pizza': {'price': '594', 'veg_or_non_veg': 'Non-veg'}}, 'Non Veg Delight Pizza': {'8 \\\" Regular Hawaiian Delight Pizza': {'price': '228', 'veg_or_non_veg': 'Non-veg'}, '10 \\\" Medium Hawaiian Delight Pizza': {'price': '378', 'veg_or_non_veg': 'Non-veg'}, '13 \\\" Large Hawaiian Delight Pizza': {'price': '495', 'veg_or_non_veg': 'Non-veg'}, '8 \\\" Regular Golden Delight Pizza': {'price': '228', 'veg_or_non_veg': 'Non-veg'}, '10 \\\" Medium Golden Delight Pizza': {'price': '378', 'veg_or_non_veg': 'Non-veg'}, '13 \\\" Large Golden Delight Pizza': {'price': '495', 'veg_or_non_veg': 'Non-veg'}}, 'Salad': {'Paneer Tikka Salad': {'price': '158', 'veg_or_non_veg': 'Veg'}, 'Veg Tikki Salad': {'price': '152', 'veg_or_non_veg': 'Veg'}, 'Veg Delight Salad': {'price': '145', 'veg_or_non_veg': 'Veg'}, 'Chicken Tikka Salad': {'price': '172', 'veg_or_non_veg': 'Non-veg'}, 'Chicken Delight Salad': {'price': '189', 'veg_or_non_veg': 'Non-veg'}, 'Saute Chicken Salad': {'price': '166', 'veg_or_non_veg': 'Non-veg'}, 'Egg Salad': {'price': '166', 'veg_or_non_veg': 'Non-veg'}, 'Nacho Salad': {'price': '188', 'veg_or_non_veg': 'Veg'}, 'Crispy veg saled': {'price': '188', 'veg_or_non_veg': 'Veg'}}, 'Non Veg Super Pizza': {'8 \\\" Regular Chicken Tikka Pizza': {'price': '187', 'veg_or_non_veg': 'Non-veg'}, '10 \\\" Medium Chicken Tikka Pizza': {'price': '330', 'veg_or_non_veg': 'Non-veg'}, '13 \\\" Large Chicken Tikka Pizza': {'price': '463', 'veg_or_non_veg': 'Non-veg'}, '8 \\\" Regular Tandoori Chicken Pizza': {'price': '187', 'veg_or_non_veg': 'Non-veg'}, '10 \\\" Medium Tandoori Chicken Pizza': {'price': '330', 'veg_or_non_veg': 'Non-veg'}, '13 \\\" Large Tandoori Chicken Pizza': {'price': '463', 'veg_or_non_veg': 'Non-veg'}}, 'Swiggy Special Combos': {'1 Aloo Tikki Burger + 1 Single Topping Onion Pizza': {'price': '140', 'veg_or_non_veg': 'Veg'}, '1 Aloo Tikki Burger + 1 Single Topping Corn Pizza': {'price': '150', 'veg_or_non_veg': 'Veg'}}}\", \"https://www.swiggy.com/restaurants/theka-coffee-desi-central-raipura-abohar-158203\", \"Abohar\", \"Abohar\", \"NaN\", \"NaN\"], [3, \"187912\", \"Singh Hut\", \"3.7\", \"20+ ratings\", \"\\u20b9 250\", \"Singh Hut, CIRCULAR ROAD NEAR NEHRU PARK ABOHAR\", \"Fast Food,Indian\", \"22119652000167\", \"{'Recommended': {'Malai Chaap': {'price': '200', 'veg_or_non_veg': 'Veg'}, 'Afghani Chaap': {'price': '200', 'veg_or_non_veg': 'Veg'}, 'Tandoori Chaap': {'price': '200', 'veg_or_non_veg': 'Veg'}, 'Pudina Chaap': {'price': '200', 'veg_or_non_veg': 'Veg'}, 'Achari Chaap': {'price': '200', 'veg_or_non_veg': 'Veg'}, 'Chaap Tikka Gravy': {'price': '240', 'veg_or_non_veg': 'Veg'}, 'Keema Chaap Gravy': {'price': '220', 'veg_or_non_veg': 'Veg'}, 'Paneer Tikka Butter Masala': {'price': '300', 'veg_or_non_veg': 'Veg'}, 'Rumali Roti': {'price': '40', 'veg_or_non_veg': 'Veg'}, 'Chilli Chaap': {'price': '200', 'veg_or_non_veg': 'Veg'}, 'Chilli Mushroom': {'price': '280', 'veg_or_non_veg': 'Veg'}, 'Cheese Chilli': {'price': '280', 'veg_or_non_veg': 'Veg'}, 'Manchurian Gravy': {'price': '120', 'veg_or_non_veg': 'Veg'}, 'Chilli Potato': {'price': '140', 'veg_or_non_veg': 'Veg'}, 'Honey Chilli Potato': {'price': '180', 'veg_or_non_veg': 'Veg'}, 'French Fry': {'price': '100', 'veg_or_non_veg': 'Veg'}, 'Veg Spring Roll': {'price': '120', 'veg_or_non_veg': 'Veg'}, 'Momos (10 Pcs)': {'price': '120', 'veg_or_non_veg': 'Veg'}, 'Fried Momos (10 Pcs)': {'price': '140', 'veg_or_non_veg': 'Veg'}, 'Tandoori Momos (8 Pcs)': {'price': '160', 'veg_or_non_veg': 'Veg'}, 'Malai Paneer': {'price': '240', 'veg_or_non_veg': 'Veg'}, 'Veg Chow mien': {'price': '120', 'veg_or_non_veg': 'Veg'}, 'Cheese Chow mien': {'price': '140', 'veg_or_non_veg': 'Veg'}, 'Singapore Chow mien': {'price': '140', 'veg_or_non_veg': 'Veg'}, 'Chaap Roll': {'price': '180', 'veg_or_non_veg': 'Veg'}, 'Combos': {'price': '200', 'veg_or_non_veg': 'Veg'}}, 'Soya Chaap': {'Malai Chaap': {'price': '200', 'veg_or_non_veg': 'Veg'}, 'Afghani Chaap': {'price': '200', 'veg_or_non_veg': 'Veg'}, 'Tandoori Chaap': {'price': '200', 'veg_or_non_veg': 'Veg'}, 'Pudina Chaap': {'price': '200', 'veg_or_non_veg': 'Veg'}, 'Achari Chaap': {'price': '200', 'veg_or_non_veg': 'Veg'}, 'Irani Chaap': {'price': '200', 'veg_or_non_veg': 'Veg'}, 'Fried Chaap': {'price': '240', 'veg_or_non_veg': 'Veg'}}, 'Gravy Item': {'Chaap Tikka Gravy': {'price': '240', 'veg_or_non_veg': 'Veg'}, 'Keema Chaap Gravy': {'price': '220', 'veg_or_non_veg': 'Veg'}, 'Paneer Tikka Butter Masala': {'price': '300', 'veg_or_non_veg': 'Veg'}, 'Kadai Paneer': {'price': '300', 'veg_or_non_veg': 'Veg'}, 'Mushroom Tikka Masala': {'price': '300', 'veg_or_non_veg': 'Veg'}, 'Rumali Roti': {'price': '40', 'veg_or_non_veg': 'Veg'}}, 'Chinese Hot': {'Chilli Chaap': {'price': '200', 'veg_or_non_veg': 'Veg'}, 'Chilli Mushroom': {'price': '280', 'veg_or_non_veg': 'Veg'}, 'Cheese Chilli': {'price': '280', 'veg_or_non_veg': 'Veg'}, 'Manchurian Gravy': {'price': '120', 'veg_or_non_veg': 'Veg'}, 'Chilli Potato': {'price': '140', 'veg_or_non_veg': 'Veg'}, 'Honey Chilli Potato': {'price': '180', 'veg_or_non_veg': 'Veg'}, 'French Fry': {'price': '100', 'veg_or_non_veg': 'Veg'}, 'Veg Spring Roll': {'price': '120', 'veg_or_non_veg': 'Veg'}}, 'Momos': {'Momos (10 Pcs)': {'price': '120', 'veg_or_non_veg': 'Veg'}, 'Fried Momos (10 Pcs)': {'price': '140', 'veg_or_non_veg': 'Veg'}, 'Tandoori Momos (8 Pcs)': {'price': '160', 'veg_or_non_veg': 'Veg'}, 'Masala Fried Momos (8 Pcs)': {'price': '160', 'veg_or_non_veg': 'Veg'}}, 'Soup': {'Veg Manchow Soup': {'price': '50', 'veg_or_non_veg': 'Veg'}}, 'Paneer': {'Malai Paneer': {'price': '240', 'veg_or_non_veg': 'Veg'}, 'Afghani Paneer': {'price': '240', 'veg_or_non_veg': 'Veg'}, 'Irani Paneer': {'price': '240', 'veg_or_non_veg': 'Veg'}, 'Tandoori Paneer': {'price': '220', 'veg_or_non_veg': 'Veg'}, 'Pudina Paneer': {'price': '220', 'veg_or_non_veg': 'Veg'}, 'Achari Paneer': {'price': '220', 'veg_or_non_veg': 'Veg'}, 'Golden Fried Paneer': {'price': '240', 'veg_or_non_veg': 'Veg'}}, 'Mushroom': {'Malai Mushroom': {'price': '200', 'veg_or_non_veg': 'Veg'}, 'Afghani Mushroom': {'price': '200', 'veg_or_non_veg': 'Veg'}, 'Irani Mushroom': {'price': '200', 'veg_or_non_veg': 'Veg'}, 'Tandoori Mushroom': {'price': '180', 'veg_or_non_veg': 'Veg'}, 'Pudina Mushroom': {'price': '180', 'veg_or_non_veg': 'Veg'}, 'Achari Mushroom': {'price': '180', 'veg_or_non_veg': 'Veg'}, 'Golden Fried Mushroom': {'price': '240', 'veg_or_non_veg': 'Veg'}}, 'Chow mien': {'Veg Chow mien': {'price': '120', 'veg_or_non_veg': 'Veg'}, 'Veg Hakka Chow mien': {'price': '140', 'veg_or_non_veg': 'Veg'}, 'Cheese Chow mien': {'price': '140', 'veg_or_non_veg': 'Veg'}, 'Singapore Chow mien': {'price': '140', 'veg_or_non_veg': 'Veg'}, 'Mixed Veg Chow mien': {'price': '160', 'veg_or_non_veg': 'Veg'}, 'Chaap Chow mien': {'price': '140', 'veg_or_non_veg': 'Veg'}}, 'Rumali Roll': {'Paneer Roll': {'price': '200', 'veg_or_non_veg': 'Veg'}, 'Chaap Roll': {'price': '180', 'veg_or_non_veg': 'Veg'}, 'Mushroom Roll': {'price': '180', 'veg_or_non_veg': 'Veg'}, 'Mixed Roll': {'price': '220', 'veg_or_non_veg': 'Veg'}}, 'Rumali Package': {'Combos': {'price': '200', 'veg_or_non_veg': 'Veg'}}}\", \"https://www.swiggy.com/restaurants/singh-hut-nehru-park-main-bazar-abohar-187912\", \"Abohar\", \"Abohar\", \"NaN\", \"NaN\"], [4, \"543530\", \"GRILL MASTERS\", \"--\", \"Too Few Ratings\", \"\\u20b9 250\", \"GRILL MASTERS, ADA Heights, Abohar - Hanumangarh Rd, Raipura, Abohar, Punjab 152116, India\", \"Italian-American,Fast Food\", \"12122201000053\", \"{'Veg Burgers': {'Junior': {'price': '65', 'veg_or_non_veg': 'Veg'}, 'Texas': {'price': '90', 'veg_or_non_veg': 'Veg'}, 'New Yorker': {'price': '120', 'veg_or_non_veg': 'Veg'}, 'Paneer Crisp': {'price': '120', 'veg_or_non_veg': 'Veg'}, 'Giga Bite': {'price': '130', 'veg_or_non_veg': 'Veg'}, 'Mexican Paneer': {'price': '145', 'veg_or_non_veg': 'Veg'}, 'Veg Mountain': {'price': '160', 'veg_or_non_veg': 'Veg'}}, 'Non-Veg Burgers': {'Compact Burger': {'price': '80', 'veg_or_non_veg': 'Non-veg'}, 'Bad Boy': {'price': '105', 'veg_or_non_veg': 'Non-veg'}, 'Big Devil': {'price': '130', 'veg_or_non_veg': 'Non-veg'}, 'Illegal Burger': {'price': '130', 'veg_or_non_veg': 'Non-veg'}, 'Grilled Chicken Burger': {'price': '145', 'veg_or_non_veg': 'Non-veg'}, 'Crispy Chicken Burger': {'price': '160', 'veg_or_non_veg': 'Non-veg'}, 'The Heavy Driver': {'price': '185', 'veg_or_non_veg': 'Non-veg'}, 'Chicken Mountain': {'price': '185', 'veg_or_non_veg': 'Non-veg'}}, 'Veg Wraps': {'Veg Wrap': {'price': '145', 'veg_or_non_veg': 'Veg'}, 'Paneer Wrap': {'price': '160', 'veg_or_non_veg': 'Veg'}, 'Mexican Tortilla': {'price': '170', 'veg_or_non_veg': 'Veg'}, 'Peri Peri Paneer Wrap': {'price': '185', 'veg_or_non_veg': 'Veg'}}, 'Non Veg Wraps': {'Chicken Barbeque': {'price': '160', 'veg_or_non_veg': 'Non-veg'}, 'Chicken Crust Wrap': {'price': '170', 'veg_or_non_veg': 'Non-veg'}, 'Chicken Salami Wrap': {'price': '185', 'veg_or_non_veg': 'Non-veg'}, 'Crispy Chicken Wrap': {'price': '195', 'veg_or_non_veg': 'Non-veg'}, 'Chicken Tikka Wrap': {'price': '195', 'veg_or_non_veg': 'Non-veg'}, 'Chicken Southern Spice': {'price': '185', 'veg_or_non_veg': 'Non-veg'}}, 'Veg Grilled Sandwiches': {'Warm Up Sandwich': {'price': '120', 'veg_or_non_veg': 'Veg'}, 'Cheesy Corn Sandwich': {'price': '145', 'veg_or_non_veg': 'Veg'}, 'Mexican Wave Sandwich': {'price': '170', 'veg_or_non_veg': 'Veg'}, 'Paneer Tikka Sandwich': {'price': '195', 'veg_or_non_veg': 'Veg'}}, 'Non-Veg Grilled Sandwiches': {'Chicken Salami': {'price': '170', 'veg_or_non_veg': 'Non-veg'}, 'Saucy Mexicano': {'price': '195', 'veg_or_non_veg': 'Non-veg'}, 'Chicken Paradise': {'price': '195', 'veg_or_non_veg': 'Non-veg'}, 'Fiery Chicken': {'price': '210', 'veg_or_non_veg': 'Non-veg'}}, 'Veg Pizzas': {'Cheese & Onion': {'price': '95', 'veg_or_non_veg': 'Veg'}, 'Cheese & Corn': {'price': '95', 'veg_or_non_veg': 'Veg'}, 'Cheese & Paneer': {'price': '120', 'veg_or_non_veg': 'Veg'}, 'Queen Margherita [Small]': {'price': '185', 'veg_or_non_veg': 'Veg'}, 'Veggie Garden [Small]': {'price': '195', 'veg_or_non_veg': 'Veg'}, 'Corn & Olive [Small]': {'price': '195', 'veg_or_non_veg': 'Veg'}, 'Farm Fresh [Small]': {'price': '210', 'veg_or_non_veg': 'Veg'}, 'Paneer Bingo [Small]': {'price': '210', 'veg_or_non_veg': 'Veg'}, 'Mexican Pizza [Small]': {'price': '210', 'veg_or_non_veg': 'Veg'}, 'Paneer Tikka [Small]': {'price': '235', 'veg_or_non_veg': 'Veg'}, 'Grills Special [Small]': {'price': '235', 'veg_or_non_veg': 'Veg'}, 'Queen Margherita [Large]': {'price': '325', 'veg_or_non_veg': 'Veg'}, 'Corn & Olive [Large]': {'price': '365', 'veg_or_non_veg': 'Veg'}, 'Farm Fresh [Large]': {'price': '390', 'veg_or_non_veg': 'Veg'}, 'Paneer Bingo [Large]': {'price': '390', 'veg_or_non_veg': 'Veg'}, 'Mexican Pizza [Large]': {'price': '390', 'veg_or_non_veg': 'Veg'}, 'Paneer Tikka [Large]': {'price': '420', 'veg_or_non_veg': 'Veg'}, 'Garlic Exotica [Large]': {'price': '420', 'veg_or_non_veg': 'Veg'}, 'Grills Special [Large]': {'price': '420', 'veg_or_non_veg': 'Veg'}, 'Cheese & Capsicum': {'price': '95', 'veg_or_non_veg': 'Veg'}, 'Veggie Garden [Large]': {'price': '365', 'veg_or_non_veg': 'Veg'}, 'The Lord of Cheese [Small]': {'price': '235', 'veg_or_non_veg': 'Veg'}, 'The Lord of Cheese [Large]': {'price': '420', 'veg_or_non_veg': 'Veg'}, 'Garlic Exotica [Small]': {'price': '235', 'veg_or_non_veg': 'Veg'}}, 'Garlic Bread': {'Cheese Garlic Bread': {'price': '120', 'veg_or_non_veg': 'Veg'}, 'Loaded Garlic Bread': {'price': '145', 'veg_or_non_veg': 'Veg'}}, 'Non Veg Pizzas': {'Grilled Chicken Pizza [Small]': {'price': '250', 'veg_or_non_veg': 'Non-veg'}, 'Chicken Makhani Pizza [Small]': {'price': '290', 'veg_or_non_veg': 'Non-veg'}, 'Chicken Monster Pizza [Small]': {'price': '300', 'veg_or_non_veg': 'Non-veg'}, 'Grilled Chicken Pizza [Large]': {'price': '420', 'veg_or_non_veg': 'Non-veg'}, 'Chicken Kebab Pizza [Large]': {'price': '420', 'veg_or_non_veg': 'Non-veg'}, 'Chicken Makhani Pizza [Large]': {'price': '455', 'veg_or_non_veg': 'Non-veg'}, 'Peri Peri Chicken Pizza [Large]': {'price': '455', 'veg_or_non_veg': 'Non-veg'}, 'Chicken Monster Pizza [Large]': {'price': '495', 'veg_or_non_veg': 'Non-veg'}, 'Chicken Kebab Pizza [Small]': {'price': '250', 'veg_or_non_veg': 'Non-veg'}, 'Peri Peri Chicken Pizza [Small]': {'price': '290', 'veg_or_non_veg': 'Non-veg'}}, 'Pasta-La-Vista': {'Veg White Sauce Pasta': {'price': '185', 'veg_or_non_veg': 'Veg'}, 'Veg Red Sauce Pasta': {'price': '185', 'veg_or_non_veg': 'Veg'}, 'Veg Mix Sauce Pasta': {'price': '195', 'veg_or_non_veg': 'Veg'}, 'Tandoori Pasta': {'price': '195', 'veg_or_non_veg': 'Veg'}, 'Chicken White Sauce Pasta': {'price': '250', 'veg_or_non_veg': 'Non-veg'}, 'Chicken Red Sauce Pasta': {'price': '250', 'veg_or_non_veg': 'Non-veg'}, 'Chicken Mix Sauce Pasta': {'price': '260', 'veg_or_non_veg': 'Non-veg'}, 'Chicken Tandoori Pasta': {'price': '260', 'veg_or_non_veg': 'Non-veg'}}, 'Shakespears': {'Vanilla Shake': {'price': '120', 'veg_or_non_veg': 'Veg'}, 'Naughty Strawberry': {'price': '120', 'veg_or_non_veg': 'Veg'}, 'Butterscotch Shake': {'price': '130', 'veg_or_non_veg': 'Veg'}, 'Chocolate Shake': {'price': '130', 'veg_or_non_veg': 'Veg'}, 'Black Currant Shake': {'price': '130', 'veg_or_non_veg': 'Veg'}, 'Cold Coffee': {'price': '130', 'veg_or_non_veg': 'Veg'}, 'Caramel Coffee': {'price': '145', 'veg_or_non_veg': 'Veg'}, 'Classic Oreo': {'price': '160', 'veg_or_non_veg': 'Veg'}, 'Chocolate Oreo': {'price': '160', 'veg_or_non_veg': 'Veg'}, 'Veryberry Oreo': {'price': '160', 'veg_or_non_veg': 'Veg'}}, 'Let's Cool Down': {'Lemon Ice Tea': {'price': '80', 'veg_or_non_veg': 'Veg'}, 'Virgin Mojito': {'price': '95', 'veg_or_non_veg': 'Veg'}, 'Peach Mojito': {'price': '95', 'veg_or_non_veg': 'Veg'}, 'Blueberry Mojito': {'price': '95', 'veg_or_non_veg': 'Veg'}, 'Watermelon Mojito': {'price': '95', 'veg_or_non_veg': 'Veg'}, 'Green Apple Mojito': {'price': '95', 'veg_or_non_veg': 'Veg'}}, 'Crispy Chicken': {'Chicken Popcorn': {'price': '210', 'veg_or_non_veg': 'Non-veg'}, 'Chicken Leg [2 Pcs]': {'price': '140', 'veg_or_non_veg': 'Non-veg'}, 'Chicken Wings [6 Pcs]': {'price': '185', 'veg_or_non_veg': 'Non-veg'}, 'Chicken Strips [3 Pcs]': {'price': '145', 'veg_or_non_veg': 'Non-veg'}, 'Peri Peri Chicken Popcorn': {'price': '235', 'veg_or_non_veg': 'Non-veg'}, 'Butter Chicken Popcorn': {'price': '235', 'veg_or_non_veg': 'Non-veg'}}, 'Salads': {'Veg Crunch': {'price': '145', 'veg_or_non_veg': 'Veg'}, 'Paneer Crunch': {'price': '170', 'veg_or_non_veg': 'Veg'}, 'Chicken Salad': {'price': '195', 'veg_or_non_veg': 'Non-veg'}, 'Chicken Protein Diet': {'price': '210', 'veg_or_non_veg': 'Non-veg'}, 'Fiery Chicken Salad': {'price': '210', 'veg_or_non_veg': 'Non-veg'}, 'Chicken Salami Salad': {'price': '210', 'veg_or_non_veg': 'Non-veg'}}, 'Sides': {'French Fries': {'price': '105', 'veg_or_non_veg': 'Veg'}, 'Peri Peri Fries': {'price': '130', 'veg_or_non_veg': 'Veg'}, 'Cheese Loaded Fries': {'price': '160', 'veg_or_non_veg': 'Veg'}, 'Peri Peri Potato Pops': {'price': '160', 'veg_or_non_veg': 'Veg'}, 'Chicken Nuggets': {'price': '170', 'veg_or_non_veg': 'Non-veg'}, 'Peri Peri Veggie Fingers': {'price': '185', 'veg_or_non_veg': 'Veg'}, 'Peri Peri Cheese Loaded': {'price': '185', 'veg_or_non_veg': 'Veg'}}, 'Extras': {'Cheese Slice': {'price': '30', 'veg_or_non_veg': 'Veg'}, 'Salami': {'price': '30', 'veg_or_non_veg': 'Non-veg'}, 'Cheesy Dip': {'price': '30', 'veg_or_non_veg': 'Veg'}, 'Tandoori Dip': {'price': '30', 'veg_or_non_veg': 'Veg'}, 'Chilli Garlic Dip': {'price': '30', 'veg_or_non_veg': 'Veg'}, 'Island Dip': {'price': '30', 'veg_or_non_veg': 'Veg'}}}\", \"https://www.swiggy.com/restaurants/grill-masters-central-abohar-abohar-543530\", \"Abohar\", \"Abohar\", \"NaN\", \"NaN\"]];\n",
              "\n",
              "    // Define the dt_args\n",
              "    let dt_args = {\"order\": [], \"dom\": \"t\"};\n",
              "    dt_args[\"data\"] = data;\n",
              "\n",
              "    $(document).ready(function () {\n",
              "        \n",
              "        $('#e687ebbd-b68d-497b-a993-3674b3ac949b').DataTable(dt_args);\n",
              "    });\n",
              "</script>\n",
              "</div>\n"
            ]
          },
          "metadata": {}
        }
      ],
      "source": [
        "show(df.head(5))"
      ]
    },
    {
      "cell_type": "code",
      "execution_count": 9,
      "metadata": {
        "colab": {
          "base_uri": "https://localhost:8080/"
        },
        "id": "9Vm4QUQbM6cs",
        "outputId": "7f61de99-1341-4be5-9d4e-1560edf14792"
      },
      "outputs": [
        {
          "output_type": "execute_result",
          "data": {
            "text/plain": [
              "(148590, 12)"
            ]
          },
          "metadata": {},
          "execution_count": 9
        }
      ],
      "source": [
        "# Clean data by dropping price and type\n",
        "df = df.drop(['type','price'], axis =1)\n",
        "df.dropna(inplace = True, axis = 0)\n",
        "df.reset_index(inplace = True)\n",
        "df.drop(['index'], axis = 1, inplace = True)\n",
        "df.shape"
      ]
    },
    {
      "cell_type": "code",
      "execution_count": 10,
      "metadata": {
        "colab": {
          "base_uri": "https://localhost:8080/",
          "height": 247
        },
        "id": "8Wd0HMlBM6cs",
        "outputId": "779a70e0-dec4-44b7-c16a-c7f311296047"
      },
      "outputs": [
        {
          "output_type": "display_data",
          "data": {
            "text/plain": [
              "<IPython.core.display.HTML object>"
            ],
            "text/html": [
              "<style>.itables table td {\n",
              "    text-overflow: ellipsis;\n",
              "    overflow: hidden;\n",
              "}\n",
              "\n",
              ".itables table th {\n",
              "    text-overflow: ellipsis;\n",
              "    overflow: hidden;\n",
              "}\n",
              "\n",
              ".itables thead input {\n",
              "    width: 100%;\n",
              "    padding: 3px;\n",
              "    box-sizing: border-box;\n",
              "}\n",
              "\n",
              ".itables tfoot input {\n",
              "    width: 100%;\n",
              "    padding: 3px;\n",
              "    box-sizing: border-box;\n",
              "}\n",
              "</style>\n",
              "<div class=\"itables\">\n",
              "<table id=\"ad1735db-4e7c-4f73-b499-16a4f1cadb70\" class=\"display nowrap\"style=\"table-layout:auto;width:auto;margin:auto;caption-side:bottom\"><thead>\n",
              "    <tr style=\"text-align: right;\">\n",
              "      \n",
              "      <th>restaurant_id</th>\n",
              "      <th>restaurant</th>\n",
              "      <th>rating</th>\n",
              "      <th>rating_count</th>\n",
              "      <th>cost</th>\n",
              "      <th>address</th>\n",
              "      <th>cuisine</th>\n",
              "      <th>lic_no</th>\n",
              "      <th>menu</th>\n",
              "      <th>link</th>\n",
              "      <th>city</th>\n",
              "      <th>sub_region</th>\n",
              "    </tr>\n",
              "  </thead><tbody><tr><td>Loading... (need <a href=https://mwouts.github.io/itables/troubleshooting.html>help</a>?)</td></tr></tbody></table>\n",
              "<link rel=\"stylesheet\" type=\"text/css\" href=\"https://cdn.datatables.net/1.13.1/css/jquery.dataTables.min.css\">\n",
              "<script type=\"module\">\n",
              "    // Import jquery and DataTable\n",
              "    import 'https://code.jquery.com/jquery-3.6.0.min.js';\n",
              "    import dt from 'https://cdn.datatables.net/1.12.1/js/jquery.dataTables.mjs';\n",
              "    dt($);\n",
              "\n",
              "    // Define the table data\n",
              "    const data = [[\"567335\", \"AB FOODS POINT\", \"--\", \"Too Few Ratings\", \"\\u20b9 200\", \"AB FOODS POINT, NEAR RISHI NARANG DENTAL CLINIC , NEAR IDBI BANK, ABOHAR\", \"Beverages,Pizzas\", \"22122652000138\", \"{'Burger': {'Aloo Tikki Burger': {'price': '40', 'veg_or_non_veg': 'Veg'}, 'Veg Creamy Burger': {'price': '50', 'veg_or_non_veg': 'Veg'}, 'Cheese Burst Burger': {'price': '65', 'veg_or_non_veg': 'Veg'}, 'Paneer Creamy Burger': {'price': '80', 'veg_or_non_veg': 'Veg'}, 'Maxican Burger': {'price': '80', 'veg_or_non_veg': 'Veg'}, 'Bbq Chicken Burger': {'price': '105', 'veg_or_non_veg': 'Non-veg'}, 'Peri Peri Chicken Burger': {'price': '105', 'veg_or_non_veg': 'Non-veg'}}, 'Pasta Must Try': {'White Sauce': {'price': '100', 'veg_or_non_veg': 'Veg'}, 'Red Sauce': {'price': '100', 'veg_or_non_veg': 'Veg'}, 'Pink Sauce': {'price': '125', 'veg_or_non_veg': 'Veg'}, 'Masala Pasta': {'price': '100', 'veg_or_non_veg': 'Veg'}, 'Chicken Pasta': {'price': '125', 'veg_or_non_veg': 'Non-veg'}, 'Egg Pasta': {'price': '125', 'veg_or_non_veg': 'Non-veg'}}, 'Chiness Appetizer': {'Noodles': {'price': '90', 'veg_or_non_veg': 'Veg'}, 'Singapuri Noodles': {'price': '100', 'veg_or_non_veg': 'Veg'}, 'Hakka Noodles': {'price': '90', 'veg_or_non_veg': 'Veg'}, 'Garlic Noodles': {'price': '100', 'veg_or_non_veg': 'Veg'}, 'Paneer Noodles': {'price': '120', 'veg_or_non_veg': 'Veg'}, 'Dry Manchurian': {'price': '190', 'veg_or_non_veg': 'Veg'}, 'Gravy Manchurian': {'price': '200', 'veg_or_non_veg': 'Veg'}, 'Cheese Chilly Dry': {'price': '250', 'veg_or_non_veg': 'Veg'}, 'Cheese Chilly Gravy': {'price': '250', 'veg_or_non_veg': 'Veg'}, 'Egg Chilly': {'price': '220', 'veg_or_non_veg': 'Non-veg'}, 'Chicken Chilly': {'price': '260', 'veg_or_non_veg': 'Non-veg'}, 'Spring Roll [2pc]': {'price': '100', 'veg_or_non_veg': 'Veg'}, 'Momos [8pc]': {'price': '65', 'veg_or_non_veg': 'Veg'}, 'Honey Chilly Patato': {'price': '165', 'veg_or_non_veg': 'Veg'}, 'Honey Chilly Cauliflower': {'price': '165', 'veg_or_non_veg': 'Veg'}, 'Veg Fried Rice': {'price': '125', 'veg_or_non_veg': 'Veg'}, 'Chicken Fried Rice': {'price': '150', 'veg_or_non_veg': 'Non-veg'}}, 'Fried Chicken': {'Kfc Fried Chicken': {'price': '250', 'veg_or_non_veg': 'Non-veg'}, 'Fried Chicken': {'price': '260', 'veg_or_non_veg': 'Non-veg'}}, 'Sandwich': {'Veg Mayo Sandwich': {'price': '65', 'veg_or_non_veg': 'Veg'}, 'Veg Creamy Sandwich': {'price': '80', 'veg_or_non_veg': 'Veg'}, 'Bombay Sandwich': {'price': '90', 'veg_or_non_veg': 'Veg'}, 'Paneer Tikka Sandwich': {'price': '100', 'veg_or_non_veg': 'Veg'}, 'Chicken Sandwich': {'price': '125', 'veg_or_non_veg': 'Non-veg'}, 'Peri Peri Sandwich': {'price': '120', 'veg_or_non_veg': 'Veg'}, 'Egg Sandwich': {'price': '120', 'veg_or_non_veg': 'Non-veg'}}, 'Fries': {'Classical Fries': {'price': '65', 'veg_or_non_veg': 'Veg'}, 'Red Chilli Papper': {'price': '80', 'veg_or_non_veg': 'Veg'}, 'Creamy Fries': {'price': '90', 'veg_or_non_veg': 'Veg'}, 'Peri Peri Fries': {'price': '90', 'veg_or_non_veg': 'Veg'}}, 'Roll & Wrapes': {'Egg Roll': {'price': '80', 'veg_or_non_veg': 'Non-veg'}, 'Veg Roll': {'price': '80', 'veg_or_non_veg': 'Veg'}, 'Paneer Roll': {'price': '90', 'veg_or_non_veg': 'Veg'}, 'Chicken Roll': {'price': '100', 'veg_or_non_veg': 'Non-veg'}, 'Egg Chicken Roll [Double]': {'price': '120', 'veg_or_non_veg': 'Non-veg'}, 'Veg Wrapes': {'price': '100', 'veg_or_non_veg': 'Veg'}, 'Paneer Wrapes': {'price': '120', 'veg_or_non_veg': 'Veg'}, 'Peri Peri Chicken Wrapes': {'price': '125', 'veg_or_non_veg': 'Non-veg'}, 'Egg Wrapes': {'price': '125', 'veg_or_non_veg': 'Non-veg'}}, 'Garlic Bread': {'Simple Garlic Bread': {'price': '65', 'veg_or_non_veg': 'Veg'}, 'Veg Garlic Bread': {'price': '80', 'veg_or_non_veg': 'Veg'}, 'Stuff Garlic Bread': {'price': '120', 'veg_or_non_veg': 'Veg'}, '2 Alao Prantha + Dahi': {'price': '65', 'veg_or_non_veg': 'Veg'}}, 'Prantha': {'Bhature': {'price': '65', 'veg_or_non_veg': 'Veg'}, 'Spl Tiffen [Desi Ghee]': {'price': '90', 'veg_or_non_veg': 'Veg'}, 'Piyaz Prantha Dahi': {'price': '65', 'veg_or_non_veg': 'Veg'}, 'Paneer Prantha + Dahi': {'price': '90', 'veg_or_non_veg': 'Veg'}}, 'Stuff Kulcha': {'Veg Kulcha': {'price': '40', 'veg_or_non_veg': 'Veg'}, 'Veg Mayo Kulcha': {'price': '50', 'veg_or_non_veg': 'Veg'}, 'Masala Kulcha': {'price': '60', 'veg_or_non_veg': 'Veg'}, 'Paneer Kulcha': {'price': '65', 'veg_or_non_veg': 'Veg'}, 'Makhni Kulcha': {'price': '65', 'veg_or_non_veg': 'Veg'}}, 'Maggie & Pav Bhaji': {'Masala Maggie 2 Packet': {'price': '80', 'veg_or_non_veg': 'Veg'}, 'Veg Maggie 2 Packet': {'price': '90', 'veg_or_non_veg': 'Veg'}, 'Tandoori Maggie 2 Packet': {'price': '100', 'veg_or_non_veg': 'Veg'}, 'Chicken Maggie': {'price': '125', 'veg_or_non_veg': 'Non-veg'}, 'Creamy Maggie': {'price': '125', 'veg_or_non_veg': 'Veg'}, 'Egg Maggie': {'price': '125', 'veg_or_non_veg': 'Non-veg'}, 'Pav Bhaji': {'price': '90', 'veg_or_non_veg': 'Veg'}, 'Creamy Pav Bhaji': {'price': '100', 'veg_or_non_veg': 'Veg'}}, 'Mocktails & Cooler': {'Virgin Moijto': {'price': '80', 'veg_or_non_veg': 'Veg'}, 'Blue Curracco': {'price': '90', 'veg_or_non_veg': 'Veg'}, 'Green Apple': {'price': '90', 'veg_or_non_veg': 'Veg'}, 'Pinacolado': {'price': '100', 'veg_or_non_veg': 'Veg'}, 'X Mass Punch': {'price': '100', 'veg_or_non_veg': 'Veg'}, 'Masala Coke': {'price': '65', 'veg_or_non_veg': 'Veg'}, 'Jaljeera': {'price': '65', 'veg_or_non_veg': 'Veg'}}, 'Fresh Dough Regular Pizza': {'Margherita Pizza': {'price': '155', 'veg_or_non_veg': 'Veg'}, 'Cheese Margherita [Double]': {'price': '180', 'veg_or_non_veg': 'Veg'}, 'Capcicum Onion Pizza': {'price': '125', 'veg_or_non_veg': 'Veg'}, 'Mashroom Corn Pizza': {'price': '125', 'veg_or_non_veg': 'Veg'}, 'Only Corn Pizza': {'price': '125', 'veg_or_non_veg': 'Veg'}, 'Only Onion Pizza': {'price': '125', 'veg_or_non_veg': 'Veg'}, 'Onion Olive Pizza': {'price': '125', 'veg_or_non_veg': 'Veg'}}, 'Shakes': {'Vanila Shake': {'price': '100', 'veg_or_non_veg': 'Veg'}, 'Choclate Shake': {'price': '100', 'veg_or_non_veg': 'Veg'}, 'Staweberry Shake': {'price': '100', 'veg_or_non_veg': 'Veg'}, 'Oreo Shake': {'price': '90', 'veg_or_non_veg': 'Veg'}, 'Butter Scotch Shake': {'price': '90', 'veg_or_non_veg': 'Veg'}, 'Banana Shake': {'price': '90', 'veg_or_non_veg': 'Veg'}, 'Pineapple Shake': {'price': '90', 'veg_or_non_veg': 'Veg'}, 'Mango Shake': {'price': '90', 'veg_or_non_veg': 'Veg'}, 'Blue Berry Shake': {'price': '100', 'veg_or_non_veg': 'Veg'}, 'Nutela Shake': {'price': '100', 'veg_or_non_veg': 'Veg'}, 'Kit Kat Shake': {'price': '110', 'veg_or_non_veg': 'Veg'}}, 'Thick Shake': {'Kit   K at Shake': {'price': '120', 'veg_or_non_veg': 'Veg'}, 'Staweberry Oreo Shake': {'price': '120', 'veg_or_non_veg': 'Veg'}, 'Black Current Shake': {'price': '120', 'veg_or_non_veg': 'Veg'}, 'Brownie Shake': {'price': '120', 'veg_or_non_veg': 'Veg'}}, 'Large Pizza': {'Paneer Tikka Pizza': {'price': '230', 'veg_or_non_veg': 'Veg'}, 'Spicy Paneer Pizza': {'price': '230', 'veg_or_non_veg': 'Veg'}, 'Farm House Pizza': {'price': '300', 'veg_or_non_veg': 'Veg'}, 'Country Feast Pizza': {'price': '300', 'veg_or_non_veg': 'Veg'}, 'Paneer Makhni Pizza': {'price': '250', 'veg_or_non_veg': 'Veg'}, 'Otc Onion Tamato Corn Pizza': {'price': '230', 'veg_or_non_veg': 'Veg'}, 'Chicken Pizza': {'price': '300', 'veg_or_non_veg': 'Non-veg'}, 'Peri Peri Paneer Pizza': {'price': '250', 'veg_or_non_veg': 'Veg'}, 'Egg Pizza': {'price': '250', 'veg_or_non_veg': 'Non-veg'}, 'Mashroom Pizza': {'price': '250', 'veg_or_non_veg': 'Veg'}, 'Ab Special Pizza': {'price': '350', 'veg_or_non_veg': 'Veg'}}, 'Cold Coffee': {'Classical Cold Coffee': {'price': '90', 'veg_or_non_veg': 'Veg'}, 'Hezelnut Cold Coffee': {'price': '90', 'veg_or_non_veg': 'Veg'}, 'Frape Cold Coffee': {'price': '90', 'veg_or_non_veg': 'Veg'}}}\", \"https://www.swiggy.com/restaurants/ab-foods-point-central-abohar-abohar-567335\", \"Abohar\", \"Abohar\"], [\"531342\", \"Janta Sweet House\", \"4.4\", \"50+ ratings\", \"\\u20b9 200\", \"Janta Sweet House, Bazar No.9, Circullar Road, Abohar\", \"Sweets,Bakery\", \"12117201000112\", \"{'Breakfast': {'Veg Grilled Sandwich': {'price': '55', 'veg_or_non_veg': 'Veg'}, 'Veg Sandwich': {'price': '40', 'veg_or_non_veg': 'Veg'}, 'Dhokla': {'price': '300', 'veg_or_non_veg': 'Veg'}, 'Channa Bhatura [2 Pc]': {'price': '95', 'veg_or_non_veg': 'Veg'}, 'Chana Bhatura With Lassi': {'price': '145', 'veg_or_non_veg': 'Veg'}}, 'Drinks (beverages)': {'Mango Shake': {'price': '72', 'veg_or_non_veg': 'Veg'}, 'Milk Badam Shake': {'price': '59', 'veg_or_non_veg': 'Veg'}, 'Namkeen Lassi': {'price': '59', 'veg_or_non_veg': 'Veg'}, 'Cold Coffee': {'price': '67', 'veg_or_non_veg': 'Veg'}, 'Butterscotch Shake': {'price': '59', 'veg_or_non_veg': 'Veg'}, 'Oreo Shake': {'price': '67', 'veg_or_non_veg': 'Veg'}, 'Pineapple Shake': {'price': '59', 'veg_or_non_veg': 'Veg'}, 'Banana Shake': {'price': '59', 'veg_or_non_veg': 'Veg'}, 'Strawberry Shake': {'price': '59', 'veg_or_non_veg': 'Veg'}, 'Roohafza Milkshake': {'price': '59', 'veg_or_non_veg': 'Veg'}, 'Lassi [sweet]': {'price': '59', 'veg_or_non_veg': 'Veg'}}, 'Combos': {'Burgers Pack': {'price': '225', 'veg_or_non_veg': 'Veg'}, 'Barfi Pack': {'price': '250', 'veg_or_non_veg': 'Veg'}, 'Starters Combo': {'price': '225', 'veg_or_non_veg': 'Veg'}, 'Chai Time Combo': {'price': '209', 'veg_or_non_veg': 'Veg'}, 'South Special': {'price': '115', 'veg_or_non_veg': 'Veg'}, 'Snacks Combo': {'price': '167', 'veg_or_non_veg': 'Veg'}, 'Patties Combo': {'price': '105', 'veg_or_non_veg': 'Veg'}, 'Pastry Pack': {'price': '98', 'veg_or_non_veg': 'Veg'}}, 'Sweets': {'Modak Laddu': {'price': '105', 'veg_or_non_veg': 'Veg'}, 'Dhodha': {'price': '125', 'veg_or_non_veg': 'Veg'}, 'Baisan Barfi': {'price': '125', 'veg_or_non_veg': 'Veg'}, 'Rewari Barfi': {'price': '135', 'veg_or_non_veg': 'Veg'}, 'Kesar Laddu (desi Ghee)': {'price': '115', 'veg_or_non_veg': 'Veg'}, 'Moti Pak (desi Ghee)': {'price': '120', 'veg_or_non_veg': 'Veg'}, 'Pinni (desi Ghee)': {'price': '130', 'veg_or_non_veg': 'Veg'}, 'Sohan Halwa': {'price': '135', 'veg_or_non_veg': 'Veg'}, 'Kalakand': {'price': '130', 'veg_or_non_veg': 'Veg'}, 'Chocolate Burfi': {'price': '135', 'veg_or_non_veg': 'Veg'}, 'Elaichi Burfi': {'price': '135', 'veg_or_non_veg': 'Veg'}, 'Kesar Katli': {'price': '130', 'veg_or_non_veg': 'Veg'}, 'Khoya Katli': {'price': '130', 'veg_or_non_veg': 'Veg'}, 'Mandakini Burfi': {'price': '125', 'veg_or_non_veg': 'Veg'}, 'Plain Burfi': {'price': '123', 'veg_or_non_veg': 'Veg'}, 'Anguri Petha': {'price': '100', 'veg_or_non_veg': 'Veg'}, 'Khurmani': {'price': '103', 'veg_or_non_veg': 'Veg'}, 'Murki Chhena': {'price': '113', 'veg_or_non_veg': 'Veg'}, 'Spungi Rasbhari': {'price': '105', 'veg_or_non_veg': 'Veg'}, 'Rasbhari': {'price': '93', 'veg_or_non_veg': 'Veg'}, 'Chamcham': {'price': '90', 'veg_or_non_veg': 'Veg'}, 'Tosha': {'price': '93', 'veg_or_non_veg': 'Veg'}, 'Rasgulla': {'price': '93', 'veg_or_non_veg': 'Veg'}, 'Gulab Jamun': {'price': '93', 'veg_or_non_veg': 'Veg'}, 'Rasmalai [1 Piece]': {'price': '60', 'veg_or_non_veg': 'Veg'}, 'Spungi Rasgulla [1 Piece]': {'price': '44', 'veg_or_non_veg': 'Veg'}, 'Emarti': {'price': '95', 'veg_or_non_veg': 'Veg'}, 'Jullie': {'price': '135', 'veg_or_non_veg': 'Veg'}, 'Kaju Katli': {'price': '273', 'veg_or_non_veg': 'Veg'}, 'Kesar Laddu': {'price': '80', 'veg_or_non_veg': 'Veg'}, 'Moti Choor Laddu': {'price': '75', 'veg_or_non_veg': 'Veg'}, 'Baisan Pinni': {'price': '85', 'veg_or_non_veg': 'Veg'}, 'Dry Fruit Pinni': {'price': '110', 'veg_or_non_veg': 'Veg'}, 'Mango Pera': {'price': '135', 'veg_or_non_veg': 'Veg'}, 'Chana Laddu': {'price': '178', 'veg_or_non_veg': 'Veg'}, 'Chocolate Roll': {'price': '135', 'veg_or_non_veg': 'Veg'}, 'Kesar Roll': {'price': '135', 'veg_or_non_veg': 'Veg'}, 'Pista Roll': {'price': '135', 'veg_or_non_veg': 'Veg'}, 'Malai Pera': {'price': '135', 'veg_or_non_veg': 'Veg'}, 'Mini Pera': {'price': '135', 'veg_or_non_veg': 'Veg'}, 'Badam Cake': {'price': '100', 'veg_or_non_veg': 'Veg'}, 'Coconut Burfi': {'price': '120', 'veg_or_non_veg': 'Veg'}, 'Milk Cake': {'price': '142', 'veg_or_non_veg': 'Veg'}, 'Boondi': {'price': '68', 'veg_or_non_veg': 'Veg'}, 'Sandwich [mithai]': {'price': '105', 'veg_or_non_veg': 'Veg'}, 'Aam Papad Roll': {'price': '186', 'veg_or_non_veg': 'Veg'}, 'Soan Papdi [1 Kg]': {'price': '240', 'veg_or_non_veg': 'Veg'}, 'Sirni [500 Grams]': {'price': '157', 'veg_or_non_veg': 'Veg'}, 'Balushai [500 Grams]': {'price': '142', 'veg_or_non_veg': 'Veg'}, 'Shakarpare [500 Grams]': {'price': '142', 'veg_or_non_veg': 'Veg'}, 'Gurpare [500 Grams]': {'price': '142', 'veg_or_non_veg': 'Veg'}, 'Hot Gulab Jamun [1 Pc]': {'price': '30', 'veg_or_non_veg': 'Veg'}}, 'Special Sweet Gifts': {'Basket Gift Pack': {'price': '470', 'veg_or_non_veg': 'Veg'}, 'Dry Fruit Tray': {'price': '1070', 'veg_or_non_veg': 'Veg'}, 'All Mix Sweet': {'price': '220', 'veg_or_non_veg': 'Veg'}, '3 Line Mix Sweet': {'price': '500', 'veg_or_non_veg': 'Veg'}}, 'Dry Fruit & Nuts': {'Pista Roasted': {'price': '350', 'veg_or_non_veg': 'Veg'}, 'Kishmish': {'price': '170', 'veg_or_non_veg': 'Veg'}, 'Badam Giri': {'price': '370', 'veg_or_non_veg': 'Veg'}, 'Kaju Namkeen Roasted': {'price': '470', 'veg_or_non_veg': 'Veg'}, 'Kaju Plain': {'price': '485', 'veg_or_non_veg': 'Veg'}}, 'Dairy Products': {'Dahi': {'price': '34', 'veg_or_non_veg': 'Veg'}, 'Paneer': {'price': '120', 'veg_or_non_veg': 'Veg'}}, 'Snacks': {'Bhalla Papdi': {'price': '60', 'veg_or_non_veg': 'Veg'}, 'Dahi Bhalla': {'price': '45', 'veg_or_non_veg': 'Veg'}, 'Dahi Vada': {'price': '60', 'veg_or_non_veg': 'Veg'}, 'Special Pav Bhaji': {'price': '135', 'veg_or_non_veg': 'Veg'}, 'Pav Bhaji': {'price': '105', 'veg_or_non_veg': 'Veg'}, 'Cheese Cutlet': {'price': '150', 'veg_or_non_veg': 'Veg'}, 'Veg Cutlet': {'price': '120', 'veg_or_non_veg': 'Veg'}, 'Noodles Cutlet': {'price': '34', 'veg_or_non_veg': 'Veg'}, 'Paneer Pakoda': {'price': '43', 'veg_or_non_veg': 'Veg'}, 'Samosa': {'price': '22', 'veg_or_non_veg': 'Veg'}, 'Samosa With Chana': {'price': '64', 'veg_or_non_veg': 'Veg'}, 'Masala Papad': {'price': '73', 'veg_or_non_veg': 'Veg'}}, 'Patties': {'Noodles Patties': {'price': '30', 'veg_or_non_veg': 'Veg'}, 'Veg Patties': {'price': '23', 'veg_or_non_veg': 'Veg'}, 'Paneer Patties': {'price': '30', 'veg_or_non_veg': 'Veg'}}, 'Burgers And Hot Dogs': {'Cheese Burger Fry': {'price': '75', 'veg_or_non_veg': 'Veg'}, 'Veg Burger Fry': {'price': '60', 'veg_or_non_veg': 'Veg'}, 'Tikki Burger': {'price': '60', 'veg_or_non_veg': 'Veg'}, 'Noodles Burger': {'price': '60', 'veg_or_non_veg': 'Veg'}, 'Cheese Hot Dog': {'price': '75', 'veg_or_non_veg': 'Veg'}, 'Veg Hot Dog': {'price': '60', 'veg_or_non_veg': 'Veg'}}, 'Noodles': {'Mushroom Chowmein': {'price': '164', 'veg_or_non_veg': 'Veg'}, 'Special Chowmein': {'price': '209', 'veg_or_non_veg': 'Veg'}, 'Paneer Chowmein': {'price': '179', 'veg_or_non_veg': 'Veg'}, 'Noodles': {'price': '134', 'veg_or_non_veg': 'Veg'}, 'Singapore Chopsuey': {'price': '164', 'veg_or_non_veg': 'Veg'}, 'American Chopsuey': {'price': '164', 'veg_or_non_veg': 'Veg'}}, 'Starters': {'Cheese Tikka Fry': {'price': '194', 'veg_or_non_veg': 'Veg'}, 'Cheese Corn Roll': {'price': '179', 'veg_or_non_veg': 'Veg'}, 'Cheese Spring Roll': {'price': '194', 'veg_or_non_veg': 'Veg'}, 'Veg Spring Roll': {'price': '149', 'veg_or_non_veg': 'Veg'}, 'Cheese Manchurian With Gravy': {'price': '284', 'veg_or_non_veg': 'Veg'}, 'Cheese Manchurian': {'price': '269', 'veg_or_non_veg': 'Veg'}, 'Veg Manchurian With Gravy': {'price': '209', 'veg_or_non_veg': 'Veg'}, 'Veg Manchurian': {'price': '194', 'veg_or_non_veg': 'Veg'}, 'Mushroom Chilly': {'price': '224', 'veg_or_non_veg': 'Veg'}, 'Cheese Chilli With Gravy': {'price': '320', 'veg_or_non_veg': 'Veg'}, 'Cheese Chilli': {'price': '194', 'veg_or_non_veg': 'Veg'}, 'French Fries': {'price': '105', 'veg_or_non_veg': 'Veg'}, 'Cheese Finger': {'price': '209', 'veg_or_non_veg': 'Veg'}, 'Potato Finger': {'price': '105', 'veg_or_non_veg': 'Veg'}, 'Veg Bullet': {'price': '149', 'veg_or_non_veg': 'Veg'}, 'Cheese Kabab': {'price': '224', 'veg_or_non_veg': 'Veg'}, 'Veg Kabab': {'price': '134', 'veg_or_non_veg': 'Veg'}, 'Veg Cotton Kabab': {'price': '179', 'veg_or_non_veg': 'Veg'}}, 'South Indian Dishes': {'Sambar Vada': {'price': '60', 'veg_or_non_veg': 'Veg'}, 'Mushroom Uttapam': {'price': '120', 'veg_or_non_veg': 'Veg'}, 'Cheese Uttapam': {'price': '120', 'veg_or_non_veg': 'Veg'}, 'Onion Uttapam': {'price': '105', 'veg_or_non_veg': 'Veg'}, 'Special Family Dosa': {'price': '239', 'veg_or_non_veg': 'Veg'}, 'Mushroom Masala Dosa': {'price': '149', 'veg_or_non_veg': 'Veg'}, 'Paneer Dosa': {'price': '149', 'veg_or_non_veg': 'Veg'}, 'Masala Dosa': {'price': '105', 'veg_or_non_veg': 'Veg'}, 'Plain Dosa': {'price': '75', 'veg_or_non_veg': 'Veg'}, 'Onion Butter Masala Dosa': {'price': '149', 'veg_or_non_veg': 'Veg'}, 'Pizza Dosa': {'price': '135', 'veg_or_non_veg': 'Veg'}}, 'Pizza And Pasta': {'Pasta White Sauce': {'price': '179', 'veg_or_non_veg': 'Veg'}, 'Pasta Red Sauce': {'price': '164', 'veg_or_non_veg': 'Veg'}, 'Capsicum Pizza [medium 8 Inches]': {'price': '194', 'veg_or_non_veg': 'Veg'}, 'Cheese And Chilli Pizza [medium 8 Inches]': {'price': '269', 'veg_or_non_veg': 'Veg'}, 'Cheese Pizza [medium 8 Inches]': {'price': '194', 'veg_or_non_veg': 'Veg'}, 'Mushroom Pizza [medium 8 Inches]': {'price': '209', 'veg_or_non_veg': 'Veg'}, 'Onion Pizza [medium 8 Inches]': {'price': '194', 'veg_or_non_veg': 'Veg'}, 'Paneer Tikka Pizza [medium 8 Inches]': {'price': '254', 'veg_or_non_veg': 'Veg'}, 'Veg Pizza [medium 8 Inches]': {'price': '179', 'veg_or_non_veg': 'Veg'}}, 'Mathi & Namkeen': {'Pitthi Samosi': {'price': '70', 'veg_or_non_veg': 'Veg'}, 'Samosa Mathi': {'price': '72.25', 'veg_or_non_veg': 'Veg'}, 'Methi Mathi': {'price': '72.25', 'veg_or_non_veg': 'Veg'}, 'Plain Mathi': {'price': '72.25', 'veg_or_non_veg': 'Veg'}, 'Kaju Matar [190 Grams]': {'price': '60', 'veg_or_non_veg': 'Veg'}, 'Matri [190 Grams]': {'price': '60', 'veg_or_non_veg': 'Veg'}, 'Papri [500 Grams]': {'price': '139', 'veg_or_non_veg': 'Veg'}, 'Pudina Boondi [190 Grams]': {'price': '75', 'veg_or_non_veg': 'Veg'}, 'Plain Boondi [190 Grams]': {'price': '67', 'veg_or_non_veg': 'Veg'}}, 'Cake': {'Fruit Cake': {'price': '90', 'veg_or_non_veg': 'Veg'}, 'Cake [900 Grams]': {'price': '470', 'veg_or_non_veg': 'Veg'}, 'Fruit Cake (egg)': {'price': '110', 'veg_or_non_veg': 'Non-veg'}}, 'Pastries': {'Jam Roll Pastry': {'price': '30', 'veg_or_non_veg': 'Veg'}, 'Chocolate Pastry': {'price': '45', 'veg_or_non_veg': 'Veg'}, 'Black Forest Pastry': {'price': '38', 'veg_or_non_veg': 'Veg'}, 'Swiss Roll Pastry': {'price': '38', 'veg_or_non_veg': 'Veg'}, 'Milk Badam Pastry': {'price': '38', 'veg_or_non_veg': 'Veg'}, 'Butterscotch Pastry': {'price': '38', 'veg_or_non_veg': 'Veg'}, 'Jelly Pastry': {'price': '30', 'veg_or_non_veg': 'Veg'}, 'Strwaberry Pastry': {'price': '23', 'veg_or_non_veg': 'Veg'}, 'Vanila Pastry': {'price': '30', 'veg_or_non_veg': 'Veg'}, 'Pineapple Pastry': {'price': '23', 'veg_or_non_veg': 'Veg'}, 'Choco Lava Cake': {'price': '59', 'veg_or_non_veg': 'Veg'}, 'Cream Roll': {'price': '22', 'veg_or_non_veg': 'Veg'}}, 'Bakery Biscuits': {'Cake Rusk': {'price': '115', 'veg_or_non_veg': 'Non-veg'}, 'Atta Namkeen Biscuit [400 Grams]': {'price': '105', 'veg_or_non_veg': 'Veg'}, 'Atta Sweet Biscuit [400 Grams]': {'price': '105', 'veg_or_non_veg': 'Veg'}, 'French Heart': {'price': '60', 'veg_or_non_veg': 'Veg'}, 'Fan': {'price': '52', 'veg_or_non_veg': 'Veg'}, 'Suju Rusk': {'price': '45', 'veg_or_non_veg': 'Veg'}, 'Atta Biscuit (desi Ghee)': {'price': '100', 'veg_or_non_veg': 'Veg'}, 'Butter Pista Finger': {'price': '100', 'veg_or_non_veg': 'Veg'}}, 'Donuts': {'White Chocolate Donut': {'price': '44', 'veg_or_non_veg': 'Veg'}, 'Chocolate Donut': {'price': '44', 'veg_or_non_veg': 'Veg'}}, 'Navratri Special': {'Pistachio Rabri': {'price': '143', 'veg_or_non_veg': 'Veg'}, 'Sabu Dana Lachha Mix': {'price': '74', 'veg_or_non_veg': 'Veg'}, 'Badam Lachha': {'price': '74', 'veg_or_non_veg': 'Veg'}, 'Potato Papad': {'price': '30', 'veg_or_non_veg': 'Veg'}, 'Potato Chips': {'price': '30', 'veg_or_non_veg': 'Veg'}}, 'Soups': {'Manchow Soup': {'price': '105', 'veg_or_non_veg': 'Veg'}, 'Tomato Cream Soup': {'price': '90', 'veg_or_non_veg': 'Veg'}, 'Tomato Soup': {'price': '90', 'veg_or_non_veg': 'Veg'}, 'Veg Sweet Corn Soup': {'price': '90', 'veg_or_non_veg': 'Veg'}, 'Veg Soup': {'price': '90', 'veg_or_non_veg': 'Veg'}}}\", \"https://www.swiggy.com/restaurants/janta-sweet-house-central-abohar-abohar-531342\", \"Abohar\", \"Abohar\"], [\"158203\", \"theka coffee desi\", \"3.8\", \"100+ ratings\", \"\\u20b9 100\", \"theka coffee desi, sahtiya sadan road city\", \"Beverages\", \"22121652000190\", \"{'Recommended': {'Cafe Latte Coffee': {'price': '118', 'veg_or_non_veg': 'Veg'}, 'Cafe Mocha Coffee': {'price': '132', 'veg_or_non_veg': 'Veg'}, 'Chocolate Shake': {'price': '118', 'veg_or_non_veg': 'Veg'}, 'Mango Shake': {'price': '118', 'veg_or_non_veg': 'Veg'}, 'Walnut Brownie': {'price': '65', 'veg_or_non_veg': 'Veg'}, 'Chocolaty Frappe': {'price': '158', 'veg_or_non_veg': 'Veg'}, 'French Fries': {'price': '82', 'veg_or_non_veg': 'Veg'}, 'Cheese Garlic Bread': {'price': '124', 'veg_or_non_veg': 'Veg'}, 'Exotic Garlic Bread': {'price': '150', 'veg_or_non_veg': 'Veg'}, 'Paneer Wrap': {'price': '118', 'veg_or_non_veg': 'Veg'}, 'Mexican Veg Wrap': {'price': '92', 'veg_or_non_veg': 'Veg'}, 'Paneer Tikka Sub': {'price': '166', 'veg_or_non_veg': 'Veg'}, '8 \\\" Regular Farm House Pizza': {'price': '217', 'veg_or_non_veg': 'Veg'}, '10 \\\" Medium Farm House Pizza': {'price': '375', 'veg_or_non_veg': 'Veg'}, '13 \\\"Large Farm House Pizza': {'price': '475', 'veg_or_non_veg': 'Veg'}, 'American Cheese Burger': {'price': '158', 'veg_or_non_veg': 'Veg'}, 'Aloo Tikki Burger': {'price': '65', 'veg_or_non_veg': 'Veg'}, 'Veg Burger': {'price': '79', 'veg_or_non_veg': 'Veg'}, 'Chicken Burger': {'price': '92', 'veg_or_non_veg': 'Non-veg'}, '8 \\\" Regular Spicy Paneer Pizza': {'price': '160', 'veg_or_non_veg': 'Veg'}, '13 \\\" Large Spicy Paneer Pizza': {'price': '480', 'veg_or_non_veg': 'Veg'}, 'Paneer Tikka Sandwich': {'price': '145', 'veg_or_non_veg': 'Veg'}, '8 \\\" Regular Paneer Makhani Pizza': {'price': '197', 'veg_or_non_veg': 'Veg'}, '13 \\\" Large Paneer Makhani Pizza': {'price': '499', 'veg_or_non_veg': 'Veg'}, 'Red Penne Alfredo Pasta': {'price': '152', 'veg_or_non_veg': 'Veg'}, 'White Penne Alfredo Pasta': {'price': '152', 'veg_or_non_veg': 'Veg'}, 'Mix Sauce Penne Alfredo Pasta': {'price': '152', 'veg_or_non_veg': 'Veg'}, '10 \\\" Medium Loaded Chicken Pizza': {'price': '432', 'veg_or_non_veg': 'Non-veg'}, 'Paneer Tikka Salad': {'price': '158', 'veg_or_non_veg': 'Veg'}, 'Chicken Delight Salad': {'price': '189', 'veg_or_non_veg': 'Non-veg'}, '8 \\\" Regular Chicken Tikka Pizza': {'price': '187', 'veg_or_non_veg': 'Non-veg'}, '13 \\\" Large Tandoori Chicken Pizza': {'price': '463', 'veg_or_non_veg': 'Non-veg'}}, 'Family Binge Combos': {'2 Strawberry Shake + 2 Punjabi Paneer Cruncher (Without Onion + Garlic) + 1 Mint Mojito Mocktail': {'price': '720', 'veg_or_non_veg': 'Veg'}, '2 Butterscotch Shake + 2 Red Penne Mushroom Pata (Without Onion + Garlic) + 3 Veg Burger (Without Onion + Garlic)': {'price': '862', 'veg_or_non_veg': 'Veg'}, '3 Piece 8\\\" Regular Spicy Corn Tango Pizza (Without Onion + Garlic) + 3 Choclate Shakes': {'price': '932', 'veg_or_non_veg': 'Veg'}, '3 American Cheese Burger (Without Onion + Garlic) + 3 Tcd Special Shake': {'price': '1365', 'veg_or_non_veg': 'Veg'}, '3 Oreo Shake + 3 Paneer Wrap (Without Onion + Garlic)': {'price': '888', 'veg_or_non_veg': 'Veg'}}, 'Hot Coffee': {'Americano Black Coffee': {'price': '65', 'veg_or_non_veg': 'Veg'}, 'Cappuccino Coffee': {'price': '91', 'veg_or_non_veg': 'Veg'}, 'Hot Chocolate Coffee': {'price': '91', 'veg_or_non_veg': 'Veg'}, 'Hazelnut Cappuccino Coffee': {'price': '111', 'veg_or_non_veg': 'Veg'}, 'Cookie Cappuccino Coffee': {'price': '155', 'veg_or_non_veg': 'Veg'}, 'Cafe Latte Coffee': {'price': '118', 'veg_or_non_veg': 'Veg'}, 'Irish Cafe Latte Coffee': {'price': '145', 'veg_or_non_veg': 'Veg'}, 'Caramel Latte Coffee': {'price': '132', 'veg_or_non_veg': 'Veg'}, 'Cafe Mocha Coffee': {'price': '132', 'veg_or_non_veg': 'Veg'}}, 'Tea': {'Assam Tea': {'price': '52', 'veg_or_non_veg': 'Veg'}, 'Green Tea': {'price': '52', 'veg_or_non_veg': 'Veg'}}, 'Thirst Quenchers': {'Lemon Ice Tea': {'price': '89', 'veg_or_non_veg': 'Veg'}, 'Peach Ice Tea': {'price': '89', 'veg_or_non_veg': 'Veg'}, 'Strawberry Ice Tea': {'price': '89', 'veg_or_non_veg': 'Veg'}, 'Classic Lemonade': {'price': '99', 'veg_or_non_veg': 'Veg'}, 'Strawberry Lemonade': {'price': '115', 'veg_or_non_veg': 'Veg'}, 'Mint Lemonade': {'price': '115', 'veg_or_non_veg': 'Veg'}}, 'Shakes Crunchy': {'Oreo Shake': {'price': '145', 'veg_or_non_veg': 'Veg'}, 'TCD Special Shake': {'price': '264', 'veg_or_non_veg': 'Veg'}}, 'Classic Shakes': {'Strawberry Shake': {'price': '118', 'veg_or_non_veg': 'Veg'}, 'Chocolate Shake': {'price': '118', 'veg_or_non_veg': 'Veg'}, 'Butterscotch Shake': {'price': '118', 'veg_or_non_veg': 'Veg'}, 'Vanilla Shake': {'price': '118', 'veg_or_non_veg': 'Veg'}, 'Greenapple Shake': {'price': '125', 'veg_or_non_veg': 'Veg'}, 'Black Current Shake': {'price': '118', 'veg_or_non_veg': 'Veg'}}, 'Shakes Premium': {'Mango Shake': {'price': '118', 'veg_or_non_veg': 'Veg'}, 'Paan Shake': {'price': '131', 'veg_or_non_veg': 'Veg'}, 'Orange chocolate shake': {'price': '143', 'veg_or_non_veg': 'Veg'}}, 'Sweet Moments': {'Walnut Brownie': {'price': '65', 'veg_or_non_veg': 'Veg'}, 'Fruit Sundae': {'price': '113', 'veg_or_non_veg': 'Veg'}, 'Paan Sundae': {'price': '119', 'veg_or_non_veg': 'Veg'}}, 'Cold Coffee': {'Devils Own Desi Style Coffee': {'price': '144', 'veg_or_non_veg': 'Veg'}, 'Classic Cold Coffee': {'price': '119', 'veg_or_non_veg': 'Veg'}, 'Iced Cappuccino Coffee': {'price': '133', 'veg_or_non_veg': 'Veg'}, 'Iced Vanilla Cappuccino Coffee': {'price': '154', 'veg_or_non_veg': 'Veg'}, 'Cafe Frappe': {'price': '145', 'veg_or_non_veg': 'Veg'}, 'Chocolaty Frappe': {'price': '158', 'veg_or_non_veg': 'Veg'}, 'Caramel Frappe': {'price': '160', 'veg_or_non_veg': 'Veg'}}, 'Quick Bites': {'Masala Fries with Dip': {'price': '115', 'veg_or_non_veg': 'Veg'}, 'Mexican Tokari': {'price': '113', 'veg_or_non_veg': 'Veg'}, 'Cheese Shots': {'price': '113', 'veg_or_non_veg': 'Veg'}, 'Veg Fingers': {'price': '86', 'veg_or_non_veg': 'Veg'}, 'Triple S': {'price': '130', 'veg_or_non_veg': 'Non-veg'}, 'Chicken Finger(peri peri)': {'price': '176', 'veg_or_non_veg': 'Non-veg'}, 'Chicken Finger 5pc(Barbeque)': {'price': '177', 'veg_or_non_veg': 'Non-veg'}, 'French Fries': {'price': '82', 'veg_or_non_veg': 'Veg'}, 'Seekh Kabab with Dip': {'price': '91', 'veg_or_non_veg': 'Non-veg'}, 'Chicken Nuggets': {'price': '139', 'veg_or_non_veg': 'Non-veg'}, 'Chicken Popcorn': {'price': '144', 'veg_or_non_veg': 'Non-veg'}, 'Chicken Finger (5 Pcs)': {'price': '150', 'veg_or_non_veg': 'Non-veg'}}, 'Garlic Breads': {'Plain Garlic Bread': {'price': '88', 'veg_or_non_veg': 'Veg'}, 'Cheese Garlic Bread': {'price': '124', 'veg_or_non_veg': 'Veg'}, 'Chilly Corn Garlic Bread': {'price': '142', 'veg_or_non_veg': 'Veg'}, 'Tandoori Cavity': {'price': '119', 'veg_or_non_veg': 'Veg'}, 'Exotic Garlic Bread': {'price': '150', 'veg_or_non_veg': 'Veg'}, 'Roasted Chicken Garlic Bread': {'price': '166', 'veg_or_non_veg': 'Non-veg'}, 'Seekh Kabab Garlic Bread': {'price': '172', 'veg_or_non_veg': 'Non-veg'}}, 'Mocktails': {'Mint Mojito Mocktail': {'price': '155', 'veg_or_non_veg': 'Veg'}, 'Cucumber Lemon Mojito Mocktail': {'price': '152', 'veg_or_non_veg': 'Veg'}, 'Meloneez Mocktail': {'price': '139', 'veg_or_non_veg': 'Veg'}, 'Candid Apple Mocktail': {'price': '145', 'veg_or_non_veg': 'Veg'}, 'TCD Float (Coke with Ice Cream Float) Mocktail': {'price': '73', 'veg_or_non_veg': 'Veg'}, 'Lemon Coke Mocktail': {'price': '60', 'veg_or_non_veg': 'Veg'}, 'Malt (Taste of Beer) Mocktail': {'price': '131', 'veg_or_non_veg': 'Veg'}, 'Blue Curacao': {'price': '148', 'veg_or_non_veg': 'Veg'}, 'Spicy Mango': {'price': '131', 'veg_or_non_veg': 'Veg'}}, 'Wraps': {'Paneer Wrap': {'price': '118', 'veg_or_non_veg': 'Veg'}, 'Seekh Kabab Wrap': {'price': '121', 'veg_or_non_veg': 'Non-veg'}, 'Chicken Tikka Wrap': {'price': '139', 'veg_or_non_veg': 'Non-veg'}, 'Tandoori Chicken Wrap': {'price': '144', 'veg_or_non_veg': 'Non-veg'}, 'Single egg single chicken wrap': {'price': '155', 'veg_or_non_veg': 'Non-veg'}, 'Aloo Wrap': {'price': '78', 'veg_or_non_veg': 'Veg'}, 'Mexican Veg Wrap': {'price': '92', 'veg_or_non_veg': 'Veg'}, 'Egg Wrap': {'price': '92', 'veg_or_non_veg': 'Non-veg'}, 'Pasta Wrap': {'price': '100', 'veg_or_non_veg': 'Veg'}}, 'Sub': {'Paneer Tikka Sub': {'price': '166', 'veg_or_non_veg': 'Veg'}, 'Veg Tikki Sub': {'price': '158', 'veg_or_non_veg': 'Veg'}, 'Veg Delight Sub': {'price': '145', 'veg_or_non_veg': 'Veg'}, 'Chicken Tikka Sub': {'price': '179', 'veg_or_non_veg': 'Non-veg'}, 'Chicken Delight Sub': {'price': '192', 'veg_or_non_veg': 'Non-veg'}, 'Saute Chicken Sub': {'price': '166', 'veg_or_non_veg': 'Non-veg'}}, 'Combos': {'2 Pieces Chicken Tikka Sandwich  +  Classic Lemonade': {'price': '145', 'veg_or_non_veg': 'Non-veg'}, '2 Pieces Paneer Tikka Sandwich + Cappuccino': {'price': '132', 'veg_or_non_veg': 'Veg'}, '1 Veg Burger with Cheese + Classic Cold Coffee': {'price': '190', 'veg_or_non_veg': 'Veg'}, '1 Chicken Burger with Cheese + Classic Cold Coffee': {'price': '198', 'veg_or_non_veg': 'Non-veg'}, 'Mexican Veg Wrap + Lemon Coke': {'price': '145', 'veg_or_non_veg': 'Veg'}, 'Chicken Wrap + Meloneez': {'price': '211', 'veg_or_non_veg': 'Non-veg'}}, 'Veg Supreme Pizza': {'8 \\\" Regular Farm House Pizza': {'price': '217', 'veg_or_non_veg': 'Veg'}, '10 \\\" Medium Farm House Pizza': {'price': '375', 'veg_or_non_veg': 'Veg'}, '13 \\\"Large Farm House Pizza': {'price': '475', 'veg_or_non_veg': 'Veg'}, '8 \\\" Regular Special Wonder Pizza': {'price': '184', 'veg_or_non_veg': 'Veg'}, '10 \\\" Medium Special Wonder Pizza': {'price': '375', 'veg_or_non_veg': 'Veg'}, '13 \\\" Large Special Wonder Pizza': {'price': '475', 'veg_or_non_veg': 'Veg'}}, 'Burgers': {'Punjabi Paneer Cruncher': {'price': '116', 'veg_or_non_veg': 'Veg'}, 'Double Decker Veg Burger': {'price': '145', 'veg_or_non_veg': 'Veg'}, 'American Cheese Burger': {'price': '158', 'veg_or_non_veg': 'Veg'}, 'Exotic Egg Burger': {'price': '118', 'veg_or_non_veg': 'Non-veg'}, 'Spicy Chicken Burger': {'price': '119', 'veg_or_non_veg': 'Non-veg'}, 'Double Decker Chicken Burger': {'price': '172', 'veg_or_non_veg': 'Non-veg'}, 'American chicken burger': {'price': '136', 'veg_or_non_veg': 'Non-veg'}, 'Aloo Tikki Burger': {'price': '65', 'veg_or_non_veg': 'Veg'}, 'Veg Burger': {'price': '79', 'veg_or_non_veg': 'Veg'}, 'Spicy Veg Burger': {'price': '91', 'veg_or_non_veg': 'Veg'}, 'Chicken Burger': {'price': '92', 'veg_or_non_veg': 'Non-veg'}}, 'Veg Delight Pizza': {'8 \\\" Regular Tandoori Paneer Pizza': {'price': '175', 'veg_or_non_veg': 'Veg'}, '10 \\\" Medium Tandoori Paneer Pizza': {'price': '325', 'veg_or_non_veg': 'Veg'}, '13 \\\" Large Tandoori Paneer Pizza': {'price': '450', 'veg_or_non_veg': 'Veg'}, '8 \\\" Regular Hot & Sweet Delight Pizza': {'price': '175', 'veg_or_non_veg': 'Veg'}, '10 \\\"Medium Hot & Sweet Delight Pizza': {'price': '325', 'veg_or_non_veg': 'Veg'}, '13 \\\" Large Hot & Sweet Delight Pizza': {'price': '450', 'veg_or_non_veg': 'Veg'}}, 'Veg Super Pizza': {'8 \\\" Regular Veg Feast Pizza': {'price': '160', 'veg_or_non_veg': 'Veg'}, '10 \\\" Medium Veg Feast Pizza': {'price': '270', 'veg_or_non_veg': 'Veg'}, '13 \\\" Large Veg Feast Pizza': {'price': '480', 'veg_or_non_veg': 'Veg'}, '8 \\\" Regular Spicy Corn Tango Pizza': {'price': '160', 'veg_or_non_veg': 'Veg'}, '13 \\\" Large Spicy Corn Tango Pizza': {'price': '480', 'veg_or_non_veg': 'Veg'}, '8 \\\" Regular Spicy Paneer Pizza': {'price': '160', 'veg_or_non_veg': 'Veg'}, '10 \\\"Medium Spicy Paneer Pizza': {'price': '270', 'veg_or_non_veg': 'Veg'}, '13 \\\" Large Spicy Paneer Pizza': {'price': '480', 'veg_or_non_veg': 'Veg'}}, 'Sandwiches': {'Corn Delight Sandwich': {'price': '102', 'veg_or_non_veg': 'Veg'}, 'Veg Cheese Sandwich': {'price': '118', 'veg_or_non_veg': 'Veg'}, 'Paneer Tikka Sandwich': {'price': '145', 'veg_or_non_veg': 'Veg'}, 'Paneer Makhani Sandwich': {'price': '160', 'veg_or_non_veg': 'Veg'}, 'Mexican Sandwich': {'price': '142', 'veg_or_non_veg': 'Veg'}, 'Veg Delight Sandwich': {'price': '160', 'veg_or_non_veg': 'Veg'}, 'Chicken Tikka Sandwich': {'price': '152', 'veg_or_non_veg': 'Non-veg'}, 'Egg Delight Sandwich': {'price': '131', 'veg_or_non_veg': 'Non-veg'}, 'Chicken Delight Sandwich': {'price': '168', 'veg_or_non_veg': 'Non-veg'}, 'Double Decker Ontario Sandwich': {'price': '209', 'veg_or_non_veg': 'Non-veg'}, 'Schezwan Veg sandwich': {'price': '162', 'veg_or_non_veg': 'Veg'}, 'Schezwan chicken sandwich': {'price': '175', 'veg_or_non_veg': 'Non-veg'}}, 'Single Topping Pizza': {'Cheesy Marghrita (Medium)': {'price': '228', 'veg_or_non_veg': 'Veg'}, 'Cheesy Margheritta Pizza (Large)': {'price': '364', 'veg_or_non_veg': 'Veg'}, 'Cheesy  Margherita (Regular)': {'price': '127', 'veg_or_non_veg': 'Veg'}}, 'Wonder Pizza': {'8 \\\" Regular Paneer Makhani Pizza': {'price': '197', 'veg_or_non_veg': 'Veg'}, '10 \\\" Medium Paneer Makhani Pizza': {'price': '355', 'veg_or_non_veg': 'Veg'}, '13 \\\" Large Paneer Makhani Pizza': {'price': '499', 'veg_or_non_veg': 'Veg'}}, 'Pastas': {'Red Penne Alfredo Pasta': {'price': '152', 'veg_or_non_veg': 'Veg'}, 'Red Penne Mushroom Pasta': {'price': '145', 'veg_or_non_veg': 'Veg'}, 'Red Exotic Veggie Pasta': {'price': '179', 'veg_or_non_veg': 'Veg'}, 'Red Penne Chicken Pasta': {'price': '205', 'veg_or_non_veg': 'Non-veg'}, 'White Penne Alfredo Pasta': {'price': '152', 'veg_or_non_veg': 'Veg'}, 'White Penne Mushroom Pasta': {'price': '145', 'veg_or_non_veg': 'Veg'}, 'White Exotic Veggie Pasta': {'price': '179', 'veg_or_non_veg': 'Veg'}, 'White Penne Chicken Pasta': {'price': '205', 'veg_or_non_veg': 'Non-veg'}, 'Mix Sauce Penne Alfredo Pasta': {'price': '152', 'veg_or_non_veg': 'Veg'}, 'Mix Sauce Penne Mushroom Pasta': {'price': '145', 'veg_or_non_veg': 'Veg'}, 'Mix Sauce Exotic Veggie Pasta': {'price': '179', 'veg_or_non_veg': 'Veg'}, 'Mix Sauce Penne Chicken Pasta': {'price': '205', 'veg_or_non_veg': 'Non-veg'}, 'American crunchy veg pasta': {'price': '196', 'veg_or_non_veg': 'Veg'}, 'American Crunchy chicken pasta': {'price': '215', 'veg_or_non_veg': 'Non-veg'}}, 'Non Veg Supreme Pizza': {'8 \\\" Regular Spicy Chicken Pizza': {'price': '312', 'veg_or_non_veg': 'Non-veg'}, '10 \\\" Medium Spicy Chicken Pizza': {'price': '432', 'veg_or_non_veg': 'Non-veg'}, '13 \\\" Large Spicy Chicken Pizza': {'price': '594', 'veg_or_non_veg': 'Non-veg'}, '8 \\\" Regular Chicken Love Pizza': {'price': '312', 'veg_or_non_veg': 'Non-veg'}, '10 \\\" Medium Chicken Love Pizza': {'price': '432', 'veg_or_non_veg': 'Non-veg'}, '13 \\\" Large Chicken Love Pizza': {'price': '594', 'veg_or_non_veg': 'Non-veg'}, '8 \\\" Regular Loaded Chicken Pizza': {'price': '312', 'veg_or_non_veg': 'Non-veg'}, '10 \\\" Medium Loaded Chicken Pizza': {'price': '432', 'veg_or_non_veg': 'Non-veg'}, '13 \\\" Large Loaded Chicken Pizza': {'price': '594', 'veg_or_non_veg': 'Non-veg'}}, 'Non Veg Delight Pizza': {'8 \\\" Regular Hawaiian Delight Pizza': {'price': '228', 'veg_or_non_veg': 'Non-veg'}, '10 \\\" Medium Hawaiian Delight Pizza': {'price': '378', 'veg_or_non_veg': 'Non-veg'}, '13 \\\" Large Hawaiian Delight Pizza': {'price': '495', 'veg_or_non_veg': 'Non-veg'}, '8 \\\" Regular Golden Delight Pizza': {'price': '228', 'veg_or_non_veg': 'Non-veg'}, '10 \\\" Medium Golden Delight Pizza': {'price': '378', 'veg_or_non_veg': 'Non-veg'}, '13 \\\" Large Golden Delight Pizza': {'price': '495', 'veg_or_non_veg': 'Non-veg'}}, 'Salad': {'Paneer Tikka Salad': {'price': '158', 'veg_or_non_veg': 'Veg'}, 'Veg Tikki Salad': {'price': '152', 'veg_or_non_veg': 'Veg'}, 'Veg Delight Salad': {'price': '145', 'veg_or_non_veg': 'Veg'}, 'Chicken Tikka Salad': {'price': '172', 'veg_or_non_veg': 'Non-veg'}, 'Chicken Delight Salad': {'price': '189', 'veg_or_non_veg': 'Non-veg'}, 'Saute Chicken Salad': {'price': '166', 'veg_or_non_veg': 'Non-veg'}, 'Egg Salad': {'price': '166', 'veg_or_non_veg': 'Non-veg'}, 'Nacho Salad': {'price': '188', 'veg_or_non_veg': 'Veg'}, 'Crispy veg saled': {'price': '188', 'veg_or_non_veg': 'Veg'}}, 'Non Veg Super Pizza': {'8 \\\" Regular Chicken Tikka Pizza': {'price': '187', 'veg_or_non_veg': 'Non-veg'}, '10 \\\" Medium Chicken Tikka Pizza': {'price': '330', 'veg_or_non_veg': 'Non-veg'}, '13 \\\" Large Chicken Tikka Pizza': {'price': '463', 'veg_or_non_veg': 'Non-veg'}, '8 \\\" Regular Tandoori Chicken Pizza': {'price': '187', 'veg_or_non_veg': 'Non-veg'}, '10 \\\" Medium Tandoori Chicken Pizza': {'price': '330', 'veg_or_non_veg': 'Non-veg'}, '13 \\\" Large Tandoori Chicken Pizza': {'price': '463', 'veg_or_non_veg': 'Non-veg'}}, 'Swiggy Special Combos': {'1 Aloo Tikki Burger + 1 Single Topping Onion Pizza': {'price': '140', 'veg_or_non_veg': 'Veg'}, '1 Aloo Tikki Burger + 1 Single Topping Corn Pizza': {'price': '150', 'veg_or_non_veg': 'Veg'}}}\", \"https://www.swiggy.com/restaurants/theka-coffee-desi-central-raipura-abohar-158203\", \"Abohar\", \"Abohar\"], [\"187912\", \"Singh Hut\", \"3.7\", \"20+ ratings\", \"\\u20b9 250\", \"Singh Hut, CIRCULAR ROAD NEAR NEHRU PARK ABOHAR\", \"Fast Food,Indian\", \"22119652000167\", \"{'Recommended': {'Malai Chaap': {'price': '200', 'veg_or_non_veg': 'Veg'}, 'Afghani Chaap': {'price': '200', 'veg_or_non_veg': 'Veg'}, 'Tandoori Chaap': {'price': '200', 'veg_or_non_veg': 'Veg'}, 'Pudina Chaap': {'price': '200', 'veg_or_non_veg': 'Veg'}, 'Achari Chaap': {'price': '200', 'veg_or_non_veg': 'Veg'}, 'Chaap Tikka Gravy': {'price': '240', 'veg_or_non_veg': 'Veg'}, 'Keema Chaap Gravy': {'price': '220', 'veg_or_non_veg': 'Veg'}, 'Paneer Tikka Butter Masala': {'price': '300', 'veg_or_non_veg': 'Veg'}, 'Rumali Roti': {'price': '40', 'veg_or_non_veg': 'Veg'}, 'Chilli Chaap': {'price': '200', 'veg_or_non_veg': 'Veg'}, 'Chilli Mushroom': {'price': '280', 'veg_or_non_veg': 'Veg'}, 'Cheese Chilli': {'price': '280', 'veg_or_non_veg': 'Veg'}, 'Manchurian Gravy': {'price': '120', 'veg_or_non_veg': 'Veg'}, 'Chilli Potato': {'price': '140', 'veg_or_non_veg': 'Veg'}, 'Honey Chilli Potato': {'price': '180', 'veg_or_non_veg': 'Veg'}, 'French Fry': {'price': '100', 'veg_or_non_veg': 'Veg'}, 'Veg Spring Roll': {'price': '120', 'veg_or_non_veg': 'Veg'}, 'Momos (10 Pcs)': {'price': '120', 'veg_or_non_veg': 'Veg'}, 'Fried Momos (10 Pcs)': {'price': '140', 'veg_or_non_veg': 'Veg'}, 'Tandoori Momos (8 Pcs)': {'price': '160', 'veg_or_non_veg': 'Veg'}, 'Malai Paneer': {'price': '240', 'veg_or_non_veg': 'Veg'}, 'Veg Chow mien': {'price': '120', 'veg_or_non_veg': 'Veg'}, 'Cheese Chow mien': {'price': '140', 'veg_or_non_veg': 'Veg'}, 'Singapore Chow mien': {'price': '140', 'veg_or_non_veg': 'Veg'}, 'Chaap Roll': {'price': '180', 'veg_or_non_veg': 'Veg'}, 'Combos': {'price': '200', 'veg_or_non_veg': 'Veg'}}, 'Soya Chaap': {'Malai Chaap': {'price': '200', 'veg_or_non_veg': 'Veg'}, 'Afghani Chaap': {'price': '200', 'veg_or_non_veg': 'Veg'}, 'Tandoori Chaap': {'price': '200', 'veg_or_non_veg': 'Veg'}, 'Pudina Chaap': {'price': '200', 'veg_or_non_veg': 'Veg'}, 'Achari Chaap': {'price': '200', 'veg_or_non_veg': 'Veg'}, 'Irani Chaap': {'price': '200', 'veg_or_non_veg': 'Veg'}, 'Fried Chaap': {'price': '240', 'veg_or_non_veg': 'Veg'}}, 'Gravy Item': {'Chaap Tikka Gravy': {'price': '240', 'veg_or_non_veg': 'Veg'}, 'Keema Chaap Gravy': {'price': '220', 'veg_or_non_veg': 'Veg'}, 'Paneer Tikka Butter Masala': {'price': '300', 'veg_or_non_veg': 'Veg'}, 'Kadai Paneer': {'price': '300', 'veg_or_non_veg': 'Veg'}, 'Mushroom Tikka Masala': {'price': '300', 'veg_or_non_veg': 'Veg'}, 'Rumali Roti': {'price': '40', 'veg_or_non_veg': 'Veg'}}, 'Chinese Hot': {'Chilli Chaap': {'price': '200', 'veg_or_non_veg': 'Veg'}, 'Chilli Mushroom': {'price': '280', 'veg_or_non_veg': 'Veg'}, 'Cheese Chilli': {'price': '280', 'veg_or_non_veg': 'Veg'}, 'Manchurian Gravy': {'price': '120', 'veg_or_non_veg': 'Veg'}, 'Chilli Potato': {'price': '140', 'veg_or_non_veg': 'Veg'}, 'Honey Chilli Potato': {'price': '180', 'veg_or_non_veg': 'Veg'}, 'French Fry': {'price': '100', 'veg_or_non_veg': 'Veg'}, 'Veg Spring Roll': {'price': '120', 'veg_or_non_veg': 'Veg'}}, 'Momos': {'Momos (10 Pcs)': {'price': '120', 'veg_or_non_veg': 'Veg'}, 'Fried Momos (10 Pcs)': {'price': '140', 'veg_or_non_veg': 'Veg'}, 'Tandoori Momos (8 Pcs)': {'price': '160', 'veg_or_non_veg': 'Veg'}, 'Masala Fried Momos (8 Pcs)': {'price': '160', 'veg_or_non_veg': 'Veg'}}, 'Soup': {'Veg Manchow Soup': {'price': '50', 'veg_or_non_veg': 'Veg'}}, 'Paneer': {'Malai Paneer': {'price': '240', 'veg_or_non_veg': 'Veg'}, 'Afghani Paneer': {'price': '240', 'veg_or_non_veg': 'Veg'}, 'Irani Paneer': {'price': '240', 'veg_or_non_veg': 'Veg'}, 'Tandoori Paneer': {'price': '220', 'veg_or_non_veg': 'Veg'}, 'Pudina Paneer': {'price': '220', 'veg_or_non_veg': 'Veg'}, 'Achari Paneer': {'price': '220', 'veg_or_non_veg': 'Veg'}, 'Golden Fried Paneer': {'price': '240', 'veg_or_non_veg': 'Veg'}}, 'Mushroom': {'Malai Mushroom': {'price': '200', 'veg_or_non_veg': 'Veg'}, 'Afghani Mushroom': {'price': '200', 'veg_or_non_veg': 'Veg'}, 'Irani Mushroom': {'price': '200', 'veg_or_non_veg': 'Veg'}, 'Tandoori Mushroom': {'price': '180', 'veg_or_non_veg': 'Veg'}, 'Pudina Mushroom': {'price': '180', 'veg_or_non_veg': 'Veg'}, 'Achari Mushroom': {'price': '180', 'veg_or_non_veg': 'Veg'}, 'Golden Fried Mushroom': {'price': '240', 'veg_or_non_veg': 'Veg'}}, 'Chow mien': {'Veg Chow mien': {'price': '120', 'veg_or_non_veg': 'Veg'}, 'Veg Hakka Chow mien': {'price': '140', 'veg_or_non_veg': 'Veg'}, 'Cheese Chow mien': {'price': '140', 'veg_or_non_veg': 'Veg'}, 'Singapore Chow mien': {'price': '140', 'veg_or_non_veg': 'Veg'}, 'Mixed Veg Chow mien': {'price': '160', 'veg_or_non_veg': 'Veg'}, 'Chaap Chow mien': {'price': '140', 'veg_or_non_veg': 'Veg'}}, 'Rumali Roll': {'Paneer Roll': {'price': '200', 'veg_or_non_veg': 'Veg'}, 'Chaap Roll': {'price': '180', 'veg_or_non_veg': 'Veg'}, 'Mushroom Roll': {'price': '180', 'veg_or_non_veg': 'Veg'}, 'Mixed Roll': {'price': '220', 'veg_or_non_veg': 'Veg'}}, 'Rumali Package': {'Combos': {'price': '200', 'veg_or_non_veg': 'Veg'}}}\", \"https://www.swiggy.com/restaurants/singh-hut-nehru-park-main-bazar-abohar-187912\", \"Abohar\", \"Abohar\"], [\"543530\", \"GRILL MASTERS\", \"--\", \"Too Few Ratings\", \"\\u20b9 250\", \"GRILL MASTERS, ADA Heights, Abohar - Hanumangarh Rd, Raipura, Abohar, Punjab 152116, India\", \"Italian-American,Fast Food\", \"12122201000053\", \"{'Veg Burgers': {'Junior': {'price': '65', 'veg_or_non_veg': 'Veg'}, 'Texas': {'price': '90', 'veg_or_non_veg': 'Veg'}, 'New Yorker': {'price': '120', 'veg_or_non_veg': 'Veg'}, 'Paneer Crisp': {'price': '120', 'veg_or_non_veg': 'Veg'}, 'Giga Bite': {'price': '130', 'veg_or_non_veg': 'Veg'}, 'Mexican Paneer': {'price': '145', 'veg_or_non_veg': 'Veg'}, 'Veg Mountain': {'price': '160', 'veg_or_non_veg': 'Veg'}}, 'Non-Veg Burgers': {'Compact Burger': {'price': '80', 'veg_or_non_veg': 'Non-veg'}, 'Bad Boy': {'price': '105', 'veg_or_non_veg': 'Non-veg'}, 'Big Devil': {'price': '130', 'veg_or_non_veg': 'Non-veg'}, 'Illegal Burger': {'price': '130', 'veg_or_non_veg': 'Non-veg'}, 'Grilled Chicken Burger': {'price': '145', 'veg_or_non_veg': 'Non-veg'}, 'Crispy Chicken Burger': {'price': '160', 'veg_or_non_veg': 'Non-veg'}, 'The Heavy Driver': {'price': '185', 'veg_or_non_veg': 'Non-veg'}, 'Chicken Mountain': {'price': '185', 'veg_or_non_veg': 'Non-veg'}}, 'Veg Wraps': {'Veg Wrap': {'price': '145', 'veg_or_non_veg': 'Veg'}, 'Paneer Wrap': {'price': '160', 'veg_or_non_veg': 'Veg'}, 'Mexican Tortilla': {'price': '170', 'veg_or_non_veg': 'Veg'}, 'Peri Peri Paneer Wrap': {'price': '185', 'veg_or_non_veg': 'Veg'}}, 'Non Veg Wraps': {'Chicken Barbeque': {'price': '160', 'veg_or_non_veg': 'Non-veg'}, 'Chicken Crust Wrap': {'price': '170', 'veg_or_non_veg': 'Non-veg'}, 'Chicken Salami Wrap': {'price': '185', 'veg_or_non_veg': 'Non-veg'}, 'Crispy Chicken Wrap': {'price': '195', 'veg_or_non_veg': 'Non-veg'}, 'Chicken Tikka Wrap': {'price': '195', 'veg_or_non_veg': 'Non-veg'}, 'Chicken Southern Spice': {'price': '185', 'veg_or_non_veg': 'Non-veg'}}, 'Veg Grilled Sandwiches': {'Warm Up Sandwich': {'price': '120', 'veg_or_non_veg': 'Veg'}, 'Cheesy Corn Sandwich': {'price': '145', 'veg_or_non_veg': 'Veg'}, 'Mexican Wave Sandwich': {'price': '170', 'veg_or_non_veg': 'Veg'}, 'Paneer Tikka Sandwich': {'price': '195', 'veg_or_non_veg': 'Veg'}}, 'Non-Veg Grilled Sandwiches': {'Chicken Salami': {'price': '170', 'veg_or_non_veg': 'Non-veg'}, 'Saucy Mexicano': {'price': '195', 'veg_or_non_veg': 'Non-veg'}, 'Chicken Paradise': {'price': '195', 'veg_or_non_veg': 'Non-veg'}, 'Fiery Chicken': {'price': '210', 'veg_or_non_veg': 'Non-veg'}}, 'Veg Pizzas': {'Cheese & Onion': {'price': '95', 'veg_or_non_veg': 'Veg'}, 'Cheese & Corn': {'price': '95', 'veg_or_non_veg': 'Veg'}, 'Cheese & Paneer': {'price': '120', 'veg_or_non_veg': 'Veg'}, 'Queen Margherita [Small]': {'price': '185', 'veg_or_non_veg': 'Veg'}, 'Veggie Garden [Small]': {'price': '195', 'veg_or_non_veg': 'Veg'}, 'Corn & Olive [Small]': {'price': '195', 'veg_or_non_veg': 'Veg'}, 'Farm Fresh [Small]': {'price': '210', 'veg_or_non_veg': 'Veg'}, 'Paneer Bingo [Small]': {'price': '210', 'veg_or_non_veg': 'Veg'}, 'Mexican Pizza [Small]': {'price': '210', 'veg_or_non_veg': 'Veg'}, 'Paneer Tikka [Small]': {'price': '235', 'veg_or_non_veg': 'Veg'}, 'Grills Special [Small]': {'price': '235', 'veg_or_non_veg': 'Veg'}, 'Queen Margherita [Large]': {'price': '325', 'veg_or_non_veg': 'Veg'}, 'Corn & Olive [Large]': {'price': '365', 'veg_or_non_veg': 'Veg'}, 'Farm Fresh [Large]': {'price': '390', 'veg_or_non_veg': 'Veg'}, 'Paneer Bingo [Large]': {'price': '390', 'veg_or_non_veg': 'Veg'}, 'Mexican Pizza [Large]': {'price': '390', 'veg_or_non_veg': 'Veg'}, 'Paneer Tikka [Large]': {'price': '420', 'veg_or_non_veg': 'Veg'}, 'Garlic Exotica [Large]': {'price': '420', 'veg_or_non_veg': 'Veg'}, 'Grills Special [Large]': {'price': '420', 'veg_or_non_veg': 'Veg'}, 'Cheese & Capsicum': {'price': '95', 'veg_or_non_veg': 'Veg'}, 'Veggie Garden [Large]': {'price': '365', 'veg_or_non_veg': 'Veg'}, 'The Lord of Cheese [Small]': {'price': '235', 'veg_or_non_veg': 'Veg'}, 'The Lord of Cheese [Large]': {'price': '420', 'veg_or_non_veg': 'Veg'}, 'Garlic Exotica [Small]': {'price': '235', 'veg_or_non_veg': 'Veg'}}, 'Garlic Bread': {'Cheese Garlic Bread': {'price': '120', 'veg_or_non_veg': 'Veg'}, 'Loaded Garlic Bread': {'price': '145', 'veg_or_non_veg': 'Veg'}}, 'Non Veg Pizzas': {'Grilled Chicken Pizza [Small]': {'price': '250', 'veg_or_non_veg': 'Non-veg'}, 'Chicken Makhani Pizza [Small]': {'price': '290', 'veg_or_non_veg': 'Non-veg'}, 'Chicken Monster Pizza [Small]': {'price': '300', 'veg_or_non_veg': 'Non-veg'}, 'Grilled Chicken Pizza [Large]': {'price': '420', 'veg_or_non_veg': 'Non-veg'}, 'Chicken Kebab Pizza [Large]': {'price': '420', 'veg_or_non_veg': 'Non-veg'}, 'Chicken Makhani Pizza [Large]': {'price': '455', 'veg_or_non_veg': 'Non-veg'}, 'Peri Peri Chicken Pizza [Large]': {'price': '455', 'veg_or_non_veg': 'Non-veg'}, 'Chicken Monster Pizza [Large]': {'price': '495', 'veg_or_non_veg': 'Non-veg'}, 'Chicken Kebab Pizza [Small]': {'price': '250', 'veg_or_non_veg': 'Non-veg'}, 'Peri Peri Chicken Pizza [Small]': {'price': '290', 'veg_or_non_veg': 'Non-veg'}}, 'Pasta-La-Vista': {'Veg White Sauce Pasta': {'price': '185', 'veg_or_non_veg': 'Veg'}, 'Veg Red Sauce Pasta': {'price': '185', 'veg_or_non_veg': 'Veg'}, 'Veg Mix Sauce Pasta': {'price': '195', 'veg_or_non_veg': 'Veg'}, 'Tandoori Pasta': {'price': '195', 'veg_or_non_veg': 'Veg'}, 'Chicken White Sauce Pasta': {'price': '250', 'veg_or_non_veg': 'Non-veg'}, 'Chicken Red Sauce Pasta': {'price': '250', 'veg_or_non_veg': 'Non-veg'}, 'Chicken Mix Sauce Pasta': {'price': '260', 'veg_or_non_veg': 'Non-veg'}, 'Chicken Tandoori Pasta': {'price': '260', 'veg_or_non_veg': 'Non-veg'}}, 'Shakespears': {'Vanilla Shake': {'price': '120', 'veg_or_non_veg': 'Veg'}, 'Naughty Strawberry': {'price': '120', 'veg_or_non_veg': 'Veg'}, 'Butterscotch Shake': {'price': '130', 'veg_or_non_veg': 'Veg'}, 'Chocolate Shake': {'price': '130', 'veg_or_non_veg': 'Veg'}, 'Black Currant Shake': {'price': '130', 'veg_or_non_veg': 'Veg'}, 'Cold Coffee': {'price': '130', 'veg_or_non_veg': 'Veg'}, 'Caramel Coffee': {'price': '145', 'veg_or_non_veg': 'Veg'}, 'Classic Oreo': {'price': '160', 'veg_or_non_veg': 'Veg'}, 'Chocolate Oreo': {'price': '160', 'veg_or_non_veg': 'Veg'}, 'Veryberry Oreo': {'price': '160', 'veg_or_non_veg': 'Veg'}}, 'Let's Cool Down': {'Lemon Ice Tea': {'price': '80', 'veg_or_non_veg': 'Veg'}, 'Virgin Mojito': {'price': '95', 'veg_or_non_veg': 'Veg'}, 'Peach Mojito': {'price': '95', 'veg_or_non_veg': 'Veg'}, 'Blueberry Mojito': {'price': '95', 'veg_or_non_veg': 'Veg'}, 'Watermelon Mojito': {'price': '95', 'veg_or_non_veg': 'Veg'}, 'Green Apple Mojito': {'price': '95', 'veg_or_non_veg': 'Veg'}}, 'Crispy Chicken': {'Chicken Popcorn': {'price': '210', 'veg_or_non_veg': 'Non-veg'}, 'Chicken Leg [2 Pcs]': {'price': '140', 'veg_or_non_veg': 'Non-veg'}, 'Chicken Wings [6 Pcs]': {'price': '185', 'veg_or_non_veg': 'Non-veg'}, 'Chicken Strips [3 Pcs]': {'price': '145', 'veg_or_non_veg': 'Non-veg'}, 'Peri Peri Chicken Popcorn': {'price': '235', 'veg_or_non_veg': 'Non-veg'}, 'Butter Chicken Popcorn': {'price': '235', 'veg_or_non_veg': 'Non-veg'}}, 'Salads': {'Veg Crunch': {'price': '145', 'veg_or_non_veg': 'Veg'}, 'Paneer Crunch': {'price': '170', 'veg_or_non_veg': 'Veg'}, 'Chicken Salad': {'price': '195', 'veg_or_non_veg': 'Non-veg'}, 'Chicken Protein Diet': {'price': '210', 'veg_or_non_veg': 'Non-veg'}, 'Fiery Chicken Salad': {'price': '210', 'veg_or_non_veg': 'Non-veg'}, 'Chicken Salami Salad': {'price': '210', 'veg_or_non_veg': 'Non-veg'}}, 'Sides': {'French Fries': {'price': '105', 'veg_or_non_veg': 'Veg'}, 'Peri Peri Fries': {'price': '130', 'veg_or_non_veg': 'Veg'}, 'Cheese Loaded Fries': {'price': '160', 'veg_or_non_veg': 'Veg'}, 'Peri Peri Potato Pops': {'price': '160', 'veg_or_non_veg': 'Veg'}, 'Chicken Nuggets': {'price': '170', 'veg_or_non_veg': 'Non-veg'}, 'Peri Peri Veggie Fingers': {'price': '185', 'veg_or_non_veg': 'Veg'}, 'Peri Peri Cheese Loaded': {'price': '185', 'veg_or_non_veg': 'Veg'}}, 'Extras': {'Cheese Slice': {'price': '30', 'veg_or_non_veg': 'Veg'}, 'Salami': {'price': '30', 'veg_or_non_veg': 'Non-veg'}, 'Cheesy Dip': {'price': '30', 'veg_or_non_veg': 'Veg'}, 'Tandoori Dip': {'price': '30', 'veg_or_non_veg': 'Veg'}, 'Chilli Garlic Dip': {'price': '30', 'veg_or_non_veg': 'Veg'}, 'Island Dip': {'price': '30', 'veg_or_non_veg': 'Veg'}}}\", \"https://www.swiggy.com/restaurants/grill-masters-central-abohar-abohar-543530\", \"Abohar\", \"Abohar\"]];\n",
              "\n",
              "    // Define the dt_args\n",
              "    let dt_args = {\"order\": [], \"dom\": \"t\"};\n",
              "    dt_args[\"data\"] = data;\n",
              "\n",
              "    $(document).ready(function () {\n",
              "        \n",
              "        $('#ad1735db-4e7c-4f73-b499-16a4f1cadb70').DataTable(dt_args);\n",
              "    });\n",
              "</script>\n",
              "</div>\n"
            ]
          },
          "metadata": {}
        }
      ],
      "source": [
        "df.city.replace(['Noida-1','Noida'],'Noida',inplace=True)\n",
        "show(df.head(5))"
      ]
    },
    {
      "cell_type": "code",
      "source": [
        "# before we go ahead we need to filter cost column by removing ₹ sign from the cost and converting it to int\n",
        "df['cost'] = df['cost'].str.replace('₹', '')\n",
        "df['cost'] = df['cost'].str.replace('\\s', '', regex=True)\n",
        "df['cost'] = pd.to_numeric(df['cost'], errors='coerce')\n",
        "df['cost'] = df['cost'].replace(np.nan, 0, regex=True)\n",
        "# remove restaurants with NA values\n",
        "df = df[df['restaurant'] != 'NA']"
      ],
      "metadata": {
        "id": "B-hSgw-wQvrb"
      },
      "execution_count": 11,
      "outputs": []
    },
    {
      "cell_type": "code",
      "source": [
        "show(df.head(5))"
      ],
      "metadata": {
        "colab": {
          "base_uri": "https://localhost:8080/",
          "height": 247
        },
        "id": "Z-mslghxWWMY",
        "outputId": "a5e6d5dc-78ef-4c41-f8c5-5545c2362237"
      },
      "execution_count": 12,
      "outputs": [
        {
          "output_type": "display_data",
          "data": {
            "text/plain": [
              "<IPython.core.display.HTML object>"
            ],
            "text/html": [
              "<style>.itables table td {\n",
              "    text-overflow: ellipsis;\n",
              "    overflow: hidden;\n",
              "}\n",
              "\n",
              ".itables table th {\n",
              "    text-overflow: ellipsis;\n",
              "    overflow: hidden;\n",
              "}\n",
              "\n",
              ".itables thead input {\n",
              "    width: 100%;\n",
              "    padding: 3px;\n",
              "    box-sizing: border-box;\n",
              "}\n",
              "\n",
              ".itables tfoot input {\n",
              "    width: 100%;\n",
              "    padding: 3px;\n",
              "    box-sizing: border-box;\n",
              "}\n",
              "</style>\n",
              "<div class=\"itables\">\n",
              "<table id=\"093dcc32-ebc7-4dd5-98a7-341e013fe6aa\" class=\"display nowrap\"style=\"table-layout:auto;width:auto;margin:auto;caption-side:bottom\"><thead>\n",
              "    <tr style=\"text-align: right;\">\n",
              "      <th></th>\n",
              "      <th>restaurant_id</th>\n",
              "      <th>restaurant</th>\n",
              "      <th>rating</th>\n",
              "      <th>rating_count</th>\n",
              "      <th>cost</th>\n",
              "      <th>address</th>\n",
              "      <th>cuisine</th>\n",
              "      <th>lic_no</th>\n",
              "      <th>menu</th>\n",
              "      <th>link</th>\n",
              "      <th>city</th>\n",
              "      <th>sub_region</th>\n",
              "    </tr>\n",
              "  </thead><tbody><tr><td>Loading... (need <a href=https://mwouts.github.io/itables/troubleshooting.html>help</a>?)</td></tr></tbody></table>\n",
              "<link rel=\"stylesheet\" type=\"text/css\" href=\"https://cdn.datatables.net/1.13.1/css/jquery.dataTables.min.css\">\n",
              "<script type=\"module\">\n",
              "    // Import jquery and DataTable\n",
              "    import 'https://code.jquery.com/jquery-3.6.0.min.js';\n",
              "    import dt from 'https://cdn.datatables.net/1.12.1/js/jquery.dataTables.mjs';\n",
              "    dt($);\n",
              "\n",
              "    // Define the table data\n",
              "    const data = [[0, \"567335\", \"AB FOODS POINT\", \"--\", \"Too Few Ratings\", 200.0, \"AB FOODS POINT, NEAR RISHI NARANG DENTAL CLINIC , NEAR IDBI BANK, ABOHAR\", \"Beverages,Pizzas\", \"22122652000138\", \"{'Burger': {'Aloo Tikki Burger': {'price': '40', 'veg_or_non_veg': 'Veg'}, 'Veg Creamy Burger': {'price': '50', 'veg_or_non_veg': 'Veg'}, 'Cheese Burst Burger': {'price': '65', 'veg_or_non_veg': 'Veg'}, 'Paneer Creamy Burger': {'price': '80', 'veg_or_non_veg': 'Veg'}, 'Maxican Burger': {'price': '80', 'veg_or_non_veg': 'Veg'}, 'Bbq Chicken Burger': {'price': '105', 'veg_or_non_veg': 'Non-veg'}, 'Peri Peri Chicken Burger': {'price': '105', 'veg_or_non_veg': 'Non-veg'}}, 'Pasta Must Try': {'White Sauce': {'price': '100', 'veg_or_non_veg': 'Veg'}, 'Red Sauce': {'price': '100', 'veg_or_non_veg': 'Veg'}, 'Pink Sauce': {'price': '125', 'veg_or_non_veg': 'Veg'}, 'Masala Pasta': {'price': '100', 'veg_or_non_veg': 'Veg'}, 'Chicken Pasta': {'price': '125', 'veg_or_non_veg': 'Non-veg'}, 'Egg Pasta': {'price': '125', 'veg_or_non_veg': 'Non-veg'}}, 'Chiness Appetizer': {'Noodles': {'price': '90', 'veg_or_non_veg': 'Veg'}, 'Singapuri Noodles': {'price': '100', 'veg_or_non_veg': 'Veg'}, 'Hakka Noodles': {'price': '90', 'veg_or_non_veg': 'Veg'}, 'Garlic Noodles': {'price': '100', 'veg_or_non_veg': 'Veg'}, 'Paneer Noodles': {'price': '120', 'veg_or_non_veg': 'Veg'}, 'Dry Manchurian': {'price': '190', 'veg_or_non_veg': 'Veg'}, 'Gravy Manchurian': {'price': '200', 'veg_or_non_veg': 'Veg'}, 'Cheese Chilly Dry': {'price': '250', 'veg_or_non_veg': 'Veg'}, 'Cheese Chilly Gravy': {'price': '250', 'veg_or_non_veg': 'Veg'}, 'Egg Chilly': {'price': '220', 'veg_or_non_veg': 'Non-veg'}, 'Chicken Chilly': {'price': '260', 'veg_or_non_veg': 'Non-veg'}, 'Spring Roll [2pc]': {'price': '100', 'veg_or_non_veg': 'Veg'}, 'Momos [8pc]': {'price': '65', 'veg_or_non_veg': 'Veg'}, 'Honey Chilly Patato': {'price': '165', 'veg_or_non_veg': 'Veg'}, 'Honey Chilly Cauliflower': {'price': '165', 'veg_or_non_veg': 'Veg'}, 'Veg Fried Rice': {'price': '125', 'veg_or_non_veg': 'Veg'}, 'Chicken Fried Rice': {'price': '150', 'veg_or_non_veg': 'Non-veg'}}, 'Fried Chicken': {'Kfc Fried Chicken': {'price': '250', 'veg_or_non_veg': 'Non-veg'}, 'Fried Chicken': {'price': '260', 'veg_or_non_veg': 'Non-veg'}}, 'Sandwich': {'Veg Mayo Sandwich': {'price': '65', 'veg_or_non_veg': 'Veg'}, 'Veg Creamy Sandwich': {'price': '80', 'veg_or_non_veg': 'Veg'}, 'Bombay Sandwich': {'price': '90', 'veg_or_non_veg': 'Veg'}, 'Paneer Tikka Sandwich': {'price': '100', 'veg_or_non_veg': 'Veg'}, 'Chicken Sandwich': {'price': '125', 'veg_or_non_veg': 'Non-veg'}, 'Peri Peri Sandwich': {'price': '120', 'veg_or_non_veg': 'Veg'}, 'Egg Sandwich': {'price': '120', 'veg_or_non_veg': 'Non-veg'}}, 'Fries': {'Classical Fries': {'price': '65', 'veg_or_non_veg': 'Veg'}, 'Red Chilli Papper': {'price': '80', 'veg_or_non_veg': 'Veg'}, 'Creamy Fries': {'price': '90', 'veg_or_non_veg': 'Veg'}, 'Peri Peri Fries': {'price': '90', 'veg_or_non_veg': 'Veg'}}, 'Roll & Wrapes': {'Egg Roll': {'price': '80', 'veg_or_non_veg': 'Non-veg'}, 'Veg Roll': {'price': '80', 'veg_or_non_veg': 'Veg'}, 'Paneer Roll': {'price': '90', 'veg_or_non_veg': 'Veg'}, 'Chicken Roll': {'price': '100', 'veg_or_non_veg': 'Non-veg'}, 'Egg Chicken Roll [Double]': {'price': '120', 'veg_or_non_veg': 'Non-veg'}, 'Veg Wrapes': {'price': '100', 'veg_or_non_veg': 'Veg'}, 'Paneer Wrapes': {'price': '120', 'veg_or_non_veg': 'Veg'}, 'Peri Peri Chicken Wrapes': {'price': '125', 'veg_or_non_veg': 'Non-veg'}, 'Egg Wrapes': {'price': '125', 'veg_or_non_veg': 'Non-veg'}}, 'Garlic Bread': {'Simple Garlic Bread': {'price': '65', 'veg_or_non_veg': 'Veg'}, 'Veg Garlic Bread': {'price': '80', 'veg_or_non_veg': 'Veg'}, 'Stuff Garlic Bread': {'price': '120', 'veg_or_non_veg': 'Veg'}, '2 Alao Prantha + Dahi': {'price': '65', 'veg_or_non_veg': 'Veg'}}, 'Prantha': {'Bhature': {'price': '65', 'veg_or_non_veg': 'Veg'}, 'Spl Tiffen [Desi Ghee]': {'price': '90', 'veg_or_non_veg': 'Veg'}, 'Piyaz Prantha Dahi': {'price': '65', 'veg_or_non_veg': 'Veg'}, 'Paneer Prantha + Dahi': {'price': '90', 'veg_or_non_veg': 'Veg'}}, 'Stuff Kulcha': {'Veg Kulcha': {'price': '40', 'veg_or_non_veg': 'Veg'}, 'Veg Mayo Kulcha': {'price': '50', 'veg_or_non_veg': 'Veg'}, 'Masala Kulcha': {'price': '60', 'veg_or_non_veg': 'Veg'}, 'Paneer Kulcha': {'price': '65', 'veg_or_non_veg': 'Veg'}, 'Makhni Kulcha': {'price': '65', 'veg_or_non_veg': 'Veg'}}, 'Maggie & Pav Bhaji': {'Masala Maggie 2 Packet': {'price': '80', 'veg_or_non_veg': 'Veg'}, 'Veg Maggie 2 Packet': {'price': '90', 'veg_or_non_veg': 'Veg'}, 'Tandoori Maggie 2 Packet': {'price': '100', 'veg_or_non_veg': 'Veg'}, 'Chicken Maggie': {'price': '125', 'veg_or_non_veg': 'Non-veg'}, 'Creamy Maggie': {'price': '125', 'veg_or_non_veg': 'Veg'}, 'Egg Maggie': {'price': '125', 'veg_or_non_veg': 'Non-veg'}, 'Pav Bhaji': {'price': '90', 'veg_or_non_veg': 'Veg'}, 'Creamy Pav Bhaji': {'price': '100', 'veg_or_non_veg': 'Veg'}}, 'Mocktails & Cooler': {'Virgin Moijto': {'price': '80', 'veg_or_non_veg': 'Veg'}, 'Blue Curracco': {'price': '90', 'veg_or_non_veg': 'Veg'}, 'Green Apple': {'price': '90', 'veg_or_non_veg': 'Veg'}, 'Pinacolado': {'price': '100', 'veg_or_non_veg': 'Veg'}, 'X Mass Punch': {'price': '100', 'veg_or_non_veg': 'Veg'}, 'Masala Coke': {'price': '65', 'veg_or_non_veg': 'Veg'}, 'Jaljeera': {'price': '65', 'veg_or_non_veg': 'Veg'}}, 'Fresh Dough Regular Pizza': {'Margherita Pizza': {'price': '155', 'veg_or_non_veg': 'Veg'}, 'Cheese Margherita [Double]': {'price': '180', 'veg_or_non_veg': 'Veg'}, 'Capcicum Onion Pizza': {'price': '125', 'veg_or_non_veg': 'Veg'}, 'Mashroom Corn Pizza': {'price': '125', 'veg_or_non_veg': 'Veg'}, 'Only Corn Pizza': {'price': '125', 'veg_or_non_veg': 'Veg'}, 'Only Onion Pizza': {'price': '125', 'veg_or_non_veg': 'Veg'}, 'Onion Olive Pizza': {'price': '125', 'veg_or_non_veg': 'Veg'}}, 'Shakes': {'Vanila Shake': {'price': '100', 'veg_or_non_veg': 'Veg'}, 'Choclate Shake': {'price': '100', 'veg_or_non_veg': 'Veg'}, 'Staweberry Shake': {'price': '100', 'veg_or_non_veg': 'Veg'}, 'Oreo Shake': {'price': '90', 'veg_or_non_veg': 'Veg'}, 'Butter Scotch Shake': {'price': '90', 'veg_or_non_veg': 'Veg'}, 'Banana Shake': {'price': '90', 'veg_or_non_veg': 'Veg'}, 'Pineapple Shake': {'price': '90', 'veg_or_non_veg': 'Veg'}, 'Mango Shake': {'price': '90', 'veg_or_non_veg': 'Veg'}, 'Blue Berry Shake': {'price': '100', 'veg_or_non_veg': 'Veg'}, 'Nutela Shake': {'price': '100', 'veg_or_non_veg': 'Veg'}, 'Kit Kat Shake': {'price': '110', 'veg_or_non_veg': 'Veg'}}, 'Thick Shake': {'Kit   K at Shake': {'price': '120', 'veg_or_non_veg': 'Veg'}, 'Staweberry Oreo Shake': {'price': '120', 'veg_or_non_veg': 'Veg'}, 'Black Current Shake': {'price': '120', 'veg_or_non_veg': 'Veg'}, 'Brownie Shake': {'price': '120', 'veg_or_non_veg': 'Veg'}}, 'Large Pizza': {'Paneer Tikka Pizza': {'price': '230', 'veg_or_non_veg': 'Veg'}, 'Spicy Paneer Pizza': {'price': '230', 'veg_or_non_veg': 'Veg'}, 'Farm House Pizza': {'price': '300', 'veg_or_non_veg': 'Veg'}, 'Country Feast Pizza': {'price': '300', 'veg_or_non_veg': 'Veg'}, 'Paneer Makhni Pizza': {'price': '250', 'veg_or_non_veg': 'Veg'}, 'Otc Onion Tamato Corn Pizza': {'price': '230', 'veg_or_non_veg': 'Veg'}, 'Chicken Pizza': {'price': '300', 'veg_or_non_veg': 'Non-veg'}, 'Peri Peri Paneer Pizza': {'price': '250', 'veg_or_non_veg': 'Veg'}, 'Egg Pizza': {'price': '250', 'veg_or_non_veg': 'Non-veg'}, 'Mashroom Pizza': {'price': '250', 'veg_or_non_veg': 'Veg'}, 'Ab Special Pizza': {'price': '350', 'veg_or_non_veg': 'Veg'}}, 'Cold Coffee': {'Classical Cold Coffee': {'price': '90', 'veg_or_non_veg': 'Veg'}, 'Hezelnut Cold Coffee': {'price': '90', 'veg_or_non_veg': 'Veg'}, 'Frape Cold Coffee': {'price': '90', 'veg_or_non_veg': 'Veg'}}}\", \"https://www.swiggy.com/restaurants/ab-foods-point-central-abohar-abohar-567335\", \"Abohar\", \"Abohar\"], [1, \"531342\", \"Janta Sweet House\", \"4.4\", \"50+ ratings\", 200.0, \"Janta Sweet House, Bazar No.9, Circullar Road, Abohar\", \"Sweets,Bakery\", \"12117201000112\", \"{'Breakfast': {'Veg Grilled Sandwich': {'price': '55', 'veg_or_non_veg': 'Veg'}, 'Veg Sandwich': {'price': '40', 'veg_or_non_veg': 'Veg'}, 'Dhokla': {'price': '300', 'veg_or_non_veg': 'Veg'}, 'Channa Bhatura [2 Pc]': {'price': '95', 'veg_or_non_veg': 'Veg'}, 'Chana Bhatura With Lassi': {'price': '145', 'veg_or_non_veg': 'Veg'}}, 'Drinks (beverages)': {'Mango Shake': {'price': '72', 'veg_or_non_veg': 'Veg'}, 'Milk Badam Shake': {'price': '59', 'veg_or_non_veg': 'Veg'}, 'Namkeen Lassi': {'price': '59', 'veg_or_non_veg': 'Veg'}, 'Cold Coffee': {'price': '67', 'veg_or_non_veg': 'Veg'}, 'Butterscotch Shake': {'price': '59', 'veg_or_non_veg': 'Veg'}, 'Oreo Shake': {'price': '67', 'veg_or_non_veg': 'Veg'}, 'Pineapple Shake': {'price': '59', 'veg_or_non_veg': 'Veg'}, 'Banana Shake': {'price': '59', 'veg_or_non_veg': 'Veg'}, 'Strawberry Shake': {'price': '59', 'veg_or_non_veg': 'Veg'}, 'Roohafza Milkshake': {'price': '59', 'veg_or_non_veg': 'Veg'}, 'Lassi [sweet]': {'price': '59', 'veg_or_non_veg': 'Veg'}}, 'Combos': {'Burgers Pack': {'price': '225', 'veg_or_non_veg': 'Veg'}, 'Barfi Pack': {'price': '250', 'veg_or_non_veg': 'Veg'}, 'Starters Combo': {'price': '225', 'veg_or_non_veg': 'Veg'}, 'Chai Time Combo': {'price': '209', 'veg_or_non_veg': 'Veg'}, 'South Special': {'price': '115', 'veg_or_non_veg': 'Veg'}, 'Snacks Combo': {'price': '167', 'veg_or_non_veg': 'Veg'}, 'Patties Combo': {'price': '105', 'veg_or_non_veg': 'Veg'}, 'Pastry Pack': {'price': '98', 'veg_or_non_veg': 'Veg'}}, 'Sweets': {'Modak Laddu': {'price': '105', 'veg_or_non_veg': 'Veg'}, 'Dhodha': {'price': '125', 'veg_or_non_veg': 'Veg'}, 'Baisan Barfi': {'price': '125', 'veg_or_non_veg': 'Veg'}, 'Rewari Barfi': {'price': '135', 'veg_or_non_veg': 'Veg'}, 'Kesar Laddu (desi Ghee)': {'price': '115', 'veg_or_non_veg': 'Veg'}, 'Moti Pak (desi Ghee)': {'price': '120', 'veg_or_non_veg': 'Veg'}, 'Pinni (desi Ghee)': {'price': '130', 'veg_or_non_veg': 'Veg'}, 'Sohan Halwa': {'price': '135', 'veg_or_non_veg': 'Veg'}, 'Kalakand': {'price': '130', 'veg_or_non_veg': 'Veg'}, 'Chocolate Burfi': {'price': '135', 'veg_or_non_veg': 'Veg'}, 'Elaichi Burfi': {'price': '135', 'veg_or_non_veg': 'Veg'}, 'Kesar Katli': {'price': '130', 'veg_or_non_veg': 'Veg'}, 'Khoya Katli': {'price': '130', 'veg_or_non_veg': 'Veg'}, 'Mandakini Burfi': {'price': '125', 'veg_or_non_veg': 'Veg'}, 'Plain Burfi': {'price': '123', 'veg_or_non_veg': 'Veg'}, 'Anguri Petha': {'price': '100', 'veg_or_non_veg': 'Veg'}, 'Khurmani': {'price': '103', 'veg_or_non_veg': 'Veg'}, 'Murki Chhena': {'price': '113', 'veg_or_non_veg': 'Veg'}, 'Spungi Rasbhari': {'price': '105', 'veg_or_non_veg': 'Veg'}, 'Rasbhari': {'price': '93', 'veg_or_non_veg': 'Veg'}, 'Chamcham': {'price': '90', 'veg_or_non_veg': 'Veg'}, 'Tosha': {'price': '93', 'veg_or_non_veg': 'Veg'}, 'Rasgulla': {'price': '93', 'veg_or_non_veg': 'Veg'}, 'Gulab Jamun': {'price': '93', 'veg_or_non_veg': 'Veg'}, 'Rasmalai [1 Piece]': {'price': '60', 'veg_or_non_veg': 'Veg'}, 'Spungi Rasgulla [1 Piece]': {'price': '44', 'veg_or_non_veg': 'Veg'}, 'Emarti': {'price': '95', 'veg_or_non_veg': 'Veg'}, 'Jullie': {'price': '135', 'veg_or_non_veg': 'Veg'}, 'Kaju Katli': {'price': '273', 'veg_or_non_veg': 'Veg'}, 'Kesar Laddu': {'price': '80', 'veg_or_non_veg': 'Veg'}, 'Moti Choor Laddu': {'price': '75', 'veg_or_non_veg': 'Veg'}, 'Baisan Pinni': {'price': '85', 'veg_or_non_veg': 'Veg'}, 'Dry Fruit Pinni': {'price': '110', 'veg_or_non_veg': 'Veg'}, 'Mango Pera': {'price': '135', 'veg_or_non_veg': 'Veg'}, 'Chana Laddu': {'price': '178', 'veg_or_non_veg': 'Veg'}, 'Chocolate Roll': {'price': '135', 'veg_or_non_veg': 'Veg'}, 'Kesar Roll': {'price': '135', 'veg_or_non_veg': 'Veg'}, 'Pista Roll': {'price': '135', 'veg_or_non_veg': 'Veg'}, 'Malai Pera': {'price': '135', 'veg_or_non_veg': 'Veg'}, 'Mini Pera': {'price': '135', 'veg_or_non_veg': 'Veg'}, 'Badam Cake': {'price': '100', 'veg_or_non_veg': 'Veg'}, 'Coconut Burfi': {'price': '120', 'veg_or_non_veg': 'Veg'}, 'Milk Cake': {'price': '142', 'veg_or_non_veg': 'Veg'}, 'Boondi': {'price': '68', 'veg_or_non_veg': 'Veg'}, 'Sandwich [mithai]': {'price': '105', 'veg_or_non_veg': 'Veg'}, 'Aam Papad Roll': {'price': '186', 'veg_or_non_veg': 'Veg'}, 'Soan Papdi [1 Kg]': {'price': '240', 'veg_or_non_veg': 'Veg'}, 'Sirni [500 Grams]': {'price': '157', 'veg_or_non_veg': 'Veg'}, 'Balushai [500 Grams]': {'price': '142', 'veg_or_non_veg': 'Veg'}, 'Shakarpare [500 Grams]': {'price': '142', 'veg_or_non_veg': 'Veg'}, 'Gurpare [500 Grams]': {'price': '142', 'veg_or_non_veg': 'Veg'}, 'Hot Gulab Jamun [1 Pc]': {'price': '30', 'veg_or_non_veg': 'Veg'}}, 'Special Sweet Gifts': {'Basket Gift Pack': {'price': '470', 'veg_or_non_veg': 'Veg'}, 'Dry Fruit Tray': {'price': '1070', 'veg_or_non_veg': 'Veg'}, 'All Mix Sweet': {'price': '220', 'veg_or_non_veg': 'Veg'}, '3 Line Mix Sweet': {'price': '500', 'veg_or_non_veg': 'Veg'}}, 'Dry Fruit & Nuts': {'Pista Roasted': {'price': '350', 'veg_or_non_veg': 'Veg'}, 'Kishmish': {'price': '170', 'veg_or_non_veg': 'Veg'}, 'Badam Giri': {'price': '370', 'veg_or_non_veg': 'Veg'}, 'Kaju Namkeen Roasted': {'price': '470', 'veg_or_non_veg': 'Veg'}, 'Kaju Plain': {'price': '485', 'veg_or_non_veg': 'Veg'}}, 'Dairy Products': {'Dahi': {'price': '34', 'veg_or_non_veg': 'Veg'}, 'Paneer': {'price': '120', 'veg_or_non_veg': 'Veg'}}, 'Snacks': {'Bhalla Papdi': {'price': '60', 'veg_or_non_veg': 'Veg'}, 'Dahi Bhalla': {'price': '45', 'veg_or_non_veg': 'Veg'}, 'Dahi Vada': {'price': '60', 'veg_or_non_veg': 'Veg'}, 'Special Pav Bhaji': {'price': '135', 'veg_or_non_veg': 'Veg'}, 'Pav Bhaji': {'price': '105', 'veg_or_non_veg': 'Veg'}, 'Cheese Cutlet': {'price': '150', 'veg_or_non_veg': 'Veg'}, 'Veg Cutlet': {'price': '120', 'veg_or_non_veg': 'Veg'}, 'Noodles Cutlet': {'price': '34', 'veg_or_non_veg': 'Veg'}, 'Paneer Pakoda': {'price': '43', 'veg_or_non_veg': 'Veg'}, 'Samosa': {'price': '22', 'veg_or_non_veg': 'Veg'}, 'Samosa With Chana': {'price': '64', 'veg_or_non_veg': 'Veg'}, 'Masala Papad': {'price': '73', 'veg_or_non_veg': 'Veg'}}, 'Patties': {'Noodles Patties': {'price': '30', 'veg_or_non_veg': 'Veg'}, 'Veg Patties': {'price': '23', 'veg_or_non_veg': 'Veg'}, 'Paneer Patties': {'price': '30', 'veg_or_non_veg': 'Veg'}}, 'Burgers And Hot Dogs': {'Cheese Burger Fry': {'price': '75', 'veg_or_non_veg': 'Veg'}, 'Veg Burger Fry': {'price': '60', 'veg_or_non_veg': 'Veg'}, 'Tikki Burger': {'price': '60', 'veg_or_non_veg': 'Veg'}, 'Noodles Burger': {'price': '60', 'veg_or_non_veg': 'Veg'}, 'Cheese Hot Dog': {'price': '75', 'veg_or_non_veg': 'Veg'}, 'Veg Hot Dog': {'price': '60', 'veg_or_non_veg': 'Veg'}}, 'Noodles': {'Mushroom Chowmein': {'price': '164', 'veg_or_non_veg': 'Veg'}, 'Special Chowmein': {'price': '209', 'veg_or_non_veg': 'Veg'}, 'Paneer Chowmein': {'price': '179', 'veg_or_non_veg': 'Veg'}, 'Noodles': {'price': '134', 'veg_or_non_veg': 'Veg'}, 'Singapore Chopsuey': {'price': '164', 'veg_or_non_veg': 'Veg'}, 'American Chopsuey': {'price': '164', 'veg_or_non_veg': 'Veg'}}, 'Starters': {'Cheese Tikka Fry': {'price': '194', 'veg_or_non_veg': 'Veg'}, 'Cheese Corn Roll': {'price': '179', 'veg_or_non_veg': 'Veg'}, 'Cheese Spring Roll': {'price': '194', 'veg_or_non_veg': 'Veg'}, 'Veg Spring Roll': {'price': '149', 'veg_or_non_veg': 'Veg'}, 'Cheese Manchurian With Gravy': {'price': '284', 'veg_or_non_veg': 'Veg'}, 'Cheese Manchurian': {'price': '269', 'veg_or_non_veg': 'Veg'}, 'Veg Manchurian With Gravy': {'price': '209', 'veg_or_non_veg': 'Veg'}, 'Veg Manchurian': {'price': '194', 'veg_or_non_veg': 'Veg'}, 'Mushroom Chilly': {'price': '224', 'veg_or_non_veg': 'Veg'}, 'Cheese Chilli With Gravy': {'price': '320', 'veg_or_non_veg': 'Veg'}, 'Cheese Chilli': {'price': '194', 'veg_or_non_veg': 'Veg'}, 'French Fries': {'price': '105', 'veg_or_non_veg': 'Veg'}, 'Cheese Finger': {'price': '209', 'veg_or_non_veg': 'Veg'}, 'Potato Finger': {'price': '105', 'veg_or_non_veg': 'Veg'}, 'Veg Bullet': {'price': '149', 'veg_or_non_veg': 'Veg'}, 'Cheese Kabab': {'price': '224', 'veg_or_non_veg': 'Veg'}, 'Veg Kabab': {'price': '134', 'veg_or_non_veg': 'Veg'}, 'Veg Cotton Kabab': {'price': '179', 'veg_or_non_veg': 'Veg'}}, 'South Indian Dishes': {'Sambar Vada': {'price': '60', 'veg_or_non_veg': 'Veg'}, 'Mushroom Uttapam': {'price': '120', 'veg_or_non_veg': 'Veg'}, 'Cheese Uttapam': {'price': '120', 'veg_or_non_veg': 'Veg'}, 'Onion Uttapam': {'price': '105', 'veg_or_non_veg': 'Veg'}, 'Special Family Dosa': {'price': '239', 'veg_or_non_veg': 'Veg'}, 'Mushroom Masala Dosa': {'price': '149', 'veg_or_non_veg': 'Veg'}, 'Paneer Dosa': {'price': '149', 'veg_or_non_veg': 'Veg'}, 'Masala Dosa': {'price': '105', 'veg_or_non_veg': 'Veg'}, 'Plain Dosa': {'price': '75', 'veg_or_non_veg': 'Veg'}, 'Onion Butter Masala Dosa': {'price': '149', 'veg_or_non_veg': 'Veg'}, 'Pizza Dosa': {'price': '135', 'veg_or_non_veg': 'Veg'}}, 'Pizza And Pasta': {'Pasta White Sauce': {'price': '179', 'veg_or_non_veg': 'Veg'}, 'Pasta Red Sauce': {'price': '164', 'veg_or_non_veg': 'Veg'}, 'Capsicum Pizza [medium 8 Inches]': {'price': '194', 'veg_or_non_veg': 'Veg'}, 'Cheese And Chilli Pizza [medium 8 Inches]': {'price': '269', 'veg_or_non_veg': 'Veg'}, 'Cheese Pizza [medium 8 Inches]': {'price': '194', 'veg_or_non_veg': 'Veg'}, 'Mushroom Pizza [medium 8 Inches]': {'price': '209', 'veg_or_non_veg': 'Veg'}, 'Onion Pizza [medium 8 Inches]': {'price': '194', 'veg_or_non_veg': 'Veg'}, 'Paneer Tikka Pizza [medium 8 Inches]': {'price': '254', 'veg_or_non_veg': 'Veg'}, 'Veg Pizza [medium 8 Inches]': {'price': '179', 'veg_or_non_veg': 'Veg'}}, 'Mathi & Namkeen': {'Pitthi Samosi': {'price': '70', 'veg_or_non_veg': 'Veg'}, 'Samosa Mathi': {'price': '72.25', 'veg_or_non_veg': 'Veg'}, 'Methi Mathi': {'price': '72.25', 'veg_or_non_veg': 'Veg'}, 'Plain Mathi': {'price': '72.25', 'veg_or_non_veg': 'Veg'}, 'Kaju Matar [190 Grams]': {'price': '60', 'veg_or_non_veg': 'Veg'}, 'Matri [190 Grams]': {'price': '60', 'veg_or_non_veg': 'Veg'}, 'Papri [500 Grams]': {'price': '139', 'veg_or_non_veg': 'Veg'}, 'Pudina Boondi [190 Grams]': {'price': '75', 'veg_or_non_veg': 'Veg'}, 'Plain Boondi [190 Grams]': {'price': '67', 'veg_or_non_veg': 'Veg'}}, 'Cake': {'Fruit Cake': {'price': '90', 'veg_or_non_veg': 'Veg'}, 'Cake [900 Grams]': {'price': '470', 'veg_or_non_veg': 'Veg'}, 'Fruit Cake (egg)': {'price': '110', 'veg_or_non_veg': 'Non-veg'}}, 'Pastries': {'Jam Roll Pastry': {'price': '30', 'veg_or_non_veg': 'Veg'}, 'Chocolate Pastry': {'price': '45', 'veg_or_non_veg': 'Veg'}, 'Black Forest Pastry': {'price': '38', 'veg_or_non_veg': 'Veg'}, 'Swiss Roll Pastry': {'price': '38', 'veg_or_non_veg': 'Veg'}, 'Milk Badam Pastry': {'price': '38', 'veg_or_non_veg': 'Veg'}, 'Butterscotch Pastry': {'price': '38', 'veg_or_non_veg': 'Veg'}, 'Jelly Pastry': {'price': '30', 'veg_or_non_veg': 'Veg'}, 'Strwaberry Pastry': {'price': '23', 'veg_or_non_veg': 'Veg'}, 'Vanila Pastry': {'price': '30', 'veg_or_non_veg': 'Veg'}, 'Pineapple Pastry': {'price': '23', 'veg_or_non_veg': 'Veg'}, 'Choco Lava Cake': {'price': '59', 'veg_or_non_veg': 'Veg'}, 'Cream Roll': {'price': '22', 'veg_or_non_veg': 'Veg'}}, 'Bakery Biscuits': {'Cake Rusk': {'price': '115', 'veg_or_non_veg': 'Non-veg'}, 'Atta Namkeen Biscuit [400 Grams]': {'price': '105', 'veg_or_non_veg': 'Veg'}, 'Atta Sweet Biscuit [400 Grams]': {'price': '105', 'veg_or_non_veg': 'Veg'}, 'French Heart': {'price': '60', 'veg_or_non_veg': 'Veg'}, 'Fan': {'price': '52', 'veg_or_non_veg': 'Veg'}, 'Suju Rusk': {'price': '45', 'veg_or_non_veg': 'Veg'}, 'Atta Biscuit (desi Ghee)': {'price': '100', 'veg_or_non_veg': 'Veg'}, 'Butter Pista Finger': {'price': '100', 'veg_or_non_veg': 'Veg'}}, 'Donuts': {'White Chocolate Donut': {'price': '44', 'veg_or_non_veg': 'Veg'}, 'Chocolate Donut': {'price': '44', 'veg_or_non_veg': 'Veg'}}, 'Navratri Special': {'Pistachio Rabri': {'price': '143', 'veg_or_non_veg': 'Veg'}, 'Sabu Dana Lachha Mix': {'price': '74', 'veg_or_non_veg': 'Veg'}, 'Badam Lachha': {'price': '74', 'veg_or_non_veg': 'Veg'}, 'Potato Papad': {'price': '30', 'veg_or_non_veg': 'Veg'}, 'Potato Chips': {'price': '30', 'veg_or_non_veg': 'Veg'}}, 'Soups': {'Manchow Soup': {'price': '105', 'veg_or_non_veg': 'Veg'}, 'Tomato Cream Soup': {'price': '90', 'veg_or_non_veg': 'Veg'}, 'Tomato Soup': {'price': '90', 'veg_or_non_veg': 'Veg'}, 'Veg Sweet Corn Soup': {'price': '90', 'veg_or_non_veg': 'Veg'}, 'Veg Soup': {'price': '90', 'veg_or_non_veg': 'Veg'}}}\", \"https://www.swiggy.com/restaurants/janta-sweet-house-central-abohar-abohar-531342\", \"Abohar\", \"Abohar\"], [2, \"158203\", \"theka coffee desi\", \"3.8\", \"100+ ratings\", 100.0, \"theka coffee desi, sahtiya sadan road city\", \"Beverages\", \"22121652000190\", \"{'Recommended': {'Cafe Latte Coffee': {'price': '118', 'veg_or_non_veg': 'Veg'}, 'Cafe Mocha Coffee': {'price': '132', 'veg_or_non_veg': 'Veg'}, 'Chocolate Shake': {'price': '118', 'veg_or_non_veg': 'Veg'}, 'Mango Shake': {'price': '118', 'veg_or_non_veg': 'Veg'}, 'Walnut Brownie': {'price': '65', 'veg_or_non_veg': 'Veg'}, 'Chocolaty Frappe': {'price': '158', 'veg_or_non_veg': 'Veg'}, 'French Fries': {'price': '82', 'veg_or_non_veg': 'Veg'}, 'Cheese Garlic Bread': {'price': '124', 'veg_or_non_veg': 'Veg'}, 'Exotic Garlic Bread': {'price': '150', 'veg_or_non_veg': 'Veg'}, 'Paneer Wrap': {'price': '118', 'veg_or_non_veg': 'Veg'}, 'Mexican Veg Wrap': {'price': '92', 'veg_or_non_veg': 'Veg'}, 'Paneer Tikka Sub': {'price': '166', 'veg_or_non_veg': 'Veg'}, '8 \\\" Regular Farm House Pizza': {'price': '217', 'veg_or_non_veg': 'Veg'}, '10 \\\" Medium Farm House Pizza': {'price': '375', 'veg_or_non_veg': 'Veg'}, '13 \\\"Large Farm House Pizza': {'price': '475', 'veg_or_non_veg': 'Veg'}, 'American Cheese Burger': {'price': '158', 'veg_or_non_veg': 'Veg'}, 'Aloo Tikki Burger': {'price': '65', 'veg_or_non_veg': 'Veg'}, 'Veg Burger': {'price': '79', 'veg_or_non_veg': 'Veg'}, 'Chicken Burger': {'price': '92', 'veg_or_non_veg': 'Non-veg'}, '8 \\\" Regular Spicy Paneer Pizza': {'price': '160', 'veg_or_non_veg': 'Veg'}, '13 \\\" Large Spicy Paneer Pizza': {'price': '480', 'veg_or_non_veg': 'Veg'}, 'Paneer Tikka Sandwich': {'price': '145', 'veg_or_non_veg': 'Veg'}, '8 \\\" Regular Paneer Makhani Pizza': {'price': '197', 'veg_or_non_veg': 'Veg'}, '13 \\\" Large Paneer Makhani Pizza': {'price': '499', 'veg_or_non_veg': 'Veg'}, 'Red Penne Alfredo Pasta': {'price': '152', 'veg_or_non_veg': 'Veg'}, 'White Penne Alfredo Pasta': {'price': '152', 'veg_or_non_veg': 'Veg'}, 'Mix Sauce Penne Alfredo Pasta': {'price': '152', 'veg_or_non_veg': 'Veg'}, '10 \\\" Medium Loaded Chicken Pizza': {'price': '432', 'veg_or_non_veg': 'Non-veg'}, 'Paneer Tikka Salad': {'price': '158', 'veg_or_non_veg': 'Veg'}, 'Chicken Delight Salad': {'price': '189', 'veg_or_non_veg': 'Non-veg'}, '8 \\\" Regular Chicken Tikka Pizza': {'price': '187', 'veg_or_non_veg': 'Non-veg'}, '13 \\\" Large Tandoori Chicken Pizza': {'price': '463', 'veg_or_non_veg': 'Non-veg'}}, 'Family Binge Combos': {'2 Strawberry Shake + 2 Punjabi Paneer Cruncher (Without Onion + Garlic) + 1 Mint Mojito Mocktail': {'price': '720', 'veg_or_non_veg': 'Veg'}, '2 Butterscotch Shake + 2 Red Penne Mushroom Pata (Without Onion + Garlic) + 3 Veg Burger (Without Onion + Garlic)': {'price': '862', 'veg_or_non_veg': 'Veg'}, '3 Piece 8\\\" Regular Spicy Corn Tango Pizza (Without Onion + Garlic) + 3 Choclate Shakes': {'price': '932', 'veg_or_non_veg': 'Veg'}, '3 American Cheese Burger (Without Onion + Garlic) + 3 Tcd Special Shake': {'price': '1365', 'veg_or_non_veg': 'Veg'}, '3 Oreo Shake + 3 Paneer Wrap (Without Onion + Garlic)': {'price': '888', 'veg_or_non_veg': 'Veg'}}, 'Hot Coffee': {'Americano Black Coffee': {'price': '65', 'veg_or_non_veg': 'Veg'}, 'Cappuccino Coffee': {'price': '91', 'veg_or_non_veg': 'Veg'}, 'Hot Chocolate Coffee': {'price': '91', 'veg_or_non_veg': 'Veg'}, 'Hazelnut Cappuccino Coffee': {'price': '111', 'veg_or_non_veg': 'Veg'}, 'Cookie Cappuccino Coffee': {'price': '155', 'veg_or_non_veg': 'Veg'}, 'Cafe Latte Coffee': {'price': '118', 'veg_or_non_veg': 'Veg'}, 'Irish Cafe Latte Coffee': {'price': '145', 'veg_or_non_veg': 'Veg'}, 'Caramel Latte Coffee': {'price': '132', 'veg_or_non_veg': 'Veg'}, 'Cafe Mocha Coffee': {'price': '132', 'veg_or_non_veg': 'Veg'}}, 'Tea': {'Assam Tea': {'price': '52', 'veg_or_non_veg': 'Veg'}, 'Green Tea': {'price': '52', 'veg_or_non_veg': 'Veg'}}, 'Thirst Quenchers': {'Lemon Ice Tea': {'price': '89', 'veg_or_non_veg': 'Veg'}, 'Peach Ice Tea': {'price': '89', 'veg_or_non_veg': 'Veg'}, 'Strawberry Ice Tea': {'price': '89', 'veg_or_non_veg': 'Veg'}, 'Classic Lemonade': {'price': '99', 'veg_or_non_veg': 'Veg'}, 'Strawberry Lemonade': {'price': '115', 'veg_or_non_veg': 'Veg'}, 'Mint Lemonade': {'price': '115', 'veg_or_non_veg': 'Veg'}}, 'Shakes Crunchy': {'Oreo Shake': {'price': '145', 'veg_or_non_veg': 'Veg'}, 'TCD Special Shake': {'price': '264', 'veg_or_non_veg': 'Veg'}}, 'Classic Shakes': {'Strawberry Shake': {'price': '118', 'veg_or_non_veg': 'Veg'}, 'Chocolate Shake': {'price': '118', 'veg_or_non_veg': 'Veg'}, 'Butterscotch Shake': {'price': '118', 'veg_or_non_veg': 'Veg'}, 'Vanilla Shake': {'price': '118', 'veg_or_non_veg': 'Veg'}, 'Greenapple Shake': {'price': '125', 'veg_or_non_veg': 'Veg'}, 'Black Current Shake': {'price': '118', 'veg_or_non_veg': 'Veg'}}, 'Shakes Premium': {'Mango Shake': {'price': '118', 'veg_or_non_veg': 'Veg'}, 'Paan Shake': {'price': '131', 'veg_or_non_veg': 'Veg'}, 'Orange chocolate shake': {'price': '143', 'veg_or_non_veg': 'Veg'}}, 'Sweet Moments': {'Walnut Brownie': {'price': '65', 'veg_or_non_veg': 'Veg'}, 'Fruit Sundae': {'price': '113', 'veg_or_non_veg': 'Veg'}, 'Paan Sundae': {'price': '119', 'veg_or_non_veg': 'Veg'}}, 'Cold Coffee': {'Devils Own Desi Style Coffee': {'price': '144', 'veg_or_non_veg': 'Veg'}, 'Classic Cold Coffee': {'price': '119', 'veg_or_non_veg': 'Veg'}, 'Iced Cappuccino Coffee': {'price': '133', 'veg_or_non_veg': 'Veg'}, 'Iced Vanilla Cappuccino Coffee': {'price': '154', 'veg_or_non_veg': 'Veg'}, 'Cafe Frappe': {'price': '145', 'veg_or_non_veg': 'Veg'}, 'Chocolaty Frappe': {'price': '158', 'veg_or_non_veg': 'Veg'}, 'Caramel Frappe': {'price': '160', 'veg_or_non_veg': 'Veg'}}, 'Quick Bites': {'Masala Fries with Dip': {'price': '115', 'veg_or_non_veg': 'Veg'}, 'Mexican Tokari': {'price': '113', 'veg_or_non_veg': 'Veg'}, 'Cheese Shots': {'price': '113', 'veg_or_non_veg': 'Veg'}, 'Veg Fingers': {'price': '86', 'veg_or_non_veg': 'Veg'}, 'Triple S': {'price': '130', 'veg_or_non_veg': 'Non-veg'}, 'Chicken Finger(peri peri)': {'price': '176', 'veg_or_non_veg': 'Non-veg'}, 'Chicken Finger 5pc(Barbeque)': {'price': '177', 'veg_or_non_veg': 'Non-veg'}, 'French Fries': {'price': '82', 'veg_or_non_veg': 'Veg'}, 'Seekh Kabab with Dip': {'price': '91', 'veg_or_non_veg': 'Non-veg'}, 'Chicken Nuggets': {'price': '139', 'veg_or_non_veg': 'Non-veg'}, 'Chicken Popcorn': {'price': '144', 'veg_or_non_veg': 'Non-veg'}, 'Chicken Finger (5 Pcs)': {'price': '150', 'veg_or_non_veg': 'Non-veg'}}, 'Garlic Breads': {'Plain Garlic Bread': {'price': '88', 'veg_or_non_veg': 'Veg'}, 'Cheese Garlic Bread': {'price': '124', 'veg_or_non_veg': 'Veg'}, 'Chilly Corn Garlic Bread': {'price': '142', 'veg_or_non_veg': 'Veg'}, 'Tandoori Cavity': {'price': '119', 'veg_or_non_veg': 'Veg'}, 'Exotic Garlic Bread': {'price': '150', 'veg_or_non_veg': 'Veg'}, 'Roasted Chicken Garlic Bread': {'price': '166', 'veg_or_non_veg': 'Non-veg'}, 'Seekh Kabab Garlic Bread': {'price': '172', 'veg_or_non_veg': 'Non-veg'}}, 'Mocktails': {'Mint Mojito Mocktail': {'price': '155', 'veg_or_non_veg': 'Veg'}, 'Cucumber Lemon Mojito Mocktail': {'price': '152', 'veg_or_non_veg': 'Veg'}, 'Meloneez Mocktail': {'price': '139', 'veg_or_non_veg': 'Veg'}, 'Candid Apple Mocktail': {'price': '145', 'veg_or_non_veg': 'Veg'}, 'TCD Float (Coke with Ice Cream Float) Mocktail': {'price': '73', 'veg_or_non_veg': 'Veg'}, 'Lemon Coke Mocktail': {'price': '60', 'veg_or_non_veg': 'Veg'}, 'Malt (Taste of Beer) Mocktail': {'price': '131', 'veg_or_non_veg': 'Veg'}, 'Blue Curacao': {'price': '148', 'veg_or_non_veg': 'Veg'}, 'Spicy Mango': {'price': '131', 'veg_or_non_veg': 'Veg'}}, 'Wraps': {'Paneer Wrap': {'price': '118', 'veg_or_non_veg': 'Veg'}, 'Seekh Kabab Wrap': {'price': '121', 'veg_or_non_veg': 'Non-veg'}, 'Chicken Tikka Wrap': {'price': '139', 'veg_or_non_veg': 'Non-veg'}, 'Tandoori Chicken Wrap': {'price': '144', 'veg_or_non_veg': 'Non-veg'}, 'Single egg single chicken wrap': {'price': '155', 'veg_or_non_veg': 'Non-veg'}, 'Aloo Wrap': {'price': '78', 'veg_or_non_veg': 'Veg'}, 'Mexican Veg Wrap': {'price': '92', 'veg_or_non_veg': 'Veg'}, 'Egg Wrap': {'price': '92', 'veg_or_non_veg': 'Non-veg'}, 'Pasta Wrap': {'price': '100', 'veg_or_non_veg': 'Veg'}}, 'Sub': {'Paneer Tikka Sub': {'price': '166', 'veg_or_non_veg': 'Veg'}, 'Veg Tikki Sub': {'price': '158', 'veg_or_non_veg': 'Veg'}, 'Veg Delight Sub': {'price': '145', 'veg_or_non_veg': 'Veg'}, 'Chicken Tikka Sub': {'price': '179', 'veg_or_non_veg': 'Non-veg'}, 'Chicken Delight Sub': {'price': '192', 'veg_or_non_veg': 'Non-veg'}, 'Saute Chicken Sub': {'price': '166', 'veg_or_non_veg': 'Non-veg'}}, 'Combos': {'2 Pieces Chicken Tikka Sandwich  +  Classic Lemonade': {'price': '145', 'veg_or_non_veg': 'Non-veg'}, '2 Pieces Paneer Tikka Sandwich + Cappuccino': {'price': '132', 'veg_or_non_veg': 'Veg'}, '1 Veg Burger with Cheese + Classic Cold Coffee': {'price': '190', 'veg_or_non_veg': 'Veg'}, '1 Chicken Burger with Cheese + Classic Cold Coffee': {'price': '198', 'veg_or_non_veg': 'Non-veg'}, 'Mexican Veg Wrap + Lemon Coke': {'price': '145', 'veg_or_non_veg': 'Veg'}, 'Chicken Wrap + Meloneez': {'price': '211', 'veg_or_non_veg': 'Non-veg'}}, 'Veg Supreme Pizza': {'8 \\\" Regular Farm House Pizza': {'price': '217', 'veg_or_non_veg': 'Veg'}, '10 \\\" Medium Farm House Pizza': {'price': '375', 'veg_or_non_veg': 'Veg'}, '13 \\\"Large Farm House Pizza': {'price': '475', 'veg_or_non_veg': 'Veg'}, '8 \\\" Regular Special Wonder Pizza': {'price': '184', 'veg_or_non_veg': 'Veg'}, '10 \\\" Medium Special Wonder Pizza': {'price': '375', 'veg_or_non_veg': 'Veg'}, '13 \\\" Large Special Wonder Pizza': {'price': '475', 'veg_or_non_veg': 'Veg'}}, 'Burgers': {'Punjabi Paneer Cruncher': {'price': '116', 'veg_or_non_veg': 'Veg'}, 'Double Decker Veg Burger': {'price': '145', 'veg_or_non_veg': 'Veg'}, 'American Cheese Burger': {'price': '158', 'veg_or_non_veg': 'Veg'}, 'Exotic Egg Burger': {'price': '118', 'veg_or_non_veg': 'Non-veg'}, 'Spicy Chicken Burger': {'price': '119', 'veg_or_non_veg': 'Non-veg'}, 'Double Decker Chicken Burger': {'price': '172', 'veg_or_non_veg': 'Non-veg'}, 'American chicken burger': {'price': '136', 'veg_or_non_veg': 'Non-veg'}, 'Aloo Tikki Burger': {'price': '65', 'veg_or_non_veg': 'Veg'}, 'Veg Burger': {'price': '79', 'veg_or_non_veg': 'Veg'}, 'Spicy Veg Burger': {'price': '91', 'veg_or_non_veg': 'Veg'}, 'Chicken Burger': {'price': '92', 'veg_or_non_veg': 'Non-veg'}}, 'Veg Delight Pizza': {'8 \\\" Regular Tandoori Paneer Pizza': {'price': '175', 'veg_or_non_veg': 'Veg'}, '10 \\\" Medium Tandoori Paneer Pizza': {'price': '325', 'veg_or_non_veg': 'Veg'}, '13 \\\" Large Tandoori Paneer Pizza': {'price': '450', 'veg_or_non_veg': 'Veg'}, '8 \\\" Regular Hot & Sweet Delight Pizza': {'price': '175', 'veg_or_non_veg': 'Veg'}, '10 \\\"Medium Hot & Sweet Delight Pizza': {'price': '325', 'veg_or_non_veg': 'Veg'}, '13 \\\" Large Hot & Sweet Delight Pizza': {'price': '450', 'veg_or_non_veg': 'Veg'}}, 'Veg Super Pizza': {'8 \\\" Regular Veg Feast Pizza': {'price': '160', 'veg_or_non_veg': 'Veg'}, '10 \\\" Medium Veg Feast Pizza': {'price': '270', 'veg_or_non_veg': 'Veg'}, '13 \\\" Large Veg Feast Pizza': {'price': '480', 'veg_or_non_veg': 'Veg'}, '8 \\\" Regular Spicy Corn Tango Pizza': {'price': '160', 'veg_or_non_veg': 'Veg'}, '13 \\\" Large Spicy Corn Tango Pizza': {'price': '480', 'veg_or_non_veg': 'Veg'}, '8 \\\" Regular Spicy Paneer Pizza': {'price': '160', 'veg_or_non_veg': 'Veg'}, '10 \\\"Medium Spicy Paneer Pizza': {'price': '270', 'veg_or_non_veg': 'Veg'}, '13 \\\" Large Spicy Paneer Pizza': {'price': '480', 'veg_or_non_veg': 'Veg'}}, 'Sandwiches': {'Corn Delight Sandwich': {'price': '102', 'veg_or_non_veg': 'Veg'}, 'Veg Cheese Sandwich': {'price': '118', 'veg_or_non_veg': 'Veg'}, 'Paneer Tikka Sandwich': {'price': '145', 'veg_or_non_veg': 'Veg'}, 'Paneer Makhani Sandwich': {'price': '160', 'veg_or_non_veg': 'Veg'}, 'Mexican Sandwich': {'price': '142', 'veg_or_non_veg': 'Veg'}, 'Veg Delight Sandwich': {'price': '160', 'veg_or_non_veg': 'Veg'}, 'Chicken Tikka Sandwich': {'price': '152', 'veg_or_non_veg': 'Non-veg'}, 'Egg Delight Sandwich': {'price': '131', 'veg_or_non_veg': 'Non-veg'}, 'Chicken Delight Sandwich': {'price': '168', 'veg_or_non_veg': 'Non-veg'}, 'Double Decker Ontario Sandwich': {'price': '209', 'veg_or_non_veg': 'Non-veg'}, 'Schezwan Veg sandwich': {'price': '162', 'veg_or_non_veg': 'Veg'}, 'Schezwan chicken sandwich': {'price': '175', 'veg_or_non_veg': 'Non-veg'}}, 'Single Topping Pizza': {'Cheesy Marghrita (Medium)': {'price': '228', 'veg_or_non_veg': 'Veg'}, 'Cheesy Margheritta Pizza (Large)': {'price': '364', 'veg_or_non_veg': 'Veg'}, 'Cheesy  Margherita (Regular)': {'price': '127', 'veg_or_non_veg': 'Veg'}}, 'Wonder Pizza': {'8 \\\" Regular Paneer Makhani Pizza': {'price': '197', 'veg_or_non_veg': 'Veg'}, '10 \\\" Medium Paneer Makhani Pizza': {'price': '355', 'veg_or_non_veg': 'Veg'}, '13 \\\" Large Paneer Makhani Pizza': {'price': '499', 'veg_or_non_veg': 'Veg'}}, 'Pastas': {'Red Penne Alfredo Pasta': {'price': '152', 'veg_or_non_veg': 'Veg'}, 'Red Penne Mushroom Pasta': {'price': '145', 'veg_or_non_veg': 'Veg'}, 'Red Exotic Veggie Pasta': {'price': '179', 'veg_or_non_veg': 'Veg'}, 'Red Penne Chicken Pasta': {'price': '205', 'veg_or_non_veg': 'Non-veg'}, 'White Penne Alfredo Pasta': {'price': '152', 'veg_or_non_veg': 'Veg'}, 'White Penne Mushroom Pasta': {'price': '145', 'veg_or_non_veg': 'Veg'}, 'White Exotic Veggie Pasta': {'price': '179', 'veg_or_non_veg': 'Veg'}, 'White Penne Chicken Pasta': {'price': '205', 'veg_or_non_veg': 'Non-veg'}, 'Mix Sauce Penne Alfredo Pasta': {'price': '152', 'veg_or_non_veg': 'Veg'}, 'Mix Sauce Penne Mushroom Pasta': {'price': '145', 'veg_or_non_veg': 'Veg'}, 'Mix Sauce Exotic Veggie Pasta': {'price': '179', 'veg_or_non_veg': 'Veg'}, 'Mix Sauce Penne Chicken Pasta': {'price': '205', 'veg_or_non_veg': 'Non-veg'}, 'American crunchy veg pasta': {'price': '196', 'veg_or_non_veg': 'Veg'}, 'American Crunchy chicken pasta': {'price': '215', 'veg_or_non_veg': 'Non-veg'}}, 'Non Veg Supreme Pizza': {'8 \\\" Regular Spicy Chicken Pizza': {'price': '312', 'veg_or_non_veg': 'Non-veg'}, '10 \\\" Medium Spicy Chicken Pizza': {'price': '432', 'veg_or_non_veg': 'Non-veg'}, '13 \\\" Large Spicy Chicken Pizza': {'price': '594', 'veg_or_non_veg': 'Non-veg'}, '8 \\\" Regular Chicken Love Pizza': {'price': '312', 'veg_or_non_veg': 'Non-veg'}, '10 \\\" Medium Chicken Love Pizza': {'price': '432', 'veg_or_non_veg': 'Non-veg'}, '13 \\\" Large Chicken Love Pizza': {'price': '594', 'veg_or_non_veg': 'Non-veg'}, '8 \\\" Regular Loaded Chicken Pizza': {'price': '312', 'veg_or_non_veg': 'Non-veg'}, '10 \\\" Medium Loaded Chicken Pizza': {'price': '432', 'veg_or_non_veg': 'Non-veg'}, '13 \\\" Large Loaded Chicken Pizza': {'price': '594', 'veg_or_non_veg': 'Non-veg'}}, 'Non Veg Delight Pizza': {'8 \\\" Regular Hawaiian Delight Pizza': {'price': '228', 'veg_or_non_veg': 'Non-veg'}, '10 \\\" Medium Hawaiian Delight Pizza': {'price': '378', 'veg_or_non_veg': 'Non-veg'}, '13 \\\" Large Hawaiian Delight Pizza': {'price': '495', 'veg_or_non_veg': 'Non-veg'}, '8 \\\" Regular Golden Delight Pizza': {'price': '228', 'veg_or_non_veg': 'Non-veg'}, '10 \\\" Medium Golden Delight Pizza': {'price': '378', 'veg_or_non_veg': 'Non-veg'}, '13 \\\" Large Golden Delight Pizza': {'price': '495', 'veg_or_non_veg': 'Non-veg'}}, 'Salad': {'Paneer Tikka Salad': {'price': '158', 'veg_or_non_veg': 'Veg'}, 'Veg Tikki Salad': {'price': '152', 'veg_or_non_veg': 'Veg'}, 'Veg Delight Salad': {'price': '145', 'veg_or_non_veg': 'Veg'}, 'Chicken Tikka Salad': {'price': '172', 'veg_or_non_veg': 'Non-veg'}, 'Chicken Delight Salad': {'price': '189', 'veg_or_non_veg': 'Non-veg'}, 'Saute Chicken Salad': {'price': '166', 'veg_or_non_veg': 'Non-veg'}, 'Egg Salad': {'price': '166', 'veg_or_non_veg': 'Non-veg'}, 'Nacho Salad': {'price': '188', 'veg_or_non_veg': 'Veg'}, 'Crispy veg saled': {'price': '188', 'veg_or_non_veg': 'Veg'}}, 'Non Veg Super Pizza': {'8 \\\" Regular Chicken Tikka Pizza': {'price': '187', 'veg_or_non_veg': 'Non-veg'}, '10 \\\" Medium Chicken Tikka Pizza': {'price': '330', 'veg_or_non_veg': 'Non-veg'}, '13 \\\" Large Chicken Tikka Pizza': {'price': '463', 'veg_or_non_veg': 'Non-veg'}, '8 \\\" Regular Tandoori Chicken Pizza': {'price': '187', 'veg_or_non_veg': 'Non-veg'}, '10 \\\" Medium Tandoori Chicken Pizza': {'price': '330', 'veg_or_non_veg': 'Non-veg'}, '13 \\\" Large Tandoori Chicken Pizza': {'price': '463', 'veg_or_non_veg': 'Non-veg'}}, 'Swiggy Special Combos': {'1 Aloo Tikki Burger + 1 Single Topping Onion Pizza': {'price': '140', 'veg_or_non_veg': 'Veg'}, '1 Aloo Tikki Burger + 1 Single Topping Corn Pizza': {'price': '150', 'veg_or_non_veg': 'Veg'}}}\", \"https://www.swiggy.com/restaurants/theka-coffee-desi-central-raipura-abohar-158203\", \"Abohar\", \"Abohar\"], [3, \"187912\", \"Singh Hut\", \"3.7\", \"20+ ratings\", 250.0, \"Singh Hut, CIRCULAR ROAD NEAR NEHRU PARK ABOHAR\", \"Fast Food,Indian\", \"22119652000167\", \"{'Recommended': {'Malai Chaap': {'price': '200', 'veg_or_non_veg': 'Veg'}, 'Afghani Chaap': {'price': '200', 'veg_or_non_veg': 'Veg'}, 'Tandoori Chaap': {'price': '200', 'veg_or_non_veg': 'Veg'}, 'Pudina Chaap': {'price': '200', 'veg_or_non_veg': 'Veg'}, 'Achari Chaap': {'price': '200', 'veg_or_non_veg': 'Veg'}, 'Chaap Tikka Gravy': {'price': '240', 'veg_or_non_veg': 'Veg'}, 'Keema Chaap Gravy': {'price': '220', 'veg_or_non_veg': 'Veg'}, 'Paneer Tikka Butter Masala': {'price': '300', 'veg_or_non_veg': 'Veg'}, 'Rumali Roti': {'price': '40', 'veg_or_non_veg': 'Veg'}, 'Chilli Chaap': {'price': '200', 'veg_or_non_veg': 'Veg'}, 'Chilli Mushroom': {'price': '280', 'veg_or_non_veg': 'Veg'}, 'Cheese Chilli': {'price': '280', 'veg_or_non_veg': 'Veg'}, 'Manchurian Gravy': {'price': '120', 'veg_or_non_veg': 'Veg'}, 'Chilli Potato': {'price': '140', 'veg_or_non_veg': 'Veg'}, 'Honey Chilli Potato': {'price': '180', 'veg_or_non_veg': 'Veg'}, 'French Fry': {'price': '100', 'veg_or_non_veg': 'Veg'}, 'Veg Spring Roll': {'price': '120', 'veg_or_non_veg': 'Veg'}, 'Momos (10 Pcs)': {'price': '120', 'veg_or_non_veg': 'Veg'}, 'Fried Momos (10 Pcs)': {'price': '140', 'veg_or_non_veg': 'Veg'}, 'Tandoori Momos (8 Pcs)': {'price': '160', 'veg_or_non_veg': 'Veg'}, 'Malai Paneer': {'price': '240', 'veg_or_non_veg': 'Veg'}, 'Veg Chow mien': {'price': '120', 'veg_or_non_veg': 'Veg'}, 'Cheese Chow mien': {'price': '140', 'veg_or_non_veg': 'Veg'}, 'Singapore Chow mien': {'price': '140', 'veg_or_non_veg': 'Veg'}, 'Chaap Roll': {'price': '180', 'veg_or_non_veg': 'Veg'}, 'Combos': {'price': '200', 'veg_or_non_veg': 'Veg'}}, 'Soya Chaap': {'Malai Chaap': {'price': '200', 'veg_or_non_veg': 'Veg'}, 'Afghani Chaap': {'price': '200', 'veg_or_non_veg': 'Veg'}, 'Tandoori Chaap': {'price': '200', 'veg_or_non_veg': 'Veg'}, 'Pudina Chaap': {'price': '200', 'veg_or_non_veg': 'Veg'}, 'Achari Chaap': {'price': '200', 'veg_or_non_veg': 'Veg'}, 'Irani Chaap': {'price': '200', 'veg_or_non_veg': 'Veg'}, 'Fried Chaap': {'price': '240', 'veg_or_non_veg': 'Veg'}}, 'Gravy Item': {'Chaap Tikka Gravy': {'price': '240', 'veg_or_non_veg': 'Veg'}, 'Keema Chaap Gravy': {'price': '220', 'veg_or_non_veg': 'Veg'}, 'Paneer Tikka Butter Masala': {'price': '300', 'veg_or_non_veg': 'Veg'}, 'Kadai Paneer': {'price': '300', 'veg_or_non_veg': 'Veg'}, 'Mushroom Tikka Masala': {'price': '300', 'veg_or_non_veg': 'Veg'}, 'Rumali Roti': {'price': '40', 'veg_or_non_veg': 'Veg'}}, 'Chinese Hot': {'Chilli Chaap': {'price': '200', 'veg_or_non_veg': 'Veg'}, 'Chilli Mushroom': {'price': '280', 'veg_or_non_veg': 'Veg'}, 'Cheese Chilli': {'price': '280', 'veg_or_non_veg': 'Veg'}, 'Manchurian Gravy': {'price': '120', 'veg_or_non_veg': 'Veg'}, 'Chilli Potato': {'price': '140', 'veg_or_non_veg': 'Veg'}, 'Honey Chilli Potato': {'price': '180', 'veg_or_non_veg': 'Veg'}, 'French Fry': {'price': '100', 'veg_or_non_veg': 'Veg'}, 'Veg Spring Roll': {'price': '120', 'veg_or_non_veg': 'Veg'}}, 'Momos': {'Momos (10 Pcs)': {'price': '120', 'veg_or_non_veg': 'Veg'}, 'Fried Momos (10 Pcs)': {'price': '140', 'veg_or_non_veg': 'Veg'}, 'Tandoori Momos (8 Pcs)': {'price': '160', 'veg_or_non_veg': 'Veg'}, 'Masala Fried Momos (8 Pcs)': {'price': '160', 'veg_or_non_veg': 'Veg'}}, 'Soup': {'Veg Manchow Soup': {'price': '50', 'veg_or_non_veg': 'Veg'}}, 'Paneer': {'Malai Paneer': {'price': '240', 'veg_or_non_veg': 'Veg'}, 'Afghani Paneer': {'price': '240', 'veg_or_non_veg': 'Veg'}, 'Irani Paneer': {'price': '240', 'veg_or_non_veg': 'Veg'}, 'Tandoori Paneer': {'price': '220', 'veg_or_non_veg': 'Veg'}, 'Pudina Paneer': {'price': '220', 'veg_or_non_veg': 'Veg'}, 'Achari Paneer': {'price': '220', 'veg_or_non_veg': 'Veg'}, 'Golden Fried Paneer': {'price': '240', 'veg_or_non_veg': 'Veg'}}, 'Mushroom': {'Malai Mushroom': {'price': '200', 'veg_or_non_veg': 'Veg'}, 'Afghani Mushroom': {'price': '200', 'veg_or_non_veg': 'Veg'}, 'Irani Mushroom': {'price': '200', 'veg_or_non_veg': 'Veg'}, 'Tandoori Mushroom': {'price': '180', 'veg_or_non_veg': 'Veg'}, 'Pudina Mushroom': {'price': '180', 'veg_or_non_veg': 'Veg'}, 'Achari Mushroom': {'price': '180', 'veg_or_non_veg': 'Veg'}, 'Golden Fried Mushroom': {'price': '240', 'veg_or_non_veg': 'Veg'}}, 'Chow mien': {'Veg Chow mien': {'price': '120', 'veg_or_non_veg': 'Veg'}, 'Veg Hakka Chow mien': {'price': '140', 'veg_or_non_veg': 'Veg'}, 'Cheese Chow mien': {'price': '140', 'veg_or_non_veg': 'Veg'}, 'Singapore Chow mien': {'price': '140', 'veg_or_non_veg': 'Veg'}, 'Mixed Veg Chow mien': {'price': '160', 'veg_or_non_veg': 'Veg'}, 'Chaap Chow mien': {'price': '140', 'veg_or_non_veg': 'Veg'}}, 'Rumali Roll': {'Paneer Roll': {'price': '200', 'veg_or_non_veg': 'Veg'}, 'Chaap Roll': {'price': '180', 'veg_or_non_veg': 'Veg'}, 'Mushroom Roll': {'price': '180', 'veg_or_non_veg': 'Veg'}, 'Mixed Roll': {'price': '220', 'veg_or_non_veg': 'Veg'}}, 'Rumali Package': {'Combos': {'price': '200', 'veg_or_non_veg': 'Veg'}}}\", \"https://www.swiggy.com/restaurants/singh-hut-nehru-park-main-bazar-abohar-187912\", \"Abohar\", \"Abohar\"], [4, \"543530\", \"GRILL MASTERS\", \"--\", \"Too Few Ratings\", 250.0, \"GRILL MASTERS, ADA Heights, Abohar - Hanumangarh Rd, Raipura, Abohar, Punjab 152116, India\", \"Italian-American,Fast Food\", \"12122201000053\", \"{'Veg Burgers': {'Junior': {'price': '65', 'veg_or_non_veg': 'Veg'}, 'Texas': {'price': '90', 'veg_or_non_veg': 'Veg'}, 'New Yorker': {'price': '120', 'veg_or_non_veg': 'Veg'}, 'Paneer Crisp': {'price': '120', 'veg_or_non_veg': 'Veg'}, 'Giga Bite': {'price': '130', 'veg_or_non_veg': 'Veg'}, 'Mexican Paneer': {'price': '145', 'veg_or_non_veg': 'Veg'}, 'Veg Mountain': {'price': '160', 'veg_or_non_veg': 'Veg'}}, 'Non-Veg Burgers': {'Compact Burger': {'price': '80', 'veg_or_non_veg': 'Non-veg'}, 'Bad Boy': {'price': '105', 'veg_or_non_veg': 'Non-veg'}, 'Big Devil': {'price': '130', 'veg_or_non_veg': 'Non-veg'}, 'Illegal Burger': {'price': '130', 'veg_or_non_veg': 'Non-veg'}, 'Grilled Chicken Burger': {'price': '145', 'veg_or_non_veg': 'Non-veg'}, 'Crispy Chicken Burger': {'price': '160', 'veg_or_non_veg': 'Non-veg'}, 'The Heavy Driver': {'price': '185', 'veg_or_non_veg': 'Non-veg'}, 'Chicken Mountain': {'price': '185', 'veg_or_non_veg': 'Non-veg'}}, 'Veg Wraps': {'Veg Wrap': {'price': '145', 'veg_or_non_veg': 'Veg'}, 'Paneer Wrap': {'price': '160', 'veg_or_non_veg': 'Veg'}, 'Mexican Tortilla': {'price': '170', 'veg_or_non_veg': 'Veg'}, 'Peri Peri Paneer Wrap': {'price': '185', 'veg_or_non_veg': 'Veg'}}, 'Non Veg Wraps': {'Chicken Barbeque': {'price': '160', 'veg_or_non_veg': 'Non-veg'}, 'Chicken Crust Wrap': {'price': '170', 'veg_or_non_veg': 'Non-veg'}, 'Chicken Salami Wrap': {'price': '185', 'veg_or_non_veg': 'Non-veg'}, 'Crispy Chicken Wrap': {'price': '195', 'veg_or_non_veg': 'Non-veg'}, 'Chicken Tikka Wrap': {'price': '195', 'veg_or_non_veg': 'Non-veg'}, 'Chicken Southern Spice': {'price': '185', 'veg_or_non_veg': 'Non-veg'}}, 'Veg Grilled Sandwiches': {'Warm Up Sandwich': {'price': '120', 'veg_or_non_veg': 'Veg'}, 'Cheesy Corn Sandwich': {'price': '145', 'veg_or_non_veg': 'Veg'}, 'Mexican Wave Sandwich': {'price': '170', 'veg_or_non_veg': 'Veg'}, 'Paneer Tikka Sandwich': {'price': '195', 'veg_or_non_veg': 'Veg'}}, 'Non-Veg Grilled Sandwiches': {'Chicken Salami': {'price': '170', 'veg_or_non_veg': 'Non-veg'}, 'Saucy Mexicano': {'price': '195', 'veg_or_non_veg': 'Non-veg'}, 'Chicken Paradise': {'price': '195', 'veg_or_non_veg': 'Non-veg'}, 'Fiery Chicken': {'price': '210', 'veg_or_non_veg': 'Non-veg'}}, 'Veg Pizzas': {'Cheese & Onion': {'price': '95', 'veg_or_non_veg': 'Veg'}, 'Cheese & Corn': {'price': '95', 'veg_or_non_veg': 'Veg'}, 'Cheese & Paneer': {'price': '120', 'veg_or_non_veg': 'Veg'}, 'Queen Margherita [Small]': {'price': '185', 'veg_or_non_veg': 'Veg'}, 'Veggie Garden [Small]': {'price': '195', 'veg_or_non_veg': 'Veg'}, 'Corn & Olive [Small]': {'price': '195', 'veg_or_non_veg': 'Veg'}, 'Farm Fresh [Small]': {'price': '210', 'veg_or_non_veg': 'Veg'}, 'Paneer Bingo [Small]': {'price': '210', 'veg_or_non_veg': 'Veg'}, 'Mexican Pizza [Small]': {'price': '210', 'veg_or_non_veg': 'Veg'}, 'Paneer Tikka [Small]': {'price': '235', 'veg_or_non_veg': 'Veg'}, 'Grills Special [Small]': {'price': '235', 'veg_or_non_veg': 'Veg'}, 'Queen Margherita [Large]': {'price': '325', 'veg_or_non_veg': 'Veg'}, 'Corn & Olive [Large]': {'price': '365', 'veg_or_non_veg': 'Veg'}, 'Farm Fresh [Large]': {'price': '390', 'veg_or_non_veg': 'Veg'}, 'Paneer Bingo [Large]': {'price': '390', 'veg_or_non_veg': 'Veg'}, 'Mexican Pizza [Large]': {'price': '390', 'veg_or_non_veg': 'Veg'}, 'Paneer Tikka [Large]': {'price': '420', 'veg_or_non_veg': 'Veg'}, 'Garlic Exotica [Large]': {'price': '420', 'veg_or_non_veg': 'Veg'}, 'Grills Special [Large]': {'price': '420', 'veg_or_non_veg': 'Veg'}, 'Cheese & Capsicum': {'price': '95', 'veg_or_non_veg': 'Veg'}, 'Veggie Garden [Large]': {'price': '365', 'veg_or_non_veg': 'Veg'}, 'The Lord of Cheese [Small]': {'price': '235', 'veg_or_non_veg': 'Veg'}, 'The Lord of Cheese [Large]': {'price': '420', 'veg_or_non_veg': 'Veg'}, 'Garlic Exotica [Small]': {'price': '235', 'veg_or_non_veg': 'Veg'}}, 'Garlic Bread': {'Cheese Garlic Bread': {'price': '120', 'veg_or_non_veg': 'Veg'}, 'Loaded Garlic Bread': {'price': '145', 'veg_or_non_veg': 'Veg'}}, 'Non Veg Pizzas': {'Grilled Chicken Pizza [Small]': {'price': '250', 'veg_or_non_veg': 'Non-veg'}, 'Chicken Makhani Pizza [Small]': {'price': '290', 'veg_or_non_veg': 'Non-veg'}, 'Chicken Monster Pizza [Small]': {'price': '300', 'veg_or_non_veg': 'Non-veg'}, 'Grilled Chicken Pizza [Large]': {'price': '420', 'veg_or_non_veg': 'Non-veg'}, 'Chicken Kebab Pizza [Large]': {'price': '420', 'veg_or_non_veg': 'Non-veg'}, 'Chicken Makhani Pizza [Large]': {'price': '455', 'veg_or_non_veg': 'Non-veg'}, 'Peri Peri Chicken Pizza [Large]': {'price': '455', 'veg_or_non_veg': 'Non-veg'}, 'Chicken Monster Pizza [Large]': {'price': '495', 'veg_or_non_veg': 'Non-veg'}, 'Chicken Kebab Pizza [Small]': {'price': '250', 'veg_or_non_veg': 'Non-veg'}, 'Peri Peri Chicken Pizza [Small]': {'price': '290', 'veg_or_non_veg': 'Non-veg'}}, 'Pasta-La-Vista': {'Veg White Sauce Pasta': {'price': '185', 'veg_or_non_veg': 'Veg'}, 'Veg Red Sauce Pasta': {'price': '185', 'veg_or_non_veg': 'Veg'}, 'Veg Mix Sauce Pasta': {'price': '195', 'veg_or_non_veg': 'Veg'}, 'Tandoori Pasta': {'price': '195', 'veg_or_non_veg': 'Veg'}, 'Chicken White Sauce Pasta': {'price': '250', 'veg_or_non_veg': 'Non-veg'}, 'Chicken Red Sauce Pasta': {'price': '250', 'veg_or_non_veg': 'Non-veg'}, 'Chicken Mix Sauce Pasta': {'price': '260', 'veg_or_non_veg': 'Non-veg'}, 'Chicken Tandoori Pasta': {'price': '260', 'veg_or_non_veg': 'Non-veg'}}, 'Shakespears': {'Vanilla Shake': {'price': '120', 'veg_or_non_veg': 'Veg'}, 'Naughty Strawberry': {'price': '120', 'veg_or_non_veg': 'Veg'}, 'Butterscotch Shake': {'price': '130', 'veg_or_non_veg': 'Veg'}, 'Chocolate Shake': {'price': '130', 'veg_or_non_veg': 'Veg'}, 'Black Currant Shake': {'price': '130', 'veg_or_non_veg': 'Veg'}, 'Cold Coffee': {'price': '130', 'veg_or_non_veg': 'Veg'}, 'Caramel Coffee': {'price': '145', 'veg_or_non_veg': 'Veg'}, 'Classic Oreo': {'price': '160', 'veg_or_non_veg': 'Veg'}, 'Chocolate Oreo': {'price': '160', 'veg_or_non_veg': 'Veg'}, 'Veryberry Oreo': {'price': '160', 'veg_or_non_veg': 'Veg'}}, 'Let's Cool Down': {'Lemon Ice Tea': {'price': '80', 'veg_or_non_veg': 'Veg'}, 'Virgin Mojito': {'price': '95', 'veg_or_non_veg': 'Veg'}, 'Peach Mojito': {'price': '95', 'veg_or_non_veg': 'Veg'}, 'Blueberry Mojito': {'price': '95', 'veg_or_non_veg': 'Veg'}, 'Watermelon Mojito': {'price': '95', 'veg_or_non_veg': 'Veg'}, 'Green Apple Mojito': {'price': '95', 'veg_or_non_veg': 'Veg'}}, 'Crispy Chicken': {'Chicken Popcorn': {'price': '210', 'veg_or_non_veg': 'Non-veg'}, 'Chicken Leg [2 Pcs]': {'price': '140', 'veg_or_non_veg': 'Non-veg'}, 'Chicken Wings [6 Pcs]': {'price': '185', 'veg_or_non_veg': 'Non-veg'}, 'Chicken Strips [3 Pcs]': {'price': '145', 'veg_or_non_veg': 'Non-veg'}, 'Peri Peri Chicken Popcorn': {'price': '235', 'veg_or_non_veg': 'Non-veg'}, 'Butter Chicken Popcorn': {'price': '235', 'veg_or_non_veg': 'Non-veg'}}, 'Salads': {'Veg Crunch': {'price': '145', 'veg_or_non_veg': 'Veg'}, 'Paneer Crunch': {'price': '170', 'veg_or_non_veg': 'Veg'}, 'Chicken Salad': {'price': '195', 'veg_or_non_veg': 'Non-veg'}, 'Chicken Protein Diet': {'price': '210', 'veg_or_non_veg': 'Non-veg'}, 'Fiery Chicken Salad': {'price': '210', 'veg_or_non_veg': 'Non-veg'}, 'Chicken Salami Salad': {'price': '210', 'veg_or_non_veg': 'Non-veg'}}, 'Sides': {'French Fries': {'price': '105', 'veg_or_non_veg': 'Veg'}, 'Peri Peri Fries': {'price': '130', 'veg_or_non_veg': 'Veg'}, 'Cheese Loaded Fries': {'price': '160', 'veg_or_non_veg': 'Veg'}, 'Peri Peri Potato Pops': {'price': '160', 'veg_or_non_veg': 'Veg'}, 'Chicken Nuggets': {'price': '170', 'veg_or_non_veg': 'Non-veg'}, 'Peri Peri Veggie Fingers': {'price': '185', 'veg_or_non_veg': 'Veg'}, 'Peri Peri Cheese Loaded': {'price': '185', 'veg_or_non_veg': 'Veg'}}, 'Extras': {'Cheese Slice': {'price': '30', 'veg_or_non_veg': 'Veg'}, 'Salami': {'price': '30', 'veg_or_non_veg': 'Non-veg'}, 'Cheesy Dip': {'price': '30', 'veg_or_non_veg': 'Veg'}, 'Tandoori Dip': {'price': '30', 'veg_or_non_veg': 'Veg'}, 'Chilli Garlic Dip': {'price': '30', 'veg_or_non_veg': 'Veg'}, 'Island Dip': {'price': '30', 'veg_or_non_veg': 'Veg'}}}\", \"https://www.swiggy.com/restaurants/grill-masters-central-abohar-abohar-543530\", \"Abohar\", \"Abohar\"]];\n",
              "\n",
              "    // Define the dt_args\n",
              "    let dt_args = {\"order\": [], \"dom\": \"t\"};\n",
              "    dt_args[\"data\"] = data;\n",
              "\n",
              "    $(document).ready(function () {\n",
              "        \n",
              "        $('#093dcc32-ebc7-4dd5-98a7-341e013fe6aa').DataTable(dt_args);\n",
              "    });\n",
              "</script>\n",
              "</div>\n"
            ]
          },
          "metadata": {}
        }
      ]
    },
    {
      "cell_type": "markdown",
      "metadata": {
        "id": "p-_rATl2M6cs"
      },
      "source": [
        "### Number of cities(including sub-regions) that have Swiggy restaurants"
      ]
    },
    {
      "cell_type": "code",
      "execution_count": 13,
      "metadata": {
        "colab": {
          "base_uri": "https://localhost:8080/"
        },
        "id": "oiDBBonqM6cs",
        "outputId": "a423a7c5-8c93-4985-aaa2-6616f015ac86"
      },
      "outputs": [
        {
          "output_type": "stream",
          "name": "stdout",
          "text": [
            "Number of cities (including subregions) where Swiggy is having its restaurants listed are:  551\n"
          ]
        }
      ],
      "source": [
        "# given cleaned swiggy data in df get count of unique cities\n",
        "count_of_cities = df['city'].nunique()\n",
        "print(\"Number of cities (including subregions) where Swiggy is having its restaurants listed are: \", count_of_cities)"
      ]
    },
    {
      "cell_type": "markdown",
      "metadata": {
        "id": "fcq3KO7TM6cs"
      },
      "source": [
        "### Number of cities(not including sub-regions) that have Swiggy restaurants"
      ]
    },
    {
      "cell_type": "code",
      "execution_count": 14,
      "metadata": {
        "colab": {
          "base_uri": "https://localhost:8080/"
        },
        "id": "t3_y7VC_M6cs",
        "outputId": "3197b6b7-b598-4013-dab3-c4baa69d2027"
      },
      "outputs": [
        {
          "output_type": "stream",
          "name": "stdout",
          "text": [
            "Number of cities (not including subregions) where Swiggy is having its restaurants listed are:  820\n"
          ]
        }
      ],
      "source": [
        "# given cleaned swiggy data in df get count of subregions as they include cities as well\n",
        "count_of_subregions = df['sub_region'].nunique()\n",
        "print(\"Number of cities (not including subregions) where Swiggy is having its restaurants listed are: \", count_of_subregions)"
      ]
    },
    {
      "cell_type": "markdown",
      "metadata": {
        "id": "0cDduw_kM6cs"
      },
      "source": [
        "### Delhi subregion with maximum number of restaurants listed on Swiggy"
      ]
    },
    {
      "cell_type": "code",
      "execution_count": 15,
      "metadata": {
        "colab": {
          "base_uri": "https://localhost:8080/",
          "height": 146
        },
        "id": "8FYwz2IVM6ct",
        "outputId": "123cb1c6-a18f-4892-dea5-92aee791cb3d"
      },
      "outputs": [
        {
          "output_type": "stream",
          "name": "stdout",
          "text": [
            "The subregion of Delhi with the maximum restaurants listed on Swiggy is ->\n"
          ]
        },
        {
          "output_type": "display_data",
          "data": {
            "text/plain": [
              "<IPython.core.display.HTML object>"
            ],
            "text/html": [
              "<style>.itables table td {\n",
              "    text-overflow: ellipsis;\n",
              "    overflow: hidden;\n",
              "}\n",
              "\n",
              ".itables table th {\n",
              "    text-overflow: ellipsis;\n",
              "    overflow: hidden;\n",
              "}\n",
              "\n",
              ".itables thead input {\n",
              "    width: 100%;\n",
              "    padding: 3px;\n",
              "    box-sizing: border-box;\n",
              "}\n",
              "\n",
              ".itables tfoot input {\n",
              "    width: 100%;\n",
              "    padding: 3px;\n",
              "    box-sizing: border-box;\n",
              "}\n",
              "</style>\n",
              "<div class=\"itables\">\n",
              "<table id=\"9f56d612-7b08-4a0f-a585-200c7099be86\" class=\"display nowrap\"style=\"table-layout:auto;width:auto;margin:auto;caption-side:bottom\"><thead>\n",
              "    <tr style=\"text-align: right;\">\n",
              "      <th></th>\n",
              "      <th>no_of_restaurants</th>\n",
              "    </tr>\n",
              "    <tr>\n",
              "      <th>sub_region</th>\n",
              "      <th></th>\n",
              "    </tr>\n",
              "  </thead><tbody><tr><td>Loading... (need <a href=https://mwouts.github.io/itables/troubleshooting.html>help</a>?)</td></tr></tbody></table>\n",
              "<link rel=\"stylesheet\" type=\"text/css\" href=\"https://cdn.datatables.net/1.13.1/css/jquery.dataTables.min.css\">\n",
              "<script type=\"module\">\n",
              "    // Import jquery and DataTable\n",
              "    import 'https://code.jquery.com/jquery-3.6.0.min.js';\n",
              "    import dt from 'https://cdn.datatables.net/1.12.1/js/jquery.dataTables.mjs';\n",
              "    dt($);\n",
              "\n",
              "    // Define the table data\n",
              "    const data = [[\"Indirapuram\", 1279]];\n",
              "\n",
              "    // Define the dt_args\n",
              "    let dt_args = {\"order\": [], \"dom\": \"t\"};\n",
              "    dt_args[\"data\"] = data;\n",
              "\n",
              "    $(document).ready(function () {\n",
              "        \n",
              "        $('#9f56d612-7b08-4a0f-a585-200c7099be86').DataTable(dt_args);\n",
              "    });\n",
              "</script>\n",
              "</div>\n"
            ]
          },
          "metadata": {}
        }
      ],
      "source": [
        "# get number of restaurants listed for Delhi\n",
        "delhi_rest = df[df['city'] == 'Delhi']\n",
        "# next find count of all resataurants grouping by sub-region of Delhi and then sort them in ascending order.\n",
        "# select first entry as it is the maximum\n",
        "M = delhi_rest.groupby('sub_region')['sub_region'].count().sort_values(ascending=False).head(1)\n",
        "print(\"The subregion of Delhi with the maximum restaurants listed on Swiggy is ->\")\n",
        "M.rename('no_of_restaurants',inplace=True)\n",
        "show(M)"
      ]
    },
    {
      "cell_type": "markdown",
      "metadata": {
        "id": "iIgmDquUM6ct"
      },
      "source": [
        "### Top 5 Most Expensive Cities in the dataset"
      ]
    },
    {
      "cell_type": "code",
      "execution_count": 16,
      "metadata": {
        "colab": {
          "base_uri": "https://localhost:8080/",
          "height": 283
        },
        "id": "TuR7ZfNYM6ct",
        "outputId": "a99423fc-0835-4fc2-c092-610998b02485"
      },
      "outputs": [
        {
          "output_type": "stream",
          "name": "stdout",
          "text": [
            "The top 5 most expensive cities listed on Swiggy are -> \n"
          ]
        },
        {
          "output_type": "display_data",
          "data": {
            "text/plain": [
              "<IPython.core.display.HTML object>"
            ],
            "text/html": [
              "<style>.itables table td {\n",
              "    text-overflow: ellipsis;\n",
              "    overflow: hidden;\n",
              "}\n",
              "\n",
              ".itables table th {\n",
              "    text-overflow: ellipsis;\n",
              "    overflow: hidden;\n",
              "}\n",
              "\n",
              ".itables thead input {\n",
              "    width: 100%;\n",
              "    padding: 3px;\n",
              "    box-sizing: border-box;\n",
              "}\n",
              "\n",
              ".itables tfoot input {\n",
              "    width: 100%;\n",
              "    padding: 3px;\n",
              "    box-sizing: border-box;\n",
              "}\n",
              "</style>\n",
              "<div class=\"itables\">\n",
              "<table id=\"25929b47-7aee-46e2-b04e-52551c57b98e\" class=\"display nowrap\"style=\"table-layout:auto;width:auto;margin:auto;caption-side:bottom\"><thead>\n",
              "    <tr style=\"text-align: right;\">\n",
              "      <th></th>\n",
              "      <th>TotalCost(in ₹)</th>\n",
              "    </tr>\n",
              "    <tr>\n",
              "      <th>city</th>\n",
              "      <th></th>\n",
              "    </tr>\n",
              "  </thead><tbody><tr><td>Loading... (need <a href=https://mwouts.github.io/itables/troubleshooting.html>help</a>?)</td></tr></tbody></table>\n",
              "<link rel=\"stylesheet\" type=\"text/css\" href=\"https://cdn.datatables.net/1.13.1/css/jquery.dataTables.min.css\">\n",
              "<script type=\"module\">\n",
              "    // Import jquery and DataTable\n",
              "    import 'https://code.jquery.com/jquery-3.6.0.min.js';\n",
              "    import dt from 'https://cdn.datatables.net/1.12.1/js/jquery.dataTables.mjs';\n",
              "    dt($);\n",
              "\n",
              "    // Define the table data\n",
              "    const data = [[\"Bangalore\", 4632768.0], [\"Delhi\", 4462198.0], [\"Pune\", 3738389.0], [\"Hyderabad\", 3011912.0], [\"Chennai\", 2890593.0]];\n",
              "\n",
              "    // Define the dt_args\n",
              "    let dt_args = {\"order\": [], \"dom\": \"t\"};\n",
              "    dt_args[\"data\"] = data;\n",
              "\n",
              "    $(document).ready(function () {\n",
              "        \n",
              "        $('#25929b47-7aee-46e2-b04e-52551c57b98e').DataTable(dt_args);\n",
              "    });\n",
              "</script>\n",
              "</div>\n"
            ]
          },
          "metadata": {}
        }
      ],
      "source": [
        "# next find sum of all costs of restaurants grouping by city and then sort them in ascending order.\n",
        "# select first 5 entry as it is the top 5\n",
        "max_expensive = df.groupby('city')['cost'].sum().sort_values(ascending=False).head(5)\n",
        "print(\"The top 5 most expensive cities listed on Swiggy are -> \")\n",
        "max_expensive.rename('TotalCost(in ₹)',inplace=True)\n",
        "show(max_expensive)"
      ]
    },
    {
      "cell_type": "markdown",
      "metadata": {
        "id": "Ee6yNPQeM6ct"
      },
      "source": [
        "### Top 5 Restaurants with Maximum & Ninimum ratings throughout the dataset"
      ]
    },
    {
      "cell_type": "code",
      "source": [
        "def rating_rank(df):\n",
        "  rating_rank = []\n",
        "  for i in df.index:\n",
        "      z = df['rating_count'][i]\n",
        "      if z == 'Too Few Ratings':\n",
        "          rating_rank.append(0)\n",
        "      elif z == '20+ ratings':\n",
        "          rating_rank.append(1)\n",
        "      elif z == '50+ ratings':\n",
        "          rating_rank.append(2)\n",
        "      elif z == '100+ ratings':\n",
        "          rating_rank.append(3)\n",
        "      elif z == '500+ ratings':\n",
        "          rating_rank.append(4)\n",
        "      elif z == '1K+ ratings':\n",
        "          rating_rank.append(5)\n",
        "      else:\n",
        "          rating_rank.append(-1)\n",
        "  # df['rating_rank'] = rating_rank\n",
        "  df.insert(4,'rating_rank',rating_rank, True)"
      ],
      "metadata": {
        "id": "grDiYI4FRcQD"
      },
      "execution_count": 17,
      "outputs": []
    },
    {
      "cell_type": "code",
      "execution_count": 18,
      "metadata": {
        "colab": {
          "base_uri": "https://localhost:8080/",
          "height": 618
        },
        "id": "j-DdcQHyM6ct",
        "outputId": "065c94bc-54e8-4945-9da2-031c75130cce"
      },
      "outputs": [
        {
          "output_type": "stream",
          "name": "stderr",
          "text": [
            "<ipython-input-18-88b2f7ea0e47>:4: SettingWithCopyWarning: \n",
            "A value is trying to be set on a copy of a slice from a DataFrame.\n",
            "Try using .loc[row_indexer,col_indexer] = value instead\n",
            "\n",
            "See the caveats in the documentation: https://pandas.pydata.org/pandas-docs/stable/user_guide/indexing.html#returning-a-view-versus-a-copy\n",
            "  df_ratings['rating'] = pd.to_numeric(df_ratings['rating'], errors='coerce')\n"
          ]
        },
        {
          "output_type": "stream",
          "name": "stdout",
          "text": [
            "The top 5 most rated restaurants listed on Swiggy with 5.0 rating are -> \n"
          ]
        },
        {
          "output_type": "display_data",
          "data": {
            "text/plain": [
              "<IPython.core.display.HTML object>"
            ],
            "text/html": [
              "<style>.itables table td {\n",
              "    text-overflow: ellipsis;\n",
              "    overflow: hidden;\n",
              "}\n",
              "\n",
              ".itables table th {\n",
              "    text-overflow: ellipsis;\n",
              "    overflow: hidden;\n",
              "}\n",
              "\n",
              ".itables thead input {\n",
              "    width: 100%;\n",
              "    padding: 3px;\n",
              "    box-sizing: border-box;\n",
              "}\n",
              "\n",
              ".itables tfoot input {\n",
              "    width: 100%;\n",
              "    padding: 3px;\n",
              "    box-sizing: border-box;\n",
              "}\n",
              "</style>\n",
              "<div class=\"itables\">\n",
              "<table id=\"35716927-ede3-483a-81c6-27e35be860b7\" class=\"display nowrap\"style=\"table-layout:auto;width:auto;margin:auto;caption-side:bottom\"><thead>\n",
              "    <tr style=\"text-align: right;\">\n",
              "      <th></th>\n",
              "      <th>restaurant</th>\n",
              "      <th>rating</th>\n",
              "      <th>rating_count</th>\n",
              "    </tr>\n",
              "  </thead><tbody><tr><td>Loading... (need <a href=https://mwouts.github.io/itables/troubleshooting.html>help</a>?)</td></tr></tbody></table>\n",
              "<link rel=\"stylesheet\" type=\"text/css\" href=\"https://cdn.datatables.net/1.13.1/css/jquery.dataTables.min.css\">\n",
              "<script type=\"module\">\n",
              "    // Import jquery and DataTable\n",
              "    import 'https://code.jquery.com/jquery-3.6.0.min.js';\n",
              "    import dt from 'https://cdn.datatables.net/1.12.1/js/jquery.dataTables.mjs';\n",
              "    dt($);\n",
              "\n",
              "    // Define the table data\n",
              "    const data = [[84308, \"Tony Bakery\", 5.0, \"100+ ratings\"], [88104, \"SHRI KRISHNA FOOD ZONE\", 5.0, \"100+ ratings\"], [12157, \"HUNGER TREATS\", 5.0, \"50+ ratings\"], [53207, \"Gelato Vinto\", 5.0, \"50+ ratings\"], [53678, \"Gelato Vinto\", 5.0, \"50+ ratings\"]];\n",
              "\n",
              "    // Define the dt_args\n",
              "    let dt_args = {\"order\": [], \"dom\": \"t\"};\n",
              "    dt_args[\"data\"] = data;\n",
              "\n",
              "    $(document).ready(function () {\n",
              "        \n",
              "        $('#35716927-ede3-483a-81c6-27e35be860b7').DataTable(dt_args);\n",
              "    });\n",
              "</script>\n",
              "</div>\n"
            ]
          },
          "metadata": {}
        },
        {
          "output_type": "stream",
          "name": "stdout",
          "text": [
            "*Note there are several restaurants with rating 5.0 other than the 5 mentioned and hence rating_count is also included to determine maximum rating restaurant.\n",
            "The top 5 least rated restaurants listed on Swiggy with lowest rating are -> \n"
          ]
        },
        {
          "output_type": "display_data",
          "data": {
            "text/plain": [
              "<IPython.core.display.HTML object>"
            ],
            "text/html": [
              "<style>.itables table td {\n",
              "    text-overflow: ellipsis;\n",
              "    overflow: hidden;\n",
              "}\n",
              "\n",
              ".itables table th {\n",
              "    text-overflow: ellipsis;\n",
              "    overflow: hidden;\n",
              "}\n",
              "\n",
              ".itables thead input {\n",
              "    width: 100%;\n",
              "    padding: 3px;\n",
              "    box-sizing: border-box;\n",
              "}\n",
              "\n",
              ".itables tfoot input {\n",
              "    width: 100%;\n",
              "    padding: 3px;\n",
              "    box-sizing: border-box;\n",
              "}\n",
              "</style>\n",
              "<div class=\"itables\">\n",
              "<table id=\"060b10c8-ecfe-4c45-b453-108d21acfa45\" class=\"display nowrap\"style=\"table-layout:auto;width:auto;margin:auto;caption-side:bottom\"><thead>\n",
              "    <tr style=\"text-align: right;\">\n",
              "      <th></th>\n",
              "      <th>restaurant</th>\n",
              "      <th>rating</th>\n",
              "      <th>rating_count</th>\n",
              "    </tr>\n",
              "  </thead><tbody><tr><td>Loading... (need <a href=https://mwouts.github.io/itables/troubleshooting.html>help</a>?)</td></tr></tbody></table>\n",
              "<link rel=\"stylesheet\" type=\"text/css\" href=\"https://cdn.datatables.net/1.13.1/css/jquery.dataTables.min.css\">\n",
              "<script type=\"module\">\n",
              "    // Import jquery and DataTable\n",
              "    import 'https://code.jquery.com/jquery-3.6.0.min.js';\n",
              "    import dt from 'https://cdn.datatables.net/1.12.1/js/jquery.dataTables.mjs';\n",
              "    dt($);\n",
              "\n",
              "    // Define the table data\n",
              "    const data = [[34304, \"Ice Cream and Shakes Co\", 1.0, \"20+ ratings\"], [18559, \"Persian Delight\", 1.1, \"20+ ratings\"], [51966, \"THE TARI STORY\", 1.2, \"20+ ratings\"], [68204, \"The Hyderabadi Biryani House\", 1.2, \"20+ ratings\"], [145214, \"Champaran Mutton Hundy & Biryani\", 1.2, \"20+ ratings\"]];\n",
              "\n",
              "    // Define the dt_args\n",
              "    let dt_args = {\"order\": [], \"dom\": \"t\"};\n",
              "    dt_args[\"data\"] = data;\n",
              "\n",
              "    $(document).ready(function () {\n",
              "        \n",
              "        $('#060b10c8-ecfe-4c45-b453-108d21acfa45').DataTable(dt_args);\n",
              "    });\n",
              "</script>\n",
              "</div>\n"
            ]
          },
          "metadata": {}
        }
      ],
      "source": [
        "# first exclude all restaurants with too few ratings\n",
        "df_ratings = df[df['rating_count']!='Too Few Ratings']\n",
        "# convert str column to float\n",
        "df_ratings['rating'] = pd.to_numeric(df_ratings['rating'], errors='coerce')\n",
        "rating_rank(df_ratings)\n",
        "# next find max rating of all resataurants grouping by restaurant name and then sort them in ascending and descending order.\n",
        "# select first 5 entry as it is the max for ascending and min for descending order.\n",
        "max_ratings = df_ratings.sort_values(by=['rating','rating_rank'],ascending=False).head(5)\n",
        "min_ratings = df_ratings.sort_values(by=['rating','rating_rank'],ascending=True).head(5)\n",
        "print(\"The top 5 most rated restaurants listed on Swiggy with 5.0 rating are -> \")\n",
        "show(max_ratings[['restaurant','rating','rating_count']])\n",
        "print(\"*Note there are several restaurants with rating 5.0 other than the 5 mentioned and hence rating_count is also included to determine maximum rating restaurant.\")\n",
        "print(\"The top 5 least rated restaurants listed on Swiggy with lowest rating are -> \")\n",
        "show(min_ratings[['restaurant','rating','rating_count']])"
      ]
    },
    {
      "cell_type": "markdown",
      "metadata": {
        "id": "ncYrJ_pWM6ct"
      },
      "source": [
        "### Top 5 cities with the highest number of restaurants listed."
      ]
    },
    {
      "cell_type": "code",
      "execution_count": 19,
      "metadata": {
        "colab": {
          "base_uri": "https://localhost:8080/",
          "height": 283
        },
        "id": "Olx3UVpRM6ct",
        "outputId": "190e52ce-9d8f-4df2-8400-50f9bf7abea2"
      },
      "outputs": [
        {
          "output_type": "stream",
          "name": "stdout",
          "text": [
            "The top 5 cities with highest number of restaurants listed on Swiggy are -> \n"
          ]
        },
        {
          "output_type": "display_data",
          "data": {
            "text/plain": [
              "<IPython.core.display.HTML object>"
            ],
            "text/html": [
              "<style>.itables table td {\n",
              "    text-overflow: ellipsis;\n",
              "    overflow: hidden;\n",
              "}\n",
              "\n",
              ".itables table th {\n",
              "    text-overflow: ellipsis;\n",
              "    overflow: hidden;\n",
              "}\n",
              "\n",
              ".itables thead input {\n",
              "    width: 100%;\n",
              "    padding: 3px;\n",
              "    box-sizing: border-box;\n",
              "}\n",
              "\n",
              ".itables tfoot input {\n",
              "    width: 100%;\n",
              "    padding: 3px;\n",
              "    box-sizing: border-box;\n",
              "}\n",
              "</style>\n",
              "<div class=\"itables\">\n",
              "<table id=\"f897482e-485e-4a37-88cd-61956f9ce111\" class=\"display nowrap\"style=\"table-layout:auto;width:auto;margin:auto;caption-side:bottom\"><thead>\n",
              "    <tr style=\"text-align: right;\">\n",
              "      <th></th>\n",
              "      <th>Total_Restaurants</th>\n",
              "    </tr>\n",
              "    <tr>\n",
              "      <th>city</th>\n",
              "      <th></th>\n",
              "    </tr>\n",
              "  </thead><tbody><tr><td>Loading... (need <a href=https://mwouts.github.io/itables/troubleshooting.html>help</a>?)</td></tr></tbody></table>\n",
              "<link rel=\"stylesheet\" type=\"text/css\" href=\"https://cdn.datatables.net/1.13.1/css/jquery.dataTables.min.css\">\n",
              "<script type=\"module\">\n",
              "    // Import jquery and DataTable\n",
              "    import 'https://code.jquery.com/jquery-3.6.0.min.js';\n",
              "    import dt from 'https://cdn.datatables.net/1.12.1/js/jquery.dataTables.mjs';\n",
              "    dt($);\n",
              "\n",
              "    // Define the table data\n",
              "    const data = [[\"Bangalore\", 15302], [\"Delhi\", 14076], [\"Pune\", 12435], [\"Hyderabad\", 10011], [\"Chennai\", 9954]];\n",
              "\n",
              "    // Define the dt_args\n",
              "    let dt_args = {\"order\": [], \"dom\": \"t\"};\n",
              "    dt_args[\"data\"] = data;\n",
              "\n",
              "    $(document).ready(function () {\n",
              "        \n",
              "        $('#f897482e-485e-4a37-88cd-61956f9ce111').DataTable(dt_args);\n",
              "    });\n",
              "</script>\n",
              "</div>\n"
            ]
          },
          "metadata": {}
        }
      ],
      "source": [
        "top5_cities = df.groupby('city')['restaurant_id'].count().sort_values(ascending=False).head(5)\n",
        "print(\"The top 5 cities with highest number of restaurants listed on Swiggy are -> \")\n",
        "top5_cities.rename('Total_Restaurants', inplace=True)\n",
        "show(top5_cities)"
      ]
    },
    {
      "cell_type": "markdown",
      "metadata": {
        "id": "E8NNM-uSM6ct"
      },
      "source": [
        "### Top 10 cities with the highest number of restaurants listed."
      ]
    },
    {
      "cell_type": "code",
      "execution_count": 20,
      "metadata": {
        "colab": {
          "base_uri": "https://localhost:8080/",
          "height": 455
        },
        "id": "q13wyBj3M6cu",
        "outputId": "2871a1bf-6a30-448b-8510-120a03926821"
      },
      "outputs": [
        {
          "output_type": "stream",
          "name": "stdout",
          "text": [
            "The top 10 cities with highest number of restaurants listed on Swiggy are -> \n"
          ]
        },
        {
          "output_type": "display_data",
          "data": {
            "text/plain": [
              "<IPython.core.display.HTML object>"
            ],
            "text/html": [
              "<style>.itables table td {\n",
              "    text-overflow: ellipsis;\n",
              "    overflow: hidden;\n",
              "}\n",
              "\n",
              ".itables table th {\n",
              "    text-overflow: ellipsis;\n",
              "    overflow: hidden;\n",
              "}\n",
              "\n",
              ".itables thead input {\n",
              "    width: 100%;\n",
              "    padding: 3px;\n",
              "    box-sizing: border-box;\n",
              "}\n",
              "\n",
              ".itables tfoot input {\n",
              "    width: 100%;\n",
              "    padding: 3px;\n",
              "    box-sizing: border-box;\n",
              "}\n",
              "</style>\n",
              "<div class=\"itables\">\n",
              "<table id=\"bd30ac26-210b-4379-a57c-53c5acf7f1a5\" class=\"display nowrap\"style=\"table-layout:auto;width:auto;margin:auto;caption-side:bottom\"><thead>\n",
              "    <tr style=\"text-align: right;\">\n",
              "      <th></th>\n",
              "      <th>Total_Restaurants</th>\n",
              "    </tr>\n",
              "    <tr>\n",
              "      <th>city</th>\n",
              "      <th></th>\n",
              "    </tr>\n",
              "  </thead><tbody><tr><td>Loading... (need <a href=https://mwouts.github.io/itables/troubleshooting.html>help</a>?)</td></tr></tbody></table>\n",
              "<link rel=\"stylesheet\" type=\"text/css\" href=\"https://cdn.datatables.net/1.13.1/css/jquery.dataTables.min.css\">\n",
              "<script type=\"module\">\n",
              "    // Import jquery and DataTable\n",
              "    import 'https://code.jquery.com/jquery-3.6.0.min.js';\n",
              "    import dt from 'https://cdn.datatables.net/1.12.1/js/jquery.dataTables.mjs';\n",
              "    dt($);\n",
              "\n",
              "    // Define the table data\n",
              "    const data = [[\"Bangalore\", 15302], [\"Delhi\", 14076], [\"Pune\", 12435], [\"Hyderabad\", 10011], [\"Chennai\", 9954], [\"Kolkata\", 8281], [\"Mumbai\", 6071], [\"Ahmedabad\", 3541], [\"Chandigarh\", 3320], [\"Lucknow\", 2846]];\n",
              "\n",
              "    // Define the dt_args\n",
              "    let dt_args = {\"order\": [], \"dom\": \"t\"};\n",
              "    dt_args[\"data\"] = data;\n",
              "\n",
              "    $(document).ready(function () {\n",
              "        \n",
              "        $('#bd30ac26-210b-4379-a57c-53c5acf7f1a5').DataTable(dt_args);\n",
              "    });\n",
              "</script>\n",
              "</div>\n"
            ]
          },
          "metadata": {}
        }
      ],
      "source": [
        "top10_cities = df.groupby('city')['restaurant_id'].count().sort_values(ascending=False).head(10)\n",
        "print(\"The top 10 cities with highest number of restaurants listed on Swiggy are -> \")\n",
        "top10_cities.rename('Total_Restaurants', inplace=True)\n",
        "show(top10_cities)"
      ]
    },
    {
      "cell_type": "markdown",
      "metadata": {
        "id": "JJL0qGKlM6cu"
      },
      "source": [
        "### Top 5 Most Popular Restaurants in Pune"
      ]
    },
    {
      "cell_type": "code",
      "execution_count": 21,
      "metadata": {
        "colab": {
          "base_uri": "https://localhost:8080/",
          "height": 281
        },
        "id": "bhX--lQMM6cu",
        "outputId": "b682a260-b940-40db-ec6c-42998aed6abc"
      },
      "outputs": [
        {
          "output_type": "stream",
          "name": "stdout",
          "text": [
            "['Too Few Ratings' '20+ ratings' '100+ ratings' '50+ ratings'\n",
            " '500+ ratings' '1K+ ratings']\n",
            "The top 5 most popular restaurants in Pune listed on Swiggy are -> \n"
          ]
        },
        {
          "output_type": "display_data",
          "data": {
            "text/plain": [
              "<IPython.core.display.HTML object>"
            ],
            "text/html": [
              "<style>.itables table td {\n",
              "    text-overflow: ellipsis;\n",
              "    overflow: hidden;\n",
              "}\n",
              "\n",
              ".itables table th {\n",
              "    text-overflow: ellipsis;\n",
              "    overflow: hidden;\n",
              "}\n",
              "\n",
              ".itables thead input {\n",
              "    width: 100%;\n",
              "    padding: 3px;\n",
              "    box-sizing: border-box;\n",
              "}\n",
              "\n",
              ".itables tfoot input {\n",
              "    width: 100%;\n",
              "    padding: 3px;\n",
              "    box-sizing: border-box;\n",
              "}\n",
              "</style>\n",
              "<div class=\"itables\">\n",
              "<table id=\"fef9393b-e430-4468-aa49-8330473c7707\" class=\"display nowrap\"style=\"table-layout:auto;width:auto;margin:auto;caption-side:bottom\"><thead>\n",
              "    <tr style=\"text-align: right;\">\n",
              "      <th></th>\n",
              "      <th>restaurant</th>\n",
              "      <th>rating</th>\n",
              "      <th>rating_count</th>\n",
              "    </tr>\n",
              "  </thead><tbody><tr><td>Loading... (need <a href=https://mwouts.github.io/itables/troubleshooting.html>help</a>?)</td></tr></tbody></table>\n",
              "<link rel=\"stylesheet\" type=\"text/css\" href=\"https://cdn.datatables.net/1.13.1/css/jquery.dataTables.min.css\">\n",
              "<script type=\"module\">\n",
              "    // Import jquery and DataTable\n",
              "    import 'https://code.jquery.com/jquery-3.6.0.min.js';\n",
              "    import dt from 'https://cdn.datatables.net/1.12.1/js/jquery.dataTables.mjs';\n",
              "    dt($);\n",
              "\n",
              "    // Define the table data\n",
              "    const data = [[122959, \"Sheetal Restaurant\", \"4.5\", \"1K+ ratings\"], [125303, \"Theobroma\", \"4.5\", \"1K+ ratings\"], [130056, \"Irani Cafe\", \"4.5\", \"1K+ ratings\"], [132835, \"Kalika Dairy & Sweets\", \"4.5\", \"1K+ ratings\"], [121815, \"Fun Food-Taste of Indore\", \"4.4\", \"1K+ ratings\"]];\n",
              "\n",
              "    // Define the dt_args\n",
              "    let dt_args = {\"order\": [], \"dom\": \"t\"};\n",
              "    dt_args[\"data\"] = data;\n",
              "\n",
              "    $(document).ready(function () {\n",
              "        \n",
              "        $('#fef9393b-e430-4468-aa49-8330473c7707').DataTable(dt_args);\n",
              "    });\n",
              "</script>\n",
              "</div>\n"
            ]
          },
          "metadata": {}
        }
      ],
      "source": [
        "# get all all restaurants in Pune\n",
        "pune_rest = df[df['city'] == 'Pune']\n",
        "# find all the unique rating counts\n",
        "rating_unique = pune_rest['rating_count'].unique()\n",
        "print(rating_unique)\n",
        "# Assign a new column based on rating_count rank with\n",
        "# 1K+ being the highest and NA being the lowest\n",
        "rating_rank(pune_rest)\n",
        "# sort the table with newly created rating-rank and rank with top 5 pop values with highest rating first\n",
        "pop_rest = pune_rest.sort_values(by=['rating_rank','rating'],ascending=False).head(5)\n",
        "print(\"The top 5 most popular restaurants in Pune listed on Swiggy are -> \")\n",
        "show(pop_rest[['restaurant','rating','rating_count']])"
      ]
    },
    {
      "cell_type": "markdown",
      "metadata": {
        "id": "Q1F2qfn9M6cu"
      },
      "source": [
        "### Sub region of Least expensive restaurant in Delhi"
      ]
    },
    {
      "cell_type": "code",
      "execution_count": 22,
      "metadata": {
        "colab": {
          "base_uri": "https://localhost:8080/",
          "height": 128
        },
        "id": "iQregWlLM6cu",
        "outputId": "d6e98fb9-d46f-49a4-db25-86a0add58357"
      },
      "outputs": [
        {
          "output_type": "display_data",
          "data": {
            "text/plain": [
              "<IPython.core.display.HTML object>"
            ],
            "text/html": [
              "<style>.itables table td {\n",
              "    text-overflow: ellipsis;\n",
              "    overflow: hidden;\n",
              "}\n",
              "\n",
              ".itables table th {\n",
              "    text-overflow: ellipsis;\n",
              "    overflow: hidden;\n",
              "}\n",
              "\n",
              ".itables thead input {\n",
              "    width: 100%;\n",
              "    padding: 3px;\n",
              "    box-sizing: border-box;\n",
              "}\n",
              "\n",
              ".itables tfoot input {\n",
              "    width: 100%;\n",
              "    padding: 3px;\n",
              "    box-sizing: border-box;\n",
              "}\n",
              "</style>\n",
              "<div class=\"itables\">\n",
              "<table id=\"1130a6e9-2778-4a42-83c9-b4124cc83efa\" class=\"display nowrap\"style=\"table-layout:auto;width:auto;margin:auto;caption-side:bottom\"><thead>\n",
              "    <tr style=\"text-align: right;\">\n",
              "      <th></th>\n",
              "      <th>restaurant</th>\n",
              "      <th>sub_region</th>\n",
              "      <th>cost</th>\n",
              "    </tr>\n",
              "  </thead><tbody><tr><td>Loading... (need <a href=https://mwouts.github.io/itables/troubleshooting.html>help</a>?)</td></tr></tbody></table>\n",
              "<link rel=\"stylesheet\" type=\"text/css\" href=\"https://cdn.datatables.net/1.13.1/css/jquery.dataTables.min.css\">\n",
              "<script type=\"module\">\n",
              "    // Import jquery and DataTable\n",
              "    import 'https://code.jquery.com/jquery-3.6.0.min.js';\n",
              "    import dt from 'https://cdn.datatables.net/1.12.1/js/jquery.dataTables.mjs';\n",
              "    dt($);\n",
              "\n",
              "    // Define the table data\n",
              "    const data = [[48094, \"Royal kitchen\", \"GTB Nagar\", 2.0]];\n",
              "\n",
              "    // Define the dt_args\n",
              "    let dt_args = {\"order\": [], \"dom\": \"t\"};\n",
              "    dt_args[\"data\"] = data;\n",
              "\n",
              "    $(document).ready(function () {\n",
              "        \n",
              "        $('#1130a6e9-2778-4a42-83c9-b4124cc83efa').DataTable(dt_args);\n",
              "    });\n",
              "</script>\n",
              "</div>\n"
            ]
          },
          "metadata": {}
        },
        {
          "output_type": "stream",
          "name": "stdout",
          "text": [
            "The least expensive restaurant in Delhi listed on Swiggy with cost of two (₹2.0) is Royal kitchen and lies in GTB Nagar subregion.\n"
          ]
        }
      ],
      "source": [
        "# previously got all restaurants in delhi saved in delhi_rest\n",
        "delhi_rest = df[df['city'] == 'Delhi']\n",
        "# remove reataurants with NA values\n",
        "delhi_rest = delhi_rest[delhi_rest['restaurant'] != 'NA']\n",
        "# to make sure we have good values choose restaurants with some rating values.\n",
        "delhi_rest = delhi_rest[delhi_rest['rating'] != '--']\n",
        "M = delhi_rest.sort_values(by=['cost'],ascending=True).head(1)\n",
        "show(M[['restaurant','sub_region','cost']])\n",
        "print(\"The least expensive restaurant in Delhi listed on Swiggy with cost of two (₹{}) is {} and lies in {} subregion.\".format(list(M['cost'])[0],list(M['restaurant'])[0],list(M['sub_region'])[0]))"
      ]
    },
    {
      "cell_type": "markdown",
      "metadata": {
        "id": "RBEotY0MM6cu"
      },
      "source": [
        "### Top 5 most popular restaurant chains in India"
      ]
    },
    {
      "cell_type": "code",
      "execution_count": 23,
      "metadata": {
        "colab": {
          "base_uri": "https://localhost:8080/",
          "height": 245
        },
        "id": "JzyL4Z2TM6cu",
        "outputId": "5b1a8276-3c49-478d-a2e5-6e838507d3c5"
      },
      "outputs": [
        {
          "output_type": "stream",
          "name": "stdout",
          "text": [
            "Top 5 most popular restaurants chains in India are ->\n"
          ]
        },
        {
          "output_type": "display_data",
          "data": {
            "text/plain": [
              "<IPython.core.display.HTML object>"
            ],
            "text/html": [
              "<style>.itables table td {\n",
              "    text-overflow: ellipsis;\n",
              "    overflow: hidden;\n",
              "}\n",
              "\n",
              ".itables table th {\n",
              "    text-overflow: ellipsis;\n",
              "    overflow: hidden;\n",
              "}\n",
              "\n",
              ".itables thead input {\n",
              "    width: 100%;\n",
              "    padding: 3px;\n",
              "    box-sizing: border-box;\n",
              "}\n",
              "\n",
              ".itables tfoot input {\n",
              "    width: 100%;\n",
              "    padding: 3px;\n",
              "    box-sizing: border-box;\n",
              "}\n",
              "</style>\n",
              "<div class=\"itables\">\n",
              "<table id=\"62b5a9f7-1a94-4aaf-a43a-8ff8e0f5d00f\" class=\"display nowrap\"style=\"table-layout:auto;width:auto;margin:auto;caption-side:bottom\"><thead>\n",
              "    <tr style=\"text-align: right;\">\n",
              "      <th></th>\n",
              "      <th>No_of_outlets</th>\n",
              "    </tr>\n",
              "  </thead><tbody><tr><td>Loading... (need <a href=https://mwouts.github.io/itables/troubleshooting.html>help</a>?)</td></tr></tbody></table>\n",
              "<link rel=\"stylesheet\" type=\"text/css\" href=\"https://cdn.datatables.net/1.13.1/css/jquery.dataTables.min.css\">\n",
              "<script type=\"module\">\n",
              "    // Import jquery and DataTable\n",
              "    import 'https://code.jquery.com/jquery-3.6.0.min.js';\n",
              "    import dt from 'https://cdn.datatables.net/1.12.1/js/jquery.dataTables.mjs';\n",
              "    dt($);\n",
              "\n",
              "    // Define the table data\n",
              "    const data = [[\"Domino's Pizza\", 443], [\"Pizza Hut\", 319], [\"KFC\", 309], [\"Kwality Walls Frozen Dessert and Ice Cream Shop\", 300], [\"Baskin Robbins\", 276]];\n",
              "\n",
              "    // Define the dt_args\n",
              "    let dt_args = {\"order\": [], \"dom\": \"t\"};\n",
              "    dt_args[\"data\"] = data;\n",
              "\n",
              "    $(document).ready(function () {\n",
              "        \n",
              "        $('#62b5a9f7-1a94-4aaf-a43a-8ff8e0f5d00f').DataTable(dt_args);\n",
              "    });\n",
              "</script>\n",
              "</div>\n"
            ]
          },
          "metadata": {}
        }
      ],
      "source": [
        "# First let's divide restaurants into chains and single-outlets restaurants\n",
        "rest_outlet = df['restaurant'].value_counts() # gives us count of all unique restaurant outlets\n",
        "# print(rest)\n",
        "single_outlet = rest_outlet[rest_outlet == 1]\n",
        "# print(single_outlet)\n",
        "chains = rest_outlet[rest_outlet >= 2]\n",
        "# top 5 most popular\n",
        "print(\"Top 5 most popular restaurants chains in India are ->\")\n",
        "chains.rename('No_of_outlets',inplace=True)\n",
        "show(chains.head(5))"
      ]
    },
    {
      "cell_type": "markdown",
      "metadata": {
        "id": "yoanuiGiM6cu"
      },
      "source": [
        "### Restaurant with most number of people visited in city of Pune"
      ]
    },
    {
      "cell_type": "code",
      "execution_count": 24,
      "metadata": {
        "colab": {
          "base_uri": "https://localhost:8080/",
          "height": 143
        },
        "id": "_Mdq4YyqM6cu",
        "outputId": "6f85b449-7929-47bd-82ae-23823cf1de49"
      },
      "outputs": [
        {
          "output_type": "stream",
          "name": "stdout",
          "text": [
            "['Too Few Ratings' '20+ ratings' '100+ ratings' '50+ ratings'\n",
            " '500+ ratings' '1K+ ratings']\n",
            "In the city of Pune the most visited restaurant is ->\n"
          ]
        },
        {
          "output_type": "display_data",
          "data": {
            "text/plain": [
              "<IPython.core.display.HTML object>"
            ],
            "text/html": [
              "<style>.itables table td {\n",
              "    text-overflow: ellipsis;\n",
              "    overflow: hidden;\n",
              "}\n",
              "\n",
              ".itables table th {\n",
              "    text-overflow: ellipsis;\n",
              "    overflow: hidden;\n",
              "}\n",
              "\n",
              ".itables thead input {\n",
              "    width: 100%;\n",
              "    padding: 3px;\n",
              "    box-sizing: border-box;\n",
              "}\n",
              "\n",
              ".itables tfoot input {\n",
              "    width: 100%;\n",
              "    padding: 3px;\n",
              "    box-sizing: border-box;\n",
              "}\n",
              "</style>\n",
              "<div class=\"itables\">\n",
              "<table id=\"078747e6-d747-4004-be3e-2f53cb09367e\" class=\"display nowrap\"style=\"table-layout:auto;width:auto;margin:auto;caption-side:bottom\"><thead>\n",
              "    <tr style=\"text-align: right;\">\n",
              "      <th></th>\n",
              "      <th>restaurant</th>\n",
              "      <th>rating_count</th>\n",
              "      <th>rating</th>\n",
              "    </tr>\n",
              "  </thead><tbody><tr><td>Loading... (need <a href=https://mwouts.github.io/itables/troubleshooting.html>help</a>?)</td></tr></tbody></table>\n",
              "<link rel=\"stylesheet\" type=\"text/css\" href=\"https://cdn.datatables.net/1.13.1/css/jquery.dataTables.min.css\">\n",
              "<script type=\"module\">\n",
              "    // Import jquery and DataTable\n",
              "    import 'https://code.jquery.com/jquery-3.6.0.min.js';\n",
              "    import dt from 'https://cdn.datatables.net/1.12.1/js/jquery.dataTables.mjs';\n",
              "    dt($);\n",
              "\n",
              "    // Define the table data\n",
              "    const data = [[122959, \"Sheetal Restaurant\", \"1K+ ratings\", \"4.5\"]];\n",
              "\n",
              "    // Define the dt_args\n",
              "    let dt_args = {\"order\": [], \"dom\": \"t\"};\n",
              "    dt_args[\"data\"] = data;\n",
              "\n",
              "    $(document).ready(function () {\n",
              "        \n",
              "        $('#078747e6-d747-4004-be3e-2f53cb09367e').DataTable(dt_args);\n",
              "    });\n",
              "</script>\n",
              "</div>\n"
            ]
          },
          "metadata": {}
        }
      ],
      "source": [
        "# this question is similar to Q8\n",
        "# in our case most visited would be probably be correlated to most reviewed.\n",
        "# get all all restaurants in Pune\n",
        "pune_rest = df[df['city'] == 'Pune']\n",
        "# find all the unique rating counts\n",
        "rating_unique = pune_rest['rating_count'].unique()\n",
        "print(rating_unique)\n",
        "# From the list above assign a new column based on rating_count rank with\n",
        "# 1K+ being the highest and NA being the lowest\n",
        "rating_rank(pune_rest)\n",
        "# sort the table with newly created rating-rank and rank with top 5 pop values with highest rating first\n",
        "pop_rest = pune_rest.sort_values(by=['rating_rank','rating'],ascending=False).head(1)\n",
        "print(\"In the city of Pune the most visited restaurant is ->\")\n",
        "show(pop_rest[['restaurant','rating_count','rating']])"
      ]
    },
    {
      "cell_type": "markdown",
      "metadata": {
        "id": "rQYDGNtvM6cv"
      },
      "source": [
        "### Top 10 Restaurants with Maximum Ratings in Bangalore"
      ]
    },
    {
      "cell_type": "code",
      "execution_count": 25,
      "metadata": {
        "colab": {
          "base_uri": "https://localhost:8080/",
          "height": 544
        },
        "id": "SeXE96CUM6cv",
        "outputId": "66512e2f-7dc0-45de-85f3-ce12c1abbac0"
      },
      "outputs": [
        {
          "output_type": "stream",
          "name": "stdout",
          "text": [
            "Top 10 Restaurants with Maximum Ratings in Bangalore are ->\n"
          ]
        },
        {
          "output_type": "stream",
          "name": "stderr",
          "text": [
            "<ipython-input-25-3155aba77e33>:4: SettingWithCopyWarning: \n",
            "A value is trying to be set on a copy of a slice from a DataFrame.\n",
            "Try using .loc[row_indexer,col_indexer] = value instead\n",
            "\n",
            "See the caveats in the documentation: https://pandas.pydata.org/pandas-docs/stable/user_guide/indexing.html#returning-a-view-versus-a-copy\n",
            "  df_ratings['rating'] = pd.to_numeric(df_ratings['rating'], errors='coerce')\n"
          ]
        },
        {
          "output_type": "display_data",
          "data": {
            "text/plain": [
              "<IPython.core.display.HTML object>"
            ],
            "text/html": [
              "<style>.itables table td {\n",
              "    text-overflow: ellipsis;\n",
              "    overflow: hidden;\n",
              "}\n",
              "\n",
              ".itables table th {\n",
              "    text-overflow: ellipsis;\n",
              "    overflow: hidden;\n",
              "}\n",
              "\n",
              ".itables thead input {\n",
              "    width: 100%;\n",
              "    padding: 3px;\n",
              "    box-sizing: border-box;\n",
              "}\n",
              "\n",
              ".itables tfoot input {\n",
              "    width: 100%;\n",
              "    padding: 3px;\n",
              "    box-sizing: border-box;\n",
              "}\n",
              "</style>\n",
              "<div class=\"itables\">\n",
              "<table id=\"e2dbc380-abcf-4d2d-98c1-1a74a47dcaf7\" class=\"display nowrap\"style=\"table-layout:auto;width:auto;margin:auto;caption-side:bottom\"><thead>\n",
              "    <tr style=\"text-align: right;\">\n",
              "      <th></th>\n",
              "      <th>restaurant</th>\n",
              "      <th>rating</th>\n",
              "      <th>rating_count</th>\n",
              "    </tr>\n",
              "  </thead><tbody><tr><td>Loading... (need <a href=https://mwouts.github.io/itables/troubleshooting.html>help</a>?)</td></tr></tbody></table>\n",
              "<link rel=\"stylesheet\" type=\"text/css\" href=\"https://cdn.datatables.net/1.13.1/css/jquery.dataTables.min.css\">\n",
              "<script type=\"module\">\n",
              "    // Import jquery and DataTable\n",
              "    import 'https://code.jquery.com/jquery-3.6.0.min.js';\n",
              "    import dt from 'https://cdn.datatables.net/1.12.1/js/jquery.dataTables.mjs';\n",
              "    dt($);\n",
              "\n",
              "    // Define the table data\n",
              "    const data = [[12157, \"HUNGER TREATS\", 5.0, \"50+ ratings\"], [9769, \"Creams and Bites\", 5.0, \"20+ ratings\"], [9819, \"Bansal's Thali & Combo Meals\", 5.0, \"20+ ratings\"], [10251, \"GOWHEY- HEALTHY DESSERT COMPANY\", 5.0, \"20+ ratings\"], [10701, \"JUST CREAMERY - Artisanal Healthy Ice Cream\", 5.0, \"20+ ratings\"], [11195, \"The Chinese Connection\", 5.0, \"20+ ratings\"], [11908, \"HRX by Eatfit\", 5.0, \"20+ ratings\"], [12181, \"Snack Ride\", 5.0, \"20+ ratings\"], [12950, \"JUST CREAMERY - Artisanal Healthy Ice Cream\", 5.0, \"20+ ratings\"], [13072, \"Fresh crunch pizza\", 5.0, \"20+ ratings\"]];\n",
              "\n",
              "    // Define the dt_args\n",
              "    let dt_args = {\"order\": [], \"dom\": \"t\"};\n",
              "    dt_args[\"data\"] = data;\n",
              "\n",
              "    $(document).ready(function () {\n",
              "        \n",
              "        $('#e2dbc380-abcf-4d2d-98c1-1a74a47dcaf7').DataTable(dt_args);\n",
              "    });\n",
              "</script>\n",
              "</div>\n"
            ]
          },
          "metadata": {}
        }
      ],
      "source": [
        "# first exclude all restaurants with too few ratings\n",
        "df_ratings = df[df['rating_count']!='Too Few Ratings']\n",
        "# convert str column to float\n",
        "df_ratings['rating'] = pd.to_numeric(df_ratings['rating'], errors='coerce')\n",
        "# get all all restaurants in Bangalore\n",
        "bang_rest = df_ratings[df_ratings['city'] == 'Bangalore']\n",
        "rating_rank(bang_rest)\n",
        "max_ratings = bang_rest.sort_values(by=['rating','rating_rank'],ascending=False).head(10)\n",
        "print(\"Top 10 Restaurants with Maximum Ratings in Bangalore are ->\")\n",
        "show(max_ratings[['restaurant','rating','rating_count']])"
      ]
    },
    {
      "cell_type": "markdown",
      "metadata": {
        "id": "susQeRpIM6cv"
      },
      "source": [
        "### Top 10 Restaurant in Patna w.r.t rating"
      ]
    },
    {
      "cell_type": "code",
      "execution_count": 26,
      "metadata": {
        "colab": {
          "base_uri": "https://localhost:8080/",
          "height": 544
        },
        "id": "Q9WlYBXzM6cv",
        "outputId": "63f52eaa-403b-4173-bd6b-00b042684330"
      },
      "outputs": [
        {
          "output_type": "stream",
          "name": "stdout",
          "text": [
            "Top 10 Restaurants with Maximum Ratings in Patna are ->\n"
          ]
        },
        {
          "output_type": "stream",
          "name": "stderr",
          "text": [
            "<ipython-input-26-ba86845ff502>:4: SettingWithCopyWarning: \n",
            "A value is trying to be set on a copy of a slice from a DataFrame.\n",
            "Try using .loc[row_indexer,col_indexer] = value instead\n",
            "\n",
            "See the caveats in the documentation: https://pandas.pydata.org/pandas-docs/stable/user_guide/indexing.html#returning-a-view-versus-a-copy\n",
            "  df_ratings['rating'] = pd.to_numeric(df_ratings['rating'], errors='coerce')\n"
          ]
        },
        {
          "output_type": "display_data",
          "data": {
            "text/plain": [
              "<IPython.core.display.HTML object>"
            ],
            "text/html": [
              "<style>.itables table td {\n",
              "    text-overflow: ellipsis;\n",
              "    overflow: hidden;\n",
              "}\n",
              "\n",
              ".itables table th {\n",
              "    text-overflow: ellipsis;\n",
              "    overflow: hidden;\n",
              "}\n",
              "\n",
              ".itables thead input {\n",
              "    width: 100%;\n",
              "    padding: 3px;\n",
              "    box-sizing: border-box;\n",
              "}\n",
              "\n",
              ".itables tfoot input {\n",
              "    width: 100%;\n",
              "    padding: 3px;\n",
              "    box-sizing: border-box;\n",
              "}\n",
              "</style>\n",
              "<div class=\"itables\">\n",
              "<table id=\"1a1f46a5-9a07-4b02-9452-13057b7d10f7\" class=\"display nowrap\"style=\"table-layout:auto;width:auto;margin:auto;caption-side:bottom\"><thead>\n",
              "    <tr style=\"text-align: right;\">\n",
              "      <th></th>\n",
              "      <th>restaurant</th>\n",
              "      <th>rating</th>\n",
              "      <th>rating_count</th>\n",
              "    </tr>\n",
              "  </thead><tbody><tr><td>Loading... (need <a href=https://mwouts.github.io/itables/troubleshooting.html>help</a>?)</td></tr></tbody></table>\n",
              "<link rel=\"stylesheet\" type=\"text/css\" href=\"https://cdn.datatables.net/1.13.1/css/jquery.dataTables.min.css\">\n",
              "<script type=\"module\">\n",
              "    // Import jquery and DataTable\n",
              "    import 'https://code.jquery.com/jquery-3.6.0.min.js';\n",
              "    import dt from 'https://cdn.datatables.net/1.12.1/js/jquery.dataTables.mjs';\n",
              "    dt($);\n",
              "\n",
              "    // Define the table data\n",
              "    const data = [[119347, \"Kwality Walls Frozen Dessert and Ice Cream Shop\", 4.6, \"1K+ ratings\"], [119547, \"Slurpy Shakes\", 4.6, \"50+ ratings\"], [119535, \"Kouzina Kafe The Food Court\", 4.5, \"50+ ratings\"], [119836, \"GARAGE KITCHEN\", 4.5, \"50+ ratings\"], [119581, \"Cupcake Bliss Cake & Desserts\", 4.5, \"20+ ratings\"], [119604, \"Burger It Up\", 4.5, \"20+ ratings\"], [119553, \"Indiana Burgers\", 4.4, \"50+ ratings\"], [119564, \"The Dessert Zone\", 4.4, \"50+ ratings\"], [119790, \"KINGDOM OF MOMOS\", 4.4, \"50+ ratings\"], [119613, \"Pure Veg Meals by Lunchbox\", 4.4, \"20+ ratings\"]];\n",
              "\n",
              "    // Define the dt_args\n",
              "    let dt_args = {\"order\": [], \"dom\": \"t\"};\n",
              "    dt_args[\"data\"] = data;\n",
              "\n",
              "    $(document).ready(function () {\n",
              "        \n",
              "        $('#1a1f46a5-9a07-4b02-9452-13057b7d10f7').DataTable(dt_args);\n",
              "    });\n",
              "</script>\n",
              "</div>\n"
            ]
          },
          "metadata": {}
        }
      ],
      "source": [
        "# first exclude all restaurants with too few ratings\n",
        "df_ratings = df[df['rating_count']!='Too Few Ratings']\n",
        "# convert str column to float\n",
        "df_ratings['rating'] = pd.to_numeric(df_ratings['rating'], errors='coerce')\n",
        "patna_rest = df_ratings[df_ratings['city'] == 'Patna']\n",
        "rating_rank(patna_rest)\n",
        "max_ratings = patna_rest.sort_values(by=['rating','rating_rank'],ascending=False).head(10)\n",
        "print(\"Top 10 Restaurants with Maximum Ratings in Patna are ->\")\n",
        "show(max_ratings[['restaurant','rating','rating_count']])"
      ]
    }
  ],
  "metadata": {
    "kernelspec": {
      "display_name": "Python 3",
      "language": "python",
      "name": "python3"
    },
    "language_info": {
      "codemirror_mode": {
        "name": "ipython",
        "version": 3
      },
      "file_extension": ".py",
      "mimetype": "text/x-python",
      "name": "python",
      "nbconvert_exporter": "python",
      "pygments_lexer": "ipython3",
      "version": "3.7.5"
    },
    "colab": {
      "provenance": [],
      "include_colab_link": true
    }
  },
  "nbformat": 4,
  "nbformat_minor": 0
}